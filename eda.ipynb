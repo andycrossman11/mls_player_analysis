{
 "cells": [
  {
   "cell_type": "code",
   "execution_count": 1,
   "metadata": {},
   "outputs": [],
   "source": [
    "import pandas as pd"
   ]
  },
  {
   "cell_type": "code",
   "execution_count": 2,
   "metadata": {},
   "outputs": [
    {
     "data": {
      "text/html": [
       "<div>\n",
       "<style scoped>\n",
       "    .dataframe tbody tr th:only-of-type {\n",
       "        vertical-align: middle;\n",
       "    }\n",
       "\n",
       "    .dataframe tbody tr th {\n",
       "        vertical-align: top;\n",
       "    }\n",
       "\n",
       "    .dataframe thead th {\n",
       "        text-align: right;\n",
       "    }\n",
       "</style>\n",
       "<table border=\"1\" class=\"dataframe\">\n",
       "  <thead>\n",
       "    <tr style=\"text-align: right;\">\n",
       "      <th></th>\n",
       "      <th>id</th>\n",
       "      <th>name</th>\n",
       "      <th>country</th>\n",
       "      <th>position</th>\n",
       "      <th>second_position</th>\n",
       "      <th>club</th>\n",
       "      <th>age</th>\n",
       "      <th>born</th>\n",
       "      <th>matches_played</th>\n",
       "      <th>matches_started</th>\n",
       "      <th>minutes_played</th>\n",
       "      <th>goals</th>\n",
       "      <th>assists</th>\n",
       "      <th>goals_and_assists</th>\n",
       "      <th>yellow_cards</th>\n",
       "      <th>red_cards</th>\n",
       "    </tr>\n",
       "  </thead>\n",
       "  <tbody>\n",
       "    <tr>\n",
       "      <th>0</th>\n",
       "      <td>1</td>\n",
       "      <td>Liel Abada</td>\n",
       "      <td>ISR</td>\n",
       "      <td>Forward</td>\n",
       "      <td></td>\n",
       "      <td>Charlotte</td>\n",
       "      <td>22.0</td>\n",
       "      <td>2001.0</td>\n",
       "      <td>24</td>\n",
       "      <td>20</td>\n",
       "      <td>1,637</td>\n",
       "      <td>7</td>\n",
       "      <td>1</td>\n",
       "      <td>8</td>\n",
       "      <td>2</td>\n",
       "      <td>0</td>\n",
       "    </tr>\n",
       "    <tr>\n",
       "      <th>1</th>\n",
       "      <td>2</td>\n",
       "      <td>Jose Casas de Abadal</td>\n",
       "      <td>USA</td>\n",
       "      <td>Forward</td>\n",
       "      <td>Defender</td>\n",
       "      <td>Inter Miami</td>\n",
       "      <td>23.0</td>\n",
       "      <td>2000.0</td>\n",
       "      <td>2</td>\n",
       "      <td>0</td>\n",
       "      <td>31</td>\n",
       "      <td>0</td>\n",
       "      <td>0</td>\n",
       "      <td>0</td>\n",
       "      <td>0</td>\n",
       "      <td>0</td>\n",
       "    </tr>\n",
       "    <tr>\n",
       "      <th>2</th>\n",
       "      <td>3</td>\n",
       "      <td>Luis Abram</td>\n",
       "      <td>PER</td>\n",
       "      <td>Defender</td>\n",
       "      <td>NaN</td>\n",
       "      <td>Atlanta Utd</td>\n",
       "      <td>27.0</td>\n",
       "      <td>1996.0</td>\n",
       "      <td>19</td>\n",
       "      <td>11</td>\n",
       "      <td>1,102</td>\n",
       "      <td>0</td>\n",
       "      <td>0</td>\n",
       "      <td>0</td>\n",
       "      <td>2</td>\n",
       "      <td>0</td>\n",
       "    </tr>\n",
       "    <tr>\n",
       "      <th>3</th>\n",
       "      <td>4</td>\n",
       "      <td>Lalas Abubakar</td>\n",
       "      <td>GHA</td>\n",
       "      <td>Defender</td>\n",
       "      <td>NaN</td>\n",
       "      <td>Colorado Rapids</td>\n",
       "      <td>29.0</td>\n",
       "      <td>1994.0</td>\n",
       "      <td>18</td>\n",
       "      <td>15</td>\n",
       "      <td>1,278</td>\n",
       "      <td>0</td>\n",
       "      <td>1</td>\n",
       "      <td>1</td>\n",
       "      <td>3</td>\n",
       "      <td>0</td>\n",
       "    </tr>\n",
       "    <tr>\n",
       "      <th>4</th>\n",
       "      <td>5</td>\n",
       "      <td>Kellyn Acosta</td>\n",
       "      <td>USA</td>\n",
       "      <td>Midfielder</td>\n",
       "      <td>NaN</td>\n",
       "      <td>Chicago Fire</td>\n",
       "      <td>28.0</td>\n",
       "      <td>1995.0</td>\n",
       "      <td>34</td>\n",
       "      <td>27</td>\n",
       "      <td>2,302</td>\n",
       "      <td>3</td>\n",
       "      <td>2</td>\n",
       "      <td>5</td>\n",
       "      <td>6</td>\n",
       "      <td>0</td>\n",
       "    </tr>\n",
       "  </tbody>\n",
       "</table>\n",
       "</div>"
      ],
      "text/plain": [
       "   id                  name country    position second_position  \\\n",
       "0   1            Liel Abada     ISR     Forward                   \n",
       "1   2  Jose Casas de Abadal     USA     Forward        Defender   \n",
       "2   3            Luis Abram     PER    Defender             NaN   \n",
       "3   4        Lalas Abubakar     GHA    Defender             NaN   \n",
       "4   5         Kellyn Acosta     USA  Midfielder             NaN   \n",
       "\n",
       "              club   age    born  matches_played  matches_started  \\\n",
       "0        Charlotte  22.0  2001.0              24               20   \n",
       "1      Inter Miami  23.0  2000.0               2                0   \n",
       "2      Atlanta Utd  27.0  1996.0              19               11   \n",
       "3  Colorado Rapids  29.0  1994.0              18               15   \n",
       "4     Chicago Fire  28.0  1995.0              34               27   \n",
       "\n",
       "  minutes_played  goals  assists  goals_and_assists  yellow_cards  red_cards  \n",
       "0          1,637      7        1                  8             2          0  \n",
       "1             31      0        0                  0             0          0  \n",
       "2          1,102      0        0                  0             2          0  \n",
       "3          1,278      0        1                  1             3          0  \n",
       "4          2,302      3        2                  5             6          0  "
      ]
     },
     "execution_count": 2,
     "metadata": {},
     "output_type": "execute_result"
    }
   ],
   "source": [
    "mls_ds = pd.read_csv('2024 MLS Player Stats Database.csv')\n",
    "mls_ds.head(5)"
   ]
  },
  {
   "cell_type": "code",
   "execution_count": 3,
   "metadata": {},
   "outputs": [
    {
     "name": "stdout",
     "output_type": "stream",
     "text": [
      "<class 'pandas.core.frame.DataFrame'>\n",
      "RangeIndex: 819 entries, 0 to 818\n",
      "Data columns (total 16 columns):\n",
      " #   Column             Non-Null Count  Dtype  \n",
      "---  ------             --------------  -----  \n",
      " 0   id                 819 non-null    int64  \n",
      " 1   name               819 non-null    object \n",
      " 2   country            817 non-null    object \n",
      " 3   position           819 non-null    object \n",
      " 4   second_position    257 non-null    object \n",
      " 5   club               819 non-null    object \n",
      " 6   age                817 non-null    float64\n",
      " 7   born               817 non-null    float64\n",
      " 8   matches_played     819 non-null    int64  \n",
      " 9   matches_started    819 non-null    int64  \n",
      " 10  minutes_played     819 non-null    object \n",
      " 11  goals              819 non-null    int64  \n",
      " 12  assists            819 non-null    int64  \n",
      " 13  goals_and_assists  819 non-null    int64  \n",
      " 14  yellow_cards       819 non-null    int64  \n",
      " 15  red_cards          819 non-null    int64  \n",
      "dtypes: float64(2), int64(8), object(6)\n",
      "memory usage: 102.5+ KB\n"
     ]
    }
   ],
   "source": [
    "mls_ds.info()"
   ]
  },
  {
   "cell_type": "code",
   "execution_count": 4,
   "metadata": {},
   "outputs": [
    {
     "data": {
      "text/html": [
       "<div>\n",
       "<style scoped>\n",
       "    .dataframe tbody tr th:only-of-type {\n",
       "        vertical-align: middle;\n",
       "    }\n",
       "\n",
       "    .dataframe tbody tr th {\n",
       "        vertical-align: top;\n",
       "    }\n",
       "\n",
       "    .dataframe thead th {\n",
       "        text-align: right;\n",
       "    }\n",
       "</style>\n",
       "<table border=\"1\" class=\"dataframe\">\n",
       "  <thead>\n",
       "    <tr style=\"text-align: right;\">\n",
       "      <th></th>\n",
       "      <th>id</th>\n",
       "      <th>age</th>\n",
       "      <th>born</th>\n",
       "      <th>matches_played</th>\n",
       "      <th>matches_started</th>\n",
       "      <th>goals</th>\n",
       "      <th>assists</th>\n",
       "      <th>goals_and_assists</th>\n",
       "      <th>yellow_cards</th>\n",
       "      <th>red_cards</th>\n",
       "    </tr>\n",
       "  </thead>\n",
       "  <tbody>\n",
       "    <tr>\n",
       "      <th>count</th>\n",
       "      <td>819.000000</td>\n",
       "      <td>817.000000</td>\n",
       "      <td>817.000000</td>\n",
       "      <td>819.000000</td>\n",
       "      <td>819.000000</td>\n",
       "      <td>819.000000</td>\n",
       "      <td>819.000000</td>\n",
       "      <td>819.000000</td>\n",
       "      <td>819.000000</td>\n",
       "      <td>819.000000</td>\n",
       "    </tr>\n",
       "    <tr>\n",
       "      <th>mean</th>\n",
       "      <td>410.000000</td>\n",
       "      <td>25.351285</td>\n",
       "      <td>1997.736842</td>\n",
       "      <td>18.399267</td>\n",
       "      <td>13.242979</td>\n",
       "      <td>1.844933</td>\n",
       "      <td>1.360195</td>\n",
       "      <td>3.205128</td>\n",
       "      <td>2.525031</td>\n",
       "      <td>0.114774</td>\n",
       "    </tr>\n",
       "    <tr>\n",
       "      <th>std</th>\n",
       "      <td>236.569229</td>\n",
       "      <td>4.661348</td>\n",
       "      <td>4.675030</td>\n",
       "      <td>10.837793</td>\n",
       "      <td>10.585237</td>\n",
       "      <td>3.359348</td>\n",
       "      <td>2.204891</td>\n",
       "      <td>5.018978</td>\n",
       "      <td>2.615133</td>\n",
       "      <td>0.337565</td>\n",
       "    </tr>\n",
       "    <tr>\n",
       "      <th>min</th>\n",
       "      <td>1.000000</td>\n",
       "      <td>14.000000</td>\n",
       "      <td>1984.000000</td>\n",
       "      <td>1.000000</td>\n",
       "      <td>0.000000</td>\n",
       "      <td>0.000000</td>\n",
       "      <td>0.000000</td>\n",
       "      <td>0.000000</td>\n",
       "      <td>0.000000</td>\n",
       "      <td>0.000000</td>\n",
       "    </tr>\n",
       "    <tr>\n",
       "      <th>25%</th>\n",
       "      <td>205.500000</td>\n",
       "      <td>22.000000</td>\n",
       "      <td>1995.000000</td>\n",
       "      <td>8.000000</td>\n",
       "      <td>4.000000</td>\n",
       "      <td>0.000000</td>\n",
       "      <td>0.000000</td>\n",
       "      <td>0.000000</td>\n",
       "      <td>0.000000</td>\n",
       "      <td>0.000000</td>\n",
       "    </tr>\n",
       "    <tr>\n",
       "      <th>50%</th>\n",
       "      <td>410.000000</td>\n",
       "      <td>25.000000</td>\n",
       "      <td>1998.000000</td>\n",
       "      <td>20.000000</td>\n",
       "      <td>11.000000</td>\n",
       "      <td>0.000000</td>\n",
       "      <td>0.000000</td>\n",
       "      <td>1.000000</td>\n",
       "      <td>2.000000</td>\n",
       "      <td>0.000000</td>\n",
       "    </tr>\n",
       "    <tr>\n",
       "      <th>75%</th>\n",
       "      <td>614.500000</td>\n",
       "      <td>29.000000</td>\n",
       "      <td>2001.000000</td>\n",
       "      <td>28.000000</td>\n",
       "      <td>23.000000</td>\n",
       "      <td>2.000000</td>\n",
       "      <td>2.000000</td>\n",
       "      <td>4.000000</td>\n",
       "      <td>4.000000</td>\n",
       "      <td>0.000000</td>\n",
       "    </tr>\n",
       "    <tr>\n",
       "      <th>max</th>\n",
       "      <td>819.000000</td>\n",
       "      <td>39.000000</td>\n",
       "      <td>2009.000000</td>\n",
       "      <td>34.000000</td>\n",
       "      <td>34.000000</td>\n",
       "      <td>23.000000</td>\n",
       "      <td>16.000000</td>\n",
       "      <td>31.000000</td>\n",
       "      <td>15.000000</td>\n",
       "      <td>3.000000</td>\n",
       "    </tr>\n",
       "  </tbody>\n",
       "</table>\n",
       "</div>"
      ],
      "text/plain": [
       "               id         age         born  matches_played  matches_started  \\\n",
       "count  819.000000  817.000000   817.000000      819.000000       819.000000   \n",
       "mean   410.000000   25.351285  1997.736842       18.399267        13.242979   \n",
       "std    236.569229    4.661348     4.675030       10.837793        10.585237   \n",
       "min      1.000000   14.000000  1984.000000        1.000000         0.000000   \n",
       "25%    205.500000   22.000000  1995.000000        8.000000         4.000000   \n",
       "50%    410.000000   25.000000  1998.000000       20.000000        11.000000   \n",
       "75%    614.500000   29.000000  2001.000000       28.000000        23.000000   \n",
       "max    819.000000   39.000000  2009.000000       34.000000        34.000000   \n",
       "\n",
       "            goals     assists  goals_and_assists  yellow_cards   red_cards  \n",
       "count  819.000000  819.000000         819.000000    819.000000  819.000000  \n",
       "mean     1.844933    1.360195           3.205128      2.525031    0.114774  \n",
       "std      3.359348    2.204891           5.018978      2.615133    0.337565  \n",
       "min      0.000000    0.000000           0.000000      0.000000    0.000000  \n",
       "25%      0.000000    0.000000           0.000000      0.000000    0.000000  \n",
       "50%      0.000000    0.000000           1.000000      2.000000    0.000000  \n",
       "75%      2.000000    2.000000           4.000000      4.000000    0.000000  \n",
       "max     23.000000   16.000000          31.000000     15.000000    3.000000  "
      ]
     },
     "execution_count": 4,
     "metadata": {},
     "output_type": "execute_result"
    }
   ],
   "source": [
    "mls_ds.describe()"
   ]
  },
  {
   "cell_type": "code",
   "execution_count": 5,
   "metadata": {},
   "outputs": [],
   "source": [
    "mls_ds.drop(columns=[\"id\", \"second_position\"], inplace=True)"
   ]
  },
  {
   "cell_type": "code",
   "execution_count": 6,
   "metadata": {},
   "outputs": [],
   "source": [
    "mls_ds = mls_ds[mls_ds['position'] != \"Keeper\"]"
   ]
  },
  {
   "cell_type": "code",
   "execution_count": 7,
   "metadata": {},
   "outputs": [
    {
     "data": {
      "text/plain": [
       "array(['Forward', 'Defender', 'Midfielder'], dtype=object)"
      ]
     },
     "execution_count": 7,
     "metadata": {},
     "output_type": "execute_result"
    }
   ],
   "source": [
    "mls_ds['position'].unique()"
   ]
  },
  {
   "cell_type": "code",
   "execution_count": 8,
   "metadata": {},
   "outputs": [],
   "source": [
    "# Convert minutes_played to numeric, removing commas if necessary, and calculate 90_minutes_played\n",
    "mls_ds['minutes_played'] = mls_ds['minutes_played'].str.replace(',', '').astype(float)\n",
    "mls_ds['90_minutes_played'] = mls_ds['minutes_played'] / 90"
   ]
  },
  {
   "cell_type": "code",
   "execution_count": 9,
   "metadata": {},
   "outputs": [
    {
     "data": {
      "text/plain": [
       "count    754.000000\n",
       "mean      13.046419\n",
       "std        9.838795\n",
       "min        0.011111\n",
       "25%        4.158333\n",
       "50%       11.594444\n",
       "75%       21.697222\n",
       "max       34.000000\n",
       "Name: 90_minutes_played, dtype: float64"
      ]
     },
     "execution_count": 9,
     "metadata": {},
     "output_type": "execute_result"
    }
   ],
   "source": [
    "mls_ds['90_minutes_played'].describe()"
   ]
  },
  {
   "cell_type": "code",
   "execution_count": 10,
   "metadata": {},
   "outputs": [
    {
     "name": "stdout",
     "output_type": "stream",
     "text": [
      "dict_keys(['Forward', 'Defender', 'Midfielder'])\n"
     ]
    }
   ],
   "source": [
    "position_dfs = {position: mls_ds[mls_ds['position'] == position] for position in mls_ds['position'].unique()}\n",
    "print(position_dfs.keys())"
   ]
  },
  {
   "cell_type": "code",
   "execution_count": 11,
   "metadata": {
    "vscode": {
     "languageId": "ruby"
    }
   },
   "outputs": [
    {
     "name": "stderr",
     "output_type": "stream",
     "text": [
      "/tmp/ipykernel_154935/1202756660.py:2: SettingWithCopyWarning: \n",
      "A value is trying to be set on a copy of a slice from a DataFrame.\n",
      "Try using .loc[row_indexer,col_indexer] = value instead\n",
      "\n",
      "See the caveats in the documentation: https://pandas.pydata.org/pandas-docs/stable/user_guide/indexing.html#returning-a-view-versus-a-copy\n",
      "  df['goals_per_90'] = df['goals'] / df['90_minutes_played']\n",
      "/tmp/ipykernel_154935/1202756660.py:3: SettingWithCopyWarning: \n",
      "A value is trying to be set on a copy of a slice from a DataFrame.\n",
      "Try using .loc[row_indexer,col_indexer] = value instead\n",
      "\n",
      "See the caveats in the documentation: https://pandas.pydata.org/pandas-docs/stable/user_guide/indexing.html#returning-a-view-versus-a-copy\n",
      "  df['assists_per_90'] = df['assists'] / df['90_minutes_played']\n",
      "/tmp/ipykernel_154935/1202756660.py:4: SettingWithCopyWarning: \n",
      "A value is trying to be set on a copy of a slice from a DataFrame.\n",
      "Try using .loc[row_indexer,col_indexer] = value instead\n",
      "\n",
      "See the caveats in the documentation: https://pandas.pydata.org/pandas-docs/stable/user_guide/indexing.html#returning-a-view-versus-a-copy\n",
      "  df['red_cards_per_90'] = df['red_cards'] / df['90_minutes_played']\n",
      "/tmp/ipykernel_154935/1202756660.py:2: SettingWithCopyWarning: \n",
      "A value is trying to be set on a copy of a slice from a DataFrame.\n",
      "Try using .loc[row_indexer,col_indexer] = value instead\n",
      "\n",
      "See the caveats in the documentation: https://pandas.pydata.org/pandas-docs/stable/user_guide/indexing.html#returning-a-view-versus-a-copy\n",
      "  df['goals_per_90'] = df['goals'] / df['90_minutes_played']\n",
      "/tmp/ipykernel_154935/1202756660.py:3: SettingWithCopyWarning: \n",
      "A value is trying to be set on a copy of a slice from a DataFrame.\n",
      "Try using .loc[row_indexer,col_indexer] = value instead\n",
      "\n",
      "See the caveats in the documentation: https://pandas.pydata.org/pandas-docs/stable/user_guide/indexing.html#returning-a-view-versus-a-copy\n",
      "  df['assists_per_90'] = df['assists'] / df['90_minutes_played']\n",
      "/tmp/ipykernel_154935/1202756660.py:4: SettingWithCopyWarning: \n",
      "A value is trying to be set on a copy of a slice from a DataFrame.\n",
      "Try using .loc[row_indexer,col_indexer] = value instead\n",
      "\n",
      "See the caveats in the documentation: https://pandas.pydata.org/pandas-docs/stable/user_guide/indexing.html#returning-a-view-versus-a-copy\n",
      "  df['red_cards_per_90'] = df['red_cards'] / df['90_minutes_played']\n",
      "/tmp/ipykernel_154935/1202756660.py:2: SettingWithCopyWarning: \n",
      "A value is trying to be set on a copy of a slice from a DataFrame.\n",
      "Try using .loc[row_indexer,col_indexer] = value instead\n",
      "\n",
      "See the caveats in the documentation: https://pandas.pydata.org/pandas-docs/stable/user_guide/indexing.html#returning-a-view-versus-a-copy\n",
      "  df['goals_per_90'] = df['goals'] / df['90_minutes_played']\n",
      "/tmp/ipykernel_154935/1202756660.py:3: SettingWithCopyWarning: \n",
      "A value is trying to be set on a copy of a slice from a DataFrame.\n",
      "Try using .loc[row_indexer,col_indexer] = value instead\n",
      "\n",
      "See the caveats in the documentation: https://pandas.pydata.org/pandas-docs/stable/user_guide/indexing.html#returning-a-view-versus-a-copy\n",
      "  df['assists_per_90'] = df['assists'] / df['90_minutes_played']\n",
      "/tmp/ipykernel_154935/1202756660.py:4: SettingWithCopyWarning: \n",
      "A value is trying to be set on a copy of a slice from a DataFrame.\n",
      "Try using .loc[row_indexer,col_indexer] = value instead\n",
      "\n",
      "See the caveats in the documentation: https://pandas.pydata.org/pandas-docs/stable/user_guide/indexing.html#returning-a-view-versus-a-copy\n",
      "  df['red_cards_per_90'] = df['red_cards'] / df['90_minutes_played']\n"
     ]
    }
   ],
   "source": [
    "for position, df in position_dfs.items():\n",
    "    df['goals_per_90'] = df['goals'] / df['90_minutes_played']\n",
    "    df['assists_per_90'] = df['assists'] / df['90_minutes_played']\n",
    "    df['red_cards_per_90'] = df['red_cards'] / df['90_minutes_played']\n",
    "    position_dfs[position] = df  # Update the dictionary with the modified DataFrame"
   ]
  },
  {
   "cell_type": "code",
   "execution_count": 12,
   "metadata": {},
   "outputs": [
    {
     "name": "stdout",
     "output_type": "stream",
     "text": [
      "Position: Forward\n",
      "              age         born  matches_played  matches_started  \\\n",
      "count  217.000000   217.000000      218.000000       218.000000   \n",
      "mean    24.465438  1998.649770       18.949541        11.279817   \n",
      "std      4.480405     4.500711       10.971359        10.176310   \n",
      "min     15.000000  1984.000000        1.000000         0.000000   \n",
      "25%     21.000000  1996.000000        9.000000         2.000000   \n",
      "50%     24.000000  2000.000000       21.000000         8.000000   \n",
      "75%     27.000000  2002.000000       29.000000        19.000000   \n",
      "max     39.000000  2008.000000       34.000000        34.000000   \n",
      "\n",
      "       minutes_played       goals     assists  goals_and_assists  \\\n",
      "count      218.000000  218.000000  218.000000         218.000000   \n",
      "mean      1023.114679    4.146789    1.876147           6.022936   \n",
      "std        850.159172    4.903353    2.521480           6.807046   \n",
      "min          1.000000    0.000000    0.000000           0.000000   \n",
      "25%        254.500000    0.000000    0.000000           1.000000   \n",
      "50%        805.000000    2.000000    1.000000           4.000000   \n",
      "75%       1708.250000    6.000000    3.000000           8.750000   \n",
      "max       2969.000000   23.000000   13.000000          31.000000   \n",
      "\n",
      "       yellow_cards   red_cards  90_minutes_played  goals_per_90  \\\n",
      "count    218.000000  218.000000         218.000000    218.000000   \n",
      "mean       1.995413    0.064220          11.367941      0.290244   \n",
      "std        2.097832    0.245709           9.446213      0.295303   \n",
      "min        0.000000    0.000000           0.011111      0.000000   \n",
      "25%        0.000000    0.000000           2.827778      0.000000   \n",
      "50%        1.000000    0.000000           8.944444      0.232129   \n",
      "75%        3.000000    0.000000          18.980556      0.448878   \n",
      "max        8.000000    1.000000          32.988889      1.836735   \n",
      "\n",
      "       assists_per_90  red_cards_per_90  \n",
      "count      218.000000        218.000000  \n",
      "mean         0.125158          0.005167  \n",
      "std          0.145025          0.022935  \n",
      "min          0.000000          0.000000  \n",
      "25%          0.000000          0.000000  \n",
      "50%          0.093283          0.000000  \n",
      "75%          0.192964          0.000000  \n",
      "max          0.733696          0.197368  \n",
      "\n",
      "\n",
      "Position: Defender\n",
      "              age         born  matches_played  matches_started  \\\n",
      "count  294.000000   294.000000      294.000000       294.000000   \n",
      "mean    25.867347  1997.224490       18.411565        14.319728   \n",
      "std      4.225644     4.231841        9.922430        10.041543   \n",
      "min     16.000000  1987.000000        1.000000         0.000000   \n",
      "25%     23.000000  1994.000000        9.000000         5.000000   \n",
      "50%     26.000000  1997.000000       20.000000        13.000000   \n",
      "75%     29.000000  2000.000000       27.000000        24.000000   \n",
      "max     36.000000  2007.000000       34.000000        34.000000   \n",
      "\n",
      "       minutes_played       goals     assists  goals_and_assists  \\\n",
      "count      294.000000  294.000000  294.000000         294.000000   \n",
      "mean      1285.911565    0.666667    0.979592           1.646259   \n",
      "std        875.289416    1.176176    1.578306           2.327467   \n",
      "min          2.000000    0.000000    0.000000           0.000000   \n",
      "25%        466.000000    0.000000    0.000000           0.000000   \n",
      "50%       1168.500000    0.000000    0.000000           1.000000   \n",
      "75%       2107.750000    1.000000    1.000000           2.000000   \n",
      "max       3060.000000   10.000000   10.000000          15.000000   \n",
      "\n",
      "       yellow_cards   red_cards  90_minutes_played  goals_per_90  \\\n",
      "count    294.000000  294.000000         294.000000    294.000000   \n",
      "mean       2.955782    0.166667          14.287906      0.047051   \n",
      "std        2.822644    0.416524           9.725438      0.097388   \n",
      "min        0.000000    0.000000           0.022222      0.000000   \n",
      "25%        1.000000    0.000000           5.177778      0.000000   \n",
      "50%        2.000000    0.000000          12.983333      0.000000   \n",
      "75%        5.000000    0.000000          23.419444      0.064690   \n",
      "max       15.000000    3.000000          34.000000      0.743802   \n",
      "\n",
      "       assists_per_90  red_cards_per_90  \n",
      "count      294.000000        294.000000  \n",
      "mean         0.096313          0.011552  \n",
      "std          0.531237          0.042678  \n",
      "min          0.000000          0.000000  \n",
      "25%          0.000000          0.000000  \n",
      "50%          0.000000          0.000000  \n",
      "75%          0.105230          0.000000  \n",
      "max          9.000000          0.559006  \n",
      "\n",
      "\n",
      "Position: Midfielder\n",
      "              age         born  matches_played  matches_started  \\\n",
      "count  241.000000   241.000000      242.000000       242.000000   \n",
      "mean    24.734440  1998.336100       18.698347        13.185950   \n",
      "std      4.742101     4.747708       11.092029        10.632806   \n",
      "min     14.000000  1986.000000        1.000000         0.000000   \n",
      "25%     21.000000  1995.000000        8.000000         2.250000   \n",
      "50%     24.000000  1999.000000       22.000000        12.000000   \n",
      "75%     28.000000  2002.000000       29.000000        23.000000   \n",
      "max     37.000000  2009.000000       34.000000        34.000000   \n",
      "\n",
      "       minutes_played       goals     assists  goals_and_assists  \\\n",
      "count      242.000000  242.000000  242.000000         242.000000   \n",
      "mean      1174.516529    1.698347    1.714876           3.413223   \n",
      "std        912.023750    2.747295    2.592141           4.927136   \n",
      "min          1.000000    0.000000    0.000000           0.000000   \n",
      "25%        303.000000    0.000000    0.000000           0.000000   \n",
      "50%       1112.500000    1.000000    1.000000           2.000000   \n",
      "75%       1964.750000    2.000000    2.000000           5.000000   \n",
      "max       3038.000000   17.000000   16.000000          30.000000   \n",
      "\n",
      "       yellow_cards   red_cards  90_minutes_played  goals_per_90  \\\n",
      "count    242.000000  242.000000         242.000000    242.000000   \n",
      "mean       2.913223    0.107438          13.050184      0.115329   \n",
      "std        2.799806    0.310311          10.133597      0.177804   \n",
      "min        0.000000    0.000000           0.011111      0.000000   \n",
      "25%        0.000000    0.000000           3.366667      0.000000   \n",
      "50%        2.000000    0.000000          12.361111      0.042224   \n",
      "75%        5.000000    0.000000          21.830556      0.159729   \n",
      "max       12.000000    1.000000          33.755556      1.125000   \n",
      "\n",
      "       assists_per_90  red_cards_per_90  \n",
      "count      242.000000        242.000000  \n",
      "mean         0.110549          0.011058  \n",
      "std          0.181070          0.055120  \n",
      "min          0.000000          0.000000  \n",
      "25%          0.000000          0.000000  \n",
      "50%          0.055103          0.000000  \n",
      "75%          0.150663          0.000000  \n",
      "max          1.914894          0.676692  \n",
      "\n",
      "\n"
     ]
    }
   ],
   "source": [
    "for position, df in position_dfs.items():\n",
    "    print(f\"Position: {position}\")\n",
    "    print(df.describe())\n",
    "    print(\"\\n\")"
   ]
  },
  {
   "cell_type": "code",
   "execution_count": 13,
   "metadata": {},
   "outputs": [
    {
     "name": "stdout",
     "output_type": "stream",
     "text": [
      "{'Forward': {'goals_per_90_mean': np.float64(0.29024370059233223), 'goals_per_90_std': np.float64(0.2953030507404553), 'assists_per_90_mean': np.float64(0.12515778932438248), 'assists_per_90_std': np.float64(0.1450246748960938), 'red_cards_per_90_mean': np.float64(0.005167462238931586), 'red_cards_per_90_std': np.float64(0.022935390997801126)}, 'Defender': {'goals_per_90_mean': np.float64(0.04705091641141107), 'goals_per_90_std': np.float64(0.09738844104110674), 'assists_per_90_mean': np.float64(0.09631263198749195), 'assists_per_90_std': np.float64(0.5312372015721681), 'red_cards_per_90_mean': np.float64(0.011551598593114555), 'red_cards_per_90_std': np.float64(0.04267753179227)}, 'Midfielder': {'goals_per_90_mean': np.float64(0.11532857237858951), 'goals_per_90_std': np.float64(0.17780418019545907), 'assists_per_90_mean': np.float64(0.11054887498259527), 'assists_per_90_std': np.float64(0.18107044697900593), 'red_cards_per_90_mean': np.float64(0.01105767751900259), 'red_cards_per_90_std': np.float64(0.05512004958404406)}}\n"
     ]
    }
   ],
   "source": [
    "stats = {}\n",
    "for position, df in position_dfs.items():\n",
    "    stats[position] = {\n",
    "        'goals_per_90_mean': df['goals_per_90'].mean(),\n",
    "        'goals_per_90_std': df['goals_per_90'].std(),\n",
    "        'assists_per_90_mean': df['assists_per_90'].mean(),\n",
    "        'assists_per_90_std': df['assists_per_90'].std(),\n",
    "        'red_cards_per_90_mean': df['red_cards_per_90'].mean(),\n",
    "        'red_cards_per_90_std': df['red_cards_per_90'].std(),\n",
    "    }\n",
    "\n",
    "print(stats)"
   ]
  },
  {
   "cell_type": "code",
   "execution_count": 14,
   "metadata": {
    "vscode": {
     "languageId": "ruby"
    }
   },
   "outputs": [
    {
     "name": "stderr",
     "output_type": "stream",
     "text": [
      "/tmp/ipykernel_154935/1294017045.py:3: SettingWithCopyWarning: \n",
      "A value is trying to be set on a copy of a slice from a DataFrame.\n",
      "Try using .loc[row_indexer,col_indexer] = value instead\n",
      "\n",
      "See the caveats in the documentation: https://pandas.pydata.org/pandas-docs/stable/user_guide/indexing.html#returning-a-view-versus-a-copy\n",
      "  df['goals_per_90_z'] = (df['goals_per_90'] - stats[position]['goals_per_90_mean']) / stats[position]['goals_per_90_std']\n",
      "/tmp/ipykernel_154935/1294017045.py:4: SettingWithCopyWarning: \n",
      "A value is trying to be set on a copy of a slice from a DataFrame.\n",
      "Try using .loc[row_indexer,col_indexer] = value instead\n",
      "\n",
      "See the caveats in the documentation: https://pandas.pydata.org/pandas-docs/stable/user_guide/indexing.html#returning-a-view-versus-a-copy\n",
      "  df['assists_per_90_z'] = (df['assists_per_90'] - stats[position]['assists_per_90_mean']) / stats[position]['assists_per_90_std']\n",
      "/tmp/ipykernel_154935/1294017045.py:5: SettingWithCopyWarning: \n",
      "A value is trying to be set on a copy of a slice from a DataFrame.\n",
      "Try using .loc[row_indexer,col_indexer] = value instead\n",
      "\n",
      "See the caveats in the documentation: https://pandas.pydata.org/pandas-docs/stable/user_guide/indexing.html#returning-a-view-versus-a-copy\n",
      "  df['red_cards_per_90_z'] = (df['red_cards_per_90'] - stats[position]['red_cards_per_90_mean']) / stats[position]['red_cards_per_90_std']\n",
      "/tmp/ipykernel_154935/1294017045.py:3: SettingWithCopyWarning: \n",
      "A value is trying to be set on a copy of a slice from a DataFrame.\n",
      "Try using .loc[row_indexer,col_indexer] = value instead\n",
      "\n",
      "See the caveats in the documentation: https://pandas.pydata.org/pandas-docs/stable/user_guide/indexing.html#returning-a-view-versus-a-copy\n",
      "  df['goals_per_90_z'] = (df['goals_per_90'] - stats[position]['goals_per_90_mean']) / stats[position]['goals_per_90_std']\n",
      "/tmp/ipykernel_154935/1294017045.py:4: SettingWithCopyWarning: \n",
      "A value is trying to be set on a copy of a slice from a DataFrame.\n",
      "Try using .loc[row_indexer,col_indexer] = value instead\n",
      "\n",
      "See the caveats in the documentation: https://pandas.pydata.org/pandas-docs/stable/user_guide/indexing.html#returning-a-view-versus-a-copy\n",
      "  df['assists_per_90_z'] = (df['assists_per_90'] - stats[position]['assists_per_90_mean']) / stats[position]['assists_per_90_std']\n",
      "/tmp/ipykernel_154935/1294017045.py:5: SettingWithCopyWarning: \n",
      "A value is trying to be set on a copy of a slice from a DataFrame.\n",
      "Try using .loc[row_indexer,col_indexer] = value instead\n",
      "\n",
      "See the caveats in the documentation: https://pandas.pydata.org/pandas-docs/stable/user_guide/indexing.html#returning-a-view-versus-a-copy\n",
      "  df['red_cards_per_90_z'] = (df['red_cards_per_90'] - stats[position]['red_cards_per_90_mean']) / stats[position]['red_cards_per_90_std']\n",
      "/tmp/ipykernel_154935/1294017045.py:3: SettingWithCopyWarning: \n",
      "A value is trying to be set on a copy of a slice from a DataFrame.\n",
      "Try using .loc[row_indexer,col_indexer] = value instead\n",
      "\n",
      "See the caveats in the documentation: https://pandas.pydata.org/pandas-docs/stable/user_guide/indexing.html#returning-a-view-versus-a-copy\n",
      "  df['goals_per_90_z'] = (df['goals_per_90'] - stats[position]['goals_per_90_mean']) / stats[position]['goals_per_90_std']\n",
      "/tmp/ipykernel_154935/1294017045.py:4: SettingWithCopyWarning: \n",
      "A value is trying to be set on a copy of a slice from a DataFrame.\n",
      "Try using .loc[row_indexer,col_indexer] = value instead\n",
      "\n",
      "See the caveats in the documentation: https://pandas.pydata.org/pandas-docs/stable/user_guide/indexing.html#returning-a-view-versus-a-copy\n",
      "  df['assists_per_90_z'] = (df['assists_per_90'] - stats[position]['assists_per_90_mean']) / stats[position]['assists_per_90_std']\n",
      "/tmp/ipykernel_154935/1294017045.py:5: SettingWithCopyWarning: \n",
      "A value is trying to be set on a copy of a slice from a DataFrame.\n",
      "Try using .loc[row_indexer,col_indexer] = value instead\n",
      "\n",
      "See the caveats in the documentation: https://pandas.pydata.org/pandas-docs/stable/user_guide/indexing.html#returning-a-view-versus-a-copy\n",
      "  df['red_cards_per_90_z'] = (df['red_cards_per_90'] - stats[position]['red_cards_per_90_mean']) / stats[position]['red_cards_per_90_std']\n"
     ]
    }
   ],
   "source": [
    "# Compute z-statistics for each row in the specified columns\n",
    "for position, df in position_dfs.items():\n",
    "    df['goals_per_90_z'] = (df['goals_per_90'] - stats[position]['goals_per_90_mean']) / stats[position]['goals_per_90_std']\n",
    "    df['assists_per_90_z'] = (df['assists_per_90'] - stats[position]['assists_per_90_mean']) / stats[position]['assists_per_90_std']\n",
    "    df['red_cards_per_90_z'] = (df['red_cards_per_90'] - stats[position]['red_cards_per_90_mean']) / stats[position]['red_cards_per_90_std']\n",
    "    position_dfs[position] = df  # Update the dictionary with the modified DataFrame"
   ]
  },
  {
   "cell_type": "code",
   "execution_count": 15,
   "metadata": {},
   "outputs": [
    {
     "name": "stdout",
     "output_type": "stream",
     "text": [
      "Position: Forward\n",
      "              age         born  matches_played  matches_started  \\\n",
      "count  217.000000   217.000000      218.000000       218.000000   \n",
      "mean    24.465438  1998.649770       18.949541        11.279817   \n",
      "std      4.480405     4.500711       10.971359        10.176310   \n",
      "min     15.000000  1984.000000        1.000000         0.000000   \n",
      "25%     21.000000  1996.000000        9.000000         2.000000   \n",
      "50%     24.000000  2000.000000       21.000000         8.000000   \n",
      "75%     27.000000  2002.000000       29.000000        19.000000   \n",
      "max     39.000000  2008.000000       34.000000        34.000000   \n",
      "\n",
      "       minutes_played       goals     assists  goals_and_assists  \\\n",
      "count      218.000000  218.000000  218.000000         218.000000   \n",
      "mean      1023.114679    4.146789    1.876147           6.022936   \n",
      "std        850.159172    4.903353    2.521480           6.807046   \n",
      "min          1.000000    0.000000    0.000000           0.000000   \n",
      "25%        254.500000    0.000000    0.000000           1.000000   \n",
      "50%        805.000000    2.000000    1.000000           4.000000   \n",
      "75%       1708.250000    6.000000    3.000000           8.750000   \n",
      "max       2969.000000   23.000000   13.000000          31.000000   \n",
      "\n",
      "       yellow_cards   red_cards  90_minutes_played  goals_per_90  \\\n",
      "count    218.000000  218.000000         218.000000    218.000000   \n",
      "mean       1.995413    0.064220          11.367941      0.290244   \n",
      "std        2.097832    0.245709           9.446213      0.295303   \n",
      "min        0.000000    0.000000           0.011111      0.000000   \n",
      "25%        0.000000    0.000000           2.827778      0.000000   \n",
      "50%        1.000000    0.000000           8.944444      0.232129   \n",
      "75%        3.000000    0.000000          18.980556      0.448878   \n",
      "max        8.000000    1.000000          32.988889      1.836735   \n",
      "\n",
      "       assists_per_90  red_cards_per_90  goals_per_90_z  assists_per_90_z  \\\n",
      "count      218.000000        218.000000    2.180000e+02      2.180000e+02   \n",
      "mean         0.125158          0.005167    1.263006e-16     -3.870502e-17   \n",
      "std          0.145025          0.022935    1.000000e+00      1.000000e+00   \n",
      "min          0.000000          0.000000   -9.828673e-01     -8.630103e-01   \n",
      "25%          0.000000          0.000000   -9.828673e-01     -8.630103e-01   \n",
      "50%          0.093283          0.000000   -1.967979e-01     -2.197873e-01   \n",
      "75%          0.192964          0.000000    5.371909e-01      4.675469e-01   \n",
      "max          0.733696          0.197368    5.236962e+00      4.196099e+00   \n",
      "\n",
      "       red_cards_per_90_z  \n",
      "count        2.180000e+02  \n",
      "mean        -2.851949e-17  \n",
      "std          1.000000e+00  \n",
      "min         -2.253052e-01  \n",
      "25%         -2.253052e-01  \n",
      "50%         -2.253052e-01  \n",
      "75%         -2.253052e-01  \n",
      "max          8.380104e+00  \n",
      "------------------------------\n",
      "Position: Defender\n",
      "              age         born  matches_played  matches_started  \\\n",
      "count  294.000000   294.000000      294.000000       294.000000   \n",
      "mean    25.867347  1997.224490       18.411565        14.319728   \n",
      "std      4.225644     4.231841        9.922430        10.041543   \n",
      "min     16.000000  1987.000000        1.000000         0.000000   \n",
      "25%     23.000000  1994.000000        9.000000         5.000000   \n",
      "50%     26.000000  1997.000000       20.000000        13.000000   \n",
      "75%     29.000000  2000.000000       27.000000        24.000000   \n",
      "max     36.000000  2007.000000       34.000000        34.000000   \n",
      "\n",
      "       minutes_played       goals     assists  goals_and_assists  \\\n",
      "count      294.000000  294.000000  294.000000         294.000000   \n",
      "mean      1285.911565    0.666667    0.979592           1.646259   \n",
      "std        875.289416    1.176176    1.578306           2.327467   \n",
      "min          2.000000    0.000000    0.000000           0.000000   \n",
      "25%        466.000000    0.000000    0.000000           0.000000   \n",
      "50%       1168.500000    0.000000    0.000000           1.000000   \n",
      "75%       2107.750000    1.000000    1.000000           2.000000   \n",
      "max       3060.000000   10.000000   10.000000          15.000000   \n",
      "\n",
      "       yellow_cards   red_cards  90_minutes_played  goals_per_90  \\\n",
      "count    294.000000  294.000000         294.000000    294.000000   \n",
      "mean       2.955782    0.166667          14.287906      0.047051   \n",
      "std        2.822644    0.416524           9.725438      0.097388   \n",
      "min        0.000000    0.000000           0.022222      0.000000   \n",
      "25%        1.000000    0.000000           5.177778      0.000000   \n",
      "50%        2.000000    0.000000          12.983333      0.000000   \n",
      "75%        5.000000    0.000000          23.419444      0.064690   \n",
      "max       15.000000    3.000000          34.000000      0.743802   \n",
      "\n",
      "       assists_per_90  red_cards_per_90  goals_per_90_z  assists_per_90_z  \\\n",
      "count      294.000000        294.000000    2.940000e+02      2.940000e+02   \n",
      "mean         0.096313          0.011552    2.718914e-17     -6.042030e-18   \n",
      "std          0.531237          0.042678    1.000000e+00      1.000000e+00   \n",
      "min          0.000000          0.000000   -4.831263e-01     -1.812987e-01   \n",
      "25%          0.000000          0.000000   -4.831263e-01     -1.812987e-01   \n",
      "50%          0.000000          0.000000   -4.831263e-01     -1.812987e-01   \n",
      "75%          0.105230          0.000000    1.811228e-01      1.678628e-02   \n",
      "max          9.000000          0.559006    7.154347e+00      1.676029e+01   \n",
      "\n",
      "       red_cards_per_90_z  \n",
      "count        2.940000e+02  \n",
      "mean         3.323117e-17  \n",
      "std          1.000000e+00  \n",
      "min         -2.706717e-01  \n",
      "25%         -2.706717e-01  \n",
      "50%         -2.706717e-01  \n",
      "75%         -2.706717e-01  \n",
      "max          1.282770e+01  \n",
      "------------------------------\n",
      "Position: Midfielder\n",
      "              age         born  matches_played  matches_started  \\\n",
      "count  241.000000   241.000000      242.000000       242.000000   \n",
      "mean    24.734440  1998.336100       18.698347        13.185950   \n",
      "std      4.742101     4.747708       11.092029        10.632806   \n",
      "min     14.000000  1986.000000        1.000000         0.000000   \n",
      "25%     21.000000  1995.000000        8.000000         2.250000   \n",
      "50%     24.000000  1999.000000       22.000000        12.000000   \n",
      "75%     28.000000  2002.000000       29.000000        23.000000   \n",
      "max     37.000000  2009.000000       34.000000        34.000000   \n",
      "\n",
      "       minutes_played       goals     assists  goals_and_assists  \\\n",
      "count      242.000000  242.000000  242.000000         242.000000   \n",
      "mean      1174.516529    1.698347    1.714876           3.413223   \n",
      "std        912.023750    2.747295    2.592141           4.927136   \n",
      "min          1.000000    0.000000    0.000000           0.000000   \n",
      "25%        303.000000    0.000000    0.000000           0.000000   \n",
      "50%       1112.500000    1.000000    1.000000           2.000000   \n",
      "75%       1964.750000    2.000000    2.000000           5.000000   \n",
      "max       3038.000000   17.000000   16.000000          30.000000   \n",
      "\n",
      "       yellow_cards   red_cards  90_minutes_played  goals_per_90  \\\n",
      "count    242.000000  242.000000         242.000000    242.000000   \n",
      "mean       2.913223    0.107438          13.050184      0.115329   \n",
      "std        2.799806    0.310311          10.133597      0.177804   \n",
      "min        0.000000    0.000000           0.011111      0.000000   \n",
      "25%        0.000000    0.000000           3.366667      0.000000   \n",
      "50%        2.000000    0.000000          12.361111      0.042224   \n",
      "75%        5.000000    0.000000          21.830556      0.159729   \n",
      "max       12.000000    1.000000          33.755556      1.125000   \n",
      "\n",
      "       assists_per_90  red_cards_per_90  goals_per_90_z  assists_per_90_z  \\\n",
      "count      242.000000        242.000000    2.420000e+02      2.420000e+02   \n",
      "mean         0.110549          0.011058    7.340318e-17      2.936127e-17   \n",
      "std          0.181070          0.055120    1.000000e+00      1.000000e+00   \n",
      "min          0.000000          0.000000   -6.486269e-01     -6.105296e-01   \n",
      "25%          0.000000          0.000000   -6.486269e-01     -6.105296e-01   \n",
      "50%          0.055103          0.000000   -4.111523e-01     -3.062130e-01   \n",
      "75%          0.150663          0.000000    2.497167e-01      2.215401e-01   \n",
      "max          1.914894          0.676692    5.678558e+00      9.964877e+00   \n",
      "\n",
      "       red_cards_per_90_z  \n",
      "count        2.420000e+02  \n",
      "mean         6.055762e-17  \n",
      "std          1.000000e+00  \n",
      "min         -2.006108e-01  \n",
      "25%         -2.006108e-01  \n",
      "50%         -2.006108e-01  \n",
      "75%         -2.006108e-01  \n",
      "max          1.207608e+01  \n",
      "------------------------------\n"
     ]
    }
   ],
   "source": [
    "for position, df in position_dfs.items():\n",
    "    print(f\"Position: {position}\")\n",
    "    print(df.describe())\n",
    "    print(f\"{'-' * 30}\")"
   ]
  },
  {
   "cell_type": "markdown",
   "metadata": {},
   "source": [
    "## Efficiency"
   ]
  },
  {
   "cell_type": "code",
   "execution_count": 26,
   "metadata": {},
   "outputs": [],
   "source": [
    "for position, df in position_dfs.items():\n",
    "    unscaled_efficiency = df['goals_per_90_z'] + (0.5 * df['assists_per_90_z'])\n",
    "    df['player_efficiency'] = (unscaled_efficiency - unscaled_efficiency.min()) / (unscaled_efficiency.max() - unscaled_efficiency.min())\n",
    "    position_dfs[position] = df  # Update the dictionary with the modified DataFrame"
   ]
  },
  {
   "cell_type": "markdown",
   "metadata": {},
   "source": [
    "## Potential"
   ]
  },
  {
   "cell_type": "code",
   "execution_count": 27,
   "metadata": {},
   "outputs": [],
   "source": [
    "import numpy as np\n",
    "\n",
    "for position, df in position_dfs.items():\n",
    "    df['player_potential'] = 1 / (1 + np.exp((df['age'] - 28) / 3))\n",
    "    position_dfs[position] = df  # Update the dictionary with the modified DataFrame"
   ]
  },
  {
   "cell_type": "code",
   "execution_count": 32,
   "metadata": {},
   "outputs": [],
   "source": [
    "for position, df in position_dfs.items():\n",
    "    df['player_value'] = 0.7 * df['player_efficiency'] + 0.3 * df['player_potential']\n",
    "    position_dfs[position] = df  # Update the dictionary with the modified DataFrame"
   ]
  },
  {
   "cell_type": "code",
   "execution_count": 33,
   "metadata": {},
   "outputs": [
    {
     "name": "stdout",
     "output_type": "stream",
     "text": [
      "Position: Forward\n",
      "              age         born  matches_played  matches_started  \\\n",
      "count  217.000000   217.000000      218.000000       218.000000   \n",
      "mean    24.465438  1998.649770       18.949541        11.279817   \n",
      "std      4.480405     4.500711       10.971359        10.176310   \n",
      "min     15.000000  1984.000000        1.000000         0.000000   \n",
      "25%     21.000000  1996.000000        9.000000         2.000000   \n",
      "50%     24.000000  2000.000000       21.000000         8.000000   \n",
      "75%     27.000000  2002.000000       29.000000        19.000000   \n",
      "max     39.000000  2008.000000       34.000000        34.000000   \n",
      "\n",
      "       minutes_played       goals     assists  goals_and_assists  \\\n",
      "count      218.000000  218.000000  218.000000         218.000000   \n",
      "mean      1023.114679    4.146789    1.876147           6.022936   \n",
      "std        850.159172    4.903353    2.521480           6.807046   \n",
      "min          1.000000    0.000000    0.000000           0.000000   \n",
      "25%        254.500000    0.000000    0.000000           1.000000   \n",
      "50%        805.000000    2.000000    1.000000           4.000000   \n",
      "75%       1708.250000    6.000000    3.000000           8.750000   \n",
      "max       2969.000000   23.000000   13.000000          31.000000   \n",
      "\n",
      "       yellow_cards   red_cards  90_minutes_played  goals_per_90  \\\n",
      "count    218.000000  218.000000         218.000000    218.000000   \n",
      "mean       1.995413    0.064220          11.367941      0.290244   \n",
      "std        2.097832    0.245709           9.446213      0.295303   \n",
      "min        0.000000    0.000000           0.011111      0.000000   \n",
      "25%        0.000000    0.000000           2.827778      0.000000   \n",
      "50%        1.000000    0.000000           8.944444      0.232129   \n",
      "75%        3.000000    0.000000          18.980556      0.448878   \n",
      "max        8.000000    1.000000          32.988889      1.836735   \n",
      "\n",
      "       assists_per_90  red_cards_per_90  goals_per_90_z  assists_per_90_z  \\\n",
      "count      218.000000        218.000000    2.180000e+02      2.180000e+02   \n",
      "mean         0.125158          0.005167    1.303748e-16     -9.778111e-17   \n",
      "std          0.145025          0.022935    1.000000e+00      1.000000e+00   \n",
      "min          0.000000          0.000000   -9.828673e-01     -8.630103e-01   \n",
      "25%          0.000000          0.000000   -9.828673e-01     -8.630103e-01   \n",
      "50%          0.093283          0.000000   -1.967979e-01     -2.197873e-01   \n",
      "75%          0.192964          0.000000    5.371909e-01      4.675469e-01   \n",
      "max          0.733696          0.197368    5.236962e+00      4.196099e+00   \n",
      "\n",
      "       red_cards_per_90_z  player_efficiency  player_potential  player_value  \n",
      "count        2.180000e+02         218.000000        217.000000    217.000000  \n",
      "mean        -3.259370e-17           0.221483          0.706790      0.367789  \n",
      "std          1.000000e+00           0.190072          0.253803      0.136699  \n",
      "min         -2.253052e-01           0.000000          0.024924      0.062583  \n",
      "25%         -2.253052e-01           0.068958          0.582570      0.273480  \n",
      "50%         -2.253052e-01           0.203126          0.791391      0.351878  \n",
      "75%         -2.253052e-01           0.332675          0.911600      0.442659  \n",
      "max          8.380104e+00           1.000000          0.987046      0.955273  \n",
      "------------------------------\n",
      "Position: Defender\n",
      "              age         born  matches_played  matches_started  \\\n",
      "count  294.000000   294.000000      294.000000       294.000000   \n",
      "mean    25.867347  1997.224490       18.411565        14.319728   \n",
      "std      4.225644     4.231841        9.922430        10.041543   \n",
      "min     16.000000  1987.000000        1.000000         0.000000   \n",
      "25%     23.000000  1994.000000        9.000000         5.000000   \n",
      "50%     26.000000  1997.000000       20.000000        13.000000   \n",
      "75%     29.000000  2000.000000       27.000000        24.000000   \n",
      "max     36.000000  2007.000000       34.000000        34.000000   \n",
      "\n",
      "       minutes_played       goals     assists  goals_and_assists  \\\n",
      "count      294.000000  294.000000  294.000000         294.000000   \n",
      "mean      1285.911565    0.666667    0.979592           1.646259   \n",
      "std        875.289416    1.176176    1.578306           2.327467   \n",
      "min          2.000000    0.000000    0.000000           0.000000   \n",
      "25%        466.000000    0.000000    0.000000           0.000000   \n",
      "50%       1168.500000    0.000000    0.000000           1.000000   \n",
      "75%       2107.750000    1.000000    1.000000           2.000000   \n",
      "max       3060.000000   10.000000   10.000000          15.000000   \n",
      "\n",
      "       yellow_cards   red_cards  90_minutes_played  goals_per_90  \\\n",
      "count    294.000000  294.000000         294.000000    294.000000   \n",
      "mean       2.955782    0.166667          14.287906      0.047051   \n",
      "std        2.822644    0.416524           9.725438      0.097388   \n",
      "min        0.000000    0.000000           0.022222      0.000000   \n",
      "25%        1.000000    0.000000           5.177778      0.000000   \n",
      "50%        2.000000    0.000000          12.983333      0.000000   \n",
      "75%        5.000000    0.000000          23.419444      0.064690   \n",
      "max       15.000000    3.000000          34.000000      0.743802   \n",
      "\n",
      "       assists_per_90  red_cards_per_90  goals_per_90_z  assists_per_90_z  \\\n",
      "count      294.000000        294.000000      294.000000      2.940000e+02   \n",
      "mean         0.096313          0.011552        0.000000     -1.208406e-17   \n",
      "std          0.531237          0.042678        1.000000      1.000000e+00   \n",
      "min          0.000000          0.000000       -0.483126     -1.812987e-01   \n",
      "25%          0.000000          0.000000       -0.483126     -1.812987e-01   \n",
      "50%          0.000000          0.000000       -0.483126     -1.812987e-01   \n",
      "75%          0.105230          0.000000        0.181123      1.678628e-02   \n",
      "max          9.000000          0.559006        7.154347      1.676029e+01   \n",
      "\n",
      "       red_cards_per_90_z  player_efficiency  player_potential  player_value  \n",
      "count        2.940000e+02         294.000000        294.000000    294.000000  \n",
      "mean         3.021015e-17           0.067736          0.627296      0.235604  \n",
      "std          1.000000e+00           0.131666          0.254545      0.119196  \n",
      "min         -2.706717e-01           0.000000          0.064969      0.019491  \n",
      "25%         -2.706717e-01           0.000000          0.417430      0.156296  \n",
      "50%         -2.706717e-01           0.012941          0.660756      0.239463  \n",
      "75%         -2.706717e-01           0.087922          0.841131      0.284462  \n",
      "max          1.282770e+01           1.000000          0.982014      0.985772  \n",
      "------------------------------\n",
      "Position: Midfielder\n",
      "              age         born  matches_played  matches_started  \\\n",
      "count  241.000000   241.000000      242.000000       242.000000   \n",
      "mean    24.734440  1998.336100       18.698347        13.185950   \n",
      "std      4.742101     4.747708       11.092029        10.632806   \n",
      "min     14.000000  1986.000000        1.000000         0.000000   \n",
      "25%     21.000000  1995.000000        8.000000         2.250000   \n",
      "50%     24.000000  1999.000000       22.000000        12.000000   \n",
      "75%     28.000000  2002.000000       29.000000        23.000000   \n",
      "max     37.000000  2009.000000       34.000000        34.000000   \n",
      "\n",
      "       minutes_played       goals     assists  goals_and_assists  \\\n",
      "count      242.000000  242.000000  242.000000         242.000000   \n",
      "mean      1174.516529    1.698347    1.714876           3.413223   \n",
      "std        912.023750    2.747295    2.592141           4.927136   \n",
      "min          1.000000    0.000000    0.000000           0.000000   \n",
      "25%        303.000000    0.000000    0.000000           0.000000   \n",
      "50%       1112.500000    1.000000    1.000000           2.000000   \n",
      "75%       1964.750000    2.000000    2.000000           5.000000   \n",
      "max       3038.000000   17.000000   16.000000          30.000000   \n",
      "\n",
      "       yellow_cards   red_cards  90_minutes_played  goals_per_90  \\\n",
      "count    242.000000  242.000000         242.000000    242.000000   \n",
      "mean       2.913223    0.107438          13.050184      0.115329   \n",
      "std        2.799806    0.310311          10.133597      0.177804   \n",
      "min        0.000000    0.000000           0.011111      0.000000   \n",
      "25%        0.000000    0.000000           3.366667      0.000000   \n",
      "50%        2.000000    0.000000          12.361111      0.042224   \n",
      "75%        5.000000    0.000000          21.830556      0.159729   \n",
      "max       12.000000    1.000000          33.755556      1.125000   \n",
      "\n",
      "       assists_per_90  red_cards_per_90  goals_per_90_z  assists_per_90_z  \\\n",
      "count      242.000000        242.000000    2.420000e+02        242.000000   \n",
      "mean         0.110549          0.011058    2.936127e-17          0.000000   \n",
      "std          0.181070          0.055120    1.000000e+00          1.000000   \n",
      "min          0.000000          0.000000   -6.486269e-01         -0.610530   \n",
      "25%          0.000000          0.000000   -6.486269e-01         -0.610530   \n",
      "50%          0.055103          0.000000   -4.111523e-01         -0.306213   \n",
      "75%          0.150663          0.000000    2.497167e-01          0.221540   \n",
      "max          1.914894          0.676692    5.678558e+00          9.964877   \n",
      "\n",
      "       red_cards_per_90_z  player_efficiency  player_potential  player_value  \n",
      "count        2.420000e+02         242.000000        241.000000    241.000000  \n",
      "mean         8.074349e-17           0.121045          0.684899      0.290553  \n",
      "std          1.000000e+00           0.156956          0.270422      0.131170  \n",
      "min         -2.006108e-01           0.000000          0.047426      0.014228  \n",
      "25%         -2.006108e-01           0.000000          0.500000      0.219318  \n",
      "50%         -2.006108e-01           0.064225          0.791391      0.284681  \n",
      "75%         -2.006108e-01           0.176253          0.911600      0.353416  \n",
      "max          1.207608e+01           1.000000          0.990684      0.996114  \n",
      "------------------------------\n"
     ]
    }
   ],
   "source": [
    "for position, df in position_dfs.items():\n",
    "    print(f\"Position: {position}\")\n",
    "    print(df.describe())\n",
    "    print(f\"{'-' * 30}\")"
   ]
  },
  {
   "cell_type": "code",
   "execution_count": 34,
   "metadata": {},
   "outputs": [],
   "source": [
    "for position, df in position_dfs.items():\n",
    "    position_dfs[position] = df.sort_values(by='player_value', ascending=False)"
   ]
  },
  {
   "cell_type": "code",
   "execution_count": 35,
   "metadata": {},
   "outputs": [
    {
     "name": "stdout",
     "output_type": "stream",
     "text": [
      "Top 5 players for position Forward:\n",
      "                name   age  player_efficiency  player_potential  player_value\n",
      "229  Lawrence Ennali  21.0           0.973990          0.911600      0.955273\n",
      "32       Tomas Ángel  20.0           0.935794          0.935031      0.935565\n",
      "441     Talles Magno  21.0           0.701846          0.911600      0.764772\n",
      "455   David Martínez  17.0           0.631759          0.975076      0.734754\n",
      "476     Lionel Messi  36.0           1.000000          0.064969      0.719491\n",
      "--------------------------------------------------\n",
      "Top 5 players for position Defender:\n",
      "                  name   age  player_efficiency  player_potential  \\\n",
      "268  Alexander Freeman  19.0           1.000000          0.952574   \n",
      "672      David Schnegg  25.0           0.901624          0.731059   \n",
      "451             Marlon  28.0           0.865846          0.500000   \n",
      "222    Michael Edwards  23.0           0.524503          0.841131   \n",
      "366       DeJuan Jones  26.0           0.533480          0.660756   \n",
      "\n",
      "     player_value  \n",
      "268      0.985772  \n",
      "672      0.850455  \n",
      "451      0.756092  \n",
      "222      0.619491  \n",
      "366      0.571663  \n",
      "--------------------------------------------------\n",
      "Top 5 players for position Midfielder:\n",
      "              name   age  player_efficiency  player_potential  player_value\n",
      "318    Julian Hall  15.0           1.000000          0.987046      0.996114\n",
      "731    Dylan Teves  23.0           0.721705          0.841131      0.757533\n",
      "526    Serge Ngoma  18.0           0.548989          0.965555      0.673959\n",
      "410   Randall Leal  27.0           0.670990          0.582570      0.644464\n",
      "354  Aziel Jackson  22.0           0.536517          0.880797      0.639801\n",
      "--------------------------------------------------\n"
     ]
    }
   ],
   "source": [
    "for position, df in position_dfs.items():\n",
    "    print(f\"Top 5 players for position {position}:\")\n",
    "    print(df[['name', 'age', 'player_efficiency', 'player_potential', 'player_value']].head(5))\n",
    "    print(f\"{'-' * 50}\")"
   ]
  },
  {
   "cell_type": "markdown",
   "metadata": {},
   "source": [
    "## Plots"
   ]
  },
  {
   "cell_type": "code",
   "execution_count": 46,
   "metadata": {},
   "outputs": [
    {
     "data": {
      "text/html": [
       "        <script type=\"text/javascript\">\n",
       "        window.PlotlyConfig = {MathJaxConfig: 'local'};\n",
       "        if (window.MathJax && window.MathJax.Hub && window.MathJax.Hub.Config) {window.MathJax.Hub.Config({SVG: {font: \"STIX-Web\"}});}\n",
       "        </script>\n",
       "        <script type=\"module\">import \"https://cdn.plot.ly/plotly-3.0.1.min\"</script>\n",
       "        "
      ]
     },
     "metadata": {},
     "output_type": "display_data"
    },
    {
     "data": {
      "application/vnd.plotly.v1+json": {
       "config": {
        "linkText": "Export to plot.ly",
        "plotlyServerURL": "https://plot.ly",
        "showLink": false
       },
       "data": [
        {
         "line": {
          "color": "lightgrey"
         },
         "mode": "lines",
         "name": "Z-Curve",
         "showlegend": false,
         "type": "scatter",
         "x": {
          "bdata": "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",
          "dtype": "f8"
         },
         "xaxis": "x",
         "y": {
          "bdata": "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",
          "dtype": "f8"
         },
         "yaxis": "y"
        },
        {
         "marker": {
          "color": {
           "bdata": "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",
           "dtype": "f8"
          },
          "showscale": true,
          "size": {
           "bdata": "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",
           "dtype": "f8"
          }
         },
         "mode": "markers+text",
         "name": "Player",
         "showlegend": false,
         "text": [
          "Alexander Freeman",
          "David Schnegg",
          "Marlon",
          "Michael Edwards",
          "DeJuan Jones",
          "Eriq Zavaleta",
          "Luca Orellano",
          "Tom Pearce",
          "Mauricio Cuevas",
          "Ian Fray",
          "Kervin Arriaga",
          "Yamil Asad",
          "Reggie Cannon",
          "Maximilian Arfsten",
          "Mohamed Farsi",
          "Tyrese Spicer",
          "Ryan Raposo",
          "Federico Bernardeschi",
          "Marcelo Herrera",
          "Jahkeele Marshall-Rutty",
          "Jake Davis",
          "Dante Sealy",
          "Jon Bell",
          "Guilherme Biro",
          "Moïse Bombito",
          "Tayvon Gray",
          "Alexandros Katranis",
          "Nathan Harriel",
          "John Tolkin",
          "Mitja Ilenič",
          "Julián Aude",
          "Henry Kessler",
          "Griffin Dorsey",
          "Dagur Dan Þórhallsson",
          "Caleb Wiley",
          "Carlos Terán",
          "Fernando Álvarez",
          "Mathías Laborda",
          "Peyton Miller",
          "Paul Arriola",
          "Juan David Mosquera",
          "Matai Akinmboni",
          "Yaw Yeboah",
          "Paul Marie",
          "Jackson Ragen",
          "Nkosi Tafari",
          "Philip Quinton",
          "Brayan Vera",
          "Kayden Pierre",
          "Ranko Veselinović",
          "Cody Baker",
          "Robert Castellanos",
          "Oscar Verhoeven",
          "Christian McFarlane",
          "Sawyer Jura",
          "Žan Kolmanič",
          "Ariel Lassiter",
          "Adilson Malanda",
          "Kobe Franklin",
          "Reed Baker-Whiting",
          "Noah Cobb",
          "Andrew Gutman",
          "Andrés Reyes",
          "Sebastian Anderson",
          "David Brekalo",
          "Jackson Travis",
          "Dawid Bugaj",
          "Tomás Avilés",
          "Efrain Morales",
          "Noah Allen",
          "Giuseppe Bovalina",
          "Justin Reynolds",
          "Jahkeele Marshall-Rutty",
          "William Sands",
          "Rodrigues",
          "Tomas Totland",
          "Jayden Reid",
          "Omar Campos",
          "Caden Clark",
          "Finn Surman",
          "João Pedro",
          "Matthew Edwards",
          "Jalen Neal",
          "Édier Ocampo",
          "Isaiah Foster",
          "Bode Davis",
          "Noah Eile",
          "Sam Vines",
          "Garrison Tubbs",
          "Michael Halliday",
          "Tommy Silva",
          "Julian Gaines",
          "Michael Wentzel",
          "Sota Kitahara",
          "Kalani Rienzi",
          "Hayden Sargis",
          "Devin Padelford",
          "Nicolas Fleuriau",
          "Nicksoen Gomis",
          "Joseph Rosales",
          "George Campbell",
          "Jack Maher",
          "Robert Voloder",
          "Jonathan Dean",
          "Rafael Santos",
          "Jon Gallagher",
          "Mauricio Pineda",
          "Carlos Garcés",
          "Hugo Bacharach",
          "Nikolas Dyhr",
          "Joaquin Sosa",
          "Aidan O'Connor",
          "Ousman jabang",
          "Justin Haak",
          "Kyle Duncan",
          "Jake Nerwinski",
          "Lucas Bartlett",
          "Bruno Wilson",
          "Marco Farfan",
          "Kevin O'Toole",
          "Akil Watts",
          "Carlos Harvey",
          "Malte Amundsen",
          "Brandon Bye",
          "Allan Arigoni",
          "Pedro Amador",
          "Kipp Keller",
          "Micael",
          "London Aghedo",
          "Bret Halsey",
          "Andrew Privett",
          "Victor Eriksson",
          "Morris Duggan",
          "Jefferson Díaz",
          "Jaylin Lindsey",
          "Daniel Munie",
          "William Sands",
          "Ethan Bartlow",
          "Logan Ndenbe",
          "Raoul Petretta",
          "Kai Wagner",
          "Sam Adekugbe",
          "Javain Brown",
          "Marcelo Weigandt",
          "Yevhen Cheberko",
          "Zorhan Bassong",
          "Lassi Lappalainen",
          "Aaron Herrera",
          "Franco Escobar",
          "Philip Quinton",
          "Jefferson Valverde",
          "Belal Halbouni",
          "Ian Murphy",
          "Javain Brown",
          "Anthony Markanich",
          "Gabriele Corbo",
          "Ruan",
          "Stian Rode Gregersen",
          "Christopher McVey",
          "Miles Robinson",
          "Rodrigo Schlegel",
          "Shaq Moore",
          "Dylan Nealis",
          "Richie Laryea",
          "Joshua Yaro",
          "Héctor David Martínez",
          "Cristián Dajome",
          "Henry Kessler",
          "Ryan Sailor",
          "Birk Risa",
          "Josh Bauer",
          "Aimé Mabika",
          "John Nelson",
          "Ryan Spaulding",
          "Sam Junqua",
          "Brooks Lennon",
          "Jannes Horn",
          "Alex Roldan",
          "DeJuan Jones",
          "Ronald Hernández",
          "Vitor Costa",
          "Steven Moreira",
          "Claudio Bravo",
          "Olivier Mbaizo",
          "Ema Twumasi",
          "Jordi Alba",
          "Eddie Segura",
          "D.J. Taylor",
          "Chidozie Awaziem",
          "Kyle Hiebert",
          "Tate Schmitt",
          "Justen Glad",
          "Strahinja Tanasijević",
          "Tanner Beason",
          "Kamal Miller",
          "Leo Väisänen",
          "Nouhou Tolo",
          "Zac McGraw",
          "Brendan Hines-Ike",
          "Daniel Steres",
          "Joakim Nilsson",
          "Teenage Hadebe",
          "Jakob Glesnes",
          "Julio Cascante",
          "Daniel Rosero",
          "Sean Nealis",
          "Sergi Palencia",
          "Tristan Blackmon",
          "Luis Abram",
          "Bjørn Inge Utvik",
          "Joaquín Fernández",
          "Miguel Tapias",
          "Raheem Edwards",
          "Nick Lima",
          "Ruan",
          "Conner Antley",
          "Pedro Santos",
          "Eric Miller",
          "Franco Negri",
          "Tobias Salquist",
          "Jack Elliott",
          "Andrew Brody",
          "Chase Gasper",
          "Bill Tuiloma",
          "Mikkel Desler",
          "Matt Miazga",
          "Tommy Thompson",
          "Lukas MacNaughton",
          "Wyatt Omsberg",
          "Joel Waterman",
          "Thiago Martins",
          "Nathan Cardoso",
          "Henry Wingo",
          "Walker Zimmerman",
          "Ariel Lassiter",
          "Tim Leibold",
          "Jere Uronen",
          "Matt Hedges",
          "Miguel Araujo",
          "Lalas Abubakar",
          "Andreas Maxsø",
          "Nicolás Freire",
          "Oleksandr Svatok",
          "Xavier Arreaga",
          "Xavier Arreaga",
          "Jesús David Murillo",
          "Alvas Powell",
          "Sigurd Rosted",
          "Taylor Washington",
          "Serhiy Kryvtsov",
          "Sebastien Ibeagha",
          "Tim Ream",
          "Khiry Shelton",
          "Aaron Long",
          "Yeimar Gómez Andrade",
          "Miki Yamane",
          "DeAndre Yedlin",
          "Carlos Akapo",
          "Keegan Rosenberry",
          "Ryan Hollingshead",
          "Erik Sviatchenko",
          "Tim Parker",
          "David Romney",
          "DeAndre Yedlin",
          "Tim Parker",
          "Shane O'Neill",
          "Damion Lowe",
          "Rudy Camacho",
          "Robin Jansson",
          "Luís Martins",
          "Rafael Czichos",
          "Nathan Byrne",
          "Arnaud Souquet",
          "Andrew Farrell",
          "Nick Hagglund",
          "Derrick Williams",
          "Dario Župarić",
          "Maya Yoshida",
          "Bryan Oviedo",
          "Kyle Smith",
          "Steve Birnbaum",
          "Daniel Lovitz",
          "Zarek Valentin",
          "Michael Boxall",
          "Brent Kallman",
          "Jonathan Mensah",
          "Kevin Long",
          "Maxime Chanot",
          "Andreu Fontàs",
          "Hector Jiménez",
          "Marcelo Silva",
          "Omar Gonzalez",
          "Larrys Mabiala",
          "Martín Cáceres"
         ],
         "textposition": "top center",
         "type": "scatter",
         "x": {
          "bdata": "VeoTiorr3r+ehkg8DZ4cQHSp2Ry0ZxtArWoS2bmtD0CDYhKOuiQQQA==",
          "dtype": "f8"
         },
         "xaxis": "x",
         "y": {
          "bdata": "QImGKki41j95kfXvo/OKPTbobtpLIrw9clsh/ieVJD+sIb4k0F8ePw==",
          "dtype": "f8"
         },
         "yaxis": "y"
        },
        {
         "line": {
          "color": "lightgrey"
         },
         "mode": "lines",
         "name": "Z-Curve",
         "showlegend": false,
         "type": "scatter",
         "x": {
          "bdata": "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",
          "dtype": "f8"
         },
         "xaxis": "x2",
         "y": {
          "bdata": "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",
          "dtype": "f8"
         },
         "yaxis": "y2"
        },
        {
         "marker": {
          "color": {
           "bdata": "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",
           "dtype": "f8"
          },
          "showscale": true,
          "size": {
           "bdata": "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",
           "dtype": "f8"
          }
         },
         "mode": "markers+text",
         "name": "Player",
         "showlegend": false,
         "text": [
          "Alexander Freeman",
          "David Schnegg",
          "Marlon",
          "Michael Edwards",
          "DeJuan Jones",
          "Eriq Zavaleta",
          "Luca Orellano",
          "Tom Pearce",
          "Mauricio Cuevas",
          "Ian Fray",
          "Kervin Arriaga",
          "Yamil Asad",
          "Reggie Cannon",
          "Maximilian Arfsten",
          "Mohamed Farsi",
          "Tyrese Spicer",
          "Ryan Raposo",
          "Federico Bernardeschi",
          "Marcelo Herrera",
          "Jahkeele Marshall-Rutty",
          "Jake Davis",
          "Dante Sealy",
          "Jon Bell",
          "Guilherme Biro",
          "Moïse Bombito",
          "Tayvon Gray",
          "Alexandros Katranis",
          "Nathan Harriel",
          "John Tolkin",
          "Mitja Ilenič",
          "Julián Aude",
          "Henry Kessler",
          "Griffin Dorsey",
          "Dagur Dan Þórhallsson",
          "Caleb Wiley",
          "Carlos Terán",
          "Fernando Álvarez",
          "Mathías Laborda",
          "Peyton Miller",
          "Paul Arriola",
          "Juan David Mosquera",
          "Matai Akinmboni",
          "Yaw Yeboah",
          "Paul Marie",
          "Jackson Ragen",
          "Nkosi Tafari",
          "Philip Quinton",
          "Brayan Vera",
          "Kayden Pierre",
          "Ranko Veselinović",
          "Cody Baker",
          "Robert Castellanos",
          "Oscar Verhoeven",
          "Christian McFarlane",
          "Sawyer Jura",
          "Žan Kolmanič",
          "Ariel Lassiter",
          "Adilson Malanda",
          "Kobe Franklin",
          "Reed Baker-Whiting",
          "Noah Cobb",
          "Andrew Gutman",
          "Andrés Reyes",
          "Sebastian Anderson",
          "David Brekalo",
          "Jackson Travis",
          "Dawid Bugaj",
          "Tomás Avilés",
          "Efrain Morales",
          "Noah Allen",
          "Giuseppe Bovalina",
          "Justin Reynolds",
          "Jahkeele Marshall-Rutty",
          "William Sands",
          "Rodrigues",
          "Tomas Totland",
          "Jayden Reid",
          "Omar Campos",
          "Caden Clark",
          "Finn Surman",
          "João Pedro",
          "Matthew Edwards",
          "Jalen Neal",
          "Édier Ocampo",
          "Isaiah Foster",
          "Bode Davis",
          "Noah Eile",
          "Sam Vines",
          "Garrison Tubbs",
          "Michael Halliday",
          "Tommy Silva",
          "Julian Gaines",
          "Michael Wentzel",
          "Sota Kitahara",
          "Kalani Rienzi",
          "Hayden Sargis",
          "Devin Padelford",
          "Nicolas Fleuriau",
          "Nicksoen Gomis",
          "Joseph Rosales",
          "George Campbell",
          "Jack Maher",
          "Robert Voloder",
          "Jonathan Dean",
          "Rafael Santos",
          "Jon Gallagher",
          "Mauricio Pineda",
          "Carlos Garcés",
          "Hugo Bacharach",
          "Nikolas Dyhr",
          "Joaquin Sosa",
          "Aidan O'Connor",
          "Ousman jabang",
          "Justin Haak",
          "Kyle Duncan",
          "Jake Nerwinski",
          "Lucas Bartlett",
          "Bruno Wilson",
          "Marco Farfan",
          "Kevin O'Toole",
          "Akil Watts",
          "Carlos Harvey",
          "Malte Amundsen",
          "Brandon Bye",
          "Allan Arigoni",
          "Pedro Amador",
          "Kipp Keller",
          "Micael",
          "London Aghedo",
          "Bret Halsey",
          "Andrew Privett",
          "Victor Eriksson",
          "Morris Duggan",
          "Jefferson Díaz",
          "Jaylin Lindsey",
          "Daniel Munie",
          "William Sands",
          "Ethan Bartlow",
          "Logan Ndenbe",
          "Raoul Petretta",
          "Kai Wagner",
          "Sam Adekugbe",
          "Javain Brown",
          "Marcelo Weigandt",
          "Yevhen Cheberko",
          "Zorhan Bassong",
          "Lassi Lappalainen",
          "Aaron Herrera",
          "Franco Escobar",
          "Philip Quinton",
          "Jefferson Valverde",
          "Belal Halbouni",
          "Ian Murphy",
          "Javain Brown",
          "Anthony Markanich",
          "Gabriele Corbo",
          "Ruan",
          "Stian Rode Gregersen",
          "Christopher McVey",
          "Miles Robinson",
          "Rodrigo Schlegel",
          "Shaq Moore",
          "Dylan Nealis",
          "Richie Laryea",
          "Joshua Yaro",
          "Héctor David Martínez",
          "Cristián Dajome",
          "Henry Kessler",
          "Ryan Sailor",
          "Birk Risa",
          "Josh Bauer",
          "Aimé Mabika",
          "John Nelson",
          "Ryan Spaulding",
          "Sam Junqua",
          "Brooks Lennon",
          "Jannes Horn",
          "Alex Roldan",
          "DeJuan Jones",
          "Ronald Hernández",
          "Vitor Costa",
          "Steven Moreira",
          "Claudio Bravo",
          "Olivier Mbaizo",
          "Ema Twumasi",
          "Jordi Alba",
          "Eddie Segura",
          "D.J. Taylor",
          "Chidozie Awaziem",
          "Kyle Hiebert",
          "Tate Schmitt",
          "Justen Glad",
          "Strahinja Tanasijević",
          "Tanner Beason",
          "Kamal Miller",
          "Leo Väisänen",
          "Nouhou Tolo",
          "Zac McGraw",
          "Brendan Hines-Ike",
          "Daniel Steres",
          "Joakim Nilsson",
          "Teenage Hadebe",
          "Jakob Glesnes",
          "Julio Cascante",
          "Daniel Rosero",
          "Sean Nealis",
          "Sergi Palencia",
          "Tristan Blackmon",
          "Luis Abram",
          "Bjørn Inge Utvik",
          "Joaquín Fernández",
          "Miguel Tapias",
          "Raheem Edwards",
          "Nick Lima",
          "Ruan",
          "Conner Antley",
          "Pedro Santos",
          "Eric Miller",
          "Franco Negri",
          "Tobias Salquist",
          "Jack Elliott",
          "Andrew Brody",
          "Chase Gasper",
          "Bill Tuiloma",
          "Mikkel Desler",
          "Matt Miazga",
          "Tommy Thompson",
          "Lukas MacNaughton",
          "Wyatt Omsberg",
          "Joel Waterman",
          "Thiago Martins",
          "Nathan Cardoso",
          "Henry Wingo",
          "Walker Zimmerman",
          "Ariel Lassiter",
          "Tim Leibold",
          "Jere Uronen",
          "Matt Hedges",
          "Miguel Araujo",
          "Lalas Abubakar",
          "Andreas Maxsø",
          "Nicolás Freire",
          "Oleksandr Svatok",
          "Xavier Arreaga",
          "Xavier Arreaga",
          "Jesús David Murillo",
          "Alvas Powell",
          "Sigurd Rosted",
          "Taylor Washington",
          "Serhiy Kryvtsov",
          "Sebastien Ibeagha",
          "Tim Ream",
          "Khiry Shelton",
          "Aaron Long",
          "Yeimar Gómez Andrade",
          "Miki Yamane",
          "DeAndre Yedlin",
          "Carlos Akapo",
          "Keegan Rosenberry",
          "Ryan Hollingshead",
          "Erik Sviatchenko",
          "Tim Parker",
          "David Romney",
          "DeAndre Yedlin",
          "Tim Parker",
          "Shane O'Neill",
          "Damion Lowe",
          "Rudy Camacho",
          "Robin Jansson",
          "Luís Martins",
          "Rafael Czichos",
          "Nathan Byrne",
          "Arnaud Souquet",
          "Andrew Farrell",
          "Nick Hagglund",
          "Derrick Williams",
          "Dario Župarić",
          "Maya Yoshida",
          "Bryan Oviedo",
          "Kyle Smith",
          "Steve Birnbaum",
          "Daniel Lovitz",
          "Zarek Valentin",
          "Michael Boxall",
          "Brent Kallman",
          "Jonathan Mensah",
          "Kevin Long",
          "Maxime Chanot",
          "Andreu Fontàs",
          "Hector Jiménez",
          "Marcelo Silva",
          "Omar Gonzalez",
          "Larrys Mabiala",
          "Martín Cáceres"
         ],
         "textposition": "top center",
         "type": "scatter",
         "x": {
          "bdata": "n79qGKLCMEBA6TcCzDTHv0DpNwLMNMe/QOk3Asw0x79A6TcCzDTHvw==",
          "dtype": "f8"
         },
         "xaxis": "x2",
         "y": {
          "bdata": "BmLiSpx6MDNHKSQluh3ZP0cpJCW6Hdk/RykkJbod2T9HKSQluh3ZPw==",
          "dtype": "f8"
         },
         "yaxis": "y2"
        },
        {
         "line": {
          "color": "lightgrey"
         },
         "mode": "lines",
         "name": "Z-Curve",
         "showlegend": false,
         "type": "scatter",
         "x": {
          "bdata": "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",
          "dtype": "f8"
         },
         "xaxis": "x3",
         "y": {
          "bdata": "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",
          "dtype": "f8"
         },
         "yaxis": "y3"
        },
        {
         "marker": {
          "color": {
           "bdata": "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",
           "dtype": "f8"
          },
          "showscale": true,
          "size": {
           "bdata": "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",
           "dtype": "f8"
          }
         },
         "mode": "markers+text",
         "name": "Player",
         "showlegend": false,
         "text": [
          "Alexander Freeman",
          "David Schnegg",
          "Marlon",
          "Michael Edwards",
          "DeJuan Jones",
          "Eriq Zavaleta",
          "Luca Orellano",
          "Tom Pearce",
          "Mauricio Cuevas",
          "Ian Fray",
          "Kervin Arriaga",
          "Yamil Asad",
          "Reggie Cannon",
          "Maximilian Arfsten",
          "Mohamed Farsi",
          "Tyrese Spicer",
          "Ryan Raposo",
          "Federico Bernardeschi",
          "Marcelo Herrera",
          "Jahkeele Marshall-Rutty",
          "Jake Davis",
          "Dante Sealy",
          "Jon Bell",
          "Guilherme Biro",
          "Moïse Bombito",
          "Tayvon Gray",
          "Alexandros Katranis",
          "Nathan Harriel",
          "John Tolkin",
          "Mitja Ilenič",
          "Julián Aude",
          "Henry Kessler",
          "Griffin Dorsey",
          "Dagur Dan Þórhallsson",
          "Caleb Wiley",
          "Carlos Terán",
          "Fernando Álvarez",
          "Mathías Laborda",
          "Peyton Miller",
          "Paul Arriola",
          "Juan David Mosquera",
          "Matai Akinmboni",
          "Yaw Yeboah",
          "Paul Marie",
          "Jackson Ragen",
          "Nkosi Tafari",
          "Philip Quinton",
          "Brayan Vera",
          "Kayden Pierre",
          "Ranko Veselinović",
          "Cody Baker",
          "Robert Castellanos",
          "Oscar Verhoeven",
          "Christian McFarlane",
          "Sawyer Jura",
          "Žan Kolmanič",
          "Ariel Lassiter",
          "Adilson Malanda",
          "Kobe Franklin",
          "Reed Baker-Whiting",
          "Noah Cobb",
          "Andrew Gutman",
          "Andrés Reyes",
          "Sebastian Anderson",
          "David Brekalo",
          "Jackson Travis",
          "Dawid Bugaj",
          "Tomás Avilés",
          "Efrain Morales",
          "Noah Allen",
          "Giuseppe Bovalina",
          "Justin Reynolds",
          "Jahkeele Marshall-Rutty",
          "William Sands",
          "Rodrigues",
          "Tomas Totland",
          "Jayden Reid",
          "Omar Campos",
          "Caden Clark",
          "Finn Surman",
          "João Pedro",
          "Matthew Edwards",
          "Jalen Neal",
          "Édier Ocampo",
          "Isaiah Foster",
          "Bode Davis",
          "Noah Eile",
          "Sam Vines",
          "Garrison Tubbs",
          "Michael Halliday",
          "Tommy Silva",
          "Julian Gaines",
          "Michael Wentzel",
          "Sota Kitahara",
          "Kalani Rienzi",
          "Hayden Sargis",
          "Devin Padelford",
          "Nicolas Fleuriau",
          "Nicksoen Gomis",
          "Joseph Rosales",
          "George Campbell",
          "Jack Maher",
          "Robert Voloder",
          "Jonathan Dean",
          "Rafael Santos",
          "Jon Gallagher",
          "Mauricio Pineda",
          "Carlos Garcés",
          "Hugo Bacharach",
          "Nikolas Dyhr",
          "Joaquin Sosa",
          "Aidan O'Connor",
          "Ousman jabang",
          "Justin Haak",
          "Kyle Duncan",
          "Jake Nerwinski",
          "Lucas Bartlett",
          "Bruno Wilson",
          "Marco Farfan",
          "Kevin O'Toole",
          "Akil Watts",
          "Carlos Harvey",
          "Malte Amundsen",
          "Brandon Bye",
          "Allan Arigoni",
          "Pedro Amador",
          "Kipp Keller",
          "Micael",
          "London Aghedo",
          "Bret Halsey",
          "Andrew Privett",
          "Victor Eriksson",
          "Morris Duggan",
          "Jefferson Díaz",
          "Jaylin Lindsey",
          "Daniel Munie",
          "William Sands",
          "Ethan Bartlow",
          "Logan Ndenbe",
          "Raoul Petretta",
          "Kai Wagner",
          "Sam Adekugbe",
          "Javain Brown",
          "Marcelo Weigandt",
          "Yevhen Cheberko",
          "Zorhan Bassong",
          "Lassi Lappalainen",
          "Aaron Herrera",
          "Franco Escobar",
          "Philip Quinton",
          "Jefferson Valverde",
          "Belal Halbouni",
          "Ian Murphy",
          "Javain Brown",
          "Anthony Markanich",
          "Gabriele Corbo",
          "Ruan",
          "Stian Rode Gregersen",
          "Christopher McVey",
          "Miles Robinson",
          "Rodrigo Schlegel",
          "Shaq Moore",
          "Dylan Nealis",
          "Richie Laryea",
          "Joshua Yaro",
          "Héctor David Martínez",
          "Cristián Dajome",
          "Henry Kessler",
          "Ryan Sailor",
          "Birk Risa",
          "Josh Bauer",
          "Aimé Mabika",
          "John Nelson",
          "Ryan Spaulding",
          "Sam Junqua",
          "Brooks Lennon",
          "Jannes Horn",
          "Alex Roldan",
          "DeJuan Jones",
          "Ronald Hernández",
          "Vitor Costa",
          "Steven Moreira",
          "Claudio Bravo",
          "Olivier Mbaizo",
          "Ema Twumasi",
          "Jordi Alba",
          "Eddie Segura",
          "D.J. Taylor",
          "Chidozie Awaziem",
          "Kyle Hiebert",
          "Tate Schmitt",
          "Justen Glad",
          "Strahinja Tanasijević",
          "Tanner Beason",
          "Kamal Miller",
          "Leo Väisänen",
          "Nouhou Tolo",
          "Zac McGraw",
          "Brendan Hines-Ike",
          "Daniel Steres",
          "Joakim Nilsson",
          "Teenage Hadebe",
          "Jakob Glesnes",
          "Julio Cascante",
          "Daniel Rosero",
          "Sean Nealis",
          "Sergi Palencia",
          "Tristan Blackmon",
          "Luis Abram",
          "Bjørn Inge Utvik",
          "Joaquín Fernández",
          "Miguel Tapias",
          "Raheem Edwards",
          "Nick Lima",
          "Ruan",
          "Conner Antley",
          "Pedro Santos",
          "Eric Miller",
          "Franco Negri",
          "Tobias Salquist",
          "Jack Elliott",
          "Andrew Brody",
          "Chase Gasper",
          "Bill Tuiloma",
          "Mikkel Desler",
          "Matt Miazga",
          "Tommy Thompson",
          "Lukas MacNaughton",
          "Wyatt Omsberg",
          "Joel Waterman",
          "Thiago Martins",
          "Nathan Cardoso",
          "Henry Wingo",
          "Walker Zimmerman",
          "Ariel Lassiter",
          "Tim Leibold",
          "Jere Uronen",
          "Matt Hedges",
          "Miguel Araujo",
          "Lalas Abubakar",
          "Andreas Maxsø",
          "Nicolás Freire",
          "Oleksandr Svatok",
          "Xavier Arreaga",
          "Xavier Arreaga",
          "Jesús David Murillo",
          "Alvas Powell",
          "Sigurd Rosted",
          "Taylor Washington",
          "Serhiy Kryvtsov",
          "Sebastien Ibeagha",
          "Tim Ream",
          "Khiry Shelton",
          "Aaron Long",
          "Yeimar Gómez Andrade",
          "Miki Yamane",
          "DeAndre Yedlin",
          "Carlos Akapo",
          "Keegan Rosenberry",
          "Ryan Hollingshead",
          "Erik Sviatchenko",
          "Tim Parker",
          "David Romney",
          "DeAndre Yedlin",
          "Tim Parker",
          "Shane O'Neill",
          "Damion Lowe",
          "Rudy Camacho",
          "Robin Jansson",
          "Luís Martins",
          "Rafael Czichos",
          "Nathan Byrne",
          "Arnaud Souquet",
          "Andrew Farrell",
          "Nick Hagglund",
          "Derrick Williams",
          "Dario Župarić",
          "Maya Yoshida",
          "Bryan Oviedo",
          "Kyle Smith",
          "Steve Birnbaum",
          "Daniel Lovitz",
          "Zarek Valentin",
          "Michael Boxall",
          "Brent Kallman",
          "Jonathan Mensah",
          "Kevin Long",
          "Maxime Chanot",
          "Andreu Fontàs",
          "Hector Jiménez",
          "Marcelo Silva",
          "Omar Gonzalez",
          "Larrys Mabiala",
          "Martín Cáceres"
         ],
         "textposition": "top center",
         "type": "scatter",
         "x": {
          "bdata": "/TpnP69S0b/9Omc/r1LRv/06Zz+vUtG//TpnP69S0b/9Omc/r1LRvw==",
          "dtype": "f8"
         },
         "xaxis": "x3",
         "y": {
          "bdata": "5XyvNiud2D/lfK82K53YP+V8rzYrndg/5XyvNiud2D/lfK82K53YPw==",
          "dtype": "f8"
         },
         "yaxis": "y3"
        },
        {
         "line": {
          "color": "lightgrey"
         },
         "mode": "lines",
         "name": "Z-Curve",
         "showlegend": false,
         "type": "scatter",
         "x": {
          "bdata": "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",
          "dtype": "f8"
         },
         "xaxis": "x4",
         "y": {
          "bdata": "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",
          "dtype": "f8"
         },
         "yaxis": "y4"
        },
        {
         "marker": {
          "color": {
           "bdata": "pp58EOKV7z81IsZWi+rqP2h/YzDT5e4/wyUMRmqk4j/JeYpafS/sP72i1fXUZOc/1ALrxsXr7T/DJQxGaqTiPyj5rjUUU+k/OGatcNQr7T84Zq1w1CvtP72i1fXUZOc/wyUMRmqk4j/JeYpafS/sPzhmrXDUK+0/erTncyu32j+9otX11GTnP8l5ilp9L+w/yXmKWn0v7D/UAuvGxevtP8l5ilp9L+w/NSLGVovq6j9of2Mw0+XuPyj5rjUUU+k/vfo2vHx77j8AAAAAAADgPzhmrXDUK+0/hrpUFFY20T8AAAAAAADgP2AbRCmvs8o/NSLGVovq6j/JeYpafS/sP9QC68bF6+0/1ALrxsXr7T+9otX11GTnP9QC68bF6+0/aH9jMNPl7j81IsZWi+rqP3q053Mrt9o/1ALrxsXr7T+9otX11GTnPzhmrXDUK+0/KPmuNRRT6T/JeYpafS/sPzUixlaL6uo/vfo2vHx77j/JeYpafS/sP8l5ilp9L+w/yXmKWn0v7D/JeYpafS/sP736Nrx8e+4/ASJPiuok5T9gG0Qpr7PKP8l5ilp9L+w/AAAAAAAA4D84Zq1w1CvtPwEiT4rqJOU/vfo2vHx77j/JeYpafS/sP/+7YesqttU/AAAAAAAA4D/JeYpafS/sP8MlDEZqpOI/aH9jMNPl7j84Zq1w1CvtP736Nrx8e+4/ASJPiuok5T84Zq1w1CvtP8MlDEZqpOI/OGatcNQr7T+9otX11GTnPzUixlaL6uo/NSLGVovq6j8BIk+K6iTlPzUixlaL6uo/NSLGVovq6j8o+a41FFPpPzUixlaL6uo/OGatcNQr7T9of2Mw0+XuPwEiT4rqJOU/NSLGVovq6j/JeYpafS/sPwEiT4rqJOU/OGatcNQr7T96tOdzK7faP8l5ilp9L+w/vaLV9dRk5z++BmkEr7PvPzUixlaL6uo/vaLV9dRk5z8o+a41FFPpP8l5ilp9L+w/6uENL6hs7z/q4Q0vqGzvPyS7VbDRM+8/JLtVsNEz7z8ku1Ww0TPvPyS7VbDRM+8/JLtVsNEz7z/JeYpafS/sPzUixlaL6uo/wyUMRmqk4j9of2Mw0+XuP2h/YzDT5e4/aH9jMNPl7j9of2Mw0+XuPyj5rjUUU+k/NSLGVovq6j+9+ja8fHvuP736Nrx8e+4/vfo2vHx77j+9+ja8fHvuP736Nrx8e+4/vfo2vHx77j+9+ja8fHvuPzUixlaL6uo/yXmKWn0v7D81IsZWi+rqP8l5ilp9L+w/rjGsKxWEvj+9otX11GTnP9QC68bF6+0/1ALrxsXr7T/UAuvGxevtP9QC68bF6+0/1ALrxsXr7T/UAuvGxevtP9QC68bF6+0/1ALrxsXr7T81IsZWi+rqP2AbRCmvs8o/AAAAAAAA4D81IsZWi+rqP72i1fXUZOc/OGatcNQr7T84Zq1w1CvtPzhmrXDUK+0/OGatcNQr7T84Zq1w1CvtPzhmrXDUK+0/OGatcNQr7T84Zq1w1CvtP72i1fXUZOc/hrpUFFY20T/JeYpafS/sP8l5ilp9L+w/yXmKWn0v7D/JeYpafS/sP8l5ilp9L+w/yXmKWn0v7D/JeYpafS/sPyj5rjUUU+k/vaLV9dRk5z/DJQxGaqTiP72i1fXUZOc/KPmuNRRT6T8AAAAAAADgPzUixlaL6uo/NSLGVovq6j81IsZWi+rqPzUixlaL6uo/NSLGVovq6j81IsZWi+rqPzUixlaL6uo/vaLV9dRk5z8BIk+K6iTlP72i1fXUZOc/ASJPiuok5T8AAAAAAADgPyj5rjUUU+k/KPmuNRRT6T8o+a41FFPpPyj5rjUUU+k/KPmuNRRT6T8o+a41FFPpP3q053Mrt9o/hrpUFFY20T8AAAAAAADgPwEiT4rqJOU/vaLV9dRk5z+9otX11GTnPwEiT4rqJOU/YBtEKa+zyj+GulQUVjbRP/+7YesqttU//7th6yq21T//u2HrKrbVP8MlDEZqpOI//7th6yq21T8AAAAAAADgPwEiT4rqJOU/ASJPiuok5T8BIk+K6iTlP2Tpp8jRobA/wyUMRmqk4j/DJQxGaqTiP8MlDEZqpOI/AAAAAAAA4D/DJQxGaqTiP8MlDEZqpOI/wyUMRmqk4j/DJQxGaqTiPwAAAAAAAOA/erTncyu32j96tOdzK7faP/+7YesqttU/rjGsKxWEvj8ud+ek0lXEPwAAAAAAAOA/AAAAAAAA4D8AAAAAAADgP3q053Mrt9o/hrpUFFY20T96tOdzK7faP2AbRCmvs8o/erTncyu32j8ud+ek0lXEPy5356TSVcQ/YBtEKa+zyj8ud+ek0lXEP2Tpp8jRobA//7th6yq21T+GulQUVjbRP/+7YesqttU//7th6yq21T//u2HrKrbVP4a6VBRWNtE/LnfnpNJVxD9GzpR6XKG2P0bOlHpcobY/YBtEKa+zyj+uMawrFYS+Py5356TSVcQ/YBtEKa+zyj8ud+ek0lXEPy5356TSVcQ/LnfnpNJVxD8ud+ek0lXEP2Tpp8jRobA/RVSQPDRIqD8AAAAAAAD4fw==",
           "dtype": "f8"
          },
          "showscale": true,
          "size": {
           "bdata": "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",
           "dtype": "f8"
          }
         },
         "mode": "markers+text",
         "name": "Player",
         "showlegend": false,
         "text": [
          "Julian Hall",
          "Dylan Teves",
          "Serge Ngoma",
          "Randall Leal",
          "Aziel Jackson",
          "Evander",
          "Caden Clark",
          "Cedric Teuchert",
          "Riqui Puig",
          "Marino Hinestroza",
          "Jacen Russell-Rowe",
          "Djordje Mihailovic",
          "Dániel Gazdag",
          "Ben Bender",
          "Gabriel Pirani",
          "Luciano Acosta",
          "Diego Rossi",
          "Cole Bassett",
          "Kwadwo Opoku",
          "Patrickson Delgado",
          "Thiago Almada",
          "Jesús Ferreira",
          "Ben Cremaschi",
          "Jesús Daniel Bueno",
          "Quinn Sullivan",
          "Marcel Hartel",
          "Jules-Anthony Vilsaint",
          "Stuart Armstrong",
          "Matías Rojas",
          "Emil Forsberg",
          "Hernán López Muñoz",
          "Cameron Harper",
          "Brian Gutiérrez",
          "Wikelman Carmona",
          "Martín Ojeda",
          "Nikola Petković",
          "Noel Buck",
          "Dominik Yankov",
          "Albert Rusnák",
          "Jack McGlynn",
          "McKinze Gaines",
          "Federico Redondo",
          "Alexandru Mățan",
          "Indiana Vassilev",
          "Andrés Perea",
          "Dennis Gjengaar",
          "Lawson Sunderland",
          "Aidan Morris",
          "Alejandro Bran",
          "Bryce Duke",
          "David Ruíz-Ochoa",
          "Diogo Gonçalves",
          "Christian Ramirez",
          "Theodore Ku-Dipietro",
          "Aleksei Miranchuk",
          "Hosei Kijima",
          "Dylan Chambost",
          "Gerardo Valenzuela",
          "Nelson Palacio",
          "Robin Lod",
          "Hany Mukhtar",
          "Sebastian Berhalter",
          "Sebastián Driussi",
          "Obed Vargas",
          "Ajani Fortune",
          "Nathan-Dylan Saliba",
          "Eryk Williamson",
          "Ralph Priso-Mbongue",
          "Eduard Löwen",
          "David Ayala",
          "Timmy Tillman",
          "Braian Ojeda",
          "Daniel Pereira",
          "Hassani Dotson",
          "Tomáš Ostrák",
          "Matthew Longstaff",
          "Mathieu Choiniere",
          "Frankie Amaya",
          "Pedro Vite",
          "Niko Tsakiris",
          "Amine Bassi",
          "Alhassan Yusuf",
          "Leon Flach",
          "Eduard Atuesta",
          "Peter Stroud",
          "Erik Thommy",
          "Bernard Kamungo",
          "Jack Skahan",
          "Cavan Sullivan",
          "Dru Yearwood",
          "Pavel Bucha",
          "Alonso Coello",
          "Yannick Bright",
          "Stiven Jimenez",
          "Ervin Torres",
          "Isaiah Jones",
          "Alessandro Biello",
          "Cole Mrowka",
          "Christopher Olney",
          "Taha Habroune",
          "César Araujo",
          "Chris Durkin",
          "Jared Stroud",
          "Cyprian Kachwele",
          "Nolan Norris",
          "Anthony Ramirez",
          "Brooklyn Raines",
          "Njabulo Blom",
          "Sean Zawadzki",
          "Mohammed Sofo",
          "Jackson Hopkins",
          "Ronald Donkor",
          "Wayne Frederick",
          "Jake Girdwood-Reich",
          "Erik Duenas",
          "Omar Valencia",
          "Ali Ahmed",
          "Joshua Atencio",
          "Federico Navarro",
          "Oliver Larraz",
          "Marco Reus",
          "Tsiki Ntsabeleng",
          "Omari Glasgow",
          "Shakur Mohammed",
          "Danny Leyva",
          "Moses Nyeman",
          "Rida Zouhir",
          "Markus Anderson",
          "Daniel Edelman",
          "Javier Casas",
          "James Sands",
          "Lorenzo Insigne",
          "Memo Rodriguez",
          "Edwin Cerrillo",
          "Joaquín Pereyra",
          "Jonathan Perez",
          "Carle-Fred Sainte",
          "Malik Pinto",
          "Matti Peltola",
          "Jeorgio Kocevski",
          "Patrick Yazbek",
          "Kosi Thompson",
          "Antino Lopez",
          "Liam Fraser",
          "Carles Gil",
          "Cassius Mailula",
          "Jamar Ricketts",
          "Tomas Pondeca",
          "Andres Jasson",
          "Tucker Lepley",
          "Herbert Endeley",
          "Alonso Ramírez",
          "Emeka Eneli",
          "Djibril Diani",
          "Derrick Etienne",
          "Connor Ronan",
          "Bartosz Slisz",
          "Rémi Walter",
          "Danley Jean-Jacques",
          "Michael Baldisimo",
          "Luca Petrasso",
          "Boris Enow",
          "Jeremy Rafanello",
          "Isaiah Parente",
          "Noel Caliskan",
          "Cristhian Paredes",
          "Keaton Parks",
          "Lewis O'Brien",
          "Derrick Jones",
          "Brandt Bronico",
          "Anthony Markanich",
          "Daniel Aguirre",
          "Paxton Pomykal",
          "Show",
          "Brandon Servania",
          "Samuel Shashoua",
          "Martín Rodríguez",
          "Dominique Badji",
          "Kellyn Acosta",
          "Jackson Yueill",
          "Pablo Ruíz",
          "Felipe Hernandez",
          "Tristan Muyumba",
          "Xherdan Shaqiri",
          "Sebastian Lletget",
          "Fabian Herbers",
          "Franco Fragapane",
          "Matt Crooks",
          "Deybi Flores",
          "Julian Gressel",
          "Marky Delgado",
          "Jasper Löffelsend",
          "Marvin Loría",
          "Mohanad Jeahze",
          "Maximiliano Moralez",
          "Andrés Cubas",
          "Obinna Nwobodo",
          "Artur",
          "Ian Harkes",
          "Jhojan Valencia",
          "Felipe Carballo",
          "Amar Sejdic",
          "Brian Anunga",
          "Cristian Roldan",
          "Alessandro Schöpf",
          "Samuel Piette",
          "Nemanja Radoja",
          "Nicolás Lodeiro",
          "Asier Illarramendi",
          "Emanuel Reynoso",
          "Russell Canouse",
          "Carlos Gruezo",
          "José Andrés Martínez",
          "Jonathan Osorio",
          "Wilder Cartagena",
          "Alexander Ring",
          "Mark-Anthony Kaye",
          "Mateusz Klich",
          "Aníbal Godoy",
          "Gastón Giménez",
          "Ashley Westwood",
          "Alejandro Bedoya",
          "Matt Polster",
          "Wil Trapp",
          "Jean Mota",
          "Junior Moreno",
          "Sean Davis",
          "Gastón Brugman",
          "Héctor Herrera",
          "Scott Arfield",
          "Sergio Busquets",
          "João Paulo Mior",
          "Júnior Urso",
          "Ilie Sánchez",
          "Victor Wanyama",
          "Darlington Nagbe",
          "Felipe",
          "Alfredo Morales",
          "Ján Greguš",
          "Dax McCarty",
          "Diego Chará",
          "Victor Enriquez"
         ],
         "textposition": "top center",
         "type": "scatter",
         "x": {
          "bdata": "RBfhBdi2FkBcucgFqScUQMp1ubDVaw1A4UrULY3B5L95tIIqJ38BQA==",
          "dtype": "f8"
         },
         "xaxis": "x4",
         "y": {
          "bdata": "tEboGiBQZT4346/PRYm0PiTMypD7Oj4/dsApkkyw1D9iCavGUa+iPw==",
          "dtype": "f8"
         },
         "yaxis": "y4"
        },
        {
         "line": {
          "color": "lightgrey"
         },
         "mode": "lines",
         "name": "Z-Curve",
         "showlegend": false,
         "type": "scatter",
         "x": {
          "bdata": "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",
          "dtype": "f8"
         },
         "xaxis": "x5",
         "y": {
          "bdata": "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",
          "dtype": "f8"
         },
         "yaxis": "y5"
        },
        {
         "marker": {
          "color": {
           "bdata": "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",
           "dtype": "f8"
          },
          "showscale": true,
          "size": {
           "bdata": "AAAAAAAA8D+rjbG/NBjnP6SBo7JRkeE/SS7tZcB45T8PIiyFJSvhP2Fu9u6vseI/O0rWEOSc3j8qYHOX1/viP+CVAUPPM9w/zsO7kHNK1z99gXsa9dnVPw/dEIhWcto/xpln5IyX3T+5OiT3mTDVP1zmG1JU8dM/r2SMGgWd4D9ncuu//CfYP/f6i3Ss5tM/UYnka+qd0z+ZYsu8h6/RPzg7Xx5HK9M/tLf/h3os1D++kfjQxjHQP3nYnYtju9M/JKI5Eb6Lzj82SB5TJq/bP74mWZqnOM0/gHRJrdQO4D9+uG/BQYnZP6WydkR5nuA/y/CZoMCOzz/+DG9FTPjMP707Gflf4ck/vOdZgpCeyT/HF/CRyCrSPzqfWPBEhMg/NecCf9PTxj8DD5Uri0zNP8tdEShN0tk/OmE5teb7xj+Tkkxu5EbQPymc3inW7cU/fZmgeLlszD8grZS9UzTGP9raI++OzMc/SwPOq8efwT+PEiBCWerEP/v7dJJtPsM/5UDyssEewz/Qj34dxAbDPxnlq+5xCb4/3st6lZ7lzT8B1TS8QEDbP7GVYVHie8E/k9x0p4Mv0z94Gf4NckW/P0OJSgVUQM0/3T9/PjB8uT+Ge+5D7HnAP0H6L18kDNc/Wjls4RqZ0j8hU+k6k5q+P178uPRd3c4/bC1wBMw3sz/Q4kxyW++4P0a3ysP9sq0/nc6cGaj0xj+nfnEgx9qwP24uTBVgeMo/byDzRmOzsD9aEfUtkSjCP9PfcnMCO7g/N+tWlQr5tz+XomK4x9vFP/eXCcyQ3bc/4b/l8UsWtj9NyskEhFy7P6z4nm12RLQ/tdC6sTRJqD9JjnCdjP+VP16e8NWcTMM/4uccXwgasj/4AL/WV5KqP0ErAa0EtMI/AUqrX5Qhoz9uN2BsurnPPxO/pm05cqg/A8sH0PyBvD8AAAAAAAAAAHiom4PALrA/1CmkNEkfvD93Irbz+Ey1P0S3sbKH76Y/AAAAAAAAAAAAAAAAAAAAAAAAAAAAAAAAAAAAAAAAAAAAAAAAAAAAAAAAAAAAAAAAAAAAAAAAAACQNTksSkekP2ib9ms616w/lVv+eN4zxT8AAAAAAAAAAAAAAAAAAAAAAAAAAAAAAAAAAAAAAAAAAC/g2hjgv7I/pXZN768mqj8AAAAAAAAAAAAAAAAAAAAAAAAAAAAAAAAAAAAAAAAAAAAAAAAAAAAAAAAAAAAAAAAAAAAAAAAAAMZQ31NIXKg/2jsOroA1nj9OxkaLtsenPzXUH2mV7J0/f4KylybC1j8Yomt6lJi2PwAAAAAAAAAAAAAAAAAAAAAAAAAAAAAAAAAAAAAAAAAAAAAAAAAAAAAAAAAAAAAAAAAAAAAAAAAAAAAAAAAAAAC+s+5S7jCjP12SSLFhoNM/TidA7Netxj9KwXLpZZefP7Dj3n4U1rM/AAAAAAAAAAAAAAAAAAAAAAAAAAAAAAAAAAAAAAAAAAAAAAAAAAAAAAAAAAAAAAAAAAAAAAAAAAAAAAAAAAAAAMrtx0OfyrE/FSR64s/80D8AAAAAAAAAAAAAAAAAAAAAAAAAAAAAAAAAAAAAAAAAAAAAAAAAAAAAAAAAAAAAAAAAAAAAAAAAAEPwv3vZYKI/yTliRQeIqz/XQ1HGQuq9Py0acxfwGqs/lnQeU6ttmz9s8YEXTT3DPwAAAAAAAAAAAAAAAAAAAAAAAAAAAAAAAAAAAAAAAAAAAAAAAAAAAAAAAAAAAAAAAAAAAAAAAAAAqlKK1Mnrpz/K0eOg/pSzP8FLDfRkmKQ/Hn6lgN7ssD8ZbZIJmGHAPwAAAAAAAAAAAAAAAAAAAAAAAAAAAAAAAAAAAAAAAAAAAAAAAAAAAAAAAAAAAAAAAMiPjOgNgcM/Tez/OEh/yz8kptTPgXG8P72MTl1O/6M/AAAAAAAAAAAAAAAAAAAAANHmjyqaiZ4/N7oBX2mjyz9EgJw7RAjIP7Um44oCCcQ/KuVxte6hwz/5Naj2rofDP9D8hdffeKc/7JkyvAkKwz+bo/1Wc8OzPwAAAAAAAAAAAAAAAAAAAAAAAAAAAAAAAPbR/Kywhs8/vLnFukK5kD/YBVeELUyKPykt3Ll4QoU/cSlwgjR6pD8AAAAAAAAAAAAAAAAAAAAAAAAAAAAAAAAAAAAAAAAAAALoif12RaE/gZAz3w5NqT+dzpwZqPSmP/H677ciHrM/RJmHBrFexT/61I+tgMPCPwAAAAAAAAAAAAAAAAAAAAAAAAAAAAAAAPt+kW7syJ8/y38fTM0atj/j1iPP/HaNP0EmxCaeG7k/AAAAAAAAAADs8roDXn+7P73IoXEYQbs/wIrn97ZIsz8kpeJeGaq4P3Qr+U6W2cA/a1IoWjuFiD8r8gQvIlulPwAAAAAAAAAAAAAAAAAAAAAAAAAAAAAAAIKBzN+VOps/4dvD9qhXrj/8qQufnTC1PztLQrHJnrM/1xD5Au5OmT8XXaJj2RKwP55vRGckvqY/AAAAAAAAAADosJ7c1YSLPwAAAAAAAAAAAAAAAAAAAAAAAAAAAAAAAAAAAAAAAAAAAAAAAAAAAAAAAAAAAAAAAA==",
           "dtype": "f8"
          }
         },
         "mode": "markers+text",
         "name": "Player",
         "showlegend": false,
         "text": [
          "Julian Hall",
          "Dylan Teves",
          "Serge Ngoma",
          "Randall Leal",
          "Aziel Jackson",
          "Evander",
          "Caden Clark",
          "Cedric Teuchert",
          "Riqui Puig",
          "Marino Hinestroza",
          "Jacen Russell-Rowe",
          "Djordje Mihailovic",
          "Dániel Gazdag",
          "Ben Bender",
          "Gabriel Pirani",
          "Luciano Acosta",
          "Diego Rossi",
          "Cole Bassett",
          "Kwadwo Opoku",
          "Patrickson Delgado",
          "Thiago Almada",
          "Jesús Ferreira",
          "Ben Cremaschi",
          "Jesús Daniel Bueno",
          "Quinn Sullivan",
          "Marcel Hartel",
          "Jules-Anthony Vilsaint",
          "Stuart Armstrong",
          "Matías Rojas",
          "Emil Forsberg",
          "Hernán López Muñoz",
          "Cameron Harper",
          "Brian Gutiérrez",
          "Wikelman Carmona",
          "Martín Ojeda",
          "Nikola Petković",
          "Noel Buck",
          "Dominik Yankov",
          "Albert Rusnák",
          "Jack McGlynn",
          "McKinze Gaines",
          "Federico Redondo",
          "Alexandru Mățan",
          "Indiana Vassilev",
          "Andrés Perea",
          "Dennis Gjengaar",
          "Lawson Sunderland",
          "Aidan Morris",
          "Alejandro Bran",
          "Bryce Duke",
          "David Ruíz-Ochoa",
          "Diogo Gonçalves",
          "Christian Ramirez",
          "Theodore Ku-Dipietro",
          "Aleksei Miranchuk",
          "Hosei Kijima",
          "Dylan Chambost",
          "Gerardo Valenzuela",
          "Nelson Palacio",
          "Robin Lod",
          "Hany Mukhtar",
          "Sebastian Berhalter",
          "Sebastián Driussi",
          "Obed Vargas",
          "Ajani Fortune",
          "Nathan-Dylan Saliba",
          "Eryk Williamson",
          "Ralph Priso-Mbongue",
          "Eduard Löwen",
          "David Ayala",
          "Timmy Tillman",
          "Braian Ojeda",
          "Daniel Pereira",
          "Hassani Dotson",
          "Tomáš Ostrák",
          "Matthew Longstaff",
          "Mathieu Choiniere",
          "Frankie Amaya",
          "Pedro Vite",
          "Niko Tsakiris",
          "Amine Bassi",
          "Alhassan Yusuf",
          "Leon Flach",
          "Eduard Atuesta",
          "Peter Stroud",
          "Erik Thommy",
          "Bernard Kamungo",
          "Jack Skahan",
          "Cavan Sullivan",
          "Dru Yearwood",
          "Pavel Bucha",
          "Alonso Coello",
          "Yannick Bright",
          "Stiven Jimenez",
          "Ervin Torres",
          "Isaiah Jones",
          "Alessandro Biello",
          "Cole Mrowka",
          "Christopher Olney",
          "Taha Habroune",
          "César Araujo",
          "Chris Durkin",
          "Jared Stroud",
          "Cyprian Kachwele",
          "Nolan Norris",
          "Anthony Ramirez",
          "Brooklyn Raines",
          "Njabulo Blom",
          "Sean Zawadzki",
          "Mohammed Sofo",
          "Jackson Hopkins",
          "Ronald Donkor",
          "Wayne Frederick",
          "Jake Girdwood-Reich",
          "Erik Duenas",
          "Omar Valencia",
          "Ali Ahmed",
          "Joshua Atencio",
          "Federico Navarro",
          "Oliver Larraz",
          "Marco Reus",
          "Tsiki Ntsabeleng",
          "Omari Glasgow",
          "Shakur Mohammed",
          "Danny Leyva",
          "Moses Nyeman",
          "Rida Zouhir",
          "Markus Anderson",
          "Daniel Edelman",
          "Javier Casas",
          "James Sands",
          "Lorenzo Insigne",
          "Memo Rodriguez",
          "Edwin Cerrillo",
          "Joaquín Pereyra",
          "Jonathan Perez",
          "Carle-Fred Sainte",
          "Malik Pinto",
          "Matti Peltola",
          "Jeorgio Kocevski",
          "Patrick Yazbek",
          "Kosi Thompson",
          "Antino Lopez",
          "Liam Fraser",
          "Carles Gil",
          "Cassius Mailula",
          "Jamar Ricketts",
          "Tomas Pondeca",
          "Andres Jasson",
          "Tucker Lepley",
          "Herbert Endeley",
          "Alonso Ramírez",
          "Emeka Eneli",
          "Djibril Diani",
          "Derrick Etienne",
          "Connor Ronan",
          "Bartosz Slisz",
          "Rémi Walter",
          "Danley Jean-Jacques",
          "Michael Baldisimo",
          "Luca Petrasso",
          "Boris Enow",
          "Jeremy Rafanello",
          "Isaiah Parente",
          "Noel Caliskan",
          "Cristhian Paredes",
          "Keaton Parks",
          "Lewis O'Brien",
          "Derrick Jones",
          "Brandt Bronico",
          "Anthony Markanich",
          "Daniel Aguirre",
          "Paxton Pomykal",
          "Show",
          "Brandon Servania",
          "Samuel Shashoua",
          "Martín Rodríguez",
          "Dominique Badji",
          "Kellyn Acosta",
          "Jackson Yueill",
          "Pablo Ruíz",
          "Felipe Hernandez",
          "Tristan Muyumba",
          "Xherdan Shaqiri",
          "Sebastian Lletget",
          "Fabian Herbers",
          "Franco Fragapane",
          "Matt Crooks",
          "Deybi Flores",
          "Julian Gressel",
          "Marky Delgado",
          "Jasper Löffelsend",
          "Marvin Loría",
          "Mohanad Jeahze",
          "Maximiliano Moralez",
          "Andrés Cubas",
          "Obinna Nwobodo",
          "Artur",
          "Ian Harkes",
          "Jhojan Valencia",
          "Felipe Carballo",
          "Amar Sejdic",
          "Brian Anunga",
          "Cristian Roldan",
          "Alessandro Schöpf",
          "Samuel Piette",
          "Nemanja Radoja",
          "Nicolás Lodeiro",
          "Asier Illarramendi",
          "Emanuel Reynoso",
          "Russell Canouse",
          "Carlos Gruezo",
          "José Andrés Martínez",
          "Jonathan Osorio",
          "Wilder Cartagena",
          "Alexander Ring",
          "Mark-Anthony Kaye",
          "Mateusz Klich",
          "Aníbal Godoy",
          "Gastón Giménez",
          "Ashley Westwood",
          "Alejandro Bedoya",
          "Matt Polster",
          "Wil Trapp",
          "Jean Mota",
          "Junior Moreno",
          "Sean Davis",
          "Gastón Brugman",
          "Héctor Herrera",
          "Scott Arfield",
          "Sergio Busquets",
          "João Paulo Mior",
          "Júnior Urso",
          "Ilie Sánchez",
          "Victor Wanyama",
          "Darlington Nagbe",
          "Felipe",
          "Alfredo Morales",
          "Ján Greguš",
          "Dax McCarty",
          "Diego Chará",
          "Victor Enriquez"
         ],
         "textposition": "top center",
         "type": "scatter",
         "x": {
          "bdata": "QM9Tysz3A0CoNCV1dYnjv6g0JXV1ieO/cb90XQTuI0DYDKV7amQBQA==",
          "dtype": "f8"
         },
         "xaxis": "x5",
         "y": {
          "bdata": "7QfehSAhkj9PKFIb3jDVP08oUhveMNU/mBpLeruCYDsMVr8ncjmjPw==",
          "dtype": "f8"
         },
         "yaxis": "y5"
        },
        {
         "line": {
          "color": "lightgrey"
         },
         "mode": "lines",
         "name": "Z-Curve",
         "showlegend": false,
         "type": "scatter",
         "x": {
          "bdata": "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",
          "dtype": "f8"
         },
         "xaxis": "x6",
         "y": {
          "bdata": "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",
          "dtype": "f8"
         },
         "yaxis": "y6"
        },
        {
         "marker": {
          "color": {
           "bdata": "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",
           "dtype": "f8"
          },
          "showscale": true,
          "size": {
           "bdata": "AAAAAAAA8D+rjbG/NBjnP6SBo7JRkeE/SS7tZcB45T8PIiyFJSvhP2Fu9u6vseI/O0rWEOSc3j8qYHOX1/viP+CVAUPPM9w/zsO7kHNK1z99gXsa9dnVPw/dEIhWcto/xpln5IyX3T+5OiT3mTDVP1zmG1JU8dM/r2SMGgWd4D9ncuu//CfYP/f6i3Ss5tM/UYnka+qd0z+ZYsu8h6/RPzg7Xx5HK9M/tLf/h3os1D++kfjQxjHQP3nYnYtju9M/JKI5Eb6Lzj82SB5TJq/bP74mWZqnOM0/gHRJrdQO4D9+uG/BQYnZP6WydkR5nuA/y/CZoMCOzz/+DG9FTPjMP707Gflf4ck/vOdZgpCeyT/HF/CRyCrSPzqfWPBEhMg/NecCf9PTxj8DD5Uri0zNP8tdEShN0tk/OmE5teb7xj+Tkkxu5EbQPymc3inW7cU/fZmgeLlszD8grZS9UzTGP9raI++OzMc/SwPOq8efwT+PEiBCWerEP/v7dJJtPsM/5UDyssEewz/Qj34dxAbDPxnlq+5xCb4/3st6lZ7lzT8B1TS8QEDbP7GVYVHie8E/k9x0p4Mv0z94Gf4NckW/P0OJSgVUQM0/3T9/PjB8uT+Ge+5D7HnAP0H6L18kDNc/Wjls4RqZ0j8hU+k6k5q+P178uPRd3c4/bC1wBMw3sz/Q4kxyW++4P0a3ysP9sq0/nc6cGaj0xj+nfnEgx9qwP24uTBVgeMo/byDzRmOzsD9aEfUtkSjCP9PfcnMCO7g/N+tWlQr5tz+XomK4x9vFP/eXCcyQ3bc/4b/l8UsWtj9NyskEhFy7P6z4nm12RLQ/tdC6sTRJqD9JjnCdjP+VP16e8NWcTMM/4uccXwgasj/4AL/WV5KqP0ErAa0EtMI/AUqrX5Qhoz9uN2BsurnPPxO/pm05cqg/A8sH0PyBvD8AAAAAAAAAAHiom4PALrA/1CmkNEkfvD93Irbz+Ey1P0S3sbKH76Y/AAAAAAAAAAAAAAAAAAAAAAAAAAAAAAAAAAAAAAAAAAAAAAAAAAAAAAAAAAAAAAAAAAAAAAAAAACQNTksSkekP2ib9ms616w/lVv+eN4zxT8AAAAAAAAAAAAAAAAAAAAAAAAAAAAAAAAAAAAAAAAAAC/g2hjgv7I/pXZN768mqj8AAAAAAAAAAAAAAAAAAAAAAAAAAAAAAAAAAAAAAAAAAAAAAAAAAAAAAAAAAAAAAAAAAAAAAAAAAMZQ31NIXKg/2jsOroA1nj9OxkaLtsenPzXUH2mV7J0/f4KylybC1j8Yomt6lJi2PwAAAAAAAAAAAAAAAAAAAAAAAAAAAAAAAAAAAAAAAAAAAAAAAAAAAAAAAAAAAAAAAAAAAAAAAAAAAAAAAAAAAAC+s+5S7jCjP12SSLFhoNM/TidA7Netxj9KwXLpZZefP7Dj3n4U1rM/AAAAAAAAAAAAAAAAAAAAAAAAAAAAAAAAAAAAAAAAAAAAAAAAAAAAAAAAAAAAAAAAAAAAAAAAAAAAAAAAAAAAAMrtx0OfyrE/FSR64s/80D8AAAAAAAAAAAAAAAAAAAAAAAAAAAAAAAAAAAAAAAAAAAAAAAAAAAAAAAAAAAAAAAAAAAAAAAAAAEPwv3vZYKI/yTliRQeIqz/XQ1HGQuq9Py0acxfwGqs/lnQeU6ttmz9s8YEXTT3DPwAAAAAAAAAAAAAAAAAAAAAAAAAAAAAAAAAAAAAAAAAAAAAAAAAAAAAAAAAAAAAAAAAAAAAAAAAAqlKK1Mnrpz/K0eOg/pSzP8FLDfRkmKQ/Hn6lgN7ssD8ZbZIJmGHAPwAAAAAAAAAAAAAAAAAAAAAAAAAAAAAAAAAAAAAAAAAAAAAAAAAAAAAAAAAAAAAAAMiPjOgNgcM/Tez/OEh/yz8kptTPgXG8P72MTl1O/6M/AAAAAAAAAAAAAAAAAAAAANHmjyqaiZ4/N7oBX2mjyz9EgJw7RAjIP7Um44oCCcQ/KuVxte6hwz/5Naj2rofDP9D8hdffeKc/7JkyvAkKwz+bo/1Wc8OzPwAAAAAAAAAAAAAAAAAAAAAAAAAAAAAAAPbR/Kywhs8/vLnFukK5kD/YBVeELUyKPykt3Ll4QoU/cSlwgjR6pD8AAAAAAAAAAAAAAAAAAAAAAAAAAAAAAAAAAAAAAAAAAALoif12RaE/gZAz3w5NqT+dzpwZqPSmP/H677ciHrM/RJmHBrFexT/61I+tgMPCPwAAAAAAAAAAAAAAAAAAAAAAAAAAAAAAAPt+kW7syJ8/y38fTM0atj/j1iPP/HaNP0EmxCaeG7k/AAAAAAAAAADs8roDXn+7P73IoXEYQbs/wIrn97ZIsz8kpeJeGaq4P3Qr+U6W2cA/a1IoWjuFiD8r8gQvIlulPwAAAAAAAAAAAAAAAAAAAAAAAAAAAAAAAIKBzN+VOps/4dvD9qhXrj/8qQufnTC1PztLQrHJnrM/1xD5Au5OmT8XXaJj2RKwP55vRGckvqY/AAAAAAAAAADosJ7c1YSLPwAAAAAAAAAAAAAAAAAAAAAAAAAAAAAAAAAAAAAAAAAAAAAAAAAAAAAAAAAAAAAAAA==",
           "dtype": "f8"
          }
         },
         "mode": "markers+text",
         "name": "Player",
         "showlegend": false,
         "text": [
          "Julian Hall",
          "Dylan Teves",
          "Serge Ngoma",
          "Randall Leal",
          "Aziel Jackson",
          "Evander",
          "Caden Clark",
          "Cedric Teuchert",
          "Riqui Puig",
          "Marino Hinestroza",
          "Jacen Russell-Rowe",
          "Djordje Mihailovic",
          "Dániel Gazdag",
          "Ben Bender",
          "Gabriel Pirani",
          "Luciano Acosta",
          "Diego Rossi",
          "Cole Bassett",
          "Kwadwo Opoku",
          "Patrickson Delgado",
          "Thiago Almada",
          "Jesús Ferreira",
          "Ben Cremaschi",
          "Jesús Daniel Bueno",
          "Quinn Sullivan",
          "Marcel Hartel",
          "Jules-Anthony Vilsaint",
          "Stuart Armstrong",
          "Matías Rojas",
          "Emil Forsberg",
          "Hernán López Muñoz",
          "Cameron Harper",
          "Brian Gutiérrez",
          "Wikelman Carmona",
          "Martín Ojeda",
          "Nikola Petković",
          "Noel Buck",
          "Dominik Yankov",
          "Albert Rusnák",
          "Jack McGlynn",
          "McKinze Gaines",
          "Federico Redondo",
          "Alexandru Mățan",
          "Indiana Vassilev",
          "Andrés Perea",
          "Dennis Gjengaar",
          "Lawson Sunderland",
          "Aidan Morris",
          "Alejandro Bran",
          "Bryce Duke",
          "David Ruíz-Ochoa",
          "Diogo Gonçalves",
          "Christian Ramirez",
          "Theodore Ku-Dipietro",
          "Aleksei Miranchuk",
          "Hosei Kijima",
          "Dylan Chambost",
          "Gerardo Valenzuela",
          "Nelson Palacio",
          "Robin Lod",
          "Hany Mukhtar",
          "Sebastian Berhalter",
          "Sebastián Driussi",
          "Obed Vargas",
          "Ajani Fortune",
          "Nathan-Dylan Saliba",
          "Eryk Williamson",
          "Ralph Priso-Mbongue",
          "Eduard Löwen",
          "David Ayala",
          "Timmy Tillman",
          "Braian Ojeda",
          "Daniel Pereira",
          "Hassani Dotson",
          "Tomáš Ostrák",
          "Matthew Longstaff",
          "Mathieu Choiniere",
          "Frankie Amaya",
          "Pedro Vite",
          "Niko Tsakiris",
          "Amine Bassi",
          "Alhassan Yusuf",
          "Leon Flach",
          "Eduard Atuesta",
          "Peter Stroud",
          "Erik Thommy",
          "Bernard Kamungo",
          "Jack Skahan",
          "Cavan Sullivan",
          "Dru Yearwood",
          "Pavel Bucha",
          "Alonso Coello",
          "Yannick Bright",
          "Stiven Jimenez",
          "Ervin Torres",
          "Isaiah Jones",
          "Alessandro Biello",
          "Cole Mrowka",
          "Christopher Olney",
          "Taha Habroune",
          "César Araujo",
          "Chris Durkin",
          "Jared Stroud",
          "Cyprian Kachwele",
          "Nolan Norris",
          "Anthony Ramirez",
          "Brooklyn Raines",
          "Njabulo Blom",
          "Sean Zawadzki",
          "Mohammed Sofo",
          "Jackson Hopkins",
          "Ronald Donkor",
          "Wayne Frederick",
          "Jake Girdwood-Reich",
          "Erik Duenas",
          "Omar Valencia",
          "Ali Ahmed",
          "Joshua Atencio",
          "Federico Navarro",
          "Oliver Larraz",
          "Marco Reus",
          "Tsiki Ntsabeleng",
          "Omari Glasgow",
          "Shakur Mohammed",
          "Danny Leyva",
          "Moses Nyeman",
          "Rida Zouhir",
          "Markus Anderson",
          "Daniel Edelman",
          "Javier Casas",
          "James Sands",
          "Lorenzo Insigne",
          "Memo Rodriguez",
          "Edwin Cerrillo",
          "Joaquín Pereyra",
          "Jonathan Perez",
          "Carle-Fred Sainte",
          "Malik Pinto",
          "Matti Peltola",
          "Jeorgio Kocevski",
          "Patrick Yazbek",
          "Kosi Thompson",
          "Antino Lopez",
          "Liam Fraser",
          "Carles Gil",
          "Cassius Mailula",
          "Jamar Ricketts",
          "Tomas Pondeca",
          "Andres Jasson",
          "Tucker Lepley",
          "Herbert Endeley",
          "Alonso Ramírez",
          "Emeka Eneli",
          "Djibril Diani",
          "Derrick Etienne",
          "Connor Ronan",
          "Bartosz Slisz",
          "Rémi Walter",
          "Danley Jean-Jacques",
          "Michael Baldisimo",
          "Luca Petrasso",
          "Boris Enow",
          "Jeremy Rafanello",
          "Isaiah Parente",
          "Noel Caliskan",
          "Cristhian Paredes",
          "Keaton Parks",
          "Lewis O'Brien",
          "Derrick Jones",
          "Brandt Bronico",
          "Anthony Markanich",
          "Daniel Aguirre",
          "Paxton Pomykal",
          "Show",
          "Brandon Servania",
          "Samuel Shashoua",
          "Martín Rodríguez",
          "Dominique Badji",
          "Kellyn Acosta",
          "Jackson Yueill",
          "Pablo Ruíz",
          "Felipe Hernandez",
          "Tristan Muyumba",
          "Xherdan Shaqiri",
          "Sebastian Lletget",
          "Fabian Herbers",
          "Franco Fragapane",
          "Matt Crooks",
          "Deybi Flores",
          "Julian Gressel",
          "Marky Delgado",
          "Jasper Löffelsend",
          "Marvin Loría",
          "Mohanad Jeahze",
          "Maximiliano Moralez",
          "Andrés Cubas",
          "Obinna Nwobodo",
          "Artur",
          "Ian Harkes",
          "Jhojan Valencia",
          "Felipe Carballo",
          "Amar Sejdic",
          "Brian Anunga",
          "Cristian Roldan",
          "Alessandro Schöpf",
          "Samuel Piette",
          "Nemanja Radoja",
          "Nicolás Lodeiro",
          "Asier Illarramendi",
          "Emanuel Reynoso",
          "Russell Canouse",
          "Carlos Gruezo",
          "José Andrés Martínez",
          "Jonathan Osorio",
          "Wilder Cartagena",
          "Alexander Ring",
          "Mark-Anthony Kaye",
          "Mateusz Klich",
          "Aníbal Godoy",
          "Gastón Giménez",
          "Ashley Westwood",
          "Alejandro Bedoya",
          "Matt Polster",
          "Wil Trapp",
          "Jean Mota",
          "Junior Moreno",
          "Sean Davis",
          "Gastón Brugman",
          "Héctor Herrera",
          "Scott Arfield",
          "Sergio Busquets",
          "João Paulo Mior",
          "Júnior Urso",
          "Ilie Sánchez",
          "Victor Wanyama",
          "Darlington Nagbe",
          "Felipe",
          "Alfredo Morales",
          "Ján Greguš",
          "Dax McCarty",
          "Diego Chará",
          "Victor Enriquez"
         ],
         "textposition": "top center",
         "type": "scatter",
         "x": {
          "bdata": "25FcZ52tyb/bkVxnna3Jv9uRXGedrcm/25FcZ52tyb/bkVxnna3Jvw==",
          "dtype": "f8"
         },
         "xaxis": "x6",
         "y": {
          "bdata": "zoV7Rw8G2T/OhXtHDwbZP86Fe0cPBtk/zoV7Rw8G2T/OhXtHDwbZPw==",
          "dtype": "f8"
         },
         "yaxis": "y6"
        },
        {
         "line": {
          "color": "lightgrey"
         },
         "mode": "lines",
         "name": "Z-Curve",
         "showlegend": false,
         "type": "scatter",
         "x": {
          "bdata": "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",
          "dtype": "f8"
         },
         "xaxis": "x7",
         "y": {
          "bdata": "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",
          "dtype": "f8"
         },
         "yaxis": "y7"
        },
        {
         "marker": {
          "color": {
           "bdata": "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",
           "dtype": "f8"
          },
          "showscale": true,
          "size": {
           "bdata": "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",
           "dtype": "f8"
          }
         },
         "mode": "markers+text",
         "name": "Player",
         "showlegend": false,
         "text": [
          "Lawrence Ennali",
          "Tomas Ángel",
          "Talles Magno",
          "David Martínez",
          "Lionel Messi",
          "Cucho",
          "Karol Świderski",
          "Tani Oluwaseyi",
          "Alonso Martínez",
          "Carlos Gómez",
          "Kelvin Yeboah",
          "Gabriel Chaves",
          "Gabe Segal",
          "Sebastián Ferreira",
          "Dejan Joveljić",
          "Ramiro Enrique",
          "Nathan Ordaz",
          "Leonardo Afonso",
          "Mateusz Bogusz",
          "Kimani Stewart-Baynes",
          "Diego Luna",
          "Luis Suárez",
          "Stephen Afrifa",
          "Duncan McGuire",
          "Bongokuhle Hlongwane",
          "Leonardo Campana",
          "Logan Farrington",
          "Luca Langoni",
          "Sunusi Ibrahim",
          "Jack Lynn",
          "Petar Musa",
          "Patrick Agyemang",
          "William Agada",
          "Cristian Arango",
          "Simon Becher",
          "Edwin Mosquera",
          "Julián Fernández",
          "Denis Bouanga",
          "Santiago Moreno",
          "Joseph Paintsil",
          "Facundo Torres",
          "Jonathan Lewis",
          "Anderson Julio",
          "Brad Smith",
          "Tai Baribo",
          "CJ Fodrey",
          "Elias Manoel",
          "Santiago Rodríguez",
          "Alan Velasco",
          "Ryan Gauld",
          "Pep Biel",
          "Kevin Kelsy",
          "Rafael Navarro",
          "Josef Martínez",
          "Antony",
          "Alenis Vargas",
          "Julián Carranza",
          "Dante Vanzeir",
          "Diego Gómez",
          "Dominik Marczuk",
          "Liel Abada",
          "Kristian Fletcher",
          "Lewis Morgan",
          "Ezequiel Ponce",
          "Nathan Fogaça",
          "Darren Yapi",
          "Malachi Jones",
          "Kevin Cabral",
          "Sam Surridge",
          "Iuri Tavares",
          "Fidel Barajas",
          "Cristian Olivera",
          "Georgios Koutsias",
          "Christian Benteke",
          "Deandre Kerr",
          "Dylan Borrero",
          "Brian White",
          "Giorgos Giakoumakis",
          "Miguel Berry",
          "Jacob Murrell",
          "Célio Pompeu",
          "Paul Rothrock",
          "Daniel Armando Ríos",
          "Hannes Wolf",
          "Léo Chú",
          "Agustin Ojeda",
          "Jonathan Rodríguez",
          "Aliyu Ibrahim",
          "Samuel Adeniran",
          "Felipe Mora",
          "Calvin Harris",
          "Osman Bukari",
          "Matías Cóccaro",
          "Marinos Tzionis",
          "Jeong Sangbin",
          "Latif Blessing",
          "Mikael Uhre",
          "Kerwin Vargas",
          "Iván Angulo",
          "Giacomo Vrioni",
          "Pedro De la Vega",
          "Georgi Minoungou",
          "Owen Wolff",
          "John Klein",
          "Esmir Bajraktarevic",
          "Jacob Shaffelburg",
          "Aaron Boupendza",
          "Maren Haile-Selassie",
          "Hugo Cuypers",
          "Monsef Bakrar",
          "Tyler Wolff",
          "Nökkvi Þórisson",
          "Cristian Espinoza",
          "Fafà Picault",
          "Ousseni Bouda",
          "Christopher Donovan",
          "Maikel Chang",
          "Prince Osei Owusu",
          "Omir Fernandez",
          "Adalberto Carrasquilla",
          "Klauss",
          "Jordan Morris",
          "Tomás Chancalay",
          "Corey Baird",
          "Bobby Wood",
          "Jeremy Ebobisse",
          "Benjamin Kikanovic",
          "Rasmus Alm",
          "Sebastian Kowalczyk",
          "Nimfasha Berchimas",
          "Caden Glover",
          "Zavier Gozo",
          "Emmanuel Boateng",
          "Mykhi Joyner",
          "Rubén Ramos",
          "Kage Romanshyn",
          "Jovan Mijatović",
          "Malcolm Fry",
          "Luke Brennan",
          "Tarik Scott",
          "Mason Toye",
          "Saba Lobzhanidze",
          "Robert Taylor",
          "Cory Burke",
          "Dániel Sallói",
          "Enzo Copetti",
          "Idan Markovich",
          "Jack Panayotou",
          "Jay Herdman",
          "Jáder Obrian",
          "Preston Judd",
          "Daniel Musovski",
          "Patrick Weah",
          "Joseph Skinner",
          "Tega Ikoba",
          "Jeremy Garay",
          "Loïc Mesanvi",
          "Jamal Thiaré",
          "Kei Kamara",
          "Luis Muriel",
          "Jonathan Perez",
          "Brandon Cambridge",
          "Matthew Bell",
          "Roald Mitchell",
          "Piero Elias",
          "Brendan McSorley",
          "Sergio Santos Gomes",
          "Yuya Kubo",
          "Xande Silva",
          "Lachlan Brook",
          "Nick Scardina",
          "Charles Sharp",
          "Luis Müller",
          "Forster Ajago",
          "Bryant Farkarlun",
          "Marcos Dias",
          "Yutaro Tsukada",
          "Aziel Jackson",
          "Shanyder Borgelin",
          "Nacho Gil",
          "Nicholas Gioacchini",
          "Will Richmond",
          "Deiber Caicedo",
          "Jose Casas de Abadal",
          "Lamine Diack",
          "Nicolas Firmino",
          "Rory O'Driscoll",
          "Alan Pulido",
          "Diego Fagúndez",
          "Raúl Ruidíaz",
          "Tyler Boyd",
          "Tom Barlow",
          "Jordan Adebayo-Smith",
          "Levonte Johnson",
          "Ayo Akinola",
          "Alex Muyl",
          "Chris Mueller",
          "Amahl Pellegrino",
          "McKinze Gaines",
          "Samuel Adeniran",
          "Mason Toye",
          "Gyasi Zardes",
          "Eugene Ansah",
          "Benji Michel",
          "Teal Bunbury",
          "Diego Rubio",
          "Teemu Pukki",
          "Johnny Russell",
          "Dairon Asprilla",
          "Damir Kreilach",
          "Derrick Etienne",
          "Brecht Dejaegere",
          "Emiliano Rigoni",
          "Ethan Finlay",
          "Olivier Giroud",
          "Thomas McNamara",
          "Jamie Paterson",
          "Tyger Smalls"
         ],
         "textposition": "top center",
         "type": "scatter",
         "x": {
          "bdata": "BUkCSqbyFECgkL124fgTQH5OcdEX/gtAq7kAX5EM+z+DqXbv3eIIQA==",
          "dtype": "f8"
         },
         "xaxis": "x7",
         "y": {
          "bdata": "i7WXRXyqnT71nsoiINO5PlUiOIB8sEw/GEn+zPF2uD/Z8FKkkuFpPw==",
          "dtype": "f8"
         },
         "yaxis": "y7"
        },
        {
         "line": {
          "color": "lightgrey"
         },
         "mode": "lines",
         "name": "Z-Curve",
         "showlegend": false,
         "type": "scatter",
         "x": {
          "bdata": "AAAAAAAAEMBv/bv179YPwN76d+vfrQ/ATfgz4c+ED8C89e/Wv1sPwCvzq8yvMg/AmvBnwp8JD8AJ7iO4j+AOwHjr361/tw7A5+ibo2+ODsBW5leZX2UOwMXjE49PPA7ANOHPhD8TDsCj3ot6L+oNwBLcR3AfwQ3AgdkDZg+YDcDw1r9b/24NwF/Ue1HvRQ3AztE3R98cDcA9z/M8z/MMwKzMrzK/ygzAG8prKK+hDMCKxycen3gMwPnE4xOPTwzAaMKfCX8mDMDXv1v/bv0LwEa9F/Ve1AvAtbrT6k6rC8AkuI/gPoILwJO1S9YuWQvAArMHzB4wC8BxsMPBDgcLwOCtf7f+3QrAT6s7re60CsC+qPei3osKwC2ms5jOYgrAnKNvjr45CsALoSuErhAKwHqe53me5wnA6Zujb46+CcBYmV9lfpUJwMeWG1tubAnANpTXUF5DCcClkZNGThoJwBSPTzw+8QjAg4wLMi7ICMDyiccnHp8IwGGHgx0OdgjA0IQ/E/5MCMA/gvsI7iMIwK5/t/7d+gfAHX1z9M3RB8CMei/qvagHwPt369+tfwfAanWn1Z1WB8DZcmPLjS0HwEhwH8F9BAfAt23btm3bBsAma5esXbIGwJVoU6JNiQbABGYPmD1gBsBzY8uNLTcGwOJgh4MdDgbAUV5DeQ3lBcDAW/9u/bsFwC9Zu2TtkgXAnlZ3Wt1pBcANVDNQzUAFwHxR70W9FwXA606rO63uBMBaTGcxncUEwMlJIyeNnATAOEffHH1zBMCnRJsSbUoEwBZCVwhdIQTAhT8T/kz4A8D0PM/zPM8DwGM6i+kspgPA0jdH3xx9A8BBNQPVDFQDwLAyv8r8KgPAHzB7wOwBA8COLTe23NgCwP0q86vMrwLAbCivobyGAsDbJWuXrF0CwEojJ42cNALAuSDjgowLAsAoHp94fOIBwJcbW25suQHABhkXZFyQAcB1FtNZTGcBwOQTj088PgHAUxFLRSwVAcDCDgc7HOwAwDEMwzAMwwDAoAl/JvyZAMAPBzsc7HAAwH4E9xHcRwDA7QGzB8weAMC4/t36d+v/v5b5VeZXmf+/dPTN0TdH/79S70W9F/X+vzDqvaj3ov6/DuU1lNdQ/r/s361/t/79v8raJWuXrP2/qNWdVnda/b+G0BVCVwj9v2TLjS03tvy/QsYFGRdk/L8gwX0E9xH8v/679e/Wv/u/3LZt27Zt+7+6seXGlhv7v5isXbJ2yfq/dqfVnVZ3+r9Uok2JNiX6vzKdxXQW0/m/EJg9YPaA+b/ukrVL1i75v8yNLTe23Pi/qoilIpaK+L+Igx0Odjj4v2Z+lflV5ve/RHkN5TWU978idIXQFUL3vwBv/bv17/a/3ml1p9Wd9r+8ZO2StUv2v5pfZX6V+fW/eFrdaXWn9b9WVVVVVVX1vzRQzUA1A/W/EktFLBWx9L/wRb0X9V70v85ANQPVDPS/rDut7rS687+KNiXalGjzv2gxncV0FvO/RiwVsVTE8r8kJ42cNHLyvwIiBYgUIPK/4Bx9c/TN8b++F/Ve1Hvxv5wSbUq0KfG/eg3lNZTX8L9YCF0hdIXwvzYD1QxUM/C/KPyZ8GfC77/k8YnHJx7vv6DneZ7nee6/XN1pdafV7b8Y01lMZzHtv9TISSMnjey/kL45+ubo679MtCnRpkTrvwiqGahmoOq/xJ8Jfyb86b+AlflV5lfpvzyL6Syms+i/+IDZA2YP6L+0dsnaJWvnv3BsubHlxua/LGKpiKUi5r/oV5lfZX7lv6RNiTYl2uS/YEN5DeU15L8cOWnkpJHjv9guWbtk7eK/lCRJkiRJ4r9QGjlp5KThvwwQKUCkAOG/yAUZF2Rc4L8I9xHcR3Dfv4Di8YnHJ96/+M3RN0ff3L9wubHlxpbbv+ikkZNGTtq/YJBxQcYF2b/Ye1HvRb3Xv1BnMZ3FdNa/yFIRS0Us1b9APvH4xOPTv7gp0aZEm9K/MBWxVMRS0b+oAJECRArQv0DY4WCHg82/MK+hvIbyyr8ghmEYhmHIvxBdIXSF0MW/ADThz4Q/w7/wCqErhK7Av8DDwQ4HO7y/oHFBxgUZt7+AH8F9BPexv8CagWoGqqm/AO0BswfMnr8ASQEiBYiEvwBIASIFiIQ/AOwBswfMnj+AmoFqBqqpP4AfwX0E97E/gHFBxgUZtz+Aw8EOBzu8P+AKoSuErsA/ADThz4Q/wz8AXSF0hdDFPwCGYRiGYcg/IK+hvIbyyj9A2OFgh4PNP6AAkQJECtA/IBWxVMRS0T+wKdGmRJvSP0A+8fjE49M/wFIRS0Us1T9AZzGdxXTWP9B7Ue9Fvdc/YJBxQcYF2T/gpJGTRk7aP2C5seXGlts/8M3RN0ff3D+A4vGJxyfePwD3EdxHcN8/wAUZF2Rc4D8IEClApADhP1AaOWnkpOE/kCRJkiRJ4j/QLlm7ZO3iPxg5aeSkkeM/YEN5DeU15D+gTYk2JdrkP+BXmV9lfuU/KGKpiKUi5j9wbLmx5cbmP7B2ydola+c/8IDZA2YP6D84i+ksprPoP4CV+VXmV+k/wJ8Jfyb86T8AqhmoZqDqP0i0KdGmROs/kL45+ubo6z/QyEkjJ43sPxDTWUxnMe0/WN1pdafV7T+g53me53nuP+DxiccnHu8/IPyZ8GfC7z80A9UMVDPwP1gIXSF0hfA/eA3lNZTX8D+YEm1KtCnxP7wX9V7Ue/E/4Bx9c/TN8T8AIgWIFCDyPyAnjZw0cvI/RCwVsVTE8j9oMZ3FdBbzP4g2JdqUaPM/qDut7rS68z/MQDUD1Qz0P/BFvRf1XvQ/EEtFLBWx9D8wUM1ANQP1P1RVVVVVVfU/eFrdaXWn9T+YX2V+lfn1P7hk7ZK1S/Y/3Gl1p9Wd9j8Ab/279e/2PyB0hdAVQvc/QHkN5TWU9z9kfpX5Veb3P4iDHQ52OPg/qIilIpaK+D/IjS03ttz4P+yStUvWLvk/EJg9YPaA+T8wncV0FtP5P1CiTYk2Jfo/dKfVnVZ3+j+YrF2ydsn6P7ix5caWG/s/2LZt27Zt+z/8u/Xv1r/7PyDBfQT3Efw/QMYFGRdk/D9gy40tN7b8P4TQFUJXCP0/qNWdVnda/T/I2iVrl6z9P+jfrX+3/v0/DOU1lNdQ/j8w6r2o96L+P1DvRb0X9f4/cPTN0TdH/z+U+VXmV5n/P7j+3fp36/8/7AGzB8weAEB8BPcR3EcAQA4HOxzscABAoAl/JvyZAEAwDMMwDMMAQMAOBzsc7ABAUhFLRSwVAUDkE49PPD4BQHQW01lMZwFABBkXZFyQAUCWG1tubLkBQCgen3h84gFAuCDjgowLAkBIIyeNnDQCQNola5esXQJAbCivobyGAkD8KvOrzK8CQIwtN7bc2AJAHjB7wOwBA0CwMr/K/CoDQEA1A9UMVANA0DdH3xx9A0BiOovpLKYDQPQ8z/M8zwNAhD8T/kz4A0AUQlcIXSEEQKZEmxJtSgRAOEffHH1zBEDISSMnjZwEQFhMZzGdxQRA6k6rO63uBEB8Ue9FvRcFQAxUM1DNQAVAnFZ3Wt1pBUAuWbtk7ZIFQMBb/279uwVAUF5DeQ3lBUDgYIeDHQ4GQHJjy40tNwZABGYPmD1gBkCUaFOiTYkGQCRrl6xdsgZAtm3btm3bBkBIcB/BfQQHQNhyY8uNLQdAaHWn1Z1WB0D6d+vfrX8HQIx6L+q9qAdAHH1z9M3RB0Csf7f+3foHQD6C+wjuIwhA0IQ/E/5MCEBgh4MdDnYIQPCJxycenwhAgowLMi7ICEAUj088PvEIQKSRk0ZOGglANJTXUF5DCUDGlhtbbmwJQFiZX2V+lQlA6Jujb46+CUB4nud5nucJQAqhK4SuEApAnKNvjr45CkAsprOYzmIKQLyo96LeiwpATqs7re60CkDgrX+3/t0KQHCww8EOBwtAALMHzB4wC0CStUvWLlkLQCS4j+A+ggtAtLrT6k6rC0BEvRf1XtQLQNa/W/9u/QtAaMKfCX8mDED4xOMTj08MQIjHJx6feAxAGsprKK+hDECszK8yv8oMQDzP8zzP8wxAzNE3R98cDUBe1HtR70UNQPDWv1v/bg1AgNkDZg+YDUAQ3EdwH8ENQKLei3ov6g1ANOHPhD8TDkDE4xOPTzwOQFTmV5lfZQ5A5uibo2+ODkB469+tf7cOQAjuI7iP4A5AmPBnwp8JD0Aq86vMrzIPQLz179a/Ww9ATPgz4c+ED0Dc+nfr360PQG79u/Xv1g9AAAAAAAAAEEA=",
          "dtype": "f8"
         },
         "xaxis": "x8",
         "y": {
          "bdata": "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",
          "dtype": "f8"
         },
         "yaxis": "y8"
        },
        {
         "marker": {
          "color": {
           "bdata": "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",
           "dtype": "f8"
          },
          "showscale": true,
          "size": {
           "bdata": "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",
           "dtype": "f8"
          }
         },
         "mode": "markers+text",
         "name": "Player",
         "showlegend": false,
         "text": [
          "Lawrence Ennali",
          "Tomas Ángel",
          "Talles Magno",
          "David Martínez",
          "Lionel Messi",
          "Cucho",
          "Karol Świderski",
          "Tani Oluwaseyi",
          "Alonso Martínez",
          "Carlos Gómez",
          "Kelvin Yeboah",
          "Gabriel Chaves",
          "Gabe Segal",
          "Sebastián Ferreira",
          "Dejan Joveljić",
          "Ramiro Enrique",
          "Nathan Ordaz",
          "Leonardo Afonso",
          "Mateusz Bogusz",
          "Kimani Stewart-Baynes",
          "Diego Luna",
          "Luis Suárez",
          "Stephen Afrifa",
          "Duncan McGuire",
          "Bongokuhle Hlongwane",
          "Leonardo Campana",
          "Logan Farrington",
          "Luca Langoni",
          "Sunusi Ibrahim",
          "Jack Lynn",
          "Petar Musa",
          "Patrick Agyemang",
          "William Agada",
          "Cristian Arango",
          "Simon Becher",
          "Edwin Mosquera",
          "Julián Fernández",
          "Denis Bouanga",
          "Santiago Moreno",
          "Joseph Paintsil",
          "Facundo Torres",
          "Jonathan Lewis",
          "Anderson Julio",
          "Brad Smith",
          "Tai Baribo",
          "CJ Fodrey",
          "Elias Manoel",
          "Santiago Rodríguez",
          "Alan Velasco",
          "Ryan Gauld",
          "Pep Biel",
          "Kevin Kelsy",
          "Rafael Navarro",
          "Josef Martínez",
          "Antony",
          "Alenis Vargas",
          "Julián Carranza",
          "Dante Vanzeir",
          "Diego Gómez",
          "Dominik Marczuk",
          "Liel Abada",
          "Kristian Fletcher",
          "Lewis Morgan",
          "Ezequiel Ponce",
          "Nathan Fogaça",
          "Darren Yapi",
          "Malachi Jones",
          "Kevin Cabral",
          "Sam Surridge",
          "Iuri Tavares",
          "Fidel Barajas",
          "Cristian Olivera",
          "Georgios Koutsias",
          "Christian Benteke",
          "Deandre Kerr",
          "Dylan Borrero",
          "Brian White",
          "Giorgos Giakoumakis",
          "Miguel Berry",
          "Jacob Murrell",
          "Célio Pompeu",
          "Paul Rothrock",
          "Daniel Armando Ríos",
          "Hannes Wolf",
          "Léo Chú",
          "Agustin Ojeda",
          "Jonathan Rodríguez",
          "Aliyu Ibrahim",
          "Samuel Adeniran",
          "Felipe Mora",
          "Calvin Harris",
          "Osman Bukari",
          "Matías Cóccaro",
          "Marinos Tzionis",
          "Jeong Sangbin",
          "Latif Blessing",
          "Mikael Uhre",
          "Kerwin Vargas",
          "Iván Angulo",
          "Giacomo Vrioni",
          "Pedro De la Vega",
          "Georgi Minoungou",
          "Owen Wolff",
          "John Klein",
          "Esmir Bajraktarevic",
          "Jacob Shaffelburg",
          "Aaron Boupendza",
          "Maren Haile-Selassie",
          "Hugo Cuypers",
          "Monsef Bakrar",
          "Tyler Wolff",
          "Nökkvi Þórisson",
          "Cristian Espinoza",
          "Fafà Picault",
          "Ousseni Bouda",
          "Christopher Donovan",
          "Maikel Chang",
          "Prince Osei Owusu",
          "Omir Fernandez",
          "Adalberto Carrasquilla",
          "Klauss",
          "Jordan Morris",
          "Tomás Chancalay",
          "Corey Baird",
          "Bobby Wood",
          "Jeremy Ebobisse",
          "Benjamin Kikanovic",
          "Rasmus Alm",
          "Sebastian Kowalczyk",
          "Nimfasha Berchimas",
          "Caden Glover",
          "Zavier Gozo",
          "Emmanuel Boateng",
          "Mykhi Joyner",
          "Rubén Ramos",
          "Kage Romanshyn",
          "Jovan Mijatović",
          "Malcolm Fry",
          "Luke Brennan",
          "Tarik Scott",
          "Mason Toye",
          "Saba Lobzhanidze",
          "Robert Taylor",
          "Cory Burke",
          "Dániel Sallói",
          "Enzo Copetti",
          "Idan Markovich",
          "Jack Panayotou",
          "Jay Herdman",
          "Jáder Obrian",
          "Preston Judd",
          "Daniel Musovski",
          "Patrick Weah",
          "Joseph Skinner",
          "Tega Ikoba",
          "Jeremy Garay",
          "Loïc Mesanvi",
          "Jamal Thiaré",
          "Kei Kamara",
          "Luis Muriel",
          "Jonathan Perez",
          "Brandon Cambridge",
          "Matthew Bell",
          "Roald Mitchell",
          "Piero Elias",
          "Brendan McSorley",
          "Sergio Santos Gomes",
          "Yuya Kubo",
          "Xande Silva",
          "Lachlan Brook",
          "Nick Scardina",
          "Charles Sharp",
          "Luis Müller",
          "Forster Ajago",
          "Bryant Farkarlun",
          "Marcos Dias",
          "Yutaro Tsukada",
          "Aziel Jackson",
          "Shanyder Borgelin",
          "Nacho Gil",
          "Nicholas Gioacchini",
          "Will Richmond",
          "Deiber Caicedo",
          "Jose Casas de Abadal",
          "Lamine Diack",
          "Nicolas Firmino",
          "Rory O'Driscoll",
          "Alan Pulido",
          "Diego Fagúndez",
          "Raúl Ruidíaz",
          "Tyler Boyd",
          "Tom Barlow",
          "Jordan Adebayo-Smith",
          "Levonte Johnson",
          "Ayo Akinola",
          "Alex Muyl",
          "Chris Mueller",
          "Amahl Pellegrino",
          "McKinze Gaines",
          "Samuel Adeniran",
          "Mason Toye",
          "Gyasi Zardes",
          "Eugene Ansah",
          "Benji Michel",
          "Teal Bunbury",
          "Diego Rubio",
          "Teemu Pukki",
          "Johnny Russell",
          "Dairon Asprilla",
          "Damir Kreilach",
          "Derrick Etienne",
          "Brecht Dejaegere",
          "Emiliano Rigoni",
          "Ethan Finlay",
          "Olivier Giroud",
          "Thomas McNamara",
          "Jamie Paterson",
          "Tyger Smalls"
         ],
         "textposition": "top center",
         "type": "scatter",
         "x": {
          "bdata": "oRgHy8ed67+hGAfLx53rv6EYB8vHneu/uJKlCNm9/T8hsJwFwcUNQA==",
          "dtype": "f8"
         },
         "xaxis": "x8",
         "y": {
          "bdata": "44zjkAiY0T/jjOOQCJjRP+OM45AImNE/XQ1fZPglsj92YbzGsLI5Pw==",
          "dtype": "f8"
         },
         "yaxis": "y8"
        },
        {
         "line": {
          "color": "lightgrey"
         },
         "mode": "lines",
         "name": "Z-Curve",
         "showlegend": false,
         "type": "scatter",
         "x": {
          "bdata": "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",
          "dtype": "f8"
         },
         "xaxis": "x9",
         "y": {
          "bdata": "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",
          "dtype": "f8"
         },
         "yaxis": "y9"
        },
        {
         "marker": {
          "color": {
           "bdata": "OGatcNQr7T/UAuvGxevtPzhmrXDUK+0/JLtVsNEz7z9k6afI0aGwPyj5rjUUU+k/wyUMRmqk4j81IsZWi+rqP72i1fXUZOc/OGatcNQr7T81IsZWi+rqP8l5ilp9L+w/yXmKWn0v7D+9otX11GTnPyj5rjUUU+k/yXmKWn0v7D/UAuvGxevtP8l5ilp9L+w/yXmKWn0v7D+9+ja8fHvuP9QC68bF6+0/RVSQPDRIqD/JeYpafS/sP8l5ilp9L+w/NSLGVovq6j81IsZWi+rqP8l5ilp9L+w/OGatcNQr7T84Zq1w1CvtPyj5rjUUU+k/vaLV9dRk5z81IsZWi+rqPyj5rjUUU+k/AAAAAAAA4D8o+a41FFPpP8l5ilp9L+w/1ALrxsXr7T96tOdzK7faPzUixlaL6uo/vaLV9dRk5z81IsZWi+rqPwEiT4rqJOU/wyUMRmqk4j96tOdzK7faPwEiT4rqJOU/vfo2vHx77j/JeYpafS/sPyj5rjUUU+k/OGatcNQr7T8AAAAAAADgP8MlDEZqpOI/vfo2vHx77j81IsZWi+rqP/+7YesqttU/yXmKWn0v7D/UAuvGxevtPzUixlaL6uo/vaLV9dRk5z/UAuvGxevtP9QC68bF6+0/yXmKWn0v7D9of2Mw0+XuP8MlDEZqpOI/ASJPiuok5T8o+a41FFPpP736Nrx8e+4/1ALrxsXr7T8o+a41FFPpP72i1fXUZOc/yXmKWn0v7D8ku1Ww0TPvPzhmrXDUK+0/vfo2vHx77j8ud+ek0lXEPzhmrXDUK+0/yXmKWn0v7D/DJQxGaqTiP3q053Mrt9o/ASJPiuok5T+9+ja8fHvuPyj5rjUUU+k/vaLV9dRk5z8AAAAAAADgPyj5rjUUU+k/NSLGVovq6j+9+ja8fHvuP/+7YesqttU/yXmKWn0v7D+9otX11GTnP/+7YesqttU/NSLGVovq6j+9otX11GTnPwEiT4rqJOU/yXmKWn0v7D84Zq1w1CvtP8MlDEZqpOI/erTncyu32j/JeYpafS/sPyj5rjUUU+k/vaLV9dRk5z/JeYpafS/sPzhmrXDUK+0/vfo2vHx77j8o+a41FFPpP2h/YzDT5e4/KPmuNRRT6T/DJQxGaqTiPyj5rjUUU+k/ASJPiuok5T81IsZWi+rqP9QC68bF6+0/KPmuNRRT6T8AAAAAAADgP2AbRCmvs8o/NSLGVovq6j81IsZWi+rqP2AbRCmvs8o/wyUMRmqk4j8o+a41FFPpP72i1fXUZOc/ASJPiuok5T96tOdzK7faP72i1fXUZOc/AAAAAAAA4D+GulQUVjbRPwEiT4rqJOU/KPmuNRRT6T8AAAAAAADgP72i1fXUZOc/pp58EOKV7z/q4Q0vqGzvP+rhDS+obO8//7th6yq21T8ku1Ww0TPvPyS7VbDRM+8/aH9jMNPl7j9of2Mw0+XuP2h/YzDT5e4/aH9jMNPl7j9of2Mw0+XuP72i1fXUZOc/erTncyu32j96tOdzK7faP2AbRCmvs8o/wyUMRmqk4j8AAAAAAADgP736Nrx8e+4/vfo2vHx77j+9+ja8fHvuPwAAAAAAAOA/KPmuNRRT6T8AAAAAAADgP9QC68bF6+0/1ALrxsXr7T/UAuvGxevtP9QC68bF6+0/1ALrxsXr7T//u2HrKrbVP4ObSPXJhZk/YBtEKa+zyj84Zq1w1CvtPzhmrXDUK+0/OGatcNQr7T84Zq1w1CvtPzhmrXDUK+0/OGatcNQr7T96tOdzK7faP/+7YesqttU/ASJPiuok5T/JeYpafS/sP8l5ilp9L+w/yXmKWn0v7D/JeYpafS/sP8l5ilp9L+w/yXmKWn0v7D/JeYpafS/sP8l5ilp9L+w/yXmKWn0v7D/JeYpafS/sPwAAAAAAAOA/NSLGVovq6j81IsZWi+rqPzUixlaL6uo/NSLGVovq6j81IsZWi+rqPzUixlaL6uo/NSLGVovq6j9gG0Qpr7PKPwAAAAAAAOA/LnfnpNJVxD96tOdzK7faPwAAAAAAAOA/KPmuNRRT6T8o+a41FFPpPyj5rjUUU+k/AAAAAAAA4D/DJQxGaqTiPy5356TSVcQ/vaLV9dRk5z+9otX11GTnP72i1fXUZOc/YBtEKa+zyj96tOdzK7faPwEiT4rqJOU/LnfnpNJVxD//u2HrKrbVPy5356TSVcQ/LnfnpNJVxD+GulQUVjbRP64xrCsVhL4/wyUMRmqk4j9gG0Qpr7PKP/+7YesqttU/LnfnpNJVxD9FVJA8NEioP2AbRCmvs8o/YBtEKa+zyj8AAAAAAAD4fw==",
           "dtype": "f8"
          },
          "showscale": true,
          "size": {
           "bdata": "eBfxR+0q7z8msvYcB/LtP50FuVWFdeY/X5dgMl435D8AAAAAAADwPyGYdwxfF+U/0H9oPx4o5z+nm59WY3HiP0A2iQ94juM/PIHm7q8C4T/jg1Hed0XhPxJOFOr9mt8/crZH1u093j9LBaALcQPhPxVFdetQ2N8/nFjMcI1H3D/hquytUFfYP7b4CsZ0u9g/+aicLf2z2D+tka5GajbWPxQZo/AZWNY/aiVI4p845z/u+jCgBjHXP0SeCCI3+tY/HSGfZS331z/Wp4b7/vLXP9kblf2iqtY/AsGenOfJ1T9KT8ct+k7VP/eVFKvd3Nc/DmXsYmVW2T9WYbsiq7HVPwZKWOKOBdc/cB9o62jg3j9+oKfh/FXWP7YXHI5DyNM/5+VUIpdK0j+eLlNali3gP6WjHrciTNQ/STWRadrN1j/pbqzRtcjTP7HH2WFUftg/+WQCe6Bp2j/KLnwRfb7eP7siU2Ki7Nc/QRlnQHO7zz/Z8rwMOs7RP8UcP2OQz9M/rm5TvqyC0D+nPnefYqTbP/qzNug/L9k/WvlDggOJzT/7kNL1z6TRP0NZipCcMt8/W9d54whQ0D9uQm9NdCDNPy9PVhRsFNE/QVwTj/9R0z+l5m6wwlDLPyTz1lpyRss/2RsLuOrrzT/h/SObMdXIP56KI/LV49Y/mCQJpTac1D97ltBhWMjQP8D/4Vc/lcg/whfHIVlDyT8Veu4LHGvQP7x2YL3+9dE/68RM7Sxlyz/rDTABFg7GP5sN7GdkA8k/GFWruRTDxj9K9QqlzongP/5unixHy8g/IZOauLVDyj/n3MFtOz3VP25gr926ftk/tYMyxLOw0j8Hil5XVvvEP/jxu+42wc0/B1bTqcBU0D+vK7ReBJnWPyhy/Ez98sw/j1UHIzr6yT8DuP19AtDDP+UWdzP+ito/Oiqe7SY4xz9qh9jgWu/OPxpY388N7tk/mDQNtM5IyD8S2fJyUzXOPx/HEQMn/tA/YwZJg0TlxT8YPTcCd7/DP3245KmWpNI/LSsq2jT91j9IlZwJXQPEP/qK0L+smMg/CifIA7heyz9TSqaFl+jCP8HlUzlId8A/LDviah3Muz/yKaxV8p7GP1CA6ih7vrg/+BOMk+LpxT88IIimkqvQPwD3m18+H8U/jej5+Z4YzD/N8JsasBnCP0h51yq6gbk/QNmha7SIxD+HlM1qPrvRP1Z/KGvasdk/FQRYPnhVwD+i5SYhTh7AP2+KtinuWdk/p57Oo4XlzT9jrg7vWULCP6iIibSDi8U/dMckqjgXyT+oB1+EyLDSP1dGnKGp2MM/+VPFLo4o0D9MtrgybvnVP04Q2NfqLcY/CqUsDZpAvT/wQsybZX7NPz0Ovftcjrw/AAAAAAAAAAAAAAAAAAAAAAAAAAAAAAAAJbLtKll20T8AAAAAAAAAAAAAAAAAAAAAAAAAAAAAAAAAAAAAAAAAAAAAAAAAAAAAAAAAAAAAAAAAAAAAAAAAAI5Piobhqrk/tS4+2+kBzj8kYakfw+3NP2zE859pr9Q/XA8gviphxD+GOGgG5OfIPwAAAAAAAAAAAAAAAAAAAAAAAAAAAAAAABq3k+XXk8g/wDHyGBX4sD/I7ukjaOTHPwAAAAAAAAAAAAAAAAAAAAAAAAAAAAAAAAAAAAAAAAAAAAAAAAAAAADfNwiheQHQP6IDZ6FRitg/eX+XsE940z8AAAAAAAAAAAAAAAAAAAAAAAAAAAAAAAAAAAAAAAAAAAAAAAAAAAAAAAAAAAAAAABZUs6vp5DKP9n2d7x+qc4/kh7NdNBguT8AAAAAAAAAAAAAAAAAAAAAAAAAAAAAAAAAAAAAAAAAAAAAAAAAAAAAAAAAAAAAAAAAAAAAAAAAAAAAAAAAAAAAAAAAAAAAAAAAAAAAAAAAALg/k3HGgcM/AAAAAAAAAAAAAAAAAAAAAAAAAAAAAAAAAAAAAAAAAAAAAAAAAAAAAAAAAAAAAAAAAAAAAAAAAADpdWipJVHRPwTxTvJkWMI/Xo6lVdUS0j/3JKOpKsPFP1Z6HhDjT8A/AAAAAAAAAAAAAAAAAAAAAAAAAAAAAAAAZyldbdfwvz/vxW3Ho2ayP5pf2MkUANA/AAAAAAAAAAAAAAAAAAAAAAAAAAAAAAAAY8Kuic/wyT+l413NxSa8PwAAAAAAAAAAQw/SarLAyj8fo/zw20nAP4yO5wPaBco/I1BYzjvlyD9Lz3d++/HBPxTqYCY0G8o/AAAAAAAAAADilz4bZjTEP2TxlRl4Z7E/VDCF3qZnrT8HeJ9pdY+0PwAAAAAAAAAAAAAAAAAAAAAAAAAAAAAAAA==",
           "dtype": "f8"
          }
         },
         "mode": "markers+text",
         "name": "Player",
         "showlegend": false,
         "text": [
          "Lawrence Ennali",
          "Tomas Ángel",
          "Talles Magno",
          "David Martínez",
          "Lionel Messi",
          "Cucho",
          "Karol Świderski",
          "Tani Oluwaseyi",
          "Alonso Martínez",
          "Carlos Gómez",
          "Kelvin Yeboah",
          "Gabriel Chaves",
          "Gabe Segal",
          "Sebastián Ferreira",
          "Dejan Joveljić",
          "Ramiro Enrique",
          "Nathan Ordaz",
          "Leonardo Afonso",
          "Mateusz Bogusz",
          "Kimani Stewart-Baynes",
          "Diego Luna",
          "Luis Suárez",
          "Stephen Afrifa",
          "Duncan McGuire",
          "Bongokuhle Hlongwane",
          "Leonardo Campana",
          "Logan Farrington",
          "Luca Langoni",
          "Sunusi Ibrahim",
          "Jack Lynn",
          "Petar Musa",
          "Patrick Agyemang",
          "William Agada",
          "Cristian Arango",
          "Simon Becher",
          "Edwin Mosquera",
          "Julián Fernández",
          "Denis Bouanga",
          "Santiago Moreno",
          "Joseph Paintsil",
          "Facundo Torres",
          "Jonathan Lewis",
          "Anderson Julio",
          "Brad Smith",
          "Tai Baribo",
          "CJ Fodrey",
          "Elias Manoel",
          "Santiago Rodríguez",
          "Alan Velasco",
          "Ryan Gauld",
          "Pep Biel",
          "Kevin Kelsy",
          "Rafael Navarro",
          "Josef Martínez",
          "Antony",
          "Alenis Vargas",
          "Julián Carranza",
          "Dante Vanzeir",
          "Diego Gómez",
          "Dominik Marczuk",
          "Liel Abada",
          "Kristian Fletcher",
          "Lewis Morgan",
          "Ezequiel Ponce",
          "Nathan Fogaça",
          "Darren Yapi",
          "Malachi Jones",
          "Kevin Cabral",
          "Sam Surridge",
          "Iuri Tavares",
          "Fidel Barajas",
          "Cristian Olivera",
          "Georgios Koutsias",
          "Christian Benteke",
          "Deandre Kerr",
          "Dylan Borrero",
          "Brian White",
          "Giorgos Giakoumakis",
          "Miguel Berry",
          "Jacob Murrell",
          "Célio Pompeu",
          "Paul Rothrock",
          "Daniel Armando Ríos",
          "Hannes Wolf",
          "Léo Chú",
          "Agustin Ojeda",
          "Jonathan Rodríguez",
          "Aliyu Ibrahim",
          "Samuel Adeniran",
          "Felipe Mora",
          "Calvin Harris",
          "Osman Bukari",
          "Matías Cóccaro",
          "Marinos Tzionis",
          "Jeong Sangbin",
          "Latif Blessing",
          "Mikael Uhre",
          "Kerwin Vargas",
          "Iván Angulo",
          "Giacomo Vrioni",
          "Pedro De la Vega",
          "Georgi Minoungou",
          "Owen Wolff",
          "John Klein",
          "Esmir Bajraktarevic",
          "Jacob Shaffelburg",
          "Aaron Boupendza",
          "Maren Haile-Selassie",
          "Hugo Cuypers",
          "Monsef Bakrar",
          "Tyler Wolff",
          "Nökkvi Þórisson",
          "Cristian Espinoza",
          "Fafà Picault",
          "Ousseni Bouda",
          "Christopher Donovan",
          "Maikel Chang",
          "Prince Osei Owusu",
          "Omir Fernandez",
          "Adalberto Carrasquilla",
          "Klauss",
          "Jordan Morris",
          "Tomás Chancalay",
          "Corey Baird",
          "Bobby Wood",
          "Jeremy Ebobisse",
          "Benjamin Kikanovic",
          "Rasmus Alm",
          "Sebastian Kowalczyk",
          "Nimfasha Berchimas",
          "Caden Glover",
          "Zavier Gozo",
          "Emmanuel Boateng",
          "Mykhi Joyner",
          "Rubén Ramos",
          "Kage Romanshyn",
          "Jovan Mijatović",
          "Malcolm Fry",
          "Luke Brennan",
          "Tarik Scott",
          "Mason Toye",
          "Saba Lobzhanidze",
          "Robert Taylor",
          "Cory Burke",
          "Dániel Sallói",
          "Enzo Copetti",
          "Idan Markovich",
          "Jack Panayotou",
          "Jay Herdman",
          "Jáder Obrian",
          "Preston Judd",
          "Daniel Musovski",
          "Patrick Weah",
          "Joseph Skinner",
          "Tega Ikoba",
          "Jeremy Garay",
          "Loïc Mesanvi",
          "Jamal Thiaré",
          "Kei Kamara",
          "Luis Muriel",
          "Jonathan Perez",
          "Brandon Cambridge",
          "Matthew Bell",
          "Roald Mitchell",
          "Piero Elias",
          "Brendan McSorley",
          "Sergio Santos Gomes",
          "Yuya Kubo",
          "Xande Silva",
          "Lachlan Brook",
          "Nick Scardina",
          "Charles Sharp",
          "Luis Müller",
          "Forster Ajago",
          "Bryant Farkarlun",
          "Marcos Dias",
          "Yutaro Tsukada",
          "Aziel Jackson",
          "Shanyder Borgelin",
          "Nacho Gil",
          "Nicholas Gioacchini",
          "Will Richmond",
          "Deiber Caicedo",
          "Jose Casas de Abadal",
          "Lamine Diack",
          "Nicolas Firmino",
          "Rory O'Driscoll",
          "Alan Pulido",
          "Diego Fagúndez",
          "Raúl Ruidíaz",
          "Tyler Boyd",
          "Tom Barlow",
          "Jordan Adebayo-Smith",
          "Levonte Johnson",
          "Ayo Akinola",
          "Alex Muyl",
          "Chris Mueller",
          "Amahl Pellegrino",
          "McKinze Gaines",
          "Samuel Adeniran",
          "Mason Toye",
          "Gyasi Zardes",
          "Eugene Ansah",
          "Benji Michel",
          "Teal Bunbury",
          "Diego Rubio",
          "Teemu Pukki",
          "Johnny Russell",
          "Dairon Asprilla",
          "Damir Kreilach",
          "Derrick Etienne",
          "Brecht Dejaegere",
          "Emiliano Rigoni",
          "Ethan Finlay",
          "Olivier Giroud",
          "Thomas McNamara",
          "Jamie Paterson",
          "Tyger Smalls"
         ],
         "textposition": "top center",
         "type": "scatter",
         "x": {
          "bdata": "8RoMx8zWzL/xGgzHzNbMv/EaDMfM1sy/GeNj+ZzCIEDxGgzHzNbMvw==",
          "dtype": "f8"
         },
         "xaxis": "x9",
         "y": {
          "bdata": "CDIuo3Xk2D8IMi6jdeTYPwgyLqN15Ng/PZKXcfkvsDwIMi6jdeTYPw==",
          "dtype": "f8"
         },
         "yaxis": "y9"
        }
       ],
       "layout": {
        "annotations": [
         {
          "font": {
           "size": 16
          },
          "showarrow": false,
          "text": "Defender - goals_per_90_z",
          "x": 0.14444444444444446,
          "xanchor": "center",
          "xref": "paper",
          "y": 1,
          "yanchor": "bottom",
          "yref": "paper"
         },
         {
          "font": {
           "size": 16
          },
          "showarrow": false,
          "text": "Defender - assists_per_90_z",
          "x": 0.5,
          "xanchor": "center",
          "xref": "paper",
          "y": 1,
          "yanchor": "bottom",
          "yref": "paper"
         },
         {
          "font": {
           "size": 16
          },
          "showarrow": false,
          "text": "Defender - red_cards_per_90_z",
          "x": 0.8555555555555556,
          "xanchor": "center",
          "xref": "paper",
          "y": 1,
          "yanchor": "bottom",
          "yref": "paper"
         },
         {
          "font": {
           "size": 16
          },
          "showarrow": false,
          "text": "Midfielder - goals_per_90_z",
          "x": 0.14444444444444446,
          "xanchor": "center",
          "xref": "paper",
          "y": 0.6111111111111112,
          "yanchor": "bottom",
          "yref": "paper"
         },
         {
          "font": {
           "size": 16
          },
          "showarrow": false,
          "text": "Midfielder - assists_per_90_z",
          "x": 0.5,
          "xanchor": "center",
          "xref": "paper",
          "y": 0.6111111111111112,
          "yanchor": "bottom",
          "yref": "paper"
         },
         {
          "font": {
           "size": 16
          },
          "showarrow": false,
          "text": "Midfielder - red_cards_per_90_z",
          "x": 0.8555555555555556,
          "xanchor": "center",
          "xref": "paper",
          "y": 0.6111111111111112,
          "yanchor": "bottom",
          "yref": "paper"
         },
         {
          "font": {
           "size": 16
          },
          "showarrow": false,
          "text": "Forward - goals_per_90_z",
          "x": 0.14444444444444446,
          "xanchor": "center",
          "xref": "paper",
          "y": 0.22222222222222224,
          "yanchor": "bottom",
          "yref": "paper"
         },
         {
          "font": {
           "size": 16
          },
          "showarrow": false,
          "text": "Forward - assists_per_90_z",
          "x": 0.5,
          "xanchor": "center",
          "xref": "paper",
          "y": 0.22222222222222224,
          "yanchor": "bottom",
          "yref": "paper"
         },
         {
          "font": {
           "size": 16
          },
          "showarrow": false,
          "text": "Forward - red_cards_per_90_z",
          "x": 0.8555555555555556,
          "xanchor": "center",
          "xref": "paper",
          "y": 0.22222222222222224,
          "yanchor": "bottom",
          "yref": "paper"
         }
        ],
        "height": 900,
        "margin": {
         "b": 50,
         "t": 100
        },
        "template": {
         "data": {
          "bar": [
           {
            "error_x": {
             "color": "#2a3f5f"
            },
            "error_y": {
             "color": "#2a3f5f"
            },
            "marker": {
             "line": {
              "color": "#E5ECF6",
              "width": 0.5
             },
             "pattern": {
              "fillmode": "overlay",
              "size": 10,
              "solidity": 0.2
             }
            },
            "type": "bar"
           }
          ],
          "barpolar": [
           {
            "marker": {
             "line": {
              "color": "#E5ECF6",
              "width": 0.5
             },
             "pattern": {
              "fillmode": "overlay",
              "size": 10,
              "solidity": 0.2
             }
            },
            "type": "barpolar"
           }
          ],
          "carpet": [
           {
            "aaxis": {
             "endlinecolor": "#2a3f5f",
             "gridcolor": "white",
             "linecolor": "white",
             "minorgridcolor": "white",
             "startlinecolor": "#2a3f5f"
            },
            "baxis": {
             "endlinecolor": "#2a3f5f",
             "gridcolor": "white",
             "linecolor": "white",
             "minorgridcolor": "white",
             "startlinecolor": "#2a3f5f"
            },
            "type": "carpet"
           }
          ],
          "choropleth": [
           {
            "colorbar": {
             "outlinewidth": 0,
             "ticks": ""
            },
            "type": "choropleth"
           }
          ],
          "contour": [
           {
            "colorbar": {
             "outlinewidth": 0,
             "ticks": ""
            },
            "colorscale": [
             [
              0,
              "#0d0887"
             ],
             [
              0.1111111111111111,
              "#46039f"
             ],
             [
              0.2222222222222222,
              "#7201a8"
             ],
             [
              0.3333333333333333,
              "#9c179e"
             ],
             [
              0.4444444444444444,
              "#bd3786"
             ],
             [
              0.5555555555555556,
              "#d8576b"
             ],
             [
              0.6666666666666666,
              "#ed7953"
             ],
             [
              0.7777777777777778,
              "#fb9f3a"
             ],
             [
              0.8888888888888888,
              "#fdca26"
             ],
             [
              1,
              "#f0f921"
             ]
            ],
            "type": "contour"
           }
          ],
          "contourcarpet": [
           {
            "colorbar": {
             "outlinewidth": 0,
             "ticks": ""
            },
            "type": "contourcarpet"
           }
          ],
          "heatmap": [
           {
            "colorbar": {
             "outlinewidth": 0,
             "ticks": ""
            },
            "colorscale": [
             [
              0,
              "#0d0887"
             ],
             [
              0.1111111111111111,
              "#46039f"
             ],
             [
              0.2222222222222222,
              "#7201a8"
             ],
             [
              0.3333333333333333,
              "#9c179e"
             ],
             [
              0.4444444444444444,
              "#bd3786"
             ],
             [
              0.5555555555555556,
              "#d8576b"
             ],
             [
              0.6666666666666666,
              "#ed7953"
             ],
             [
              0.7777777777777778,
              "#fb9f3a"
             ],
             [
              0.8888888888888888,
              "#fdca26"
             ],
             [
              1,
              "#f0f921"
             ]
            ],
            "type": "heatmap"
           }
          ],
          "histogram": [
           {
            "marker": {
             "pattern": {
              "fillmode": "overlay",
              "size": 10,
              "solidity": 0.2
             }
            },
            "type": "histogram"
           }
          ],
          "histogram2d": [
           {
            "colorbar": {
             "outlinewidth": 0,
             "ticks": ""
            },
            "colorscale": [
             [
              0,
              "#0d0887"
             ],
             [
              0.1111111111111111,
              "#46039f"
             ],
             [
              0.2222222222222222,
              "#7201a8"
             ],
             [
              0.3333333333333333,
              "#9c179e"
             ],
             [
              0.4444444444444444,
              "#bd3786"
             ],
             [
              0.5555555555555556,
              "#d8576b"
             ],
             [
              0.6666666666666666,
              "#ed7953"
             ],
             [
              0.7777777777777778,
              "#fb9f3a"
             ],
             [
              0.8888888888888888,
              "#fdca26"
             ],
             [
              1,
              "#f0f921"
             ]
            ],
            "type": "histogram2d"
           }
          ],
          "histogram2dcontour": [
           {
            "colorbar": {
             "outlinewidth": 0,
             "ticks": ""
            },
            "colorscale": [
             [
              0,
              "#0d0887"
             ],
             [
              0.1111111111111111,
              "#46039f"
             ],
             [
              0.2222222222222222,
              "#7201a8"
             ],
             [
              0.3333333333333333,
              "#9c179e"
             ],
             [
              0.4444444444444444,
              "#bd3786"
             ],
             [
              0.5555555555555556,
              "#d8576b"
             ],
             [
              0.6666666666666666,
              "#ed7953"
             ],
             [
              0.7777777777777778,
              "#fb9f3a"
             ],
             [
              0.8888888888888888,
              "#fdca26"
             ],
             [
              1,
              "#f0f921"
             ]
            ],
            "type": "histogram2dcontour"
           }
          ],
          "mesh3d": [
           {
            "colorbar": {
             "outlinewidth": 0,
             "ticks": ""
            },
            "type": "mesh3d"
           }
          ],
          "parcoords": [
           {
            "line": {
             "colorbar": {
              "outlinewidth": 0,
              "ticks": ""
             }
            },
            "type": "parcoords"
           }
          ],
          "pie": [
           {
            "automargin": true,
            "type": "pie"
           }
          ],
          "scatter": [
           {
            "fillpattern": {
             "fillmode": "overlay",
             "size": 10,
             "solidity": 0.2
            },
            "type": "scatter"
           }
          ],
          "scatter3d": [
           {
            "line": {
             "colorbar": {
              "outlinewidth": 0,
              "ticks": ""
             }
            },
            "marker": {
             "colorbar": {
              "outlinewidth": 0,
              "ticks": ""
             }
            },
            "type": "scatter3d"
           }
          ],
          "scattercarpet": [
           {
            "marker": {
             "colorbar": {
              "outlinewidth": 0,
              "ticks": ""
             }
            },
            "type": "scattercarpet"
           }
          ],
          "scattergeo": [
           {
            "marker": {
             "colorbar": {
              "outlinewidth": 0,
              "ticks": ""
             }
            },
            "type": "scattergeo"
           }
          ],
          "scattergl": [
           {
            "marker": {
             "colorbar": {
              "outlinewidth": 0,
              "ticks": ""
             }
            },
            "type": "scattergl"
           }
          ],
          "scattermap": [
           {
            "marker": {
             "colorbar": {
              "outlinewidth": 0,
              "ticks": ""
             }
            },
            "type": "scattermap"
           }
          ],
          "scattermapbox": [
           {
            "marker": {
             "colorbar": {
              "outlinewidth": 0,
              "ticks": ""
             }
            },
            "type": "scattermapbox"
           }
          ],
          "scatterpolar": [
           {
            "marker": {
             "colorbar": {
              "outlinewidth": 0,
              "ticks": ""
             }
            },
            "type": "scatterpolar"
           }
          ],
          "scatterpolargl": [
           {
            "marker": {
             "colorbar": {
              "outlinewidth": 0,
              "ticks": ""
             }
            },
            "type": "scatterpolargl"
           }
          ],
          "scatterternary": [
           {
            "marker": {
             "colorbar": {
              "outlinewidth": 0,
              "ticks": ""
             }
            },
            "type": "scatterternary"
           }
          ],
          "surface": [
           {
            "colorbar": {
             "outlinewidth": 0,
             "ticks": ""
            },
            "colorscale": [
             [
              0,
              "#0d0887"
             ],
             [
              0.1111111111111111,
              "#46039f"
             ],
             [
              0.2222222222222222,
              "#7201a8"
             ],
             [
              0.3333333333333333,
              "#9c179e"
             ],
             [
              0.4444444444444444,
              "#bd3786"
             ],
             [
              0.5555555555555556,
              "#d8576b"
             ],
             [
              0.6666666666666666,
              "#ed7953"
             ],
             [
              0.7777777777777778,
              "#fb9f3a"
             ],
             [
              0.8888888888888888,
              "#fdca26"
             ],
             [
              1,
              "#f0f921"
             ]
            ],
            "type": "surface"
           }
          ],
          "table": [
           {
            "cells": {
             "fill": {
              "color": "#EBF0F8"
             },
             "line": {
              "color": "white"
             }
            },
            "header": {
             "fill": {
              "color": "#C8D4E3"
             },
             "line": {
              "color": "white"
             }
            },
            "type": "table"
           }
          ]
         },
         "layout": {
          "annotationdefaults": {
           "arrowcolor": "#2a3f5f",
           "arrowhead": 0,
           "arrowwidth": 1
          },
          "autotypenumbers": "strict",
          "coloraxis": {
           "colorbar": {
            "outlinewidth": 0,
            "ticks": ""
           }
          },
          "colorscale": {
           "diverging": [
            [
             0,
             "#8e0152"
            ],
            [
             0.1,
             "#c51b7d"
            ],
            [
             0.2,
             "#de77ae"
            ],
            [
             0.3,
             "#f1b6da"
            ],
            [
             0.4,
             "#fde0ef"
            ],
            [
             0.5,
             "#f7f7f7"
            ],
            [
             0.6,
             "#e6f5d0"
            ],
            [
             0.7,
             "#b8e186"
            ],
            [
             0.8,
             "#7fbc41"
            ],
            [
             0.9,
             "#4d9221"
            ],
            [
             1,
             "#276419"
            ]
           ],
           "sequential": [
            [
             0,
             "#0d0887"
            ],
            [
             0.1111111111111111,
             "#46039f"
            ],
            [
             0.2222222222222222,
             "#7201a8"
            ],
            [
             0.3333333333333333,
             "#9c179e"
            ],
            [
             0.4444444444444444,
             "#bd3786"
            ],
            [
             0.5555555555555556,
             "#d8576b"
            ],
            [
             0.6666666666666666,
             "#ed7953"
            ],
            [
             0.7777777777777778,
             "#fb9f3a"
            ],
            [
             0.8888888888888888,
             "#fdca26"
            ],
            [
             1,
             "#f0f921"
            ]
           ],
           "sequentialminus": [
            [
             0,
             "#0d0887"
            ],
            [
             0.1111111111111111,
             "#46039f"
            ],
            [
             0.2222222222222222,
             "#7201a8"
            ],
            [
             0.3333333333333333,
             "#9c179e"
            ],
            [
             0.4444444444444444,
             "#bd3786"
            ],
            [
             0.5555555555555556,
             "#d8576b"
            ],
            [
             0.6666666666666666,
             "#ed7953"
            ],
            [
             0.7777777777777778,
             "#fb9f3a"
            ],
            [
             0.8888888888888888,
             "#fdca26"
            ],
            [
             1,
             "#f0f921"
            ]
           ]
          },
          "colorway": [
           "#636efa",
           "#EF553B",
           "#00cc96",
           "#ab63fa",
           "#FFA15A",
           "#19d3f3",
           "#FF6692",
           "#B6E880",
           "#FF97FF",
           "#FECB52"
          ],
          "font": {
           "color": "#2a3f5f"
          },
          "geo": {
           "bgcolor": "white",
           "lakecolor": "white",
           "landcolor": "#E5ECF6",
           "showlakes": true,
           "showland": true,
           "subunitcolor": "white"
          },
          "hoverlabel": {
           "align": "left"
          },
          "hovermode": "closest",
          "mapbox": {
           "style": "light"
          },
          "paper_bgcolor": "white",
          "plot_bgcolor": "#E5ECF6",
          "polar": {
           "angularaxis": {
            "gridcolor": "white",
            "linecolor": "white",
            "ticks": ""
           },
           "bgcolor": "#E5ECF6",
           "radialaxis": {
            "gridcolor": "white",
            "linecolor": "white",
            "ticks": ""
           }
          },
          "scene": {
           "xaxis": {
            "backgroundcolor": "#E5ECF6",
            "gridcolor": "white",
            "gridwidth": 2,
            "linecolor": "white",
            "showbackground": true,
            "ticks": "",
            "zerolinecolor": "white"
           },
           "yaxis": {
            "backgroundcolor": "#E5ECF6",
            "gridcolor": "white",
            "gridwidth": 2,
            "linecolor": "white",
            "showbackground": true,
            "ticks": "",
            "zerolinecolor": "white"
           },
           "zaxis": {
            "backgroundcolor": "#E5ECF6",
            "gridcolor": "white",
            "gridwidth": 2,
            "linecolor": "white",
            "showbackground": true,
            "ticks": "",
            "zerolinecolor": "white"
           }
          },
          "shapedefaults": {
           "line": {
            "color": "#2a3f5f"
           }
          },
          "ternary": {
           "aaxis": {
            "gridcolor": "white",
            "linecolor": "white",
            "ticks": ""
           },
           "baxis": {
            "gridcolor": "white",
            "linecolor": "white",
            "ticks": ""
           },
           "bgcolor": "#E5ECF6",
           "caxis": {
            "gridcolor": "white",
            "linecolor": "white",
            "ticks": ""
           }
          },
          "title": {
           "x": 0.05
          },
          "xaxis": {
           "automargin": true,
           "gridcolor": "white",
           "linecolor": "white",
           "ticks": "",
           "title": {
            "standoff": 15
           },
           "zerolinecolor": "white",
           "zerolinewidth": 2
          },
          "yaxis": {
           "automargin": true,
           "gridcolor": "white",
           "linecolor": "white",
           "ticks": "",
           "title": {
            "standoff": 15
           },
           "zerolinecolor": "white",
           "zerolinewidth": 2
          }
         }
        },
        "title": {
         "text": "Z-Distribution with Points for Top 5 Player Value Ratings by Position"
        },
        "width": 1200,
        "xaxis": {
         "anchor": "y",
         "domain": [
          0,
          0.2888888888888889
         ]
        },
        "xaxis2": {
         "anchor": "y2",
         "domain": [
          0.35555555555555557,
          0.6444444444444445
         ]
        },
        "xaxis3": {
         "anchor": "y3",
         "domain": [
          0.7111111111111111,
          1
         ]
        },
        "xaxis4": {
         "anchor": "y4",
         "domain": [
          0,
          0.2888888888888889
         ]
        },
        "xaxis5": {
         "anchor": "y5",
         "domain": [
          0.35555555555555557,
          0.6444444444444445
         ]
        },
        "xaxis6": {
         "anchor": "y6",
         "domain": [
          0.7111111111111111,
          1
         ]
        },
        "xaxis7": {
         "anchor": "y7",
         "domain": [
          0,
          0.2888888888888889
         ]
        },
        "xaxis8": {
         "anchor": "y8",
         "domain": [
          0.35555555555555557,
          0.6444444444444445
         ]
        },
        "xaxis9": {
         "anchor": "y9",
         "domain": [
          0.7111111111111111,
          1
         ]
        },
        "yaxis": {
         "anchor": "x",
         "domain": [
          0.7777777777777778,
          1
         ]
        },
        "yaxis2": {
         "anchor": "x2",
         "domain": [
          0.7777777777777778,
          1
         ]
        },
        "yaxis3": {
         "anchor": "x3",
         "domain": [
          0.7777777777777778,
          1
         ]
        },
        "yaxis4": {
         "anchor": "x4",
         "domain": [
          0.3888888888888889,
          0.6111111111111112
         ]
        },
        "yaxis5": {
         "anchor": "x5",
         "domain": [
          0.3888888888888889,
          0.6111111111111112
         ]
        },
        "yaxis6": {
         "anchor": "x6",
         "domain": [
          0.3888888888888889,
          0.6111111111111112
         ]
        },
        "yaxis7": {
         "anchor": "x7",
         "domain": [
          0,
          0.22222222222222224
         ]
        },
        "yaxis8": {
         "anchor": "x8",
         "domain": [
          0,
          0.22222222222222224
         ]
        },
        "yaxis9": {
         "anchor": "x9",
         "domain": [
          0,
          0.22222222222222224
         ]
        }
       }
      },
      "text/html": [
       "<div>            <script src=\"https://cdnjs.cloudflare.com/ajax/libs/mathjax/2.7.5/MathJax.js?config=TeX-AMS-MML_SVG\"></script><script type=\"text/javascript\">if (window.MathJax && window.MathJax.Hub && window.MathJax.Hub.Config) {window.MathJax.Hub.Config({SVG: {font: \"STIX-Web\"}});}</script>                <script type=\"text/javascript\">window.PlotlyConfig = {MathJaxConfig: 'local'};</script>\n",
       "        <script charset=\"utf-8\" src=\"https://cdn.plot.ly/plotly-3.0.1.min.js\"></script>                <div id=\"d36d2d63-2017-485a-9e5e-8057c593c3cc\" class=\"plotly-graph-div\" style=\"height:900px; width:1200px;\"></div>            <script type=\"text/javascript\">                window.PLOTLYENV=window.PLOTLYENV || {};                                if (document.getElementById(\"d36d2d63-2017-485a-9e5e-8057c593c3cc\")) {                    Plotly.newPlot(                        \"d36d2d63-2017-485a-9e5e-8057c593c3cc\",                        [{\"line\":{\"color\":\"lightgrey\"},\"mode\":\"lines\",\"name\":\"Z-Curve\",\"showlegend\":false,\"x\":{\"dtype\":\"f8\",\"bdata\":\"AAAAAAAAEMBv\\u002fbv179YPwN76d+vfrQ\\u002fATfgz4c+ED8C89e\\u002fWv1sPwCvzq8yvMg\\u002fAmvBnwp8JD8AJ7iO4j+AOwHjr361\\u002ftw7A5+ibo2+ODsBW5leZX2UOwMXjE49PPA7ANOHPhD8TDsCj3ot6L+oNwBLcR3AfwQ3AgdkDZg+YDcDw1r9b\\u002f24NwF\\u002fUe1HvRQ3AztE3R98cDcA9z\\u002fM8z\\u002fMMwKzMrzK\\u002fygzAG8prKK+hDMCKxycen3gMwPnE4xOPTwzAaMKfCX8mDMDXv1v\\u002fbv0LwEa9F\\u002fVe1AvAtbrT6k6rC8AkuI\\u002fgPoILwJO1S9YuWQvAArMHzB4wC8BxsMPBDgcLwOCtf7f+3QrAT6s7re60CsC+qPei3osKwC2ms5jOYgrAnKNvjr45CsALoSuErhAKwHqe53me5wnA6Zujb46+CcBYmV9lfpUJwMeWG1tubAnANpTXUF5DCcClkZNGThoJwBSPTzw+8QjAg4wLMi7ICMDyiccnHp8IwGGHgx0OdgjA0IQ\\u002fE\\u002f5MCMA\\u002fgvsI7iMIwK5\\u002ft\\u002f7d+gfAHX1z9M3RB8CMei\\u002fqvagHwPt369+tfwfAanWn1Z1WB8DZcmPLjS0HwEhwH8F9BAfAt23btm3bBsAma5esXbIGwJVoU6JNiQbABGYPmD1gBsBzY8uNLTcGwOJgh4MdDgbAUV5DeQ3lBcDAW\\u002f9u\\u002fbsFwC9Zu2TtkgXAnlZ3Wt1pBcANVDNQzUAFwHxR70W9FwXA606rO63uBMBaTGcxncUEwMlJIyeNnATAOEffHH1zBMCnRJsSbUoEwBZCVwhdIQTAhT8T\\u002fkz4A8D0PM\\u002fzPM8DwGM6i+kspgPA0jdH3xx9A8BBNQPVDFQDwLAyv8r8KgPAHzB7wOwBA8COLTe23NgCwP0q86vMrwLAbCivobyGAsDbJWuXrF0CwEojJ42cNALAuSDjgowLAsAoHp94fOIBwJcbW25suQHABhkXZFyQAcB1FtNZTGcBwOQTj088PgHAUxFLRSwVAcDCDgc7HOwAwDEMwzAMwwDAoAl\\u002fJvyZAMAPBzsc7HAAwH4E9xHcRwDA7QGzB8weAMC4\\u002ft36d+v\\u002fv5b5VeZXmf+\\u002fdPTN0TdH\\u002f79S70W9F\\u002fX+vzDqvaj3ov6\\u002fDuU1lNdQ\\u002fr\\u002fs361\\u002ft\\u002f79v8raJWuXrP2\\u002fqNWdVnda\\u002fb+G0BVCVwj9v2TLjS03tvy\\u002fQsYFGRdk\\u002fL8gwX0E9xH8v\\u002f679e\\u002fWv\\u002fu\\u002f3LZt27Zt+7+6seXGlhv7v5isXbJ2yfq\\u002fdqfVnVZ3+r9Uok2JNiX6vzKdxXQW0\\u002fm\\u002fEJg9YPaA+b\\u002fukrVL1i75v8yNLTe23Pi\\u002fqoilIpaK+L+Igx0Odjj4v2Z+lflV5ve\\u002fRHkN5TWU978idIXQFUL3vwBv\\u002fbv17\\u002fa\\u002f3ml1p9Wd9r+8ZO2StUv2v5pfZX6V+fW\\u002feFrdaXWn9b9WVVVVVVX1vzRQzUA1A\\u002fW\\u002fEktFLBWx9L\\u002fwRb0X9V70v85ANQPVDPS\\u002frDut7rS687+KNiXalGjzv2gxncV0FvO\\u002fRiwVsVTE8r8kJ42cNHLyvwIiBYgUIPK\\u002f4Bx9c\\u002fTN8b++F\\u002fVe1Hvxv5wSbUq0KfG\\u002feg3lNZTX8L9YCF0hdIXwvzYD1QxUM\\u002fC\\u002fKPyZ8GfC77\\u002fk8YnHJx7vv6DneZ7nee6\\u002fXN1pdafV7b8Y01lMZzHtv9TISSMnjey\\u002fkL45+ubo679MtCnRpkTrvwiqGahmoOq\\u002fxJ8Jfyb86b+AlflV5lfpvzyL6Syms+i\\u002f+IDZA2YP6L+0dsnaJWvnv3BsubHlxua\\u002fLGKpiKUi5r\\u002foV5lfZX7lv6RNiTYl2uS\\u002fYEN5DeU15L8cOWnkpJHjv9guWbtk7eK\\u002flCRJkiRJ4r9QGjlp5KThvwwQKUCkAOG\\u002fyAUZF2Rc4L8I9xHcR3Dfv4Di8YnHJ96\\u002f+M3RN0ff3L9wubHlxpbbv+ikkZNGTtq\\u002fYJBxQcYF2b\\u002fYe1HvRb3Xv1BnMZ3FdNa\\u002fyFIRS0Us1b9APvH4xOPTv7gp0aZEm9K\\u002fMBWxVMRS0b+oAJECRArQv0DY4WCHg82\\u002fMK+hvIbyyr8ghmEYhmHIvxBdIXSF0MW\\u002fADThz4Q\\u002fw7\\u002fwCqErhK7Av8DDwQ4HO7y\\u002foHFBxgUZt7+AH8F9BPexv8CagWoGqqm\\u002fAO0BswfMnr8ASQEiBYiEvwBIASIFiIQ\\u002fAOwBswfMnj+AmoFqBqqpP4AfwX0E97E\\u002fgHFBxgUZtz+Aw8EOBzu8P+AKoSuErsA\\u002fADThz4Q\\u002fwz8AXSF0hdDFPwCGYRiGYcg\\u002fIK+hvIbyyj9A2OFgh4PNP6AAkQJECtA\\u002fIBWxVMRS0T+wKdGmRJvSP0A+8fjE49M\\u002fwFIRS0Us1T9AZzGdxXTWP9B7Ue9Fvdc\\u002fYJBxQcYF2T\\u002fgpJGTRk7aP2C5seXGlts\\u002f8M3RN0ff3D+A4vGJxyfePwD3EdxHcN8\\u002fwAUZF2Rc4D8IEClApADhP1AaOWnkpOE\\u002fkCRJkiRJ4j\\u002fQLlm7ZO3iPxg5aeSkkeM\\u002fYEN5DeU15D+gTYk2JdrkP+BXmV9lfuU\\u002fKGKpiKUi5j9wbLmx5cbmP7B2ydola+c\\u002f8IDZA2YP6D84i+ksprPoP4CV+VXmV+k\\u002fwJ8Jfyb86T8AqhmoZqDqP0i0KdGmROs\\u002fkL45+ubo6z\\u002fQyEkjJ43sPxDTWUxnMe0\\u002fWN1pdafV7T+g53me53nuP+DxiccnHu8\\u002fIPyZ8GfC7z80A9UMVDPwP1gIXSF0hfA\\u002feA3lNZTX8D+YEm1KtCnxP7wX9V7Ue\\u002fE\\u002f4Bx9c\\u002fTN8T8AIgWIFCDyPyAnjZw0cvI\\u002fRCwVsVTE8j9oMZ3FdBbzP4g2JdqUaPM\\u002fqDut7rS68z\\u002fMQDUD1Qz0P\\u002fBFvRf1XvQ\\u002fEEtFLBWx9D8wUM1ANQP1P1RVVVVVVfU\\u002feFrdaXWn9T+YX2V+lfn1P7hk7ZK1S\\u002fY\\u002f3Gl1p9Wd9j8Ab\\u002f279e\\u002f2PyB0hdAVQvc\\u002fQHkN5TWU9z9kfpX5Veb3P4iDHQ52OPg\\u002fqIilIpaK+D\\u002fIjS03ttz4P+yStUvWLvk\\u002fEJg9YPaA+T8wncV0FtP5P1CiTYk2Jfo\\u002fdKfVnVZ3+j+YrF2ydsn6P7ix5caWG\\u002fs\\u002f2LZt27Zt+z\\u002f8u\\u002fXv1r\\u002f7PyDBfQT3Efw\\u002fQMYFGRdk\\u002fD9gy40tN7b8P4TQFUJXCP0\\u002fqNWdVnda\\u002fT\\u002fI2iVrl6z9P+jfrX+3\\u002fv0\\u002fDOU1lNdQ\\u002fj8w6r2o96L+P1DvRb0X9f4\\u002fcPTN0TdH\\u002fz+U+VXmV5n\\u002fP7j+3fp36\\u002f8\\u002f7AGzB8weAEB8BPcR3EcAQA4HOxzscABAoAl\\u002fJvyZAEAwDMMwDMMAQMAOBzsc7ABAUhFLRSwVAUDkE49PPD4BQHQW01lMZwFABBkXZFyQAUCWG1tubLkBQCgen3h84gFAuCDjgowLAkBIIyeNnDQCQNola5esXQJAbCivobyGAkD8KvOrzK8CQIwtN7bc2AJAHjB7wOwBA0CwMr\\u002fK\\u002fCoDQEA1A9UMVANA0DdH3xx9A0BiOovpLKYDQPQ8z\\u002fM8zwNAhD8T\\u002fkz4A0AUQlcIXSEEQKZEmxJtSgRAOEffHH1zBEDISSMnjZwEQFhMZzGdxQRA6k6rO63uBEB8Ue9FvRcFQAxUM1DNQAVAnFZ3Wt1pBUAuWbtk7ZIFQMBb\\u002f279uwVAUF5DeQ3lBUDgYIeDHQ4GQHJjy40tNwZABGYPmD1gBkCUaFOiTYkGQCRrl6xdsgZAtm3btm3bBkBIcB\\u002fBfQQHQNhyY8uNLQdAaHWn1Z1WB0D6d+vfrX8HQIx6L+q9qAdAHH1z9M3RB0Csf7f+3foHQD6C+wjuIwhA0IQ\\u002fE\\u002f5MCEBgh4MdDnYIQPCJxycenwhAgowLMi7ICEAUj088PvEIQKSRk0ZOGglANJTXUF5DCUDGlhtbbmwJQFiZX2V+lQlA6Jujb46+CUB4nud5nucJQAqhK4SuEApAnKNvjr45CkAsprOYzmIKQLyo96LeiwpATqs7re60CkDgrX+3\\u002ft0KQHCww8EOBwtAALMHzB4wC0CStUvWLlkLQCS4j+A+ggtAtLrT6k6rC0BEvRf1XtQLQNa\\u002fW\\u002f9u\\u002fQtAaMKfCX8mDED4xOMTj08MQIjHJx6feAxAGsprKK+hDECszK8yv8oMQDzP8zzP8wxAzNE3R98cDUBe1HtR70UNQPDWv1v\\u002fbg1AgNkDZg+YDUAQ3EdwH8ENQKLei3ov6g1ANOHPhD8TDkDE4xOPTzwOQFTmV5lfZQ5A5uibo2+ODkB469+tf7cOQAjuI7iP4A5AmPBnwp8JD0Aq86vMrzIPQLz179a\\u002fWw9ATPgz4c+ED0Dc+nfr360PQG79u\\u002fXv1g9AAAAAAAAAEEA=\"},\"xaxis\":\"x\",\"y\":{\"dtype\":\"f8\",\"bdata\":\"tbTA4piKIT\\u002fVpf16mgAjP3FZkSukkyQ\\u002f6U48VsdFJj\\u002fiwpAcNxkoPwUMvTZKECo\\u002fCqH63XwtLD8rAQPLcnMuPz9VcqR8cjA\\u002fai5FroTCMT8yB58AZSszPzyVMz3JrjQ\\u002f1nFcXXZONj+xxnzwSww4P2KBP2VF6jk\\u002f5Q23XXvqOz8RAV4OJQ8+P57299NMLUA\\u002fsGkE5qhnQT8QHTiG9LdCP7l1dbqPH0Q\\u002ff9Wxj+2fRT+N8RfplDpHPz6kFFQh8Ug\\u002f12Yk4UPFSj+R9zABxLhMP6axR2eAzU4\\u002fEuY097eCUD9jBphBUbFRP1rCeQih81I\\u002fzlASuclKVD9to7ix+7dVP8zdqLx1PFc\\u002fL4fFi4XZWD9xDBY1iJBaP65NwK\\u002fqYlw\\u002fr\\u002fk1USpSXj82siSl6i9gP1Us7JHFRmE\\u002fnxBbnX5uYj\\u002fEWDyd96djP6q4Y8sb9GQ\\u002f+WFiAeBTZj8V9xLzQshnP+3Gw2dNUmk\\u002fwLLDcRLzaj\\u002fLbROkr6tsP+Ab+kVNfW4\\u002fsdocQo80cD8Bg87PMDhxPyFOSwwwSnI\\u002fF8vSazdrcz\\u002ffchkp95t0P365y1Ul3XU\\u002fr7b86H0vdz8hl1bLwpN4Pywj4uC7Cno\\u002fxto5EDeVez9UcfxGCDR9P9zZUXsJ6H4\\u002fIMsqVQ1ZgD\\u002feTpzpkEmBP4x4dncFRoI\\u002fjmwW8uNOgz9Y69c7qGSEP26\\u002fLxzRh4U\\u002fsGyvM+C4hj8ssNvtWfiHP466v3DFRok\\u002fx4Eniqykij+\\u002fEWyamxKMP1JovXwhkY0\\u002fACjWbM8gjz8uIwN1HGGQP2Vowcv5OpE\\u002f6vn0jEsekj\\u002fDz\\u002fV4XguTP103BCqAApQ\\u002fzu+s\\u002fv4DlT83OawCKhCWPzLzStZQJ5c\\u002fXMcxlMNJmD\\u002ffS6+10neZPxMIb\\u002fXOsZo\\u002fElGgMAn4mz+QDo1G0kqdP7+fofZ6qp4\\u002fpyZ03qkLoD9\\u002f+31W1sigP5x8u6XqjKE\\u002fNlDyMg5Yoj\\u002fgcZ70ZyqjP0HHeVseBKQ\\u002fbbtSPFflpD9l7ze5N86lPzTR\\u002fynkvqY\\u002fBrEzBIC3pz+ys2bCLbioP9DLAcsOwak\\u002fda2OVkPSqj+6e4xV6uurP6652VUhDq0\\u002fFNK\\u002fZwQ5rj9BUK0CrmyvP81U1nSbVLA\\u002f1RvTB1v3sD+wX749oJ6xP4xMCpZ0SrI\\u002f1h4rfuD6sj89055D66+zP7pHBAababQ\\u002foCFLqfQntT+8EwbI++q1P61h6aWysrY\\u002fZLl\\u002fIhp\\u002ftz\\u002fVsR+sMVC4P65sLDP3Jbk\\u002fBAGsHWcAuj9gdT47fN+6PwsogLkvw7s\\u002f6JTiGHmrvD+9bwYiTpi9P9wIotuiib4\\u002fV+f+gGl\\u002fvz8vuIw8yTzAP9GqNicGvMA\\u002foq6802E9wT\\u002f7cQKg0cDBP1afmPFJRsI\\u002fUG0wM77Nwj861X7SIFfDPwMKlD5j4sM\\u002f3Jar5nVvxD8gVXk5SP7EP1As96TIjsU\\u002fFE23luQgxj+OUb58iLTGP71h6MafScc\\u002fqSrc6BTgxz9SIo5c0XfIP785VqW9EMk\\u002fY8GZU8GqyT+N4woJw0XKPy+0fn2o4co\\u002fym1ahFZ+yz+3CJgSsRvMP\\u002ffsYUWbucw\\u002f\\u002fA5FafdXzT+RVvgBp\\u002fbNP9K7t9KKlc4\\u002f+REx54I0zz+UAgCdbtPPPxQj21YWOdA\\u002fAVm2nE2I0D\\u002fWnuzoS9fQPzrX8sL\\u002fJdE\\u002fVBLhdld00T94KrcbQcLRP8nk2ZmqD9I\\u002fgY3FsYFc0j8h0\\u002fICtKjSP\\u002fBw6hIv9NI\\u002fcAiEVOA+0z\\u002fqWkwvtYjTP+XnDgeb0dM\\u002f5ct+Q38Z1D\\u002f7k\\u002fpXT2DUP+OWZsv4pdQ\\u002fx0MZQGnq1D9oudR7ji3VP6LeyG9Wb9U\\u002f6B6ZQK+v1T\\u002fj2mBOh+7VP7qOsTzNK9Y\\u002f2aSF+m9n1j9T5SLKXqHWP41v50iJ2dY\\u002fdi38dt8P1z9dtee+UUTXP5qZ\\u002fPzQdtc\\u002fgTOehk6n1z+UCVcxvNXXP8MHvFkMAtg\\u002fNdsX6jEs2D824tlgIFTYP71DxNbLedg\\u002f6OjUBCmd2D9uPeVJLb7YP2PK\\u002fK\\u002fO3Ng\\u002fYfBS8QP52D+TO\\u002fx8xBLZP0YEQHsIKtk\\u002fMkqT0cg+2T+49jUm\\u002f1DZPy\\u002fzb+OlYNk\\u002fXsNrOrht2T+TmawlMnjZP8ogHmsQgNk\\u002fMoK8nVCF2T9LddMe8YfZP0t10x7xh9k\\u002fMoK8nVCF2T\\u002fKIB5rEIDZP5OZrCUyeNk\\u002fXsNrOrht2T8w82\\u002fjpWDZP7n2NSb\\u002fUNk\\u002fMkqT0cg+2T9HBEB7CCrZP5Q7\\u002fHzEEtk\\u002fYvBS8QP52D9jyvyvztzYP2895Uktvtg\\u002f6ejUBCmd2D++Q8TWy3nYPzbi2WAgVNg\\u002fNtsX6jEs2D\\u002fFB7xZDALYP5UJVzG81dc\\u002fgTOehk6n1z+cmfz80HbXP1+1575RRNc\\u002feC38dt8P1z+Nb+dIidnWP1XlIspeodY\\u002f3aSF+m9n1j+8jrE8zSvWP+PaYE6H7tU\\u002f6h6ZQK+v1T+l3shvVm\\u002fVP2m51HuOLdU\\u002fx0MZQGnq1D\\u002fmlmbL+KXUP\\u002f+T+ldPYNQ\\u002f58t+Q38Z1D\\u002fl5w4Hm9HTP+1aTC+1iNM\\u002fdAiEVOA+0z\\u002fxcOoSL\\u002fTSPyHT8gK0qNI\\u002fgo3FsYFc0j\\u002fN5NmZqg\\u002fSP3oqtxtBwtE\\u002fVBLhdld00T881\\u002fLC\\u002fyXRP9qe7OhL19A\\u002fA1m2nE2I0D8UI9tWFjnQP5kCAJ1u088\\u002fARIx54I0zz\\u002fVu7fSipXOP5FW+AGn9s0\\u002fAQ9FafdXzT\\u002f\\u002f7GFFm7nMP7oImBKxG8w\\u002fym1ahFZ+yz80tH59qOHKP5XjCgnDRco\\u002fZsGZU8GqyT+\\u002fOValvRDJP1YijlzRd8g\\u002fsSrc6BTgxz\\u002fBYejGn0nHP45RvnyItMY\\u002fGE23luQgxj9XLPekyI7FPyRVeTlI\\u002fsQ\\u002f3Jar5nVvxD8HCpQ+Y+LDP0HVftIgV8M\\u002fVG0wM77Nwj9Wn5jxSUbCP\\u002f5xAqDRwME\\u002fqK6802E9wT\\u002fUqjYnBrzAPy+4jDzJPMA\\u002fXuf+gGl\\u002fvz\\u002fpCKLboom+P8NvBiJOmL0\\u002f6JTiGHmrvD8SKIC5L8O7P2x1Pjt837o\\u002fCAGsHWcAuj+ubCwz9yW5P9qxH6wxULg\\u002fbrl\\u002fIhp\\u002ftz+zYemlsrK2P7wTBsj76rU\\u002fpCFLqfQntT\\u002fDRwQGm2m0P0HTnkPrr7M\\u002f1h4rfuD6sj+QTAqWdEqyP7hfvj2gnrE\\u002f2RvTB1v3sD\\u002fNVNZ0m1SwP0dQrQKubK8\\u002fI9K\\u002fZwQ5rj+2udlVIQ6tP7p7jFXq66s\\u002fe62OVkPSqj\\u002fdywHLDsGpP7izZsItuKg\\u002fBrEzBIC3pz850f8p5L6mP3DvN7k3zqU\\u002fcrtSPFflpD9Bx3lbHgSkP+VxnvRnKqM\\u002fQFDyMg5Yoj+hfLul6oyhP3\\u002f7fVbWyKA\\u002friZ03qkLoD\\u002fPn6H2eqqeP5cOjUbSSp0\\u002fElGgMAn4mz8ZCG\\u002f1zrGaP+9Lr7XSd5k\\u002fYccxlMNJmD8y80rWUCeXPzw5rAIqEJY\\u002f2++s\\u002fv4DlT9hNwQqgAKUP8PP9XheC5M\\u002f7\\u002fn0jEsekj9waMHL+TqRPzMjA3UcYZA\\u002fACjWbM8gjz9eaL18IZGNP9ARbJqbEow\\u002fz4Eniqykij+Our9wxUaJPzWw2+1Z+Ic\\u002fwWyvM+C4hj90vy8c0YeFP1jr1zuoZIQ\\u002flWwW8uNOgz+YeHZ3BUaCP+ROnOmQSYE\\u002fIMsqVQ1ZgD\\u002fi2VF7Ceh+P2tx\\u002fEYINH0\\u002fzto5EDeVez8sI+Lguwp6PyiXVsvCk3g\\u002fwbb86H0vdz+DuctVJd11P99yGSn3m3Q\\u002fHMvSazdrcz8vTksMMEpyPwWDzs8wOHE\\u002fsdocQo80cD\\u002foG\\u002fpFTX1uP+BtE6Svq2w\\u002fyLLDcRLzaj\\u002ftxsNnTVJpPyH3EvNCyGc\\u002fCmJiAeBTZj+0uGPLG\\u002fRkP8RYPJ33p2M\\u002fqRBbnX5uYj9iLOyRxUZhPzqyJKXqL2A\\u002fr\\u002fk1USpSXj+8TcCv6mJcP4YMFjWIkFo\\u002fPIfFi4XZWD\\u002fM3ai8dTxXP3OjuLH7t1U\\u002f4lASuclKVD9jwnkIofNSP2MGmEFRsVE\\u002fFuY097eCUD\\u002fGsUdngM1OP5\\u002f3MAHEuEw\\u002f12Yk4UPFSj9EpBRUIfFIP6TxF+mUOkc\\u002fitWxj+2fRT+5dXW6jx9EPxkdOIb0t0I\\u002fwWkE5qhnQT+m9vfTTC1APxEBXg4lDz4\\u002f8w23XXvqOz91gT9lReo5P73GfPBLDDg\\u002f1nFcXXZONj9AlTM9ya40P0UHnwBlKzM\\u002fci5FroTCMT8\\u002fVXKkfHIwPzkBA8tycy4\\u002fJ6H63XwtLD8SDL02ShAqP+LCkBw3GSg\\u002f9E48VsdFJj+FWZErpJMkP9+l\\u002fXqaACM\\u002ftbTA4piKIT8=\"},\"yaxis\":\"y\",\"type\":\"scatter\"},{\"marker\":{\"color\":{\"dtype\":\"f8\",\"bdata\":\"vfo2vHx77j+9otX11GTnPwAAAAAAAOA\\u002fNSLGVovq6j8BIk+K6iTlP4a6VBRWNtE\\u002fNSLGVovq6j+9otX11GTnP9QC68bF6+0\\u002fOGatcNQr7T8BIk+K6iTlP3q053Mrt9o\\u002fvaLV9dRk5z\\u002fJeYpafS\\u002fsPyj5rjUUU+k\\u002fNSLGVovq6j8o+a41FFPpP3q053Mrt9o\\u002fvaLV9dRk5z+9+ja8fHvuP8l5ilp9L+w\\u002f1ALrxsXr7T8BIk+K6iTlPzUixlaL6uo\\u002fNSLGVovq6j84Zq1w1CvtP72i1fXUZOc\\u002fyXmKWn0v7D84Zq1w1CvtP736Nrx8e+4\\u002f1ALrxsXr7T+9otX11GTnPyj5rjUUU+k\\u002fNSLGVovq6j+9+ja8fHvuPzUixlaL6uo\\u002f1ALrxsXr7T8o+a41FFPpP+rhDS+obO8\\u002fAAAAAAAA4D84Zq1w1CvtPyS7VbDRM+8\\u002fASJPiuok5T8AAAAAAADgP72i1fXUZOc\\u002fASJPiuok5T8o+a41FFPpP72i1fXUZOc\\u002f1ALrxsXr7T8o+a41FFPpP9QC68bF6+0\\u002fvaLV9dRk5z8ku1Ww0TPvPyS7VbDRM+8\\u002fJLtVsNEz7z81IsZWi+rqP3q053Mrt9o\\u002fyXmKWn0v7D\\u002fUAuvGxevtP2h\\u002fYzDT5e4\\u002faH9jMNPl7j\\u002fDJQxGaqTiPyj5rjUUU+k\\u002fOGatcNQr7T+9otX11GTnP736Nrx8e+4\\u002fvfo2vHx77j+9+ja8fHvuP736Nrx8e+4\\u002fvfo2vHx77j+9+ja8fHvuP736Nrx8e+4\\u002fvfo2vHx77j81IsZWi+rqPwEiT4rqJOU\\u002fvaLV9dRk5z\\u002fJeYpafS\\u002fsPzhmrXDUK+0\\u002f1ALrxsXr7T\\u002fUAuvGxevtP9QC68bF6+0\\u002f1ALrxsXr7T\\u002fUAuvGxevtP9QC68bF6+0\\u002f1ALrxsXr7T84Zq1w1CvtPzhmrXDUK+0\\u002fKPmuNRRT6T84Zq1w1CvtPzhmrXDUK+0\\u002fOGatcNQr7T84Zq1w1CvtPzhmrXDUK+0\\u002fOGatcNQr7T84Zq1w1CvtPzhmrXDUK+0\\u002fOGatcNQr7T84Zq1w1CvtPzhmrXDUK+0\\u002fNSLGVovq6j\\u002fJeYpafS\\u002fsPyj5rjUUU+k\\u002fyXmKWn0v7D8BIk+K6iTlP72i1fXUZOc\\u002fwyUMRmqk4j8BIk+K6iTlP8l5ilp9L+w\\u002fyXmKWn0v7D\\u002fJeYpafS\\u002fsP8l5ilp9L+w\\u002fyXmKWn0v7D\\u002fJeYpafS\\u002fsP8l5ilp9L+w\\u002fASJPiuok5T96tOdzK7faPwEiT4rqJOU\\u002fwyUMRmqk4j+9otX11GTnP72i1fXUZOc\\u002fNSLGVovq6j81IsZWi+rqP72i1fXUZOc\\u002fAAAAAAAA4D+9otX11GTnP72i1fXUZOc\\u002fNSLGVovq6j81IsZWi+rqPzUixlaL6uo\\u002fNSLGVovq6j81IsZWi+rqPzUixlaL6uo\\u002fNSLGVovq6j81IsZWi+rqPzUixlaL6uo\\u002fNSLGVovq6j81IsZWi+rqPzUixlaL6uo\\u002fNSLGVovq6j8BIk+K6iTlPwEiT4rqJOU\\u002ferTncyu32j8o+a41FFPpPyj5rjUUU+k\\u002fASJPiuok5T8o+a41FFPpP72i1fXUZOc\\u002fASJPiuok5T8AAAAAAADgPyj5rjUUU+k\\u002fKPmuNRRT6T8o+a41FFPpPyj5rjUUU+k\\u002fKPmuNRRT6T8o+a41FFPpPyj5rjUUU+k\\u002fAAAAAAAA4D8AAAAAAADgPwEiT4rqJOU\\u002fASJPiuok5T8BIk+K6iTlP8MlDEZqpOI\\u002fvaLV9dRk5z96tOdzK7faP3q053Mrt9o\\u002fASJPiuok5T\\u002f\\u002fu2HrKrbVP72i1fXUZOc\\u002fvaLV9dRk5z+9otX11GTnP72i1fXUZOc\\u002fvaLV9dRk5z+9otX11GTnP72i1fXUZOc\\u002fwyUMRmqk4j8BIk+K6iTlPwEiT4rqJOU\\u002fwyUMRmqk4j8BIk+K6iTlPwEiT4rqJOU\\u002ferTncyu32j96tOdzK7faPwEiT4rqJOU\\u002fASJPiuok5T8BIk+K6iTlP64xrCsVhL4\\u002fASJPiuok5T8BIk+K6iTlP8MlDEZqpOI\\u002fASJPiuok5T8BIk+K6iTlPwEiT4rqJOU\\u002fASJPiuok5T8BIk+K6iTlPwEiT4rqJOU\\u002fASJPiuok5T8BIk+K6iTlPwEiT4rqJOU\\u002ferTncyu32j8ud+ek0lXEP3q053Mrt9o\\u002fAAAAAAAA4D96tOdzK7faP\\u002f+7YesqttU\\u002f\\u002f7th6yq21T\\u002fDJQxGaqTiP8MlDEZqpOI\\u002fwyUMRmqk4j\\u002fDJQxGaqTiP8MlDEZqpOI\\u002fwyUMRmqk4j\\u002fDJQxGaqTiPwAAAAAAAOA\\u002ferTncyu32j8AAAAAAADgPwAAAAAAAOA\\u002fRs6Uelyhtj+GulQUVjbRPwAAAAAAAOA\\u002fAAAAAAAA4D8AAAAAAADgPwAAAAAAAOA\\u002fAAAAAAAA4D8AAAAAAADgPwAAAAAAAOA\\u002fAAAAAAAA4D8AAAAAAADgPwAAAAAAAOA\\u002fAAAAAAAA4D8AAAAAAADgPwAAAAAAAOA\\u002fAAAAAAAA4D8AAAAAAADgP\\u002f+7YesqttU\\u002ferTncyu32j\\u002f\\u002fu2HrKrbVP3q053Mrt9o\\u002fLnfnpNJVxD96tOdzK7faP3q053Mrt9o\\u002ferTncyu32j96tOdzK7faP3q053Mrt9o\\u002ferTncyu32j96tOdzK7faP3q053Mrt9o\\u002ferTncyu32j96tOdzK7faP\\u002f+7YesqttU\\u002fYBtEKa+zyj9gG0Qpr7PKP2Tpp8jRobA\\u002f\\u002f7th6yq21T+GulQUVjbRP4a6VBRWNtE\\u002f\\u002f7th6yq21T\\u002f\\u002fu2HrKrbVP\\u002f+7YesqttU\\u002f\\u002f7th6yq21T9gG0Qpr7PKP2AbRCmvs8o\\u002f\\u002f7th6yq21T\\u002f\\u002fu2HrKrbVP\\u002f+7YesqttU\\u002f\\u002f7th6yq21T\\u002f\\u002fu2HrKrbVP\\u002f+7YesqttU\\u002fYBtEKa+zyj9gG0Qpr7PKP4a6VBRWNtE\\u002fLnfnpNJVxD+GulQUVjbRP4a6VBRWNtE\\u002fhrpUFFY20T+GulQUVjbRP4a6VBRWNtE\\u002fhrpUFFY20T9GzpR6XKG2Py5356TSVcQ\\u002fYBtEKa+zyj8ud+ek0lXEP2AbRCmvs8o\\u002fYBtEKa+zyj9GzpR6XKG2Py5356TSVcQ\\u002fLnfnpNJVxD8ud+ek0lXEP64xrCsVhL4\\u002frjGsKxWEvj9GzpR6XKG2P64xrCsVhL4\\u002fRs6Uelyhtj9k6afI0aGwP2Tpp8jRobA\\u002f\"},\"showscale\":true,\"size\":{\"dtype\":\"f8\",\"bdata\":\"AAAAAAAA8D8jro6RG9rsP6vD+BcCtes\\u002fnLE24rnI4D8ntxyjQxLhPy3y2MQMr+U\\u002fU\\u002fBxeDCe2z+paE4kBF7eP0\\u002fs+Lz2GNc\\u002fJAcr1Ipi1T+pT6\\u002fxic3XPzpx2onkLt4\\u002flOj\\u002fjjBb1D8zt\\u002fVsxKrPP0v8aay1NM8\\u002fdh0tcalzyz\\u002fbYnrOEq7NP5uLsXcATNg\\u002foebZ3OOVzT+zOBSgyDPBPzGvoZjfjcQ\\u002fUVO9OQE4wD8u912pm6zMP9m3O0BwU8I\\u002fF6nL97MKwj8SHxSBwgq8P+1AwdJy78Y\\u002f8ZvYfJ7duz\\u002fXS7lkwXu4P\\u002fX1czG5CbM\\u002f3H5Zc0eIsz\\u002fZ6rLeHLDEPyGQRgL+PME\\u002fugqkOCGDvD8iBM9E1y6wPzT+mJnhArk\\u002fMEwuV39+rD+6wd+c0Jm8P90B8XdA\\u002fJ0\\u002fJAi1wq54zT\\u002f3NjR8onWrPw52QdgFYZc\\u002fgR4MAE1gwz8+MRzs1BbMPywWUkwHwb0\\u002fdH9JTWKcwj\\u002ffnnvZBMO2P6MdI5K+8Lw\\u002fDbGBzxiOlj++bYN1liK1Py4aESC8YJU\\u002f3ksIbacCuz8AAAAAAAAAAAAAAAAAAAAAAAAAAAAAAAC4BRRGdZqsP9Gea6m4Vc4\\u002fK7zHEBtloz8IOfrPwOKMPwAAAAAAAAAAAAAAAAAAAABmj+YVB\\u002fjEP1hPGSQPuLI\\u002fYfSUO34ylD+MkrG5nrG4PwAAAAAAAAAAAAAAAAAAAAAAAAAAAAAAAAAAAAAAAAAAAAAAAAAAAAAAAAAAAAAAAAAAAAAAAAAAAAAAAAAAAACdhX5KIqanP\\u002f3nthS6Tr8\\u002fsSKuIqJ\\u002ftz+3a+WEZ\\u002fqbP3hUeVvQaIk\\u002fAAAAAAAAAAAAAAAAAAAAAAAAAAAAAAAAAAAAAAAAAAAAAAAAAAAAAAAAAAAAAAAAAAAAAAAAAAANoC45tSZ8P0s4pueK8HA\\u002fmnd+vUkgrD8AAAAAAAAAAAAAAAAAAAAAAAAAAAAAAAAAAAAAAAAAAAAAAAAAAAAAAAAAAAAAAAAAAAAAAAAAAAAAAAAAAAAAAAAAAAAAAAAAAAAAAAAAAAAAAAAAAAAAnUEHxA3hnT+T4bBKw6SCPxzt0cBqAac\\u002f8ILbWm9Cdz82TumpayO5PywB1YLpNbE\\u002fO+otWJW0wD9gwB85lk64PwAAAAAAAAAAAAAAAAAAAAAAAAAAAAAAAAAAAAAAAAAAAAAAAAAAAAAAAAAAAAAAAAAAAAAAAAAAfT9Rc7++tz+CyUOJlgbJP\\u002fn7ez5YMLc\\u002fVsVgOkG\\u002fvz++YNW+jyCuP\\u002fT9O9eQv60\\u002fBe9feWkzhT8rVHxGUJSDPxfFUuf1zKw\\u002fDebKdsZewz8JbmhdSKaqP+lx2DSxUKk\\u002fAAAAAAAAAAAAAAAAAAAAAAAAAAAAAAAAAAAAAAAAAAAAAAAAAAAAAAAAAAAAAAAAAAAAAAAAAAAAAAAAAAAAAAAAAAAAAAAAAAAAAAAAAAAAAAAAAAAAAAAAAAAAAAAAAAAAAAAAAAC7gDXtwriyP0Or4ywpbbI\\u002fRXKu7s0Axj+uQ+DGMiiFP\\u002f5HAc0ggIQ\\u002fpgfQnyCJsD+KBmmQBmmAPwe\\u002feyDC754\\u002fUFiT6a9trT\\u002ftOrDA\\u002fxDAPwAAAAAAAAAAAAAAAAAAAAAAAAAAAAAAAAAAAAAAAAAAAAAAAAAAAAAAAAAAAAAAAAAAAAAAAAAAubnnY1vhvz\\u002fuRr3RGri\\u002fPyQ0UIdvCqo\\u002fwmKl6zUPqT\\u002f5\\u002fJvWAVSoP9ejQ4Yex7M\\u002ft6UB45dbij99GhSvC1fCP278MiarFsI\\u002fkSRJkiRJoj\\u002fKLZ\\u002fSFfzFPwAAAAAAAAAAAAAAAAAAAAAAAAAAAAAAAAAAAAAAAAAAAAAAAAAAAAAAAAAAAAAAAAAAAAAAAAAApF8lOv6BrT\\u002f1Mw59vT+YPz8SWG\\u002fMQJI\\u002fZ8kAkLp0qD+oqPmG6\\u002fyMPwabA4lW2Iw\\u002fDZgxcNQ9vj+m\\u002fvslHyS+P7KFwOJltok\\u002fMSeBuFBzgj\\u002fsCx1CW1eBP8BICXeju84\\u002flwcW88Bifj8X\\u002fxgrHpV7P+Umsx9GNqM\\u002fAAAAAAAAAAAAAAAAAAAAAAAAAAAAAAAAAAAAAAAAAAAAAAAAAAAAAAAAAAAAAAAAAAAAAAAAAAAAAAAAAAAAAAAAAAAAAAAAZF5ac2RNuj9qARTYVgnKP4RzIL4BELc\\u002fhRtuuOGGqz+GkvCLIL+1PxGbjsUU670\\u002fmSiT2N+JvT8ZosJZhFGCP0weAVbv5IE\\u002fqbyHtMm3dT8AAAAAAAAAAAAAAAAAAAAAAAAAAAAAAAAAAAAAAAAAAJNsa87bhqA\\u002fZuwPxte9rj93pcQoNPuXP7xgXjAvmJc\\u002fVmqrnEJoyT+\\u002fYNW+jyC+P9QzEJWO7Ik\\u002fjshQ0vtIhj+qLpQogyGBP2YTqPpEbnM\\u002fAAAAAAAAAAAAAAAAAAAAAAAAAAAAAAAAAAAAAAAAAAAAAAAAAAAAAAAAAAAAAAAAAAAAAAAAAAAAAAAAAAAAAAAAAAAAAAAAAAAAAAAAAAAAAAAAAAAAAETpz4bKpK8\\u002fbYELXOAClz+2aTgyVbSrPyM1Zk40PZM\\u002fXt9VOiXrvz+dUJZasouKPz0dyfZoBoA\\u002fDnDFGnDFaj8AAAAAAAAAAAAAAAAAAAAAAAAAAAAAAAAAAAAAAAAAAAAAAAAAAAAAAAAAAAAAAAAAAAAAAAAAANiAbEA2IJs\\u002f6isG57QXtD81oZw6RQW0P1wBBxSzkME\\u002fvBwsXmTTkz+DmtJRYYenP9wECehFnaY\\u002fV89ykpELjD8NFpPUMwSMP8a1z62BlXk\\u002fMvuO+T07bz8qwqWO8fKtP7Ov\\u002f8l9Ra0\\u002fAAAAAAAAAAAAAAAAAAAAAAAAAAAAAAAAAAAAAAAAAAAAAAAAAAAAAAAAAAAAAAAAImGosb9iqj9eO7\\u002fpwP+kP5gGUiy\\u002fdYo\\u002flxywFI5LrD+tcnWArFx9P802dKRc7XU\\u002fAAAAAAAAAAAAAAAAAAAAAAAAAAAAAAAAAAAAAAAAAAB+ikGaiGeyPwcEAoFAIKA\\u002fFYGirQbPgT\\u002fxJxmLapidPwAAAAAAAAAAAAAAAAAAAACElra76rOjPwAAAAAAAAAAAAAAAAAAAAAAAAAAAAAAAEBawlxJuo4\\u002fk8TGuvwRfT\\u002fxTagCXbeRPwAAAAAAAAAAAAAAAAAAAAAAAAAAAAAAAAAAAAAAAAAA\"}},\"mode\":\"markers+text\",\"name\":\"Player\",\"showlegend\":false,\"text\":[\"Alexander Freeman\",\"David Schnegg\",\"Marlon\",\"Michael Edwards\",\"DeJuan Jones\",\"Eriq Zavaleta\",\"Luca Orellano\",\"Tom Pearce\",\"Mauricio Cuevas\",\"Ian Fray\",\"Kervin Arriaga\",\"Yamil Asad\",\"Reggie Cannon\",\"Maximilian Arfsten\",\"Mohamed Farsi\",\"Tyrese Spicer\",\"Ryan Raposo\",\"Federico Bernardeschi\",\"Marcelo Herrera\",\"Jahkeele Marshall-Rutty\",\"Jake Davis\",\"Dante Sealy\",\"Jon Bell\",\"Guilherme Biro\",\"Mo\\u00efse Bombito\",\"Tayvon Gray\",\"Alexandros Katranis\",\"Nathan Harriel\",\"John Tolkin\",\"Mitja Ileni\\u010d\",\"Juli\\u00e1n Aude\",\"Henry Kessler\",\"Griffin Dorsey\",\"Dagur Dan \\u00de\\u00f3rhallsson\",\"Caleb Wiley\",\"Carlos Ter\\u00e1n\",\"Fernando \\u00c1lvarez\",\"Math\\u00edas Laborda\",\"Peyton Miller\",\"Paul Arriola\",\"Juan David Mosquera\",\"Matai Akinmboni\",\"Yaw Yeboah\",\"Paul Marie\",\"Jackson Ragen\",\"Nkosi Tafari\",\"Philip Quinton\",\"Brayan Vera\",\"Kayden Pierre\",\"Ranko Veselinovi\\u0107\",\"Cody Baker\",\"Robert Castellanos\",\"Oscar Verhoeven\",\"Christian McFarlane\",\"Sawyer Jura\",\"\\u017dan Kolmani\\u010d\",\"Ariel Lassiter\",\"Adilson Malanda\",\"Kobe Franklin\",\"Reed Baker-Whiting\",\"Noah Cobb\",\"Andrew Gutman\",\"Andr\\u00e9s Reyes\",\"Sebastian Anderson\",\"David Brekalo\",\"Jackson Travis\",\"Dawid Bugaj\",\"Tom\\u00e1s Avil\\u00e9s\",\"Efrain Morales\",\"Noah Allen\",\"Giuseppe Bovalina\",\"Justin Reynolds\",\"Jahkeele Marshall-Rutty\",\"William Sands\",\"Rodrigues\",\"Tomas Totland\",\"Jayden Reid\",\"Omar Campos\",\"Caden Clark\",\"Finn Surman\",\"Jo\\u00e3o Pedro\",\"Matthew Edwards\",\"Jalen Neal\",\"\\u00c9dier Ocampo\",\"Isaiah Foster\",\"Bode Davis\",\"Noah Eile\",\"Sam Vines\",\"Garrison Tubbs\",\"Michael Halliday\",\"Tommy Silva\",\"Julian Gaines\",\"Michael Wentzel\",\"Sota Kitahara\",\"Kalani Rienzi\",\"Hayden Sargis\",\"Devin Padelford\",\"Nicolas Fleuriau\",\"Nicksoen Gomis\",\"Joseph Rosales\",\"George Campbell\",\"Jack Maher\",\"Robert Voloder\",\"Jonathan Dean\",\"Rafael Santos\",\"Jon Gallagher\",\"Mauricio Pineda\",\"Carlos Garc\\u00e9s\",\"Hugo Bacharach\",\"Nikolas Dyhr\",\"Joaquin Sosa\",\"Aidan O'Connor\",\"Ousman jabang\",\"Justin Haak\",\"Kyle Duncan\",\"Jake Nerwinski\",\"Lucas Bartlett\",\"Bruno Wilson\",\"Marco Farfan\",\"Kevin O'Toole\",\"Akil Watts\",\"Carlos Harvey\",\"Malte Amundsen\",\"Brandon Bye\",\"Allan Arigoni\",\"Pedro Amador\",\"Kipp Keller\",\"Micael\",\"London Aghedo\",\"Bret Halsey\",\"Andrew Privett\",\"Victor Eriksson\",\"Morris Duggan\",\"Jefferson D\\u00edaz\",\"Jaylin Lindsey\",\"Daniel Munie\",\"William Sands\",\"Ethan Bartlow\",\"Logan Ndenbe\",\"Raoul Petretta\",\"Kai Wagner\",\"Sam Adekugbe\",\"Javain Brown\",\"Marcelo Weigandt\",\"Yevhen Cheberko\",\"Zorhan Bassong\",\"Lassi Lappalainen\",\"Aaron Herrera\",\"Franco Escobar\",\"Philip Quinton\",\"Jefferson Valverde\",\"Belal Halbouni\",\"Ian Murphy\",\"Javain Brown\",\"Anthony Markanich\",\"Gabriele Corbo\",\"Ruan\",\"Stian Rode Gregersen\",\"Christopher McVey\",\"Miles Robinson\",\"Rodrigo Schlegel\",\"Shaq Moore\",\"Dylan Nealis\",\"Richie Laryea\",\"Joshua Yaro\",\"H\\u00e9ctor David Mart\\u00ednez\",\"Cristi\\u00e1n Dajome\",\"Henry Kessler\",\"Ryan Sailor\",\"Birk Risa\",\"Josh Bauer\",\"Aim\\u00e9 Mabika\",\"John Nelson\",\"Ryan Spaulding\",\"Sam Junqua\",\"Brooks Lennon\",\"Jannes Horn\",\"Alex Roldan\",\"DeJuan Jones\",\"Ronald Hern\\u00e1ndez\",\"Vitor Costa\",\"Steven Moreira\",\"Claudio Bravo\",\"Olivier Mbaizo\",\"Ema Twumasi\",\"Jordi Alba\",\"Eddie Segura\",\"D.J. Taylor\",\"Chidozie Awaziem\",\"Kyle Hiebert\",\"Tate Schmitt\",\"Justen Glad\",\"Strahinja Tanasijevi\\u0107\",\"Tanner Beason\",\"Kamal Miller\",\"Leo V\\u00e4is\\u00e4nen\",\"Nouhou Tolo\",\"Zac McGraw\",\"Brendan Hines-Ike\",\"Daniel Steres\",\"Joakim Nilsson\",\"Teenage Hadebe\",\"Jakob Glesnes\",\"Julio Cascante\",\"Daniel Rosero\",\"Sean Nealis\",\"Sergi Palencia\",\"Tristan Blackmon\",\"Luis Abram\",\"Bj\\u00f8rn Inge Utvik\",\"Joaqu\\u00edn Fern\\u00e1ndez\",\"Miguel Tapias\",\"Raheem Edwards\",\"Nick Lima\",\"Ruan\",\"Conner Antley\",\"Pedro Santos\",\"Eric Miller\",\"Franco Negri\",\"Tobias Salquist\",\"Jack Elliott\",\"Andrew Brody\",\"Chase Gasper\",\"Bill Tuiloma\",\"Mikkel Desler\",\"Matt Miazga\",\"Tommy Thompson\",\"Lukas MacNaughton\",\"Wyatt Omsberg\",\"Joel Waterman\",\"Thiago Martins\",\"Nathan Cardoso\",\"Henry Wingo\",\"Walker Zimmerman\",\"Ariel Lassiter\",\"Tim Leibold\",\"Jere Uronen\",\"Matt Hedges\",\"Miguel Araujo\",\"Lalas Abubakar\",\"Andreas Maxs\\u00f8\",\"Nicol\\u00e1s Freire\",\"Oleksandr Svatok\",\"Xavier Arreaga\",\"Xavier Arreaga\",\"Jes\\u00fas David Murillo\",\"Alvas Powell\",\"Sigurd Rosted\",\"Taylor Washington\",\"Serhiy Kryvtsov\",\"Sebastien Ibeagha\",\"Tim Ream\",\"Khiry Shelton\",\"Aaron Long\",\"Yeimar G\\u00f3mez Andrade\",\"Miki Yamane\",\"DeAndre Yedlin\",\"Carlos Akapo\",\"Keegan Rosenberry\",\"Ryan Hollingshead\",\"Erik Sviatchenko\",\"Tim Parker\",\"David Romney\",\"DeAndre Yedlin\",\"Tim Parker\",\"Shane O'Neill\",\"Damion Lowe\",\"Rudy Camacho\",\"Robin Jansson\",\"Lu\\u00eds Martins\",\"Rafael Czichos\",\"Nathan Byrne\",\"Arnaud Souquet\",\"Andrew Farrell\",\"Nick Hagglund\",\"Derrick Williams\",\"Dario \\u017dupari\\u0107\",\"Maya Yoshida\",\"Bryan Oviedo\",\"Kyle Smith\",\"Steve Birnbaum\",\"Daniel Lovitz\",\"Zarek Valentin\",\"Michael Boxall\",\"Brent Kallman\",\"Jonathan Mensah\",\"Kevin Long\",\"Maxime Chanot\",\"Andreu Font\\u00e0s\",\"Hector Jim\\u00e9nez\",\"Marcelo Silva\",\"Omar Gonzalez\",\"Larrys Mabiala\",\"Mart\\u00edn C\\u00e1ceres\"],\"textposition\":\"top center\",\"x\":{\"dtype\":\"f8\",\"bdata\":\"VeoTiorr3r+ehkg8DZ4cQHSp2Ry0ZxtArWoS2bmtD0CDYhKOuiQQQA==\"},\"xaxis\":\"x\",\"y\":{\"dtype\":\"f8\",\"bdata\":\"QImGKki41j95kfXvo\\u002fOKPTbobtpLIrw9clsh\\u002fieVJD+sIb4k0F8ePw==\"},\"yaxis\":\"y\",\"type\":\"scatter\"},{\"line\":{\"color\":\"lightgrey\"},\"mode\":\"lines\",\"name\":\"Z-Curve\",\"showlegend\":false,\"x\":{\"dtype\":\"f8\",\"bdata\":\"AAAAAAAAEMBv\\u002fbv179YPwN76d+vfrQ\\u002fATfgz4c+ED8C89e\\u002fWv1sPwCvzq8yvMg\\u002fAmvBnwp8JD8AJ7iO4j+AOwHjr361\\u002ftw7A5+ibo2+ODsBW5leZX2UOwMXjE49PPA7ANOHPhD8TDsCj3ot6L+oNwBLcR3AfwQ3AgdkDZg+YDcDw1r9b\\u002f24NwF\\u002fUe1HvRQ3AztE3R98cDcA9z\\u002fM8z\\u002fMMwKzMrzK\\u002fygzAG8prKK+hDMCKxycen3gMwPnE4xOPTwzAaMKfCX8mDMDXv1v\\u002fbv0LwEa9F\\u002fVe1AvAtbrT6k6rC8AkuI\\u002fgPoILwJO1S9YuWQvAArMHzB4wC8BxsMPBDgcLwOCtf7f+3QrAT6s7re60CsC+qPei3osKwC2ms5jOYgrAnKNvjr45CsALoSuErhAKwHqe53me5wnA6Zujb46+CcBYmV9lfpUJwMeWG1tubAnANpTXUF5DCcClkZNGThoJwBSPTzw+8QjAg4wLMi7ICMDyiccnHp8IwGGHgx0OdgjA0IQ\\u002fE\\u002f5MCMA\\u002fgvsI7iMIwK5\\u002ft\\u002f7d+gfAHX1z9M3RB8CMei\\u002fqvagHwPt369+tfwfAanWn1Z1WB8DZcmPLjS0HwEhwH8F9BAfAt23btm3bBsAma5esXbIGwJVoU6JNiQbABGYPmD1gBsBzY8uNLTcGwOJgh4MdDgbAUV5DeQ3lBcDAW\\u002f9u\\u002fbsFwC9Zu2TtkgXAnlZ3Wt1pBcANVDNQzUAFwHxR70W9FwXA606rO63uBMBaTGcxncUEwMlJIyeNnATAOEffHH1zBMCnRJsSbUoEwBZCVwhdIQTAhT8T\\u002fkz4A8D0PM\\u002fzPM8DwGM6i+kspgPA0jdH3xx9A8BBNQPVDFQDwLAyv8r8KgPAHzB7wOwBA8COLTe23NgCwP0q86vMrwLAbCivobyGAsDbJWuXrF0CwEojJ42cNALAuSDjgowLAsAoHp94fOIBwJcbW25suQHABhkXZFyQAcB1FtNZTGcBwOQTj088PgHAUxFLRSwVAcDCDgc7HOwAwDEMwzAMwwDAoAl\\u002fJvyZAMAPBzsc7HAAwH4E9xHcRwDA7QGzB8weAMC4\\u002ft36d+v\\u002fv5b5VeZXmf+\\u002fdPTN0TdH\\u002f79S70W9F\\u002fX+vzDqvaj3ov6\\u002fDuU1lNdQ\\u002fr\\u002fs361\\u002ft\\u002f79v8raJWuXrP2\\u002fqNWdVnda\\u002fb+G0BVCVwj9v2TLjS03tvy\\u002fQsYFGRdk\\u002fL8gwX0E9xH8v\\u002f679e\\u002fWv\\u002fu\\u002f3LZt27Zt+7+6seXGlhv7v5isXbJ2yfq\\u002fdqfVnVZ3+r9Uok2JNiX6vzKdxXQW0\\u002fm\\u002fEJg9YPaA+b\\u002fukrVL1i75v8yNLTe23Pi\\u002fqoilIpaK+L+Igx0Odjj4v2Z+lflV5ve\\u002fRHkN5TWU978idIXQFUL3vwBv\\u002fbv17\\u002fa\\u002f3ml1p9Wd9r+8ZO2StUv2v5pfZX6V+fW\\u002feFrdaXWn9b9WVVVVVVX1vzRQzUA1A\\u002fW\\u002fEktFLBWx9L\\u002fwRb0X9V70v85ANQPVDPS\\u002frDut7rS687+KNiXalGjzv2gxncV0FvO\\u002fRiwVsVTE8r8kJ42cNHLyvwIiBYgUIPK\\u002f4Bx9c\\u002fTN8b++F\\u002fVe1Hvxv5wSbUq0KfG\\u002feg3lNZTX8L9YCF0hdIXwvzYD1QxUM\\u002fC\\u002fKPyZ8GfC77\\u002fk8YnHJx7vv6DneZ7nee6\\u002fXN1pdafV7b8Y01lMZzHtv9TISSMnjey\\u002fkL45+ubo679MtCnRpkTrvwiqGahmoOq\\u002fxJ8Jfyb86b+AlflV5lfpvzyL6Syms+i\\u002f+IDZA2YP6L+0dsnaJWvnv3BsubHlxua\\u002fLGKpiKUi5r\\u002foV5lfZX7lv6RNiTYl2uS\\u002fYEN5DeU15L8cOWnkpJHjv9guWbtk7eK\\u002flCRJkiRJ4r9QGjlp5KThvwwQKUCkAOG\\u002fyAUZF2Rc4L8I9xHcR3Dfv4Di8YnHJ96\\u002f+M3RN0ff3L9wubHlxpbbv+ikkZNGTtq\\u002fYJBxQcYF2b\\u002fYe1HvRb3Xv1BnMZ3FdNa\\u002fyFIRS0Us1b9APvH4xOPTv7gp0aZEm9K\\u002fMBWxVMRS0b+oAJECRArQv0DY4WCHg82\\u002fMK+hvIbyyr8ghmEYhmHIvxBdIXSF0MW\\u002fADThz4Q\\u002fw7\\u002fwCqErhK7Av8DDwQ4HO7y\\u002foHFBxgUZt7+AH8F9BPexv8CagWoGqqm\\u002fAO0BswfMnr8ASQEiBYiEvwBIASIFiIQ\\u002fAOwBswfMnj+AmoFqBqqpP4AfwX0E97E\\u002fgHFBxgUZtz+Aw8EOBzu8P+AKoSuErsA\\u002fADThz4Q\\u002fwz8AXSF0hdDFPwCGYRiGYcg\\u002fIK+hvIbyyj9A2OFgh4PNP6AAkQJECtA\\u002fIBWxVMRS0T+wKdGmRJvSP0A+8fjE49M\\u002fwFIRS0Us1T9AZzGdxXTWP9B7Ue9Fvdc\\u002fYJBxQcYF2T\\u002fgpJGTRk7aP2C5seXGlts\\u002f8M3RN0ff3D+A4vGJxyfePwD3EdxHcN8\\u002fwAUZF2Rc4D8IEClApADhP1AaOWnkpOE\\u002fkCRJkiRJ4j\\u002fQLlm7ZO3iPxg5aeSkkeM\\u002fYEN5DeU15D+gTYk2JdrkP+BXmV9lfuU\\u002fKGKpiKUi5j9wbLmx5cbmP7B2ydola+c\\u002f8IDZA2YP6D84i+ksprPoP4CV+VXmV+k\\u002fwJ8Jfyb86T8AqhmoZqDqP0i0KdGmROs\\u002fkL45+ubo6z\\u002fQyEkjJ43sPxDTWUxnMe0\\u002fWN1pdafV7T+g53me53nuP+DxiccnHu8\\u002fIPyZ8GfC7z80A9UMVDPwP1gIXSF0hfA\\u002feA3lNZTX8D+YEm1KtCnxP7wX9V7Ue\\u002fE\\u002f4Bx9c\\u002fTN8T8AIgWIFCDyPyAnjZw0cvI\\u002fRCwVsVTE8j9oMZ3FdBbzP4g2JdqUaPM\\u002fqDut7rS68z\\u002fMQDUD1Qz0P\\u002fBFvRf1XvQ\\u002fEEtFLBWx9D8wUM1ANQP1P1RVVVVVVfU\\u002feFrdaXWn9T+YX2V+lfn1P7hk7ZK1S\\u002fY\\u002f3Gl1p9Wd9j8Ab\\u002f279e\\u002f2PyB0hdAVQvc\\u002fQHkN5TWU9z9kfpX5Veb3P4iDHQ52OPg\\u002fqIilIpaK+D\\u002fIjS03ttz4P+yStUvWLvk\\u002fEJg9YPaA+T8wncV0FtP5P1CiTYk2Jfo\\u002fdKfVnVZ3+j+YrF2ydsn6P7ix5caWG\\u002fs\\u002f2LZt27Zt+z\\u002f8u\\u002fXv1r\\u002f7PyDBfQT3Efw\\u002fQMYFGRdk\\u002fD9gy40tN7b8P4TQFUJXCP0\\u002fqNWdVnda\\u002fT\\u002fI2iVrl6z9P+jfrX+3\\u002fv0\\u002fDOU1lNdQ\\u002fj8w6r2o96L+P1DvRb0X9f4\\u002fcPTN0TdH\\u002fz+U+VXmV5n\\u002fP7j+3fp36\\u002f8\\u002f7AGzB8weAEB8BPcR3EcAQA4HOxzscABAoAl\\u002fJvyZAEAwDMMwDMMAQMAOBzsc7ABAUhFLRSwVAUDkE49PPD4BQHQW01lMZwFABBkXZFyQAUCWG1tubLkBQCgen3h84gFAuCDjgowLAkBIIyeNnDQCQNola5esXQJAbCivobyGAkD8KvOrzK8CQIwtN7bc2AJAHjB7wOwBA0CwMr\\u002fK\\u002fCoDQEA1A9UMVANA0DdH3xx9A0BiOovpLKYDQPQ8z\\u002fM8zwNAhD8T\\u002fkz4A0AUQlcIXSEEQKZEmxJtSgRAOEffHH1zBEDISSMnjZwEQFhMZzGdxQRA6k6rO63uBEB8Ue9FvRcFQAxUM1DNQAVAnFZ3Wt1pBUAuWbtk7ZIFQMBb\\u002f279uwVAUF5DeQ3lBUDgYIeDHQ4GQHJjy40tNwZABGYPmD1gBkCUaFOiTYkGQCRrl6xdsgZAtm3btm3bBkBIcB\\u002fBfQQHQNhyY8uNLQdAaHWn1Z1WB0D6d+vfrX8HQIx6L+q9qAdAHH1z9M3RB0Csf7f+3foHQD6C+wjuIwhA0IQ\\u002fE\\u002f5MCEBgh4MdDnYIQPCJxycenwhAgowLMi7ICEAUj088PvEIQKSRk0ZOGglANJTXUF5DCUDGlhtbbmwJQFiZX2V+lQlA6Jujb46+CUB4nud5nucJQAqhK4SuEApAnKNvjr45CkAsprOYzmIKQLyo96LeiwpATqs7re60CkDgrX+3\\u002ft0KQHCww8EOBwtAALMHzB4wC0CStUvWLlkLQCS4j+A+ggtAtLrT6k6rC0BEvRf1XtQLQNa\\u002fW\\u002f9u\\u002fQtAaMKfCX8mDED4xOMTj08MQIjHJx6feAxAGsprKK+hDECszK8yv8oMQDzP8zzP8wxAzNE3R98cDUBe1HtR70UNQPDWv1v\\u002fbg1AgNkDZg+YDUAQ3EdwH8ENQKLei3ov6g1ANOHPhD8TDkDE4xOPTzwOQFTmV5lfZQ5A5uibo2+ODkB469+tf7cOQAjuI7iP4A5AmPBnwp8JD0Aq86vMrzIPQLz179a\\u002fWw9ATPgz4c+ED0Dc+nfr360PQG79u\\u002fXv1g9AAAAAAAAAEEA=\"},\"xaxis\":\"x2\",\"y\":{\"dtype\":\"f8\",\"bdata\":\"tbTA4piKIT\\u002fVpf16mgAjP3FZkSukkyQ\\u002f6U48VsdFJj\\u002fiwpAcNxkoPwUMvTZKECo\\u002fCqH63XwtLD8rAQPLcnMuPz9VcqR8cjA\\u002fai5FroTCMT8yB58AZSszPzyVMz3JrjQ\\u002f1nFcXXZONj+xxnzwSww4P2KBP2VF6jk\\u002f5Q23XXvqOz8RAV4OJQ8+P57299NMLUA\\u002fsGkE5qhnQT8QHTiG9LdCP7l1dbqPH0Q\\u002ff9Wxj+2fRT+N8RfplDpHPz6kFFQh8Ug\\u002f12Yk4UPFSj+R9zABxLhMP6axR2eAzU4\\u002fEuY097eCUD9jBphBUbFRP1rCeQih81I\\u002fzlASuclKVD9to7ix+7dVP8zdqLx1PFc\\u002fL4fFi4XZWD9xDBY1iJBaP65NwK\\u002fqYlw\\u002fr\\u002fk1USpSXj82siSl6i9gP1Us7JHFRmE\\u002fnxBbnX5uYj\\u002fEWDyd96djP6q4Y8sb9GQ\\u002f+WFiAeBTZj8V9xLzQshnP+3Gw2dNUmk\\u002fwLLDcRLzaj\\u002fLbROkr6tsP+Ab+kVNfW4\\u002fsdocQo80cD8Bg87PMDhxPyFOSwwwSnI\\u002fF8vSazdrcz\\u002ffchkp95t0P365y1Ul3XU\\u002fr7b86H0vdz8hl1bLwpN4Pywj4uC7Cno\\u002fxto5EDeVez9UcfxGCDR9P9zZUXsJ6H4\\u002fIMsqVQ1ZgD\\u002feTpzpkEmBP4x4dncFRoI\\u002fjmwW8uNOgz9Y69c7qGSEP26\\u002fLxzRh4U\\u002fsGyvM+C4hj8ssNvtWfiHP466v3DFRok\\u002fx4Eniqykij+\\u002fEWyamxKMP1JovXwhkY0\\u002fACjWbM8gjz8uIwN1HGGQP2Vowcv5OpE\\u002f6vn0jEsekj\\u002fDz\\u002fV4XguTP103BCqAApQ\\u002fzu+s\\u002fv4DlT83OawCKhCWPzLzStZQJ5c\\u002fXMcxlMNJmD\\u002ffS6+10neZPxMIb\\u002fXOsZo\\u002fElGgMAn4mz+QDo1G0kqdP7+fofZ6qp4\\u002fpyZ03qkLoD9\\u002f+31W1sigP5x8u6XqjKE\\u002fNlDyMg5Yoj\\u002fgcZ70ZyqjP0HHeVseBKQ\\u002fbbtSPFflpD9l7ze5N86lPzTR\\u002fynkvqY\\u002fBrEzBIC3pz+ys2bCLbioP9DLAcsOwak\\u002fda2OVkPSqj+6e4xV6uurP6652VUhDq0\\u002fFNK\\u002fZwQ5rj9BUK0CrmyvP81U1nSbVLA\\u002f1RvTB1v3sD+wX749oJ6xP4xMCpZ0SrI\\u002f1h4rfuD6sj89055D66+zP7pHBAababQ\\u002foCFLqfQntT+8EwbI++q1P61h6aWysrY\\u002fZLl\\u002fIhp\\u002ftz\\u002fVsR+sMVC4P65sLDP3Jbk\\u002fBAGsHWcAuj9gdT47fN+6PwsogLkvw7s\\u002f6JTiGHmrvD+9bwYiTpi9P9wIotuiib4\\u002fV+f+gGl\\u002fvz8vuIw8yTzAP9GqNicGvMA\\u002foq6802E9wT\\u002f7cQKg0cDBP1afmPFJRsI\\u002fUG0wM77Nwj861X7SIFfDPwMKlD5j4sM\\u002f3Jar5nVvxD8gVXk5SP7EP1As96TIjsU\\u002fFE23luQgxj+OUb58iLTGP71h6MafScc\\u002fqSrc6BTgxz9SIo5c0XfIP785VqW9EMk\\u002fY8GZU8GqyT+N4woJw0XKPy+0fn2o4co\\u002fym1ahFZ+yz+3CJgSsRvMP\\u002ffsYUWbucw\\u002f\\u002fA5FafdXzT+RVvgBp\\u002fbNP9K7t9KKlc4\\u002f+REx54I0zz+UAgCdbtPPPxQj21YWOdA\\u002fAVm2nE2I0D\\u002fWnuzoS9fQPzrX8sL\\u002fJdE\\u002fVBLhdld00T94KrcbQcLRP8nk2ZmqD9I\\u002fgY3FsYFc0j8h0\\u002fICtKjSP\\u002fBw6hIv9NI\\u002fcAiEVOA+0z\\u002fqWkwvtYjTP+XnDgeb0dM\\u002f5ct+Q38Z1D\\u002f7k\\u002fpXT2DUP+OWZsv4pdQ\\u002fx0MZQGnq1D9oudR7ji3VP6LeyG9Wb9U\\u002f6B6ZQK+v1T\\u002fj2mBOh+7VP7qOsTzNK9Y\\u002f2aSF+m9n1j9T5SLKXqHWP41v50iJ2dY\\u002fdi38dt8P1z9dtee+UUTXP5qZ\\u002fPzQdtc\\u002fgTOehk6n1z+UCVcxvNXXP8MHvFkMAtg\\u002fNdsX6jEs2D824tlgIFTYP71DxNbLedg\\u002f6OjUBCmd2D9uPeVJLb7YP2PK\\u002fK\\u002fO3Ng\\u002fYfBS8QP52D+TO\\u002fx8xBLZP0YEQHsIKtk\\u002fMkqT0cg+2T+49jUm\\u002f1DZPy\\u002fzb+OlYNk\\u002fXsNrOrht2T+TmawlMnjZP8ogHmsQgNk\\u002fMoK8nVCF2T9LddMe8YfZP0t10x7xh9k\\u002fMoK8nVCF2T\\u002fKIB5rEIDZP5OZrCUyeNk\\u002fXsNrOrht2T8w82\\u002fjpWDZP7n2NSb\\u002fUNk\\u002fMkqT0cg+2T9HBEB7CCrZP5Q7\\u002fHzEEtk\\u002fYvBS8QP52D9jyvyvztzYP2895Uktvtg\\u002f6ejUBCmd2D++Q8TWy3nYPzbi2WAgVNg\\u002fNtsX6jEs2D\\u002fFB7xZDALYP5UJVzG81dc\\u002fgTOehk6n1z+cmfz80HbXP1+1575RRNc\\u002feC38dt8P1z+Nb+dIidnWP1XlIspeodY\\u002f3aSF+m9n1j+8jrE8zSvWP+PaYE6H7tU\\u002f6h6ZQK+v1T+l3shvVm\\u002fVP2m51HuOLdU\\u002fx0MZQGnq1D\\u002fmlmbL+KXUP\\u002f+T+ldPYNQ\\u002f58t+Q38Z1D\\u002fl5w4Hm9HTP+1aTC+1iNM\\u002fdAiEVOA+0z\\u002fxcOoSL\\u002fTSPyHT8gK0qNI\\u002fgo3FsYFc0j\\u002fN5NmZqg\\u002fSP3oqtxtBwtE\\u002fVBLhdld00T881\\u002fLC\\u002fyXRP9qe7OhL19A\\u002fA1m2nE2I0D8UI9tWFjnQP5kCAJ1u088\\u002fARIx54I0zz\\u002fVu7fSipXOP5FW+AGn9s0\\u002fAQ9FafdXzT\\u002f\\u002f7GFFm7nMP7oImBKxG8w\\u002fym1ahFZ+yz80tH59qOHKP5XjCgnDRco\\u002fZsGZU8GqyT+\\u002fOValvRDJP1YijlzRd8g\\u002fsSrc6BTgxz\\u002fBYejGn0nHP45RvnyItMY\\u002fGE23luQgxj9XLPekyI7FPyRVeTlI\\u002fsQ\\u002f3Jar5nVvxD8HCpQ+Y+LDP0HVftIgV8M\\u002fVG0wM77Nwj9Wn5jxSUbCP\\u002f5xAqDRwME\\u002fqK6802E9wT\\u002fUqjYnBrzAPy+4jDzJPMA\\u002fXuf+gGl\\u002fvz\\u002fpCKLboom+P8NvBiJOmL0\\u002f6JTiGHmrvD8SKIC5L8O7P2x1Pjt837o\\u002fCAGsHWcAuj+ubCwz9yW5P9qxH6wxULg\\u002fbrl\\u002fIhp\\u002ftz+zYemlsrK2P7wTBsj76rU\\u002fpCFLqfQntT\\u002fDRwQGm2m0P0HTnkPrr7M\\u002f1h4rfuD6sj+QTAqWdEqyP7hfvj2gnrE\\u002f2RvTB1v3sD\\u002fNVNZ0m1SwP0dQrQKubK8\\u002fI9K\\u002fZwQ5rj+2udlVIQ6tP7p7jFXq66s\\u002fe62OVkPSqj\\u002fdywHLDsGpP7izZsItuKg\\u002fBrEzBIC3pz850f8p5L6mP3DvN7k3zqU\\u002fcrtSPFflpD9Bx3lbHgSkP+VxnvRnKqM\\u002fQFDyMg5Yoj+hfLul6oyhP3\\u002f7fVbWyKA\\u002friZ03qkLoD\\u002fPn6H2eqqeP5cOjUbSSp0\\u002fElGgMAn4mz8ZCG\\u002f1zrGaP+9Lr7XSd5k\\u002fYccxlMNJmD8y80rWUCeXPzw5rAIqEJY\\u002f2++s\\u002fv4DlT9hNwQqgAKUP8PP9XheC5M\\u002f7\\u002fn0jEsekj9waMHL+TqRPzMjA3UcYZA\\u002fACjWbM8gjz9eaL18IZGNP9ARbJqbEow\\u002fz4Eniqykij+Our9wxUaJPzWw2+1Z+Ic\\u002fwWyvM+C4hj90vy8c0YeFP1jr1zuoZIQ\\u002flWwW8uNOgz+YeHZ3BUaCP+ROnOmQSYE\\u002fIMsqVQ1ZgD\\u002fi2VF7Ceh+P2tx\\u002fEYINH0\\u002fzto5EDeVez8sI+Lguwp6PyiXVsvCk3g\\u002fwbb86H0vdz+DuctVJd11P99yGSn3m3Q\\u002fHMvSazdrcz8vTksMMEpyPwWDzs8wOHE\\u002fsdocQo80cD\\u002foG\\u002fpFTX1uP+BtE6Svq2w\\u002fyLLDcRLzaj\\u002ftxsNnTVJpPyH3EvNCyGc\\u002fCmJiAeBTZj+0uGPLG\\u002fRkP8RYPJ33p2M\\u002fqRBbnX5uYj9iLOyRxUZhPzqyJKXqL2A\\u002fr\\u002fk1USpSXj+8TcCv6mJcP4YMFjWIkFo\\u002fPIfFi4XZWD\\u002fM3ai8dTxXP3OjuLH7t1U\\u002f4lASuclKVD9jwnkIofNSP2MGmEFRsVE\\u002fFuY097eCUD\\u002fGsUdngM1OP5\\u002f3MAHEuEw\\u002f12Yk4UPFSj9EpBRUIfFIP6TxF+mUOkc\\u002fitWxj+2fRT+5dXW6jx9EPxkdOIb0t0I\\u002fwWkE5qhnQT+m9vfTTC1APxEBXg4lDz4\\u002f8w23XXvqOz91gT9lReo5P73GfPBLDDg\\u002f1nFcXXZONj9AlTM9ya40P0UHnwBlKzM\\u002fci5FroTCMT8\\u002fVXKkfHIwPzkBA8tycy4\\u002fJ6H63XwtLD8SDL02ShAqP+LCkBw3GSg\\u002f9E48VsdFJj+FWZErpJMkP9+l\\u002fXqaACM\\u002ftbTA4piKIT8=\"},\"yaxis\":\"y2\",\"type\":\"scatter\"},{\"marker\":{\"color\":{\"dtype\":\"f8\",\"bdata\":\"vfo2vHx77j+9otX11GTnPwAAAAAAAOA\\u002fNSLGVovq6j8BIk+K6iTlP4a6VBRWNtE\\u002fNSLGVovq6j+9otX11GTnP9QC68bF6+0\\u002fOGatcNQr7T8BIk+K6iTlP3q053Mrt9o\\u002fvaLV9dRk5z\\u002fJeYpafS\\u002fsPyj5rjUUU+k\\u002fNSLGVovq6j8o+a41FFPpP3q053Mrt9o\\u002fvaLV9dRk5z+9+ja8fHvuP8l5ilp9L+w\\u002f1ALrxsXr7T8BIk+K6iTlPzUixlaL6uo\\u002fNSLGVovq6j84Zq1w1CvtP72i1fXUZOc\\u002fyXmKWn0v7D84Zq1w1CvtP736Nrx8e+4\\u002f1ALrxsXr7T+9otX11GTnPyj5rjUUU+k\\u002fNSLGVovq6j+9+ja8fHvuPzUixlaL6uo\\u002f1ALrxsXr7T8o+a41FFPpP+rhDS+obO8\\u002fAAAAAAAA4D84Zq1w1CvtPyS7VbDRM+8\\u002fASJPiuok5T8AAAAAAADgP72i1fXUZOc\\u002fASJPiuok5T8o+a41FFPpP72i1fXUZOc\\u002f1ALrxsXr7T8o+a41FFPpP9QC68bF6+0\\u002fvaLV9dRk5z8ku1Ww0TPvPyS7VbDRM+8\\u002fJLtVsNEz7z81IsZWi+rqP3q053Mrt9o\\u002fyXmKWn0v7D\\u002fUAuvGxevtP2h\\u002fYzDT5e4\\u002faH9jMNPl7j\\u002fDJQxGaqTiPyj5rjUUU+k\\u002fOGatcNQr7T+9otX11GTnP736Nrx8e+4\\u002fvfo2vHx77j+9+ja8fHvuP736Nrx8e+4\\u002fvfo2vHx77j+9+ja8fHvuP736Nrx8e+4\\u002fvfo2vHx77j81IsZWi+rqPwEiT4rqJOU\\u002fvaLV9dRk5z\\u002fJeYpafS\\u002fsPzhmrXDUK+0\\u002f1ALrxsXr7T\\u002fUAuvGxevtP9QC68bF6+0\\u002f1ALrxsXr7T\\u002fUAuvGxevtP9QC68bF6+0\\u002f1ALrxsXr7T84Zq1w1CvtPzhmrXDUK+0\\u002fKPmuNRRT6T84Zq1w1CvtPzhmrXDUK+0\\u002fOGatcNQr7T84Zq1w1CvtPzhmrXDUK+0\\u002fOGatcNQr7T84Zq1w1CvtPzhmrXDUK+0\\u002fOGatcNQr7T84Zq1w1CvtPzhmrXDUK+0\\u002fNSLGVovq6j\\u002fJeYpafS\\u002fsPyj5rjUUU+k\\u002fyXmKWn0v7D8BIk+K6iTlP72i1fXUZOc\\u002fwyUMRmqk4j8BIk+K6iTlP8l5ilp9L+w\\u002fyXmKWn0v7D\\u002fJeYpafS\\u002fsP8l5ilp9L+w\\u002fyXmKWn0v7D\\u002fJeYpafS\\u002fsP8l5ilp9L+w\\u002fASJPiuok5T96tOdzK7faPwEiT4rqJOU\\u002fwyUMRmqk4j+9otX11GTnP72i1fXUZOc\\u002fNSLGVovq6j81IsZWi+rqP72i1fXUZOc\\u002fAAAAAAAA4D+9otX11GTnP72i1fXUZOc\\u002fNSLGVovq6j81IsZWi+rqPzUixlaL6uo\\u002fNSLGVovq6j81IsZWi+rqPzUixlaL6uo\\u002fNSLGVovq6j81IsZWi+rqPzUixlaL6uo\\u002fNSLGVovq6j81IsZWi+rqPzUixlaL6uo\\u002fNSLGVovq6j8BIk+K6iTlPwEiT4rqJOU\\u002ferTncyu32j8o+a41FFPpPyj5rjUUU+k\\u002fASJPiuok5T8o+a41FFPpP72i1fXUZOc\\u002fASJPiuok5T8AAAAAAADgPyj5rjUUU+k\\u002fKPmuNRRT6T8o+a41FFPpPyj5rjUUU+k\\u002fKPmuNRRT6T8o+a41FFPpPyj5rjUUU+k\\u002fAAAAAAAA4D8AAAAAAADgPwEiT4rqJOU\\u002fASJPiuok5T8BIk+K6iTlP8MlDEZqpOI\\u002fvaLV9dRk5z96tOdzK7faP3q053Mrt9o\\u002fASJPiuok5T\\u002f\\u002fu2HrKrbVP72i1fXUZOc\\u002fvaLV9dRk5z+9otX11GTnP72i1fXUZOc\\u002fvaLV9dRk5z+9otX11GTnP72i1fXUZOc\\u002fwyUMRmqk4j8BIk+K6iTlPwEiT4rqJOU\\u002fwyUMRmqk4j8BIk+K6iTlPwEiT4rqJOU\\u002ferTncyu32j96tOdzK7faPwEiT4rqJOU\\u002fASJPiuok5T8BIk+K6iTlP64xrCsVhL4\\u002fASJPiuok5T8BIk+K6iTlP8MlDEZqpOI\\u002fASJPiuok5T8BIk+K6iTlPwEiT4rqJOU\\u002fASJPiuok5T8BIk+K6iTlPwEiT4rqJOU\\u002fASJPiuok5T8BIk+K6iTlPwEiT4rqJOU\\u002ferTncyu32j8ud+ek0lXEP3q053Mrt9o\\u002fAAAAAAAA4D96tOdzK7faP\\u002f+7YesqttU\\u002f\\u002f7th6yq21T\\u002fDJQxGaqTiP8MlDEZqpOI\\u002fwyUMRmqk4j\\u002fDJQxGaqTiP8MlDEZqpOI\\u002fwyUMRmqk4j\\u002fDJQxGaqTiPwAAAAAAAOA\\u002ferTncyu32j8AAAAAAADgPwAAAAAAAOA\\u002fRs6Uelyhtj+GulQUVjbRPwAAAAAAAOA\\u002fAAAAAAAA4D8AAAAAAADgPwAAAAAAAOA\\u002fAAAAAAAA4D8AAAAAAADgPwAAAAAAAOA\\u002fAAAAAAAA4D8AAAAAAADgPwAAAAAAAOA\\u002fAAAAAAAA4D8AAAAAAADgPwAAAAAAAOA\\u002fAAAAAAAA4D8AAAAAAADgP\\u002f+7YesqttU\\u002ferTncyu32j\\u002f\\u002fu2HrKrbVP3q053Mrt9o\\u002fLnfnpNJVxD96tOdzK7faP3q053Mrt9o\\u002ferTncyu32j96tOdzK7faP3q053Mrt9o\\u002ferTncyu32j96tOdzK7faP3q053Mrt9o\\u002ferTncyu32j96tOdzK7faP\\u002f+7YesqttU\\u002fYBtEKa+zyj9gG0Qpr7PKP2Tpp8jRobA\\u002f\\u002f7th6yq21T+GulQUVjbRP4a6VBRWNtE\\u002f\\u002f7th6yq21T\\u002f\\u002fu2HrKrbVP\\u002f+7YesqttU\\u002f\\u002f7th6yq21T9gG0Qpr7PKP2AbRCmvs8o\\u002f\\u002f7th6yq21T\\u002f\\u002fu2HrKrbVP\\u002f+7YesqttU\\u002f\\u002f7th6yq21T\\u002f\\u002fu2HrKrbVP\\u002f+7YesqttU\\u002fYBtEKa+zyj9gG0Qpr7PKP4a6VBRWNtE\\u002fLnfnpNJVxD+GulQUVjbRP4a6VBRWNtE\\u002fhrpUFFY20T+GulQUVjbRP4a6VBRWNtE\\u002fhrpUFFY20T9GzpR6XKG2Py5356TSVcQ\\u002fYBtEKa+zyj8ud+ek0lXEP2AbRCmvs8o\\u002fYBtEKa+zyj9GzpR6XKG2Py5356TSVcQ\\u002fLnfnpNJVxD8ud+ek0lXEP64xrCsVhL4\\u002frjGsKxWEvj9GzpR6XKG2P64xrCsVhL4\\u002fRs6Uelyhtj9k6afI0aGwP2Tpp8jRobA\\u002f\"},\"showscale\":true,\"size\":{\"dtype\":\"f8\",\"bdata\":\"AAAAAAAA8D8jro6RG9rsP6vD+BcCtes\\u002fnLE24rnI4D8ntxyjQxLhPy3y2MQMr+U\\u002fU\\u002fBxeDCe2z+paE4kBF7eP0\\u002fs+Lz2GNc\\u002fJAcr1Ipi1T+pT6\\u002fxic3XPzpx2onkLt4\\u002flOj\\u002fjjBb1D8zt\\u002fVsxKrPP0v8aay1NM8\\u002fdh0tcalzyz\\u002fbYnrOEq7NP5uLsXcATNg\\u002foebZ3OOVzT+zOBSgyDPBPzGvoZjfjcQ\\u002fUVO9OQE4wD8u912pm6zMP9m3O0BwU8I\\u002fF6nL97MKwj8SHxSBwgq8P+1AwdJy78Y\\u002f8ZvYfJ7duz\\u002fXS7lkwXu4P\\u002fX1czG5CbM\\u002f3H5Zc0eIsz\\u002fZ6rLeHLDEPyGQRgL+PME\\u002fugqkOCGDvD8iBM9E1y6wPzT+mJnhArk\\u002fMEwuV39+rD+6wd+c0Jm8P90B8XdA\\u002fJ0\\u002fJAi1wq54zT\\u002f3NjR8onWrPw52QdgFYZc\\u002fgR4MAE1gwz8+MRzs1BbMPywWUkwHwb0\\u002fdH9JTWKcwj\\u002ffnnvZBMO2P6MdI5K+8Lw\\u002fDbGBzxiOlj++bYN1liK1Py4aESC8YJU\\u002f3ksIbacCuz8AAAAAAAAAAAAAAAAAAAAAAAAAAAAAAAC4BRRGdZqsP9Gea6m4Vc4\\u002fK7zHEBtloz8IOfrPwOKMPwAAAAAAAAAAAAAAAAAAAABmj+YVB\\u002fjEP1hPGSQPuLI\\u002fYfSUO34ylD+MkrG5nrG4PwAAAAAAAAAAAAAAAAAAAAAAAAAAAAAAAAAAAAAAAAAAAAAAAAAAAAAAAAAAAAAAAAAAAAAAAAAAAAAAAAAAAACdhX5KIqanP\\u002f3nthS6Tr8\\u002fsSKuIqJ\\u002ftz+3a+WEZ\\u002fqbP3hUeVvQaIk\\u002fAAAAAAAAAAAAAAAAAAAAAAAAAAAAAAAAAAAAAAAAAAAAAAAAAAAAAAAAAAAAAAAAAAAAAAAAAAANoC45tSZ8P0s4pueK8HA\\u002fmnd+vUkgrD8AAAAAAAAAAAAAAAAAAAAAAAAAAAAAAAAAAAAAAAAAAAAAAAAAAAAAAAAAAAAAAAAAAAAAAAAAAAAAAAAAAAAAAAAAAAAAAAAAAAAAAAAAAAAAAAAAAAAAnUEHxA3hnT+T4bBKw6SCPxzt0cBqAac\\u002f8ILbWm9Cdz82TumpayO5PywB1YLpNbE\\u002fO+otWJW0wD9gwB85lk64PwAAAAAAAAAAAAAAAAAAAAAAAAAAAAAAAAAAAAAAAAAAAAAAAAAAAAAAAAAAAAAAAAAAAAAAAAAAfT9Rc7++tz+CyUOJlgbJP\\u002fn7ez5YMLc\\u002fVsVgOkG\\u002fvz++YNW+jyCuP\\u002fT9O9eQv60\\u002fBe9feWkzhT8rVHxGUJSDPxfFUuf1zKw\\u002fDebKdsZewz8JbmhdSKaqP+lx2DSxUKk\\u002fAAAAAAAAAAAAAAAAAAAAAAAAAAAAAAAAAAAAAAAAAAAAAAAAAAAAAAAAAAAAAAAAAAAAAAAAAAAAAAAAAAAAAAAAAAAAAAAAAAAAAAAAAAAAAAAAAAAAAAAAAAAAAAAAAAAAAAAAAAC7gDXtwriyP0Or4ywpbbI\\u002fRXKu7s0Axj+uQ+DGMiiFP\\u002f5HAc0ggIQ\\u002fpgfQnyCJsD+KBmmQBmmAPwe\\u002feyDC754\\u002fUFiT6a9trT\\u002ftOrDA\\u002fxDAPwAAAAAAAAAAAAAAAAAAAAAAAAAAAAAAAAAAAAAAAAAAAAAAAAAAAAAAAAAAAAAAAAAAAAAAAAAAubnnY1vhvz\\u002fuRr3RGri\\u002fPyQ0UIdvCqo\\u002fwmKl6zUPqT\\u002f5\\u002fJvWAVSoP9ejQ4Yex7M\\u002ft6UB45dbij99GhSvC1fCP278MiarFsI\\u002fkSRJkiRJoj\\u002fKLZ\\u002fSFfzFPwAAAAAAAAAAAAAAAAAAAAAAAAAAAAAAAAAAAAAAAAAAAAAAAAAAAAAAAAAAAAAAAAAAAAAAAAAApF8lOv6BrT\\u002f1Mw59vT+YPz8SWG\\u002fMQJI\\u002fZ8kAkLp0qD+oqPmG6\\u002fyMPwabA4lW2Iw\\u002fDZgxcNQ9vj+m\\u002fvslHyS+P7KFwOJltok\\u002fMSeBuFBzgj\\u002fsCx1CW1eBP8BICXeju84\\u002flwcW88Bifj8X\\u002fxgrHpV7P+Umsx9GNqM\\u002fAAAAAAAAAAAAAAAAAAAAAAAAAAAAAAAAAAAAAAAAAAAAAAAAAAAAAAAAAAAAAAAAAAAAAAAAAAAAAAAAAAAAAAAAAAAAAAAAZF5ac2RNuj9qARTYVgnKP4RzIL4BELc\\u002fhRtuuOGGqz+GkvCLIL+1PxGbjsUU670\\u002fmSiT2N+JvT8ZosJZhFGCP0weAVbv5IE\\u002fqbyHtMm3dT8AAAAAAAAAAAAAAAAAAAAAAAAAAAAAAAAAAAAAAAAAAJNsa87bhqA\\u002fZuwPxte9rj93pcQoNPuXP7xgXjAvmJc\\u002fVmqrnEJoyT+\\u002fYNW+jyC+P9QzEJWO7Ik\\u002fjshQ0vtIhj+qLpQogyGBP2YTqPpEbnM\\u002fAAAAAAAAAAAAAAAAAAAAAAAAAAAAAAAAAAAAAAAAAAAAAAAAAAAAAAAAAAAAAAAAAAAAAAAAAAAAAAAAAAAAAAAAAAAAAAAAAAAAAAAAAAAAAAAAAAAAAETpz4bKpK8\\u002fbYELXOAClz+2aTgyVbSrPyM1Zk40PZM\\u002fXt9VOiXrvz+dUJZasouKPz0dyfZoBoA\\u002fDnDFGnDFaj8AAAAAAAAAAAAAAAAAAAAAAAAAAAAAAAAAAAAAAAAAAAAAAAAAAAAAAAAAAAAAAAAAAAAAAAAAANiAbEA2IJs\\u002f6isG57QXtD81oZw6RQW0P1wBBxSzkME\\u002fvBwsXmTTkz+DmtJRYYenP9wECehFnaY\\u002fV89ykpELjD8NFpPUMwSMP8a1z62BlXk\\u002fMvuO+T07bz8qwqWO8fKtP7Ov\\u002f8l9Ra0\\u002fAAAAAAAAAAAAAAAAAAAAAAAAAAAAAAAAAAAAAAAAAAAAAAAAAAAAAAAAAAAAAAAAImGosb9iqj9eO7\\u002fpwP+kP5gGUiy\\u002fdYo\\u002flxywFI5LrD+tcnWArFx9P802dKRc7XU\\u002fAAAAAAAAAAAAAAAAAAAAAAAAAAAAAAAAAAAAAAAAAAB+ikGaiGeyPwcEAoFAIKA\\u002fFYGirQbPgT\\u002fxJxmLapidPwAAAAAAAAAAAAAAAAAAAACElra76rOjPwAAAAAAAAAAAAAAAAAAAAAAAAAAAAAAAEBawlxJuo4\\u002fk8TGuvwRfT\\u002fxTagCXbeRPwAAAAAAAAAAAAAAAAAAAAAAAAAAAAAAAAAAAAAAAAAA\"}},\"mode\":\"markers+text\",\"name\":\"Player\",\"showlegend\":false,\"text\":[\"Alexander Freeman\",\"David Schnegg\",\"Marlon\",\"Michael Edwards\",\"DeJuan Jones\",\"Eriq Zavaleta\",\"Luca Orellano\",\"Tom Pearce\",\"Mauricio Cuevas\",\"Ian Fray\",\"Kervin Arriaga\",\"Yamil Asad\",\"Reggie Cannon\",\"Maximilian Arfsten\",\"Mohamed Farsi\",\"Tyrese Spicer\",\"Ryan Raposo\",\"Federico Bernardeschi\",\"Marcelo Herrera\",\"Jahkeele Marshall-Rutty\",\"Jake Davis\",\"Dante Sealy\",\"Jon Bell\",\"Guilherme Biro\",\"Mo\\u00efse Bombito\",\"Tayvon Gray\",\"Alexandros Katranis\",\"Nathan Harriel\",\"John Tolkin\",\"Mitja Ileni\\u010d\",\"Juli\\u00e1n Aude\",\"Henry Kessler\",\"Griffin Dorsey\",\"Dagur Dan \\u00de\\u00f3rhallsson\",\"Caleb Wiley\",\"Carlos Ter\\u00e1n\",\"Fernando \\u00c1lvarez\",\"Math\\u00edas Laborda\",\"Peyton Miller\",\"Paul Arriola\",\"Juan David Mosquera\",\"Matai Akinmboni\",\"Yaw Yeboah\",\"Paul Marie\",\"Jackson Ragen\",\"Nkosi Tafari\",\"Philip Quinton\",\"Brayan Vera\",\"Kayden Pierre\",\"Ranko Veselinovi\\u0107\",\"Cody Baker\",\"Robert Castellanos\",\"Oscar Verhoeven\",\"Christian McFarlane\",\"Sawyer Jura\",\"\\u017dan Kolmani\\u010d\",\"Ariel Lassiter\",\"Adilson Malanda\",\"Kobe Franklin\",\"Reed Baker-Whiting\",\"Noah Cobb\",\"Andrew Gutman\",\"Andr\\u00e9s Reyes\",\"Sebastian Anderson\",\"David Brekalo\",\"Jackson Travis\",\"Dawid Bugaj\",\"Tom\\u00e1s Avil\\u00e9s\",\"Efrain Morales\",\"Noah Allen\",\"Giuseppe Bovalina\",\"Justin Reynolds\",\"Jahkeele Marshall-Rutty\",\"William Sands\",\"Rodrigues\",\"Tomas Totland\",\"Jayden Reid\",\"Omar Campos\",\"Caden Clark\",\"Finn Surman\",\"Jo\\u00e3o Pedro\",\"Matthew Edwards\",\"Jalen Neal\",\"\\u00c9dier Ocampo\",\"Isaiah Foster\",\"Bode Davis\",\"Noah Eile\",\"Sam Vines\",\"Garrison Tubbs\",\"Michael Halliday\",\"Tommy Silva\",\"Julian Gaines\",\"Michael Wentzel\",\"Sota Kitahara\",\"Kalani Rienzi\",\"Hayden Sargis\",\"Devin Padelford\",\"Nicolas Fleuriau\",\"Nicksoen Gomis\",\"Joseph Rosales\",\"George Campbell\",\"Jack Maher\",\"Robert Voloder\",\"Jonathan Dean\",\"Rafael Santos\",\"Jon Gallagher\",\"Mauricio Pineda\",\"Carlos Garc\\u00e9s\",\"Hugo Bacharach\",\"Nikolas Dyhr\",\"Joaquin Sosa\",\"Aidan O'Connor\",\"Ousman jabang\",\"Justin Haak\",\"Kyle Duncan\",\"Jake Nerwinski\",\"Lucas Bartlett\",\"Bruno Wilson\",\"Marco Farfan\",\"Kevin O'Toole\",\"Akil Watts\",\"Carlos Harvey\",\"Malte Amundsen\",\"Brandon Bye\",\"Allan Arigoni\",\"Pedro Amador\",\"Kipp Keller\",\"Micael\",\"London Aghedo\",\"Bret Halsey\",\"Andrew Privett\",\"Victor Eriksson\",\"Morris Duggan\",\"Jefferson D\\u00edaz\",\"Jaylin Lindsey\",\"Daniel Munie\",\"William Sands\",\"Ethan Bartlow\",\"Logan Ndenbe\",\"Raoul Petretta\",\"Kai Wagner\",\"Sam Adekugbe\",\"Javain Brown\",\"Marcelo Weigandt\",\"Yevhen Cheberko\",\"Zorhan Bassong\",\"Lassi Lappalainen\",\"Aaron Herrera\",\"Franco Escobar\",\"Philip Quinton\",\"Jefferson Valverde\",\"Belal Halbouni\",\"Ian Murphy\",\"Javain Brown\",\"Anthony Markanich\",\"Gabriele Corbo\",\"Ruan\",\"Stian Rode Gregersen\",\"Christopher McVey\",\"Miles Robinson\",\"Rodrigo Schlegel\",\"Shaq Moore\",\"Dylan Nealis\",\"Richie Laryea\",\"Joshua Yaro\",\"H\\u00e9ctor David Mart\\u00ednez\",\"Cristi\\u00e1n Dajome\",\"Henry Kessler\",\"Ryan Sailor\",\"Birk Risa\",\"Josh Bauer\",\"Aim\\u00e9 Mabika\",\"John Nelson\",\"Ryan Spaulding\",\"Sam Junqua\",\"Brooks Lennon\",\"Jannes Horn\",\"Alex Roldan\",\"DeJuan Jones\",\"Ronald Hern\\u00e1ndez\",\"Vitor Costa\",\"Steven Moreira\",\"Claudio Bravo\",\"Olivier Mbaizo\",\"Ema Twumasi\",\"Jordi Alba\",\"Eddie Segura\",\"D.J. Taylor\",\"Chidozie Awaziem\",\"Kyle Hiebert\",\"Tate Schmitt\",\"Justen Glad\",\"Strahinja Tanasijevi\\u0107\",\"Tanner Beason\",\"Kamal Miller\",\"Leo V\\u00e4is\\u00e4nen\",\"Nouhou Tolo\",\"Zac McGraw\",\"Brendan Hines-Ike\",\"Daniel Steres\",\"Joakim Nilsson\",\"Teenage Hadebe\",\"Jakob Glesnes\",\"Julio Cascante\",\"Daniel Rosero\",\"Sean Nealis\",\"Sergi Palencia\",\"Tristan Blackmon\",\"Luis Abram\",\"Bj\\u00f8rn Inge Utvik\",\"Joaqu\\u00edn Fern\\u00e1ndez\",\"Miguel Tapias\",\"Raheem Edwards\",\"Nick Lima\",\"Ruan\",\"Conner Antley\",\"Pedro Santos\",\"Eric Miller\",\"Franco Negri\",\"Tobias Salquist\",\"Jack Elliott\",\"Andrew Brody\",\"Chase Gasper\",\"Bill Tuiloma\",\"Mikkel Desler\",\"Matt Miazga\",\"Tommy Thompson\",\"Lukas MacNaughton\",\"Wyatt Omsberg\",\"Joel Waterman\",\"Thiago Martins\",\"Nathan Cardoso\",\"Henry Wingo\",\"Walker Zimmerman\",\"Ariel Lassiter\",\"Tim Leibold\",\"Jere Uronen\",\"Matt Hedges\",\"Miguel Araujo\",\"Lalas Abubakar\",\"Andreas Maxs\\u00f8\",\"Nicol\\u00e1s Freire\",\"Oleksandr Svatok\",\"Xavier Arreaga\",\"Xavier Arreaga\",\"Jes\\u00fas David Murillo\",\"Alvas Powell\",\"Sigurd Rosted\",\"Taylor Washington\",\"Serhiy Kryvtsov\",\"Sebastien Ibeagha\",\"Tim Ream\",\"Khiry Shelton\",\"Aaron Long\",\"Yeimar G\\u00f3mez Andrade\",\"Miki Yamane\",\"DeAndre Yedlin\",\"Carlos Akapo\",\"Keegan Rosenberry\",\"Ryan Hollingshead\",\"Erik Sviatchenko\",\"Tim Parker\",\"David Romney\",\"DeAndre Yedlin\",\"Tim Parker\",\"Shane O'Neill\",\"Damion Lowe\",\"Rudy Camacho\",\"Robin Jansson\",\"Lu\\u00eds Martins\",\"Rafael Czichos\",\"Nathan Byrne\",\"Arnaud Souquet\",\"Andrew Farrell\",\"Nick Hagglund\",\"Derrick Williams\",\"Dario \\u017dupari\\u0107\",\"Maya Yoshida\",\"Bryan Oviedo\",\"Kyle Smith\",\"Steve Birnbaum\",\"Daniel Lovitz\",\"Zarek Valentin\",\"Michael Boxall\",\"Brent Kallman\",\"Jonathan Mensah\",\"Kevin Long\",\"Maxime Chanot\",\"Andreu Font\\u00e0s\",\"Hector Jim\\u00e9nez\",\"Marcelo Silva\",\"Omar Gonzalez\",\"Larrys Mabiala\",\"Mart\\u00edn C\\u00e1ceres\"],\"textposition\":\"top center\",\"x\":{\"dtype\":\"f8\",\"bdata\":\"n79qGKLCMEBA6TcCzDTHv0DpNwLMNMe\\u002fQOk3Asw0x79A6TcCzDTHvw==\"},\"xaxis\":\"x2\",\"y\":{\"dtype\":\"f8\",\"bdata\":\"BmLiSpx6MDNHKSQluh3ZP0cpJCW6Hdk\\u002fRykkJbod2T9HKSQluh3ZPw==\"},\"yaxis\":\"y2\",\"type\":\"scatter\"},{\"line\":{\"color\":\"lightgrey\"},\"mode\":\"lines\",\"name\":\"Z-Curve\",\"showlegend\":false,\"x\":{\"dtype\":\"f8\",\"bdata\":\"AAAAAAAAEMBv\\u002fbv179YPwN76d+vfrQ\\u002fATfgz4c+ED8C89e\\u002fWv1sPwCvzq8yvMg\\u002fAmvBnwp8JD8AJ7iO4j+AOwHjr361\\u002ftw7A5+ibo2+ODsBW5leZX2UOwMXjE49PPA7ANOHPhD8TDsCj3ot6L+oNwBLcR3AfwQ3AgdkDZg+YDcDw1r9b\\u002f24NwF\\u002fUe1HvRQ3AztE3R98cDcA9z\\u002fM8z\\u002fMMwKzMrzK\\u002fygzAG8prKK+hDMCKxycen3gMwPnE4xOPTwzAaMKfCX8mDMDXv1v\\u002fbv0LwEa9F\\u002fVe1AvAtbrT6k6rC8AkuI\\u002fgPoILwJO1S9YuWQvAArMHzB4wC8BxsMPBDgcLwOCtf7f+3QrAT6s7re60CsC+qPei3osKwC2ms5jOYgrAnKNvjr45CsALoSuErhAKwHqe53me5wnA6Zujb46+CcBYmV9lfpUJwMeWG1tubAnANpTXUF5DCcClkZNGThoJwBSPTzw+8QjAg4wLMi7ICMDyiccnHp8IwGGHgx0OdgjA0IQ\\u002fE\\u002f5MCMA\\u002fgvsI7iMIwK5\\u002ft\\u002f7d+gfAHX1z9M3RB8CMei\\u002fqvagHwPt369+tfwfAanWn1Z1WB8DZcmPLjS0HwEhwH8F9BAfAt23btm3bBsAma5esXbIGwJVoU6JNiQbABGYPmD1gBsBzY8uNLTcGwOJgh4MdDgbAUV5DeQ3lBcDAW\\u002f9u\\u002fbsFwC9Zu2TtkgXAnlZ3Wt1pBcANVDNQzUAFwHxR70W9FwXA606rO63uBMBaTGcxncUEwMlJIyeNnATAOEffHH1zBMCnRJsSbUoEwBZCVwhdIQTAhT8T\\u002fkz4A8D0PM\\u002fzPM8DwGM6i+kspgPA0jdH3xx9A8BBNQPVDFQDwLAyv8r8KgPAHzB7wOwBA8COLTe23NgCwP0q86vMrwLAbCivobyGAsDbJWuXrF0CwEojJ42cNALAuSDjgowLAsAoHp94fOIBwJcbW25suQHABhkXZFyQAcB1FtNZTGcBwOQTj088PgHAUxFLRSwVAcDCDgc7HOwAwDEMwzAMwwDAoAl\\u002fJvyZAMAPBzsc7HAAwH4E9xHcRwDA7QGzB8weAMC4\\u002ft36d+v\\u002fv5b5VeZXmf+\\u002fdPTN0TdH\\u002f79S70W9F\\u002fX+vzDqvaj3ov6\\u002fDuU1lNdQ\\u002fr\\u002fs361\\u002ft\\u002f79v8raJWuXrP2\\u002fqNWdVnda\\u002fb+G0BVCVwj9v2TLjS03tvy\\u002fQsYFGRdk\\u002fL8gwX0E9xH8v\\u002f679e\\u002fWv\\u002fu\\u002f3LZt27Zt+7+6seXGlhv7v5isXbJ2yfq\\u002fdqfVnVZ3+r9Uok2JNiX6vzKdxXQW0\\u002fm\\u002fEJg9YPaA+b\\u002fukrVL1i75v8yNLTe23Pi\\u002fqoilIpaK+L+Igx0Odjj4v2Z+lflV5ve\\u002fRHkN5TWU978idIXQFUL3vwBv\\u002fbv17\\u002fa\\u002f3ml1p9Wd9r+8ZO2StUv2v5pfZX6V+fW\\u002feFrdaXWn9b9WVVVVVVX1vzRQzUA1A\\u002fW\\u002fEktFLBWx9L\\u002fwRb0X9V70v85ANQPVDPS\\u002frDut7rS687+KNiXalGjzv2gxncV0FvO\\u002fRiwVsVTE8r8kJ42cNHLyvwIiBYgUIPK\\u002f4Bx9c\\u002fTN8b++F\\u002fVe1Hvxv5wSbUq0KfG\\u002feg3lNZTX8L9YCF0hdIXwvzYD1QxUM\\u002fC\\u002fKPyZ8GfC77\\u002fk8YnHJx7vv6DneZ7nee6\\u002fXN1pdafV7b8Y01lMZzHtv9TISSMnjey\\u002fkL45+ubo679MtCnRpkTrvwiqGahmoOq\\u002fxJ8Jfyb86b+AlflV5lfpvzyL6Syms+i\\u002f+IDZA2YP6L+0dsnaJWvnv3BsubHlxua\\u002fLGKpiKUi5r\\u002foV5lfZX7lv6RNiTYl2uS\\u002fYEN5DeU15L8cOWnkpJHjv9guWbtk7eK\\u002flCRJkiRJ4r9QGjlp5KThvwwQKUCkAOG\\u002fyAUZF2Rc4L8I9xHcR3Dfv4Di8YnHJ96\\u002f+M3RN0ff3L9wubHlxpbbv+ikkZNGTtq\\u002fYJBxQcYF2b\\u002fYe1HvRb3Xv1BnMZ3FdNa\\u002fyFIRS0Us1b9APvH4xOPTv7gp0aZEm9K\\u002fMBWxVMRS0b+oAJECRArQv0DY4WCHg82\\u002fMK+hvIbyyr8ghmEYhmHIvxBdIXSF0MW\\u002fADThz4Q\\u002fw7\\u002fwCqErhK7Av8DDwQ4HO7y\\u002foHFBxgUZt7+AH8F9BPexv8CagWoGqqm\\u002fAO0BswfMnr8ASQEiBYiEvwBIASIFiIQ\\u002fAOwBswfMnj+AmoFqBqqpP4AfwX0E97E\\u002fgHFBxgUZtz+Aw8EOBzu8P+AKoSuErsA\\u002fADThz4Q\\u002fwz8AXSF0hdDFPwCGYRiGYcg\\u002fIK+hvIbyyj9A2OFgh4PNP6AAkQJECtA\\u002fIBWxVMRS0T+wKdGmRJvSP0A+8fjE49M\\u002fwFIRS0Us1T9AZzGdxXTWP9B7Ue9Fvdc\\u002fYJBxQcYF2T\\u002fgpJGTRk7aP2C5seXGlts\\u002f8M3RN0ff3D+A4vGJxyfePwD3EdxHcN8\\u002fwAUZF2Rc4D8IEClApADhP1AaOWnkpOE\\u002fkCRJkiRJ4j\\u002fQLlm7ZO3iPxg5aeSkkeM\\u002fYEN5DeU15D+gTYk2JdrkP+BXmV9lfuU\\u002fKGKpiKUi5j9wbLmx5cbmP7B2ydola+c\\u002f8IDZA2YP6D84i+ksprPoP4CV+VXmV+k\\u002fwJ8Jfyb86T8AqhmoZqDqP0i0KdGmROs\\u002fkL45+ubo6z\\u002fQyEkjJ43sPxDTWUxnMe0\\u002fWN1pdafV7T+g53me53nuP+DxiccnHu8\\u002fIPyZ8GfC7z80A9UMVDPwP1gIXSF0hfA\\u002feA3lNZTX8D+YEm1KtCnxP7wX9V7Ue\\u002fE\\u002f4Bx9c\\u002fTN8T8AIgWIFCDyPyAnjZw0cvI\\u002fRCwVsVTE8j9oMZ3FdBbzP4g2JdqUaPM\\u002fqDut7rS68z\\u002fMQDUD1Qz0P\\u002fBFvRf1XvQ\\u002fEEtFLBWx9D8wUM1ANQP1P1RVVVVVVfU\\u002feFrdaXWn9T+YX2V+lfn1P7hk7ZK1S\\u002fY\\u002f3Gl1p9Wd9j8Ab\\u002f279e\\u002f2PyB0hdAVQvc\\u002fQHkN5TWU9z9kfpX5Veb3P4iDHQ52OPg\\u002fqIilIpaK+D\\u002fIjS03ttz4P+yStUvWLvk\\u002fEJg9YPaA+T8wncV0FtP5P1CiTYk2Jfo\\u002fdKfVnVZ3+j+YrF2ydsn6P7ix5caWG\\u002fs\\u002f2LZt27Zt+z\\u002f8u\\u002fXv1r\\u002f7PyDBfQT3Efw\\u002fQMYFGRdk\\u002fD9gy40tN7b8P4TQFUJXCP0\\u002fqNWdVnda\\u002fT\\u002fI2iVrl6z9P+jfrX+3\\u002fv0\\u002fDOU1lNdQ\\u002fj8w6r2o96L+P1DvRb0X9f4\\u002fcPTN0TdH\\u002fz+U+VXmV5n\\u002fP7j+3fp36\\u002f8\\u002f7AGzB8weAEB8BPcR3EcAQA4HOxzscABAoAl\\u002fJvyZAEAwDMMwDMMAQMAOBzsc7ABAUhFLRSwVAUDkE49PPD4BQHQW01lMZwFABBkXZFyQAUCWG1tubLkBQCgen3h84gFAuCDjgowLAkBIIyeNnDQCQNola5esXQJAbCivobyGAkD8KvOrzK8CQIwtN7bc2AJAHjB7wOwBA0CwMr\\u002fK\\u002fCoDQEA1A9UMVANA0DdH3xx9A0BiOovpLKYDQPQ8z\\u002fM8zwNAhD8T\\u002fkz4A0AUQlcIXSEEQKZEmxJtSgRAOEffHH1zBEDISSMnjZwEQFhMZzGdxQRA6k6rO63uBEB8Ue9FvRcFQAxUM1DNQAVAnFZ3Wt1pBUAuWbtk7ZIFQMBb\\u002f279uwVAUF5DeQ3lBUDgYIeDHQ4GQHJjy40tNwZABGYPmD1gBkCUaFOiTYkGQCRrl6xdsgZAtm3btm3bBkBIcB\\u002fBfQQHQNhyY8uNLQdAaHWn1Z1WB0D6d+vfrX8HQIx6L+q9qAdAHH1z9M3RB0Csf7f+3foHQD6C+wjuIwhA0IQ\\u002fE\\u002f5MCEBgh4MdDnYIQPCJxycenwhAgowLMi7ICEAUj088PvEIQKSRk0ZOGglANJTXUF5DCUDGlhtbbmwJQFiZX2V+lQlA6Jujb46+CUB4nud5nucJQAqhK4SuEApAnKNvjr45CkAsprOYzmIKQLyo96LeiwpATqs7re60CkDgrX+3\\u002ft0KQHCww8EOBwtAALMHzB4wC0CStUvWLlkLQCS4j+A+ggtAtLrT6k6rC0BEvRf1XtQLQNa\\u002fW\\u002f9u\\u002fQtAaMKfCX8mDED4xOMTj08MQIjHJx6feAxAGsprKK+hDECszK8yv8oMQDzP8zzP8wxAzNE3R98cDUBe1HtR70UNQPDWv1v\\u002fbg1AgNkDZg+YDUAQ3EdwH8ENQKLei3ov6g1ANOHPhD8TDkDE4xOPTzwOQFTmV5lfZQ5A5uibo2+ODkB469+tf7cOQAjuI7iP4A5AmPBnwp8JD0Aq86vMrzIPQLz179a\\u002fWw9ATPgz4c+ED0Dc+nfr360PQG79u\\u002fXv1g9AAAAAAAAAEEA=\"},\"xaxis\":\"x3\",\"y\":{\"dtype\":\"f8\",\"bdata\":\"tbTA4piKIT\\u002fVpf16mgAjP3FZkSukkyQ\\u002f6U48VsdFJj\\u002fiwpAcNxkoPwUMvTZKECo\\u002fCqH63XwtLD8rAQPLcnMuPz9VcqR8cjA\\u002fai5FroTCMT8yB58AZSszPzyVMz3JrjQ\\u002f1nFcXXZONj+xxnzwSww4P2KBP2VF6jk\\u002f5Q23XXvqOz8RAV4OJQ8+P57299NMLUA\\u002fsGkE5qhnQT8QHTiG9LdCP7l1dbqPH0Q\\u002ff9Wxj+2fRT+N8RfplDpHPz6kFFQh8Ug\\u002f12Yk4UPFSj+R9zABxLhMP6axR2eAzU4\\u002fEuY097eCUD9jBphBUbFRP1rCeQih81I\\u002fzlASuclKVD9to7ix+7dVP8zdqLx1PFc\\u002fL4fFi4XZWD9xDBY1iJBaP65NwK\\u002fqYlw\\u002fr\\u002fk1USpSXj82siSl6i9gP1Us7JHFRmE\\u002fnxBbnX5uYj\\u002fEWDyd96djP6q4Y8sb9GQ\\u002f+WFiAeBTZj8V9xLzQshnP+3Gw2dNUmk\\u002fwLLDcRLzaj\\u002fLbROkr6tsP+Ab+kVNfW4\\u002fsdocQo80cD8Bg87PMDhxPyFOSwwwSnI\\u002fF8vSazdrcz\\u002ffchkp95t0P365y1Ul3XU\\u002fr7b86H0vdz8hl1bLwpN4Pywj4uC7Cno\\u002fxto5EDeVez9UcfxGCDR9P9zZUXsJ6H4\\u002fIMsqVQ1ZgD\\u002feTpzpkEmBP4x4dncFRoI\\u002fjmwW8uNOgz9Y69c7qGSEP26\\u002fLxzRh4U\\u002fsGyvM+C4hj8ssNvtWfiHP466v3DFRok\\u002fx4Eniqykij+\\u002fEWyamxKMP1JovXwhkY0\\u002fACjWbM8gjz8uIwN1HGGQP2Vowcv5OpE\\u002f6vn0jEsekj\\u002fDz\\u002fV4XguTP103BCqAApQ\\u002fzu+s\\u002fv4DlT83OawCKhCWPzLzStZQJ5c\\u002fXMcxlMNJmD\\u002ffS6+10neZPxMIb\\u002fXOsZo\\u002fElGgMAn4mz+QDo1G0kqdP7+fofZ6qp4\\u002fpyZ03qkLoD9\\u002f+31W1sigP5x8u6XqjKE\\u002fNlDyMg5Yoj\\u002fgcZ70ZyqjP0HHeVseBKQ\\u002fbbtSPFflpD9l7ze5N86lPzTR\\u002fynkvqY\\u002fBrEzBIC3pz+ys2bCLbioP9DLAcsOwak\\u002fda2OVkPSqj+6e4xV6uurP6652VUhDq0\\u002fFNK\\u002fZwQ5rj9BUK0CrmyvP81U1nSbVLA\\u002f1RvTB1v3sD+wX749oJ6xP4xMCpZ0SrI\\u002f1h4rfuD6sj89055D66+zP7pHBAababQ\\u002foCFLqfQntT+8EwbI++q1P61h6aWysrY\\u002fZLl\\u002fIhp\\u002ftz\\u002fVsR+sMVC4P65sLDP3Jbk\\u002fBAGsHWcAuj9gdT47fN+6PwsogLkvw7s\\u002f6JTiGHmrvD+9bwYiTpi9P9wIotuiib4\\u002fV+f+gGl\\u002fvz8vuIw8yTzAP9GqNicGvMA\\u002foq6802E9wT\\u002f7cQKg0cDBP1afmPFJRsI\\u002fUG0wM77Nwj861X7SIFfDPwMKlD5j4sM\\u002f3Jar5nVvxD8gVXk5SP7EP1As96TIjsU\\u002fFE23luQgxj+OUb58iLTGP71h6MafScc\\u002fqSrc6BTgxz9SIo5c0XfIP785VqW9EMk\\u002fY8GZU8GqyT+N4woJw0XKPy+0fn2o4co\\u002fym1ahFZ+yz+3CJgSsRvMP\\u002ffsYUWbucw\\u002f\\u002fA5FafdXzT+RVvgBp\\u002fbNP9K7t9KKlc4\\u002f+REx54I0zz+UAgCdbtPPPxQj21YWOdA\\u002fAVm2nE2I0D\\u002fWnuzoS9fQPzrX8sL\\u002fJdE\\u002fVBLhdld00T94KrcbQcLRP8nk2ZmqD9I\\u002fgY3FsYFc0j8h0\\u002fICtKjSP\\u002fBw6hIv9NI\\u002fcAiEVOA+0z\\u002fqWkwvtYjTP+XnDgeb0dM\\u002f5ct+Q38Z1D\\u002f7k\\u002fpXT2DUP+OWZsv4pdQ\\u002fx0MZQGnq1D9oudR7ji3VP6LeyG9Wb9U\\u002f6B6ZQK+v1T\\u002fj2mBOh+7VP7qOsTzNK9Y\\u002f2aSF+m9n1j9T5SLKXqHWP41v50iJ2dY\\u002fdi38dt8P1z9dtee+UUTXP5qZ\\u002fPzQdtc\\u002fgTOehk6n1z+UCVcxvNXXP8MHvFkMAtg\\u002fNdsX6jEs2D824tlgIFTYP71DxNbLedg\\u002f6OjUBCmd2D9uPeVJLb7YP2PK\\u002fK\\u002fO3Ng\\u002fYfBS8QP52D+TO\\u002fx8xBLZP0YEQHsIKtk\\u002fMkqT0cg+2T+49jUm\\u002f1DZPy\\u002fzb+OlYNk\\u002fXsNrOrht2T+TmawlMnjZP8ogHmsQgNk\\u002fMoK8nVCF2T9LddMe8YfZP0t10x7xh9k\\u002fMoK8nVCF2T\\u002fKIB5rEIDZP5OZrCUyeNk\\u002fXsNrOrht2T8w82\\u002fjpWDZP7n2NSb\\u002fUNk\\u002fMkqT0cg+2T9HBEB7CCrZP5Q7\\u002fHzEEtk\\u002fYvBS8QP52D9jyvyvztzYP2895Uktvtg\\u002f6ejUBCmd2D++Q8TWy3nYPzbi2WAgVNg\\u002fNtsX6jEs2D\\u002fFB7xZDALYP5UJVzG81dc\\u002fgTOehk6n1z+cmfz80HbXP1+1575RRNc\\u002feC38dt8P1z+Nb+dIidnWP1XlIspeodY\\u002f3aSF+m9n1j+8jrE8zSvWP+PaYE6H7tU\\u002f6h6ZQK+v1T+l3shvVm\\u002fVP2m51HuOLdU\\u002fx0MZQGnq1D\\u002fmlmbL+KXUP\\u002f+T+ldPYNQ\\u002f58t+Q38Z1D\\u002fl5w4Hm9HTP+1aTC+1iNM\\u002fdAiEVOA+0z\\u002fxcOoSL\\u002fTSPyHT8gK0qNI\\u002fgo3FsYFc0j\\u002fN5NmZqg\\u002fSP3oqtxtBwtE\\u002fVBLhdld00T881\\u002fLC\\u002fyXRP9qe7OhL19A\\u002fA1m2nE2I0D8UI9tWFjnQP5kCAJ1u088\\u002fARIx54I0zz\\u002fVu7fSipXOP5FW+AGn9s0\\u002fAQ9FafdXzT\\u002f\\u002f7GFFm7nMP7oImBKxG8w\\u002fym1ahFZ+yz80tH59qOHKP5XjCgnDRco\\u002fZsGZU8GqyT+\\u002fOValvRDJP1YijlzRd8g\\u002fsSrc6BTgxz\\u002fBYejGn0nHP45RvnyItMY\\u002fGE23luQgxj9XLPekyI7FPyRVeTlI\\u002fsQ\\u002f3Jar5nVvxD8HCpQ+Y+LDP0HVftIgV8M\\u002fVG0wM77Nwj9Wn5jxSUbCP\\u002f5xAqDRwME\\u002fqK6802E9wT\\u002fUqjYnBrzAPy+4jDzJPMA\\u002fXuf+gGl\\u002fvz\\u002fpCKLboom+P8NvBiJOmL0\\u002f6JTiGHmrvD8SKIC5L8O7P2x1Pjt837o\\u002fCAGsHWcAuj+ubCwz9yW5P9qxH6wxULg\\u002fbrl\\u002fIhp\\u002ftz+zYemlsrK2P7wTBsj76rU\\u002fpCFLqfQntT\\u002fDRwQGm2m0P0HTnkPrr7M\\u002f1h4rfuD6sj+QTAqWdEqyP7hfvj2gnrE\\u002f2RvTB1v3sD\\u002fNVNZ0m1SwP0dQrQKubK8\\u002fI9K\\u002fZwQ5rj+2udlVIQ6tP7p7jFXq66s\\u002fe62OVkPSqj\\u002fdywHLDsGpP7izZsItuKg\\u002fBrEzBIC3pz850f8p5L6mP3DvN7k3zqU\\u002fcrtSPFflpD9Bx3lbHgSkP+VxnvRnKqM\\u002fQFDyMg5Yoj+hfLul6oyhP3\\u002f7fVbWyKA\\u002friZ03qkLoD\\u002fPn6H2eqqeP5cOjUbSSp0\\u002fElGgMAn4mz8ZCG\\u002f1zrGaP+9Lr7XSd5k\\u002fYccxlMNJmD8y80rWUCeXPzw5rAIqEJY\\u002f2++s\\u002fv4DlT9hNwQqgAKUP8PP9XheC5M\\u002f7\\u002fn0jEsekj9waMHL+TqRPzMjA3UcYZA\\u002fACjWbM8gjz9eaL18IZGNP9ARbJqbEow\\u002fz4Eniqykij+Our9wxUaJPzWw2+1Z+Ic\\u002fwWyvM+C4hj90vy8c0YeFP1jr1zuoZIQ\\u002flWwW8uNOgz+YeHZ3BUaCP+ROnOmQSYE\\u002fIMsqVQ1ZgD\\u002fi2VF7Ceh+P2tx\\u002fEYINH0\\u002fzto5EDeVez8sI+Lguwp6PyiXVsvCk3g\\u002fwbb86H0vdz+DuctVJd11P99yGSn3m3Q\\u002fHMvSazdrcz8vTksMMEpyPwWDzs8wOHE\\u002fsdocQo80cD\\u002foG\\u002fpFTX1uP+BtE6Svq2w\\u002fyLLDcRLzaj\\u002ftxsNnTVJpPyH3EvNCyGc\\u002fCmJiAeBTZj+0uGPLG\\u002fRkP8RYPJ33p2M\\u002fqRBbnX5uYj9iLOyRxUZhPzqyJKXqL2A\\u002fr\\u002fk1USpSXj+8TcCv6mJcP4YMFjWIkFo\\u002fPIfFi4XZWD\\u002fM3ai8dTxXP3OjuLH7t1U\\u002f4lASuclKVD9jwnkIofNSP2MGmEFRsVE\\u002fFuY097eCUD\\u002fGsUdngM1OP5\\u002f3MAHEuEw\\u002f12Yk4UPFSj9EpBRUIfFIP6TxF+mUOkc\\u002fitWxj+2fRT+5dXW6jx9EPxkdOIb0t0I\\u002fwWkE5qhnQT+m9vfTTC1APxEBXg4lDz4\\u002f8w23XXvqOz91gT9lReo5P73GfPBLDDg\\u002f1nFcXXZONj9AlTM9ya40P0UHnwBlKzM\\u002fci5FroTCMT8\\u002fVXKkfHIwPzkBA8tycy4\\u002fJ6H63XwtLD8SDL02ShAqP+LCkBw3GSg\\u002f9E48VsdFJj+FWZErpJMkP9+l\\u002fXqaACM\\u002ftbTA4piKIT8=\"},\"yaxis\":\"y3\",\"type\":\"scatter\"},{\"marker\":{\"color\":{\"dtype\":\"f8\",\"bdata\":\"vfo2vHx77j+9otX11GTnPwAAAAAAAOA\\u002fNSLGVovq6j8BIk+K6iTlP4a6VBRWNtE\\u002fNSLGVovq6j+9otX11GTnP9QC68bF6+0\\u002fOGatcNQr7T8BIk+K6iTlP3q053Mrt9o\\u002fvaLV9dRk5z\\u002fJeYpafS\\u002fsPyj5rjUUU+k\\u002fNSLGVovq6j8o+a41FFPpP3q053Mrt9o\\u002fvaLV9dRk5z+9+ja8fHvuP8l5ilp9L+w\\u002f1ALrxsXr7T8BIk+K6iTlPzUixlaL6uo\\u002fNSLGVovq6j84Zq1w1CvtP72i1fXUZOc\\u002fyXmKWn0v7D84Zq1w1CvtP736Nrx8e+4\\u002f1ALrxsXr7T+9otX11GTnPyj5rjUUU+k\\u002fNSLGVovq6j+9+ja8fHvuPzUixlaL6uo\\u002f1ALrxsXr7T8o+a41FFPpP+rhDS+obO8\\u002fAAAAAAAA4D84Zq1w1CvtPyS7VbDRM+8\\u002fASJPiuok5T8AAAAAAADgP72i1fXUZOc\\u002fASJPiuok5T8o+a41FFPpP72i1fXUZOc\\u002f1ALrxsXr7T8o+a41FFPpP9QC68bF6+0\\u002fvaLV9dRk5z8ku1Ww0TPvPyS7VbDRM+8\\u002fJLtVsNEz7z81IsZWi+rqP3q053Mrt9o\\u002fyXmKWn0v7D\\u002fUAuvGxevtP2h\\u002fYzDT5e4\\u002faH9jMNPl7j\\u002fDJQxGaqTiPyj5rjUUU+k\\u002fOGatcNQr7T+9otX11GTnP736Nrx8e+4\\u002fvfo2vHx77j+9+ja8fHvuP736Nrx8e+4\\u002fvfo2vHx77j+9+ja8fHvuP736Nrx8e+4\\u002fvfo2vHx77j81IsZWi+rqPwEiT4rqJOU\\u002fvaLV9dRk5z\\u002fJeYpafS\\u002fsPzhmrXDUK+0\\u002f1ALrxsXr7T\\u002fUAuvGxevtP9QC68bF6+0\\u002f1ALrxsXr7T\\u002fUAuvGxevtP9QC68bF6+0\\u002f1ALrxsXr7T84Zq1w1CvtPzhmrXDUK+0\\u002fKPmuNRRT6T84Zq1w1CvtPzhmrXDUK+0\\u002fOGatcNQr7T84Zq1w1CvtPzhmrXDUK+0\\u002fOGatcNQr7T84Zq1w1CvtPzhmrXDUK+0\\u002fOGatcNQr7T84Zq1w1CvtPzhmrXDUK+0\\u002fNSLGVovq6j\\u002fJeYpafS\\u002fsPyj5rjUUU+k\\u002fyXmKWn0v7D8BIk+K6iTlP72i1fXUZOc\\u002fwyUMRmqk4j8BIk+K6iTlP8l5ilp9L+w\\u002fyXmKWn0v7D\\u002fJeYpafS\\u002fsP8l5ilp9L+w\\u002fyXmKWn0v7D\\u002fJeYpafS\\u002fsP8l5ilp9L+w\\u002fASJPiuok5T96tOdzK7faPwEiT4rqJOU\\u002fwyUMRmqk4j+9otX11GTnP72i1fXUZOc\\u002fNSLGVovq6j81IsZWi+rqP72i1fXUZOc\\u002fAAAAAAAA4D+9otX11GTnP72i1fXUZOc\\u002fNSLGVovq6j81IsZWi+rqPzUixlaL6uo\\u002fNSLGVovq6j81IsZWi+rqPzUixlaL6uo\\u002fNSLGVovq6j81IsZWi+rqPzUixlaL6uo\\u002fNSLGVovq6j81IsZWi+rqPzUixlaL6uo\\u002fNSLGVovq6j8BIk+K6iTlPwEiT4rqJOU\\u002ferTncyu32j8o+a41FFPpPyj5rjUUU+k\\u002fASJPiuok5T8o+a41FFPpP72i1fXUZOc\\u002fASJPiuok5T8AAAAAAADgPyj5rjUUU+k\\u002fKPmuNRRT6T8o+a41FFPpPyj5rjUUU+k\\u002fKPmuNRRT6T8o+a41FFPpPyj5rjUUU+k\\u002fAAAAAAAA4D8AAAAAAADgPwEiT4rqJOU\\u002fASJPiuok5T8BIk+K6iTlP8MlDEZqpOI\\u002fvaLV9dRk5z96tOdzK7faP3q053Mrt9o\\u002fASJPiuok5T\\u002f\\u002fu2HrKrbVP72i1fXUZOc\\u002fvaLV9dRk5z+9otX11GTnP72i1fXUZOc\\u002fvaLV9dRk5z+9otX11GTnP72i1fXUZOc\\u002fwyUMRmqk4j8BIk+K6iTlPwEiT4rqJOU\\u002fwyUMRmqk4j8BIk+K6iTlPwEiT4rqJOU\\u002ferTncyu32j96tOdzK7faPwEiT4rqJOU\\u002fASJPiuok5T8BIk+K6iTlP64xrCsVhL4\\u002fASJPiuok5T8BIk+K6iTlP8MlDEZqpOI\\u002fASJPiuok5T8BIk+K6iTlPwEiT4rqJOU\\u002fASJPiuok5T8BIk+K6iTlPwEiT4rqJOU\\u002fASJPiuok5T8BIk+K6iTlPwEiT4rqJOU\\u002ferTncyu32j8ud+ek0lXEP3q053Mrt9o\\u002fAAAAAAAA4D96tOdzK7faP\\u002f+7YesqttU\\u002f\\u002f7th6yq21T\\u002fDJQxGaqTiP8MlDEZqpOI\\u002fwyUMRmqk4j\\u002fDJQxGaqTiP8MlDEZqpOI\\u002fwyUMRmqk4j\\u002fDJQxGaqTiPwAAAAAAAOA\\u002ferTncyu32j8AAAAAAADgPwAAAAAAAOA\\u002fRs6Uelyhtj+GulQUVjbRPwAAAAAAAOA\\u002fAAAAAAAA4D8AAAAAAADgPwAAAAAAAOA\\u002fAAAAAAAA4D8AAAAAAADgPwAAAAAAAOA\\u002fAAAAAAAA4D8AAAAAAADgPwAAAAAAAOA\\u002fAAAAAAAA4D8AAAAAAADgPwAAAAAAAOA\\u002fAAAAAAAA4D8AAAAAAADgP\\u002f+7YesqttU\\u002ferTncyu32j\\u002f\\u002fu2HrKrbVP3q053Mrt9o\\u002fLnfnpNJVxD96tOdzK7faP3q053Mrt9o\\u002ferTncyu32j96tOdzK7faP3q053Mrt9o\\u002ferTncyu32j96tOdzK7faP3q053Mrt9o\\u002ferTncyu32j96tOdzK7faP\\u002f+7YesqttU\\u002fYBtEKa+zyj9gG0Qpr7PKP2Tpp8jRobA\\u002f\\u002f7th6yq21T+GulQUVjbRP4a6VBRWNtE\\u002f\\u002f7th6yq21T\\u002f\\u002fu2HrKrbVP\\u002f+7YesqttU\\u002f\\u002f7th6yq21T9gG0Qpr7PKP2AbRCmvs8o\\u002f\\u002f7th6yq21T\\u002f\\u002fu2HrKrbVP\\u002f+7YesqttU\\u002f\\u002f7th6yq21T\\u002f\\u002fu2HrKrbVP\\u002f+7YesqttU\\u002fYBtEKa+zyj9gG0Qpr7PKP4a6VBRWNtE\\u002fLnfnpNJVxD+GulQUVjbRP4a6VBRWNtE\\u002fhrpUFFY20T+GulQUVjbRP4a6VBRWNtE\\u002fhrpUFFY20T9GzpR6XKG2Py5356TSVcQ\\u002fYBtEKa+zyj8ud+ek0lXEP2AbRCmvs8o\\u002fYBtEKa+zyj9GzpR6XKG2Py5356TSVcQ\\u002fLnfnpNJVxD8ud+ek0lXEP64xrCsVhL4\\u002frjGsKxWEvj9GzpR6XKG2P64xrCsVhL4\\u002fRs6Uelyhtj9k6afI0aGwP2Tpp8jRobA\\u002f\"},\"showscale\":true,\"size\":{\"dtype\":\"f8\",\"bdata\":\"AAAAAAAA8D8jro6RG9rsP6vD+BcCtes\\u002fnLE24rnI4D8ntxyjQxLhPy3y2MQMr+U\\u002fU\\u002fBxeDCe2z+paE4kBF7eP0\\u002fs+Lz2GNc\\u002fJAcr1Ipi1T+pT6\\u002fxic3XPzpx2onkLt4\\u002flOj\\u002fjjBb1D8zt\\u002fVsxKrPP0v8aay1NM8\\u002fdh0tcalzyz\\u002fbYnrOEq7NP5uLsXcATNg\\u002foebZ3OOVzT+zOBSgyDPBPzGvoZjfjcQ\\u002fUVO9OQE4wD8u912pm6zMP9m3O0BwU8I\\u002fF6nL97MKwj8SHxSBwgq8P+1AwdJy78Y\\u002f8ZvYfJ7duz\\u002fXS7lkwXu4P\\u002fX1czG5CbM\\u002f3H5Zc0eIsz\\u002fZ6rLeHLDEPyGQRgL+PME\\u002fugqkOCGDvD8iBM9E1y6wPzT+mJnhArk\\u002fMEwuV39+rD+6wd+c0Jm8P90B8XdA\\u002fJ0\\u002fJAi1wq54zT\\u002f3NjR8onWrPw52QdgFYZc\\u002fgR4MAE1gwz8+MRzs1BbMPywWUkwHwb0\\u002fdH9JTWKcwj\\u002ffnnvZBMO2P6MdI5K+8Lw\\u002fDbGBzxiOlj++bYN1liK1Py4aESC8YJU\\u002f3ksIbacCuz8AAAAAAAAAAAAAAAAAAAAAAAAAAAAAAAC4BRRGdZqsP9Gea6m4Vc4\\u002fK7zHEBtloz8IOfrPwOKMPwAAAAAAAAAAAAAAAAAAAABmj+YVB\\u002fjEP1hPGSQPuLI\\u002fYfSUO34ylD+MkrG5nrG4PwAAAAAAAAAAAAAAAAAAAAAAAAAAAAAAAAAAAAAAAAAAAAAAAAAAAAAAAAAAAAAAAAAAAAAAAAAAAAAAAAAAAACdhX5KIqanP\\u002f3nthS6Tr8\\u002fsSKuIqJ\\u002ftz+3a+WEZ\\u002fqbP3hUeVvQaIk\\u002fAAAAAAAAAAAAAAAAAAAAAAAAAAAAAAAAAAAAAAAAAAAAAAAAAAAAAAAAAAAAAAAAAAAAAAAAAAANoC45tSZ8P0s4pueK8HA\\u002fmnd+vUkgrD8AAAAAAAAAAAAAAAAAAAAAAAAAAAAAAAAAAAAAAAAAAAAAAAAAAAAAAAAAAAAAAAAAAAAAAAAAAAAAAAAAAAAAAAAAAAAAAAAAAAAAAAAAAAAAAAAAAAAAnUEHxA3hnT+T4bBKw6SCPxzt0cBqAac\\u002f8ILbWm9Cdz82TumpayO5PywB1YLpNbE\\u002fO+otWJW0wD9gwB85lk64PwAAAAAAAAAAAAAAAAAAAAAAAAAAAAAAAAAAAAAAAAAAAAAAAAAAAAAAAAAAAAAAAAAAAAAAAAAAfT9Rc7++tz+CyUOJlgbJP\\u002fn7ez5YMLc\\u002fVsVgOkG\\u002fvz++YNW+jyCuP\\u002fT9O9eQv60\\u002fBe9feWkzhT8rVHxGUJSDPxfFUuf1zKw\\u002fDebKdsZewz8JbmhdSKaqP+lx2DSxUKk\\u002fAAAAAAAAAAAAAAAAAAAAAAAAAAAAAAAAAAAAAAAAAAAAAAAAAAAAAAAAAAAAAAAAAAAAAAAAAAAAAAAAAAAAAAAAAAAAAAAAAAAAAAAAAAAAAAAAAAAAAAAAAAAAAAAAAAAAAAAAAAC7gDXtwriyP0Or4ywpbbI\\u002fRXKu7s0Axj+uQ+DGMiiFP\\u002f5HAc0ggIQ\\u002fpgfQnyCJsD+KBmmQBmmAPwe\\u002feyDC754\\u002fUFiT6a9trT\\u002ftOrDA\\u002fxDAPwAAAAAAAAAAAAAAAAAAAAAAAAAAAAAAAAAAAAAAAAAAAAAAAAAAAAAAAAAAAAAAAAAAAAAAAAAAubnnY1vhvz\\u002fuRr3RGri\\u002fPyQ0UIdvCqo\\u002fwmKl6zUPqT\\u002f5\\u002fJvWAVSoP9ejQ4Yex7M\\u002ft6UB45dbij99GhSvC1fCP278MiarFsI\\u002fkSRJkiRJoj\\u002fKLZ\\u002fSFfzFPwAAAAAAAAAAAAAAAAAAAAAAAAAAAAAAAAAAAAAAAAAAAAAAAAAAAAAAAAAAAAAAAAAAAAAAAAAApF8lOv6BrT\\u002f1Mw59vT+YPz8SWG\\u002fMQJI\\u002fZ8kAkLp0qD+oqPmG6\\u002fyMPwabA4lW2Iw\\u002fDZgxcNQ9vj+m\\u002fvslHyS+P7KFwOJltok\\u002fMSeBuFBzgj\\u002fsCx1CW1eBP8BICXeju84\\u002flwcW88Bifj8X\\u002fxgrHpV7P+Umsx9GNqM\\u002fAAAAAAAAAAAAAAAAAAAAAAAAAAAAAAAAAAAAAAAAAAAAAAAAAAAAAAAAAAAAAAAAAAAAAAAAAAAAAAAAAAAAAAAAAAAAAAAAZF5ac2RNuj9qARTYVgnKP4RzIL4BELc\\u002fhRtuuOGGqz+GkvCLIL+1PxGbjsUU670\\u002fmSiT2N+JvT8ZosJZhFGCP0weAVbv5IE\\u002fqbyHtMm3dT8AAAAAAAAAAAAAAAAAAAAAAAAAAAAAAAAAAAAAAAAAAJNsa87bhqA\\u002fZuwPxte9rj93pcQoNPuXP7xgXjAvmJc\\u002fVmqrnEJoyT+\\u002fYNW+jyC+P9QzEJWO7Ik\\u002fjshQ0vtIhj+qLpQogyGBP2YTqPpEbnM\\u002fAAAAAAAAAAAAAAAAAAAAAAAAAAAAAAAAAAAAAAAAAAAAAAAAAAAAAAAAAAAAAAAAAAAAAAAAAAAAAAAAAAAAAAAAAAAAAAAAAAAAAAAAAAAAAAAAAAAAAETpz4bKpK8\\u002fbYELXOAClz+2aTgyVbSrPyM1Zk40PZM\\u002fXt9VOiXrvz+dUJZasouKPz0dyfZoBoA\\u002fDnDFGnDFaj8AAAAAAAAAAAAAAAAAAAAAAAAAAAAAAAAAAAAAAAAAAAAAAAAAAAAAAAAAAAAAAAAAAAAAAAAAANiAbEA2IJs\\u002f6isG57QXtD81oZw6RQW0P1wBBxSzkME\\u002fvBwsXmTTkz+DmtJRYYenP9wECehFnaY\\u002fV89ykpELjD8NFpPUMwSMP8a1z62BlXk\\u002fMvuO+T07bz8qwqWO8fKtP7Ov\\u002f8l9Ra0\\u002fAAAAAAAAAAAAAAAAAAAAAAAAAAAAAAAAAAAAAAAAAAAAAAAAAAAAAAAAAAAAAAAAImGosb9iqj9eO7\\u002fpwP+kP5gGUiy\\u002fdYo\\u002flxywFI5LrD+tcnWArFx9P802dKRc7XU\\u002fAAAAAAAAAAAAAAAAAAAAAAAAAAAAAAAAAAAAAAAAAAB+ikGaiGeyPwcEAoFAIKA\\u002fFYGirQbPgT\\u002fxJxmLapidPwAAAAAAAAAAAAAAAAAAAACElra76rOjPwAAAAAAAAAAAAAAAAAAAAAAAAAAAAAAAEBawlxJuo4\\u002fk8TGuvwRfT\\u002fxTagCXbeRPwAAAAAAAAAAAAAAAAAAAAAAAAAAAAAAAAAAAAAAAAAA\"}},\"mode\":\"markers+text\",\"name\":\"Player\",\"showlegend\":false,\"text\":[\"Alexander Freeman\",\"David Schnegg\",\"Marlon\",\"Michael Edwards\",\"DeJuan Jones\",\"Eriq Zavaleta\",\"Luca Orellano\",\"Tom Pearce\",\"Mauricio Cuevas\",\"Ian Fray\",\"Kervin Arriaga\",\"Yamil Asad\",\"Reggie Cannon\",\"Maximilian Arfsten\",\"Mohamed Farsi\",\"Tyrese Spicer\",\"Ryan Raposo\",\"Federico Bernardeschi\",\"Marcelo Herrera\",\"Jahkeele Marshall-Rutty\",\"Jake Davis\",\"Dante Sealy\",\"Jon Bell\",\"Guilherme Biro\",\"Mo\\u00efse Bombito\",\"Tayvon Gray\",\"Alexandros Katranis\",\"Nathan Harriel\",\"John Tolkin\",\"Mitja Ileni\\u010d\",\"Juli\\u00e1n Aude\",\"Henry Kessler\",\"Griffin Dorsey\",\"Dagur Dan \\u00de\\u00f3rhallsson\",\"Caleb Wiley\",\"Carlos Ter\\u00e1n\",\"Fernando \\u00c1lvarez\",\"Math\\u00edas Laborda\",\"Peyton Miller\",\"Paul Arriola\",\"Juan David Mosquera\",\"Matai Akinmboni\",\"Yaw Yeboah\",\"Paul Marie\",\"Jackson Ragen\",\"Nkosi Tafari\",\"Philip Quinton\",\"Brayan Vera\",\"Kayden Pierre\",\"Ranko Veselinovi\\u0107\",\"Cody Baker\",\"Robert Castellanos\",\"Oscar Verhoeven\",\"Christian McFarlane\",\"Sawyer Jura\",\"\\u017dan Kolmani\\u010d\",\"Ariel Lassiter\",\"Adilson Malanda\",\"Kobe Franklin\",\"Reed Baker-Whiting\",\"Noah Cobb\",\"Andrew Gutman\",\"Andr\\u00e9s Reyes\",\"Sebastian Anderson\",\"David Brekalo\",\"Jackson Travis\",\"Dawid Bugaj\",\"Tom\\u00e1s Avil\\u00e9s\",\"Efrain Morales\",\"Noah Allen\",\"Giuseppe Bovalina\",\"Justin Reynolds\",\"Jahkeele Marshall-Rutty\",\"William Sands\",\"Rodrigues\",\"Tomas Totland\",\"Jayden Reid\",\"Omar Campos\",\"Caden Clark\",\"Finn Surman\",\"Jo\\u00e3o Pedro\",\"Matthew Edwards\",\"Jalen Neal\",\"\\u00c9dier Ocampo\",\"Isaiah Foster\",\"Bode Davis\",\"Noah Eile\",\"Sam Vines\",\"Garrison Tubbs\",\"Michael Halliday\",\"Tommy Silva\",\"Julian Gaines\",\"Michael Wentzel\",\"Sota Kitahara\",\"Kalani Rienzi\",\"Hayden Sargis\",\"Devin Padelford\",\"Nicolas Fleuriau\",\"Nicksoen Gomis\",\"Joseph Rosales\",\"George Campbell\",\"Jack Maher\",\"Robert Voloder\",\"Jonathan Dean\",\"Rafael Santos\",\"Jon Gallagher\",\"Mauricio Pineda\",\"Carlos Garc\\u00e9s\",\"Hugo Bacharach\",\"Nikolas Dyhr\",\"Joaquin Sosa\",\"Aidan O'Connor\",\"Ousman jabang\",\"Justin Haak\",\"Kyle Duncan\",\"Jake Nerwinski\",\"Lucas Bartlett\",\"Bruno Wilson\",\"Marco Farfan\",\"Kevin O'Toole\",\"Akil Watts\",\"Carlos Harvey\",\"Malte Amundsen\",\"Brandon Bye\",\"Allan Arigoni\",\"Pedro Amador\",\"Kipp Keller\",\"Micael\",\"London Aghedo\",\"Bret Halsey\",\"Andrew Privett\",\"Victor Eriksson\",\"Morris Duggan\",\"Jefferson D\\u00edaz\",\"Jaylin Lindsey\",\"Daniel Munie\",\"William Sands\",\"Ethan Bartlow\",\"Logan Ndenbe\",\"Raoul Petretta\",\"Kai Wagner\",\"Sam Adekugbe\",\"Javain Brown\",\"Marcelo Weigandt\",\"Yevhen Cheberko\",\"Zorhan Bassong\",\"Lassi Lappalainen\",\"Aaron Herrera\",\"Franco Escobar\",\"Philip Quinton\",\"Jefferson Valverde\",\"Belal Halbouni\",\"Ian Murphy\",\"Javain Brown\",\"Anthony Markanich\",\"Gabriele Corbo\",\"Ruan\",\"Stian Rode Gregersen\",\"Christopher McVey\",\"Miles Robinson\",\"Rodrigo Schlegel\",\"Shaq Moore\",\"Dylan Nealis\",\"Richie Laryea\",\"Joshua Yaro\",\"H\\u00e9ctor David Mart\\u00ednez\",\"Cristi\\u00e1n Dajome\",\"Henry Kessler\",\"Ryan Sailor\",\"Birk Risa\",\"Josh Bauer\",\"Aim\\u00e9 Mabika\",\"John Nelson\",\"Ryan Spaulding\",\"Sam Junqua\",\"Brooks Lennon\",\"Jannes Horn\",\"Alex Roldan\",\"DeJuan Jones\",\"Ronald Hern\\u00e1ndez\",\"Vitor Costa\",\"Steven Moreira\",\"Claudio Bravo\",\"Olivier Mbaizo\",\"Ema Twumasi\",\"Jordi Alba\",\"Eddie Segura\",\"D.J. Taylor\",\"Chidozie Awaziem\",\"Kyle Hiebert\",\"Tate Schmitt\",\"Justen Glad\",\"Strahinja Tanasijevi\\u0107\",\"Tanner Beason\",\"Kamal Miller\",\"Leo V\\u00e4is\\u00e4nen\",\"Nouhou Tolo\",\"Zac McGraw\",\"Brendan Hines-Ike\",\"Daniel Steres\",\"Joakim Nilsson\",\"Teenage Hadebe\",\"Jakob Glesnes\",\"Julio Cascante\",\"Daniel Rosero\",\"Sean Nealis\",\"Sergi Palencia\",\"Tristan Blackmon\",\"Luis Abram\",\"Bj\\u00f8rn Inge Utvik\",\"Joaqu\\u00edn Fern\\u00e1ndez\",\"Miguel Tapias\",\"Raheem Edwards\",\"Nick Lima\",\"Ruan\",\"Conner Antley\",\"Pedro Santos\",\"Eric Miller\",\"Franco Negri\",\"Tobias Salquist\",\"Jack Elliott\",\"Andrew Brody\",\"Chase Gasper\",\"Bill Tuiloma\",\"Mikkel Desler\",\"Matt Miazga\",\"Tommy Thompson\",\"Lukas MacNaughton\",\"Wyatt Omsberg\",\"Joel Waterman\",\"Thiago Martins\",\"Nathan Cardoso\",\"Henry Wingo\",\"Walker Zimmerman\",\"Ariel Lassiter\",\"Tim Leibold\",\"Jere Uronen\",\"Matt Hedges\",\"Miguel Araujo\",\"Lalas Abubakar\",\"Andreas Maxs\\u00f8\",\"Nicol\\u00e1s Freire\",\"Oleksandr Svatok\",\"Xavier Arreaga\",\"Xavier Arreaga\",\"Jes\\u00fas David Murillo\",\"Alvas Powell\",\"Sigurd Rosted\",\"Taylor Washington\",\"Serhiy Kryvtsov\",\"Sebastien Ibeagha\",\"Tim Ream\",\"Khiry Shelton\",\"Aaron Long\",\"Yeimar G\\u00f3mez Andrade\",\"Miki Yamane\",\"DeAndre Yedlin\",\"Carlos Akapo\",\"Keegan Rosenberry\",\"Ryan Hollingshead\",\"Erik Sviatchenko\",\"Tim Parker\",\"David Romney\",\"DeAndre Yedlin\",\"Tim Parker\",\"Shane O'Neill\",\"Damion Lowe\",\"Rudy Camacho\",\"Robin Jansson\",\"Lu\\u00eds Martins\",\"Rafael Czichos\",\"Nathan Byrne\",\"Arnaud Souquet\",\"Andrew Farrell\",\"Nick Hagglund\",\"Derrick Williams\",\"Dario \\u017dupari\\u0107\",\"Maya Yoshida\",\"Bryan Oviedo\",\"Kyle Smith\",\"Steve Birnbaum\",\"Daniel Lovitz\",\"Zarek Valentin\",\"Michael Boxall\",\"Brent Kallman\",\"Jonathan Mensah\",\"Kevin Long\",\"Maxime Chanot\",\"Andreu Font\\u00e0s\",\"Hector Jim\\u00e9nez\",\"Marcelo Silva\",\"Omar Gonzalez\",\"Larrys Mabiala\",\"Mart\\u00edn C\\u00e1ceres\"],\"textposition\":\"top center\",\"x\":{\"dtype\":\"f8\",\"bdata\":\"\\u002fTpnP69S0b\\u002f9Omc\\u002fr1LRv\\u002f06Zz+vUtG\\u002f\\u002fTpnP69S0b\\u002f9Omc\\u002fr1LRvw==\"},\"xaxis\":\"x3\",\"y\":{\"dtype\":\"f8\",\"bdata\":\"5XyvNiud2D\\u002flfK82K53YP+V8rzYrndg\\u002f5XyvNiud2D\\u002flfK82K53YPw==\"},\"yaxis\":\"y3\",\"type\":\"scatter\"},{\"line\":{\"color\":\"lightgrey\"},\"mode\":\"lines\",\"name\":\"Z-Curve\",\"showlegend\":false,\"x\":{\"dtype\":\"f8\",\"bdata\":\"AAAAAAAAEMBv\\u002fbv179YPwN76d+vfrQ\\u002fATfgz4c+ED8C89e\\u002fWv1sPwCvzq8yvMg\\u002fAmvBnwp8JD8AJ7iO4j+AOwHjr361\\u002ftw7A5+ibo2+ODsBW5leZX2UOwMXjE49PPA7ANOHPhD8TDsCj3ot6L+oNwBLcR3AfwQ3AgdkDZg+YDcDw1r9b\\u002f24NwF\\u002fUe1HvRQ3AztE3R98cDcA9z\\u002fM8z\\u002fMMwKzMrzK\\u002fygzAG8prKK+hDMCKxycen3gMwPnE4xOPTwzAaMKfCX8mDMDXv1v\\u002fbv0LwEa9F\\u002fVe1AvAtbrT6k6rC8AkuI\\u002fgPoILwJO1S9YuWQvAArMHzB4wC8BxsMPBDgcLwOCtf7f+3QrAT6s7re60CsC+qPei3osKwC2ms5jOYgrAnKNvjr45CsALoSuErhAKwHqe53me5wnA6Zujb46+CcBYmV9lfpUJwMeWG1tubAnANpTXUF5DCcClkZNGThoJwBSPTzw+8QjAg4wLMi7ICMDyiccnHp8IwGGHgx0OdgjA0IQ\\u002fE\\u002f5MCMA\\u002fgvsI7iMIwK5\\u002ft\\u002f7d+gfAHX1z9M3RB8CMei\\u002fqvagHwPt369+tfwfAanWn1Z1WB8DZcmPLjS0HwEhwH8F9BAfAt23btm3bBsAma5esXbIGwJVoU6JNiQbABGYPmD1gBsBzY8uNLTcGwOJgh4MdDgbAUV5DeQ3lBcDAW\\u002f9u\\u002fbsFwC9Zu2TtkgXAnlZ3Wt1pBcANVDNQzUAFwHxR70W9FwXA606rO63uBMBaTGcxncUEwMlJIyeNnATAOEffHH1zBMCnRJsSbUoEwBZCVwhdIQTAhT8T\\u002fkz4A8D0PM\\u002fzPM8DwGM6i+kspgPA0jdH3xx9A8BBNQPVDFQDwLAyv8r8KgPAHzB7wOwBA8COLTe23NgCwP0q86vMrwLAbCivobyGAsDbJWuXrF0CwEojJ42cNALAuSDjgowLAsAoHp94fOIBwJcbW25suQHABhkXZFyQAcB1FtNZTGcBwOQTj088PgHAUxFLRSwVAcDCDgc7HOwAwDEMwzAMwwDAoAl\\u002fJvyZAMAPBzsc7HAAwH4E9xHcRwDA7QGzB8weAMC4\\u002ft36d+v\\u002fv5b5VeZXmf+\\u002fdPTN0TdH\\u002f79S70W9F\\u002fX+vzDqvaj3ov6\\u002fDuU1lNdQ\\u002fr\\u002fs361\\u002ft\\u002f79v8raJWuXrP2\\u002fqNWdVnda\\u002fb+G0BVCVwj9v2TLjS03tvy\\u002fQsYFGRdk\\u002fL8gwX0E9xH8v\\u002f679e\\u002fWv\\u002fu\\u002f3LZt27Zt+7+6seXGlhv7v5isXbJ2yfq\\u002fdqfVnVZ3+r9Uok2JNiX6vzKdxXQW0\\u002fm\\u002fEJg9YPaA+b\\u002fukrVL1i75v8yNLTe23Pi\\u002fqoilIpaK+L+Igx0Odjj4v2Z+lflV5ve\\u002fRHkN5TWU978idIXQFUL3vwBv\\u002fbv17\\u002fa\\u002f3ml1p9Wd9r+8ZO2StUv2v5pfZX6V+fW\\u002feFrdaXWn9b9WVVVVVVX1vzRQzUA1A\\u002fW\\u002fEktFLBWx9L\\u002fwRb0X9V70v85ANQPVDPS\\u002frDut7rS687+KNiXalGjzv2gxncV0FvO\\u002fRiwVsVTE8r8kJ42cNHLyvwIiBYgUIPK\\u002f4Bx9c\\u002fTN8b++F\\u002fVe1Hvxv5wSbUq0KfG\\u002feg3lNZTX8L9YCF0hdIXwvzYD1QxUM\\u002fC\\u002fKPyZ8GfC77\\u002fk8YnHJx7vv6DneZ7nee6\\u002fXN1pdafV7b8Y01lMZzHtv9TISSMnjey\\u002fkL45+ubo679MtCnRpkTrvwiqGahmoOq\\u002fxJ8Jfyb86b+AlflV5lfpvzyL6Syms+i\\u002f+IDZA2YP6L+0dsnaJWvnv3BsubHlxua\\u002fLGKpiKUi5r\\u002foV5lfZX7lv6RNiTYl2uS\\u002fYEN5DeU15L8cOWnkpJHjv9guWbtk7eK\\u002flCRJkiRJ4r9QGjlp5KThvwwQKUCkAOG\\u002fyAUZF2Rc4L8I9xHcR3Dfv4Di8YnHJ96\\u002f+M3RN0ff3L9wubHlxpbbv+ikkZNGTtq\\u002fYJBxQcYF2b\\u002fYe1HvRb3Xv1BnMZ3FdNa\\u002fyFIRS0Us1b9APvH4xOPTv7gp0aZEm9K\\u002fMBWxVMRS0b+oAJECRArQv0DY4WCHg82\\u002fMK+hvIbyyr8ghmEYhmHIvxBdIXSF0MW\\u002fADThz4Q\\u002fw7\\u002fwCqErhK7Av8DDwQ4HO7y\\u002foHFBxgUZt7+AH8F9BPexv8CagWoGqqm\\u002fAO0BswfMnr8ASQEiBYiEvwBIASIFiIQ\\u002fAOwBswfMnj+AmoFqBqqpP4AfwX0E97E\\u002fgHFBxgUZtz+Aw8EOBzu8P+AKoSuErsA\\u002fADThz4Q\\u002fwz8AXSF0hdDFPwCGYRiGYcg\\u002fIK+hvIbyyj9A2OFgh4PNP6AAkQJECtA\\u002fIBWxVMRS0T+wKdGmRJvSP0A+8fjE49M\\u002fwFIRS0Us1T9AZzGdxXTWP9B7Ue9Fvdc\\u002fYJBxQcYF2T\\u002fgpJGTRk7aP2C5seXGlts\\u002f8M3RN0ff3D+A4vGJxyfePwD3EdxHcN8\\u002fwAUZF2Rc4D8IEClApADhP1AaOWnkpOE\\u002fkCRJkiRJ4j\\u002fQLlm7ZO3iPxg5aeSkkeM\\u002fYEN5DeU15D+gTYk2JdrkP+BXmV9lfuU\\u002fKGKpiKUi5j9wbLmx5cbmP7B2ydola+c\\u002f8IDZA2YP6D84i+ksprPoP4CV+VXmV+k\\u002fwJ8Jfyb86T8AqhmoZqDqP0i0KdGmROs\\u002fkL45+ubo6z\\u002fQyEkjJ43sPxDTWUxnMe0\\u002fWN1pdafV7T+g53me53nuP+DxiccnHu8\\u002fIPyZ8GfC7z80A9UMVDPwP1gIXSF0hfA\\u002feA3lNZTX8D+YEm1KtCnxP7wX9V7Ue\\u002fE\\u002f4Bx9c\\u002fTN8T8AIgWIFCDyPyAnjZw0cvI\\u002fRCwVsVTE8j9oMZ3FdBbzP4g2JdqUaPM\\u002fqDut7rS68z\\u002fMQDUD1Qz0P\\u002fBFvRf1XvQ\\u002fEEtFLBWx9D8wUM1ANQP1P1RVVVVVVfU\\u002feFrdaXWn9T+YX2V+lfn1P7hk7ZK1S\\u002fY\\u002f3Gl1p9Wd9j8Ab\\u002f279e\\u002f2PyB0hdAVQvc\\u002fQHkN5TWU9z9kfpX5Veb3P4iDHQ52OPg\\u002fqIilIpaK+D\\u002fIjS03ttz4P+yStUvWLvk\\u002fEJg9YPaA+T8wncV0FtP5P1CiTYk2Jfo\\u002fdKfVnVZ3+j+YrF2ydsn6P7ix5caWG\\u002fs\\u002f2LZt27Zt+z\\u002f8u\\u002fXv1r\\u002f7PyDBfQT3Efw\\u002fQMYFGRdk\\u002fD9gy40tN7b8P4TQFUJXCP0\\u002fqNWdVnda\\u002fT\\u002fI2iVrl6z9P+jfrX+3\\u002fv0\\u002fDOU1lNdQ\\u002fj8w6r2o96L+P1DvRb0X9f4\\u002fcPTN0TdH\\u002fz+U+VXmV5n\\u002fP7j+3fp36\\u002f8\\u002f7AGzB8weAEB8BPcR3EcAQA4HOxzscABAoAl\\u002fJvyZAEAwDMMwDMMAQMAOBzsc7ABAUhFLRSwVAUDkE49PPD4BQHQW01lMZwFABBkXZFyQAUCWG1tubLkBQCgen3h84gFAuCDjgowLAkBIIyeNnDQCQNola5esXQJAbCivobyGAkD8KvOrzK8CQIwtN7bc2AJAHjB7wOwBA0CwMr\\u002fK\\u002fCoDQEA1A9UMVANA0DdH3xx9A0BiOovpLKYDQPQ8z\\u002fM8zwNAhD8T\\u002fkz4A0AUQlcIXSEEQKZEmxJtSgRAOEffHH1zBEDISSMnjZwEQFhMZzGdxQRA6k6rO63uBEB8Ue9FvRcFQAxUM1DNQAVAnFZ3Wt1pBUAuWbtk7ZIFQMBb\\u002f279uwVAUF5DeQ3lBUDgYIeDHQ4GQHJjy40tNwZABGYPmD1gBkCUaFOiTYkGQCRrl6xdsgZAtm3btm3bBkBIcB\\u002fBfQQHQNhyY8uNLQdAaHWn1Z1WB0D6d+vfrX8HQIx6L+q9qAdAHH1z9M3RB0Csf7f+3foHQD6C+wjuIwhA0IQ\\u002fE\\u002f5MCEBgh4MdDnYIQPCJxycenwhAgowLMi7ICEAUj088PvEIQKSRk0ZOGglANJTXUF5DCUDGlhtbbmwJQFiZX2V+lQlA6Jujb46+CUB4nud5nucJQAqhK4SuEApAnKNvjr45CkAsprOYzmIKQLyo96LeiwpATqs7re60CkDgrX+3\\u002ft0KQHCww8EOBwtAALMHzB4wC0CStUvWLlkLQCS4j+A+ggtAtLrT6k6rC0BEvRf1XtQLQNa\\u002fW\\u002f9u\\u002fQtAaMKfCX8mDED4xOMTj08MQIjHJx6feAxAGsprKK+hDECszK8yv8oMQDzP8zzP8wxAzNE3R98cDUBe1HtR70UNQPDWv1v\\u002fbg1AgNkDZg+YDUAQ3EdwH8ENQKLei3ov6g1ANOHPhD8TDkDE4xOPTzwOQFTmV5lfZQ5A5uibo2+ODkB469+tf7cOQAjuI7iP4A5AmPBnwp8JD0Aq86vMrzIPQLz179a\\u002fWw9ATPgz4c+ED0Dc+nfr360PQG79u\\u002fXv1g9AAAAAAAAAEEA=\"},\"xaxis\":\"x4\",\"y\":{\"dtype\":\"f8\",\"bdata\":\"tbTA4piKIT\\u002fVpf16mgAjP3FZkSukkyQ\\u002f6U48VsdFJj\\u002fiwpAcNxkoPwUMvTZKECo\\u002fCqH63XwtLD8rAQPLcnMuPz9VcqR8cjA\\u002fai5FroTCMT8yB58AZSszPzyVMz3JrjQ\\u002f1nFcXXZONj+xxnzwSww4P2KBP2VF6jk\\u002f5Q23XXvqOz8RAV4OJQ8+P57299NMLUA\\u002fsGkE5qhnQT8QHTiG9LdCP7l1dbqPH0Q\\u002ff9Wxj+2fRT+N8RfplDpHPz6kFFQh8Ug\\u002f12Yk4UPFSj+R9zABxLhMP6axR2eAzU4\\u002fEuY097eCUD9jBphBUbFRP1rCeQih81I\\u002fzlASuclKVD9to7ix+7dVP8zdqLx1PFc\\u002fL4fFi4XZWD9xDBY1iJBaP65NwK\\u002fqYlw\\u002fr\\u002fk1USpSXj82siSl6i9gP1Us7JHFRmE\\u002fnxBbnX5uYj\\u002fEWDyd96djP6q4Y8sb9GQ\\u002f+WFiAeBTZj8V9xLzQshnP+3Gw2dNUmk\\u002fwLLDcRLzaj\\u002fLbROkr6tsP+Ab+kVNfW4\\u002fsdocQo80cD8Bg87PMDhxPyFOSwwwSnI\\u002fF8vSazdrcz\\u002ffchkp95t0P365y1Ul3XU\\u002fr7b86H0vdz8hl1bLwpN4Pywj4uC7Cno\\u002fxto5EDeVez9UcfxGCDR9P9zZUXsJ6H4\\u002fIMsqVQ1ZgD\\u002feTpzpkEmBP4x4dncFRoI\\u002fjmwW8uNOgz9Y69c7qGSEP26\\u002fLxzRh4U\\u002fsGyvM+C4hj8ssNvtWfiHP466v3DFRok\\u002fx4Eniqykij+\\u002fEWyamxKMP1JovXwhkY0\\u002fACjWbM8gjz8uIwN1HGGQP2Vowcv5OpE\\u002f6vn0jEsekj\\u002fDz\\u002fV4XguTP103BCqAApQ\\u002fzu+s\\u002fv4DlT83OawCKhCWPzLzStZQJ5c\\u002fXMcxlMNJmD\\u002ffS6+10neZPxMIb\\u002fXOsZo\\u002fElGgMAn4mz+QDo1G0kqdP7+fofZ6qp4\\u002fpyZ03qkLoD9\\u002f+31W1sigP5x8u6XqjKE\\u002fNlDyMg5Yoj\\u002fgcZ70ZyqjP0HHeVseBKQ\\u002fbbtSPFflpD9l7ze5N86lPzTR\\u002fynkvqY\\u002fBrEzBIC3pz+ys2bCLbioP9DLAcsOwak\\u002fda2OVkPSqj+6e4xV6uurP6652VUhDq0\\u002fFNK\\u002fZwQ5rj9BUK0CrmyvP81U1nSbVLA\\u002f1RvTB1v3sD+wX749oJ6xP4xMCpZ0SrI\\u002f1h4rfuD6sj89055D66+zP7pHBAababQ\\u002foCFLqfQntT+8EwbI++q1P61h6aWysrY\\u002fZLl\\u002fIhp\\u002ftz\\u002fVsR+sMVC4P65sLDP3Jbk\\u002fBAGsHWcAuj9gdT47fN+6PwsogLkvw7s\\u002f6JTiGHmrvD+9bwYiTpi9P9wIotuiib4\\u002fV+f+gGl\\u002fvz8vuIw8yTzAP9GqNicGvMA\\u002foq6802E9wT\\u002f7cQKg0cDBP1afmPFJRsI\\u002fUG0wM77Nwj861X7SIFfDPwMKlD5j4sM\\u002f3Jar5nVvxD8gVXk5SP7EP1As96TIjsU\\u002fFE23luQgxj+OUb58iLTGP71h6MafScc\\u002fqSrc6BTgxz9SIo5c0XfIP785VqW9EMk\\u002fY8GZU8GqyT+N4woJw0XKPy+0fn2o4co\\u002fym1ahFZ+yz+3CJgSsRvMP\\u002ffsYUWbucw\\u002f\\u002fA5FafdXzT+RVvgBp\\u002fbNP9K7t9KKlc4\\u002f+REx54I0zz+UAgCdbtPPPxQj21YWOdA\\u002fAVm2nE2I0D\\u002fWnuzoS9fQPzrX8sL\\u002fJdE\\u002fVBLhdld00T94KrcbQcLRP8nk2ZmqD9I\\u002fgY3FsYFc0j8h0\\u002fICtKjSP\\u002fBw6hIv9NI\\u002fcAiEVOA+0z\\u002fqWkwvtYjTP+XnDgeb0dM\\u002f5ct+Q38Z1D\\u002f7k\\u002fpXT2DUP+OWZsv4pdQ\\u002fx0MZQGnq1D9oudR7ji3VP6LeyG9Wb9U\\u002f6B6ZQK+v1T\\u002fj2mBOh+7VP7qOsTzNK9Y\\u002f2aSF+m9n1j9T5SLKXqHWP41v50iJ2dY\\u002fdi38dt8P1z9dtee+UUTXP5qZ\\u002fPzQdtc\\u002fgTOehk6n1z+UCVcxvNXXP8MHvFkMAtg\\u002fNdsX6jEs2D824tlgIFTYP71DxNbLedg\\u002f6OjUBCmd2D9uPeVJLb7YP2PK\\u002fK\\u002fO3Ng\\u002fYfBS8QP52D+TO\\u002fx8xBLZP0YEQHsIKtk\\u002fMkqT0cg+2T+49jUm\\u002f1DZPy\\u002fzb+OlYNk\\u002fXsNrOrht2T+TmawlMnjZP8ogHmsQgNk\\u002fMoK8nVCF2T9LddMe8YfZP0t10x7xh9k\\u002fMoK8nVCF2T\\u002fKIB5rEIDZP5OZrCUyeNk\\u002fXsNrOrht2T8w82\\u002fjpWDZP7n2NSb\\u002fUNk\\u002fMkqT0cg+2T9HBEB7CCrZP5Q7\\u002fHzEEtk\\u002fYvBS8QP52D9jyvyvztzYP2895Uktvtg\\u002f6ejUBCmd2D++Q8TWy3nYPzbi2WAgVNg\\u002fNtsX6jEs2D\\u002fFB7xZDALYP5UJVzG81dc\\u002fgTOehk6n1z+cmfz80HbXP1+1575RRNc\\u002feC38dt8P1z+Nb+dIidnWP1XlIspeodY\\u002f3aSF+m9n1j+8jrE8zSvWP+PaYE6H7tU\\u002f6h6ZQK+v1T+l3shvVm\\u002fVP2m51HuOLdU\\u002fx0MZQGnq1D\\u002fmlmbL+KXUP\\u002f+T+ldPYNQ\\u002f58t+Q38Z1D\\u002fl5w4Hm9HTP+1aTC+1iNM\\u002fdAiEVOA+0z\\u002fxcOoSL\\u002fTSPyHT8gK0qNI\\u002fgo3FsYFc0j\\u002fN5NmZqg\\u002fSP3oqtxtBwtE\\u002fVBLhdld00T881\\u002fLC\\u002fyXRP9qe7OhL19A\\u002fA1m2nE2I0D8UI9tWFjnQP5kCAJ1u088\\u002fARIx54I0zz\\u002fVu7fSipXOP5FW+AGn9s0\\u002fAQ9FafdXzT\\u002f\\u002f7GFFm7nMP7oImBKxG8w\\u002fym1ahFZ+yz80tH59qOHKP5XjCgnDRco\\u002fZsGZU8GqyT+\\u002fOValvRDJP1YijlzRd8g\\u002fsSrc6BTgxz\\u002fBYejGn0nHP45RvnyItMY\\u002fGE23luQgxj9XLPekyI7FPyRVeTlI\\u002fsQ\\u002f3Jar5nVvxD8HCpQ+Y+LDP0HVftIgV8M\\u002fVG0wM77Nwj9Wn5jxSUbCP\\u002f5xAqDRwME\\u002fqK6802E9wT\\u002fUqjYnBrzAPy+4jDzJPMA\\u002fXuf+gGl\\u002fvz\\u002fpCKLboom+P8NvBiJOmL0\\u002f6JTiGHmrvD8SKIC5L8O7P2x1Pjt837o\\u002fCAGsHWcAuj+ubCwz9yW5P9qxH6wxULg\\u002fbrl\\u002fIhp\\u002ftz+zYemlsrK2P7wTBsj76rU\\u002fpCFLqfQntT\\u002fDRwQGm2m0P0HTnkPrr7M\\u002f1h4rfuD6sj+QTAqWdEqyP7hfvj2gnrE\\u002f2RvTB1v3sD\\u002fNVNZ0m1SwP0dQrQKubK8\\u002fI9K\\u002fZwQ5rj+2udlVIQ6tP7p7jFXq66s\\u002fe62OVkPSqj\\u002fdywHLDsGpP7izZsItuKg\\u002fBrEzBIC3pz850f8p5L6mP3DvN7k3zqU\\u002fcrtSPFflpD9Bx3lbHgSkP+VxnvRnKqM\\u002fQFDyMg5Yoj+hfLul6oyhP3\\u002f7fVbWyKA\\u002friZ03qkLoD\\u002fPn6H2eqqeP5cOjUbSSp0\\u002fElGgMAn4mz8ZCG\\u002f1zrGaP+9Lr7XSd5k\\u002fYccxlMNJmD8y80rWUCeXPzw5rAIqEJY\\u002f2++s\\u002fv4DlT9hNwQqgAKUP8PP9XheC5M\\u002f7\\u002fn0jEsekj9waMHL+TqRPzMjA3UcYZA\\u002fACjWbM8gjz9eaL18IZGNP9ARbJqbEow\\u002fz4Eniqykij+Our9wxUaJPzWw2+1Z+Ic\\u002fwWyvM+C4hj90vy8c0YeFP1jr1zuoZIQ\\u002flWwW8uNOgz+YeHZ3BUaCP+ROnOmQSYE\\u002fIMsqVQ1ZgD\\u002fi2VF7Ceh+P2tx\\u002fEYINH0\\u002fzto5EDeVez8sI+Lguwp6PyiXVsvCk3g\\u002fwbb86H0vdz+DuctVJd11P99yGSn3m3Q\\u002fHMvSazdrcz8vTksMMEpyPwWDzs8wOHE\\u002fsdocQo80cD\\u002foG\\u002fpFTX1uP+BtE6Svq2w\\u002fyLLDcRLzaj\\u002ftxsNnTVJpPyH3EvNCyGc\\u002fCmJiAeBTZj+0uGPLG\\u002fRkP8RYPJ33p2M\\u002fqRBbnX5uYj9iLOyRxUZhPzqyJKXqL2A\\u002fr\\u002fk1USpSXj+8TcCv6mJcP4YMFjWIkFo\\u002fPIfFi4XZWD\\u002fM3ai8dTxXP3OjuLH7t1U\\u002f4lASuclKVD9jwnkIofNSP2MGmEFRsVE\\u002fFuY097eCUD\\u002fGsUdngM1OP5\\u002f3MAHEuEw\\u002f12Yk4UPFSj9EpBRUIfFIP6TxF+mUOkc\\u002fitWxj+2fRT+5dXW6jx9EPxkdOIb0t0I\\u002fwWkE5qhnQT+m9vfTTC1APxEBXg4lDz4\\u002f8w23XXvqOz91gT9lReo5P73GfPBLDDg\\u002f1nFcXXZONj9AlTM9ya40P0UHnwBlKzM\\u002fci5FroTCMT8\\u002fVXKkfHIwPzkBA8tycy4\\u002fJ6H63XwtLD8SDL02ShAqP+LCkBw3GSg\\u002f9E48VsdFJj+FWZErpJMkP9+l\\u002fXqaACM\\u002ftbTA4piKIT8=\"},\"yaxis\":\"y4\",\"type\":\"scatter\"},{\"marker\":{\"color\":{\"dtype\":\"f8\",\"bdata\":\"pp58EOKV7z81IsZWi+rqP2h\\u002fYzDT5e4\\u002fwyUMRmqk4j\\u002fJeYpafS\\u002fsP72i1fXUZOc\\u002f1ALrxsXr7T\\u002fDJQxGaqTiPyj5rjUUU+k\\u002fOGatcNQr7T84Zq1w1CvtP72i1fXUZOc\\u002fwyUMRmqk4j\\u002fJeYpafS\\u002fsPzhmrXDUK+0\\u002ferTncyu32j+9otX11GTnP8l5ilp9L+w\\u002fyXmKWn0v7D\\u002fUAuvGxevtP8l5ilp9L+w\\u002fNSLGVovq6j9of2Mw0+XuPyj5rjUUU+k\\u002fvfo2vHx77j8AAAAAAADgPzhmrXDUK+0\\u002fhrpUFFY20T8AAAAAAADgP2AbRCmvs8o\\u002fNSLGVovq6j\\u002fJeYpafS\\u002fsP9QC68bF6+0\\u002f1ALrxsXr7T+9otX11GTnP9QC68bF6+0\\u002faH9jMNPl7j81IsZWi+rqP3q053Mrt9o\\u002f1ALrxsXr7T+9otX11GTnPzhmrXDUK+0\\u002fKPmuNRRT6T\\u002fJeYpafS\\u002fsPzUixlaL6uo\\u002fvfo2vHx77j\\u002fJeYpafS\\u002fsP8l5ilp9L+w\\u002fyXmKWn0v7D\\u002fJeYpafS\\u002fsP736Nrx8e+4\\u002fASJPiuok5T9gG0Qpr7PKP8l5ilp9L+w\\u002fAAAAAAAA4D84Zq1w1CvtPwEiT4rqJOU\\u002fvfo2vHx77j\\u002fJeYpafS\\u002fsP\\u002f+7YesqttU\\u002fAAAAAAAA4D\\u002fJeYpafS\\u002fsP8MlDEZqpOI\\u002faH9jMNPl7j84Zq1w1CvtP736Nrx8e+4\\u002fASJPiuok5T84Zq1w1CvtP8MlDEZqpOI\\u002fOGatcNQr7T+9otX11GTnPzUixlaL6uo\\u002fNSLGVovq6j8BIk+K6iTlPzUixlaL6uo\\u002fNSLGVovq6j8o+a41FFPpPzUixlaL6uo\\u002fOGatcNQr7T9of2Mw0+XuPwEiT4rqJOU\\u002fNSLGVovq6j\\u002fJeYpafS\\u002fsPwEiT4rqJOU\\u002fOGatcNQr7T96tOdzK7faP8l5ilp9L+w\\u002fvaLV9dRk5z++BmkEr7PvPzUixlaL6uo\\u002fvaLV9dRk5z8o+a41FFPpP8l5ilp9L+w\\u002f6uENL6hs7z\\u002fq4Q0vqGzvPyS7VbDRM+8\\u002fJLtVsNEz7z8ku1Ww0TPvPyS7VbDRM+8\\u002fJLtVsNEz7z\\u002fJeYpafS\\u002fsPzUixlaL6uo\\u002fwyUMRmqk4j9of2Mw0+XuP2h\\u002fYzDT5e4\\u002faH9jMNPl7j9of2Mw0+XuPyj5rjUUU+k\\u002fNSLGVovq6j+9+ja8fHvuP736Nrx8e+4\\u002fvfo2vHx77j+9+ja8fHvuP736Nrx8e+4\\u002fvfo2vHx77j+9+ja8fHvuPzUixlaL6uo\\u002fyXmKWn0v7D81IsZWi+rqP8l5ilp9L+w\\u002frjGsKxWEvj+9otX11GTnP9QC68bF6+0\\u002f1ALrxsXr7T\\u002fUAuvGxevtP9QC68bF6+0\\u002f1ALrxsXr7T\\u002fUAuvGxevtP9QC68bF6+0\\u002f1ALrxsXr7T81IsZWi+rqP2AbRCmvs8o\\u002fAAAAAAAA4D81IsZWi+rqP72i1fXUZOc\\u002fOGatcNQr7T84Zq1w1CvtPzhmrXDUK+0\\u002fOGatcNQr7T84Zq1w1CvtPzhmrXDUK+0\\u002fOGatcNQr7T84Zq1w1CvtP72i1fXUZOc\\u002fhrpUFFY20T\\u002fJeYpafS\\u002fsP8l5ilp9L+w\\u002fyXmKWn0v7D\\u002fJeYpafS\\u002fsP8l5ilp9L+w\\u002fyXmKWn0v7D\\u002fJeYpafS\\u002fsPyj5rjUUU+k\\u002fvaLV9dRk5z\\u002fDJQxGaqTiP72i1fXUZOc\\u002fKPmuNRRT6T8AAAAAAADgPzUixlaL6uo\\u002fNSLGVovq6j81IsZWi+rqPzUixlaL6uo\\u002fNSLGVovq6j81IsZWi+rqPzUixlaL6uo\\u002fvaLV9dRk5z8BIk+K6iTlP72i1fXUZOc\\u002fASJPiuok5T8AAAAAAADgPyj5rjUUU+k\\u002fKPmuNRRT6T8o+a41FFPpPyj5rjUUU+k\\u002fKPmuNRRT6T8o+a41FFPpP3q053Mrt9o\\u002fhrpUFFY20T8AAAAAAADgPwEiT4rqJOU\\u002fvaLV9dRk5z+9otX11GTnPwEiT4rqJOU\\u002fYBtEKa+zyj+GulQUVjbRP\\u002f+7YesqttU\\u002f\\u002f7th6yq21T\\u002f\\u002fu2HrKrbVP8MlDEZqpOI\\u002f\\u002f7th6yq21T8AAAAAAADgPwEiT4rqJOU\\u002fASJPiuok5T8BIk+K6iTlP2Tpp8jRobA\\u002fwyUMRmqk4j\\u002fDJQxGaqTiP8MlDEZqpOI\\u002fAAAAAAAA4D\\u002fDJQxGaqTiP8MlDEZqpOI\\u002fwyUMRmqk4j\\u002fDJQxGaqTiPwAAAAAAAOA\\u002ferTncyu32j96tOdzK7faP\\u002f+7YesqttU\\u002frjGsKxWEvj8ud+ek0lXEPwAAAAAAAOA\\u002fAAAAAAAA4D8AAAAAAADgP3q053Mrt9o\\u002fhrpUFFY20T96tOdzK7faP2AbRCmvs8o\\u002ferTncyu32j8ud+ek0lXEPy5356TSVcQ\\u002fYBtEKa+zyj8ud+ek0lXEP2Tpp8jRobA\\u002f\\u002f7th6yq21T+GulQUVjbRP\\u002f+7YesqttU\\u002f\\u002f7th6yq21T\\u002f\\u002fu2HrKrbVP4a6VBRWNtE\\u002fLnfnpNJVxD9GzpR6XKG2P0bOlHpcobY\\u002fYBtEKa+zyj+uMawrFYS+Py5356TSVcQ\\u002fYBtEKa+zyj8ud+ek0lXEPy5356TSVcQ\\u002fLnfnpNJVxD8ud+ek0lXEP2Tpp8jRobA\\u002fRVSQPDRIqD8AAAAAAAD4fw==\"},\"showscale\":true,\"size\":{\"dtype\":\"f8\",\"bdata\":\"AAAAAAAA8D+rjbG\\u002fNBjnP6SBo7JRkeE\\u002fSS7tZcB45T8PIiyFJSvhP2Fu9u6vseI\\u002fO0rWEOSc3j8qYHOX1\\u002fviP+CVAUPPM9w\\u002fzsO7kHNK1z99gXsa9dnVPw\\u002fdEIhWcto\\u002fxpln5IyX3T+5OiT3mTDVP1zmG1JU8dM\\u002fr2SMGgWd4D9ncuu\\u002f\\u002fCfYP\\u002ff6i3Ss5tM\\u002fUYnka+qd0z+ZYsu8h6\\u002fRPzg7Xx5HK9M\\u002ftLf\\u002fh3os1D++kfjQxjHQP3nYnYtju9M\\u002fJKI5Eb6Lzj82SB5TJq\\u002fbP74mWZqnOM0\\u002fgHRJrdQO4D9+uG\\u002fBQYnZP6WydkR5nuA\\u002fy\\u002fCZoMCOzz\\u002f+DG9FTPjMP707Gflf4ck\\u002fvOdZgpCeyT\\u002fHF\\u002fCRyCrSPzqfWPBEhMg\\u002fNecCf9PTxj8DD5Uri0zNP8tdEShN0tk\\u002fOmE5teb7xj+Tkkxu5EbQPymc3inW7cU\\u002ffZmgeLlszD8grZS9UzTGP9raI++OzMc\\u002fSwPOq8efwT+PEiBCWerEP\\u002fv7dJJtPsM\\u002f5UDyssEewz\\u002fQj34dxAbDPxnlq+5xCb4\\u002f3st6lZ7lzT8B1TS8QEDbP7GVYVHie8E\\u002fk9x0p4Mv0z94Gf4NckW\\u002fP0OJSgVUQM0\\u002f3T9\\u002fPjB8uT+Ge+5D7HnAP0H6L18kDNc\\u002fWjls4RqZ0j8hU+k6k5q+P178uPRd3c4\\u002fbC1wBMw3sz\\u002fQ4kxyW++4P0a3ysP9sq0\\u002fnc6cGaj0xj+nfnEgx9qwP24uTBVgeMo\\u002fbyDzRmOzsD9aEfUtkSjCP9PfcnMCO7g\\u002fN+tWlQr5tz+XomK4x9vFP\\u002feXCcyQ3bc\\u002f4b\\u002fl8UsWtj9NyskEhFy7P6z4nm12RLQ\\u002ftdC6sTRJqD9JjnCdjP+VP16e8NWcTMM\\u002f4uccXwgasj\\u002f4AL\\u002fWV5KqP0ErAa0EtMI\\u002fAUqrX5Qhoz9uN2BsurnPPxO\\u002fpm05cqg\\u002fA8sH0PyBvD8AAAAAAAAAAHiom4PALrA\\u002f1CmkNEkfvD93Irbz+Ey1P0S3sbKH76Y\\u002fAAAAAAAAAAAAAAAAAAAAAAAAAAAAAAAAAAAAAAAAAAAAAAAAAAAAAAAAAAAAAAAAAAAAAAAAAACQNTksSkekP2ib9ms616w\\u002flVv+eN4zxT8AAAAAAAAAAAAAAAAAAAAAAAAAAAAAAAAAAAAAAAAAAC\\u002fg2hjgv7I\\u002fpXZN768mqj8AAAAAAAAAAAAAAAAAAAAAAAAAAAAAAAAAAAAAAAAAAAAAAAAAAAAAAAAAAAAAAAAAAAAAAAAAAMZQ31NIXKg\\u002f2jsOroA1nj9OxkaLtsenPzXUH2mV7J0\\u002ff4KylybC1j8Yomt6lJi2PwAAAAAAAAAAAAAAAAAAAAAAAAAAAAAAAAAAAAAAAAAAAAAAAAAAAAAAAAAAAAAAAAAAAAAAAAAAAAAAAAAAAAC+s+5S7jCjP12SSLFhoNM\\u002fTidA7Netxj9KwXLpZZefP7Dj3n4U1rM\\u002fAAAAAAAAAAAAAAAAAAAAAAAAAAAAAAAAAAAAAAAAAAAAAAAAAAAAAAAAAAAAAAAAAAAAAAAAAAAAAAAAAAAAAMrtx0OfyrE\\u002fFSR64s\\u002f80D8AAAAAAAAAAAAAAAAAAAAAAAAAAAAAAAAAAAAAAAAAAAAAAAAAAAAAAAAAAAAAAAAAAAAAAAAAAEPwv3vZYKI\\u002fyTliRQeIqz\\u002fXQ1HGQuq9Py0acxfwGqs\\u002flnQeU6ttmz9s8YEXTT3DPwAAAAAAAAAAAAAAAAAAAAAAAAAAAAAAAAAAAAAAAAAAAAAAAAAAAAAAAAAAAAAAAAAAAAAAAAAAqlKK1Mnrpz\\u002fK0eOg\\u002fpSzP8FLDfRkmKQ\\u002fHn6lgN7ssD8ZbZIJmGHAPwAAAAAAAAAAAAAAAAAAAAAAAAAAAAAAAAAAAAAAAAAAAAAAAAAAAAAAAAAAAAAAAMiPjOgNgcM\\u002fTez\\u002fOEh\\u002fyz8kptTPgXG8P72MTl1O\\u002f6M\\u002fAAAAAAAAAAAAAAAAAAAAANHmjyqaiZ4\\u002fN7oBX2mjyz9EgJw7RAjIP7Um44oCCcQ\\u002fKuVxte6hwz\\u002f5Naj2rofDP9D8hdffeKc\\u002f7JkyvAkKwz+bo\\u002f1Wc8OzPwAAAAAAAAAAAAAAAAAAAAAAAAAAAAAAAPbR\\u002fKywhs8\\u002fvLnFukK5kD\\u002fYBVeELUyKPykt3Ll4QoU\\u002fcSlwgjR6pD8AAAAAAAAAAAAAAAAAAAAAAAAAAAAAAAAAAAAAAAAAAALoif12RaE\\u002fgZAz3w5NqT+dzpwZqPSmP\\u002fH677ciHrM\\u002fRJmHBrFexT\\u002f61I+tgMPCPwAAAAAAAAAAAAAAAAAAAAAAAAAAAAAAAPt+kW7syJ8\\u002fy38fTM0atj\\u002fj1iPP\\u002fHaNP0EmxCaeG7k\\u002fAAAAAAAAAADs8roDXn+7P73IoXEYQbs\\u002fwIrn97ZIsz8kpeJeGaq4P3Qr+U6W2cA\\u002fa1IoWjuFiD8r8gQvIlulPwAAAAAAAAAAAAAAAAAAAAAAAAAAAAAAAIKBzN+VOps\\u002f4dvD9qhXrj\\u002f8qQufnTC1PztLQrHJnrM\\u002f1xD5Au5OmT8XXaJj2RKwP55vRGckvqY\\u002fAAAAAAAAAADosJ7c1YSLPwAAAAAAAAAAAAAAAAAAAAAAAAAAAAAAAAAAAAAAAAAAAAAAAAAAAAAAAAAAAAAAAA==\"}},\"mode\":\"markers+text\",\"name\":\"Player\",\"showlegend\":false,\"text\":[\"Julian Hall\",\"Dylan Teves\",\"Serge Ngoma\",\"Randall Leal\",\"Aziel Jackson\",\"Evander\",\"Caden Clark\",\"Cedric Teuchert\",\"Riqui Puig\",\"Marino Hinestroza\",\"Jacen Russell-Rowe\",\"Djordje Mihailovic\",\"D\\u00e1niel Gazdag\",\"Ben Bender\",\"Gabriel Pirani\",\"Luciano Acosta\",\"Diego Rossi\",\"Cole Bassett\",\"Kwadwo Opoku\",\"Patrickson Delgado\",\"Thiago Almada\",\"Jes\\u00fas Ferreira\",\"Ben Cremaschi\",\"Jes\\u00fas Daniel Bueno\",\"Quinn Sullivan\",\"Marcel Hartel\",\"Jules-Anthony Vilsaint\",\"Stuart Armstrong\",\"Mat\\u00edas Rojas\",\"Emil Forsberg\",\"Hern\\u00e1n L\\u00f3pez Mu\\u00f1oz\",\"Cameron Harper\",\"Brian Guti\\u00e9rrez\",\"Wikelman Carmona\",\"Mart\\u00edn Ojeda\",\"Nikola Petkovi\\u0107\",\"Noel Buck\",\"Dominik Yankov\",\"Albert Rusn\\u00e1k\",\"Jack McGlynn\",\"McKinze Gaines\",\"Federico Redondo\",\"Alexandru M\\u0103\\u021ban\",\"Indiana Vassilev\",\"Andr\\u00e9s Perea\",\"Dennis Gjengaar\",\"Lawson Sunderland\",\"Aidan Morris\",\"Alejandro Bran\",\"Bryce Duke\",\"David Ru\\u00edz-Ochoa\",\"Diogo Gon\\u00e7alves\",\"Christian Ramirez\",\"Theodore Ku-Dipietro\",\"Aleksei Miranchuk\",\"Hosei Kijima\",\"Dylan Chambost\",\"Gerardo Valenzuela\",\"Nelson Palacio\",\"Robin Lod\",\"Hany Mukhtar\",\"Sebastian Berhalter\",\"Sebasti\\u00e1n Driussi\",\"Obed Vargas\",\"Ajani Fortune\",\"Nathan-Dylan Saliba\",\"Eryk Williamson\",\"Ralph Priso-Mbongue\",\"Eduard L\\u00f6wen\",\"David Ayala\",\"Timmy Tillman\",\"Braian Ojeda\",\"Daniel Pereira\",\"Hassani Dotson\",\"Tom\\u00e1\\u0161 Ostr\\u00e1k\",\"Matthew Longstaff\",\"Mathieu Choiniere\",\"Frankie Amaya\",\"Pedro Vite\",\"Niko Tsakiris\",\"Amine Bassi\",\"Alhassan Yusuf\",\"Leon Flach\",\"Eduard Atuesta\",\"Peter Stroud\",\"Erik Thommy\",\"Bernard Kamungo\",\"Jack Skahan\",\"Cavan Sullivan\",\"Dru Yearwood\",\"Pavel Bucha\",\"Alonso Coello\",\"Yannick Bright\",\"Stiven Jimenez\",\"Ervin Torres\",\"Isaiah Jones\",\"Alessandro Biello\",\"Cole Mrowka\",\"Christopher Olney\",\"Taha Habroune\",\"C\\u00e9sar Araujo\",\"Chris Durkin\",\"Jared Stroud\",\"Cyprian Kachwele\",\"Nolan Norris\",\"Anthony Ramirez\",\"Brooklyn Raines\",\"Njabulo Blom\",\"Sean Zawadzki\",\"Mohammed Sofo\",\"Jackson Hopkins\",\"Ronald Donkor\",\"Wayne Frederick\",\"Jake Girdwood-Reich\",\"Erik Duenas\",\"Omar Valencia\",\"Ali Ahmed\",\"Joshua Atencio\",\"Federico Navarro\",\"Oliver Larraz\",\"Marco Reus\",\"Tsiki Ntsabeleng\",\"Omari Glasgow\",\"Shakur Mohammed\",\"Danny Leyva\",\"Moses Nyeman\",\"Rida Zouhir\",\"Markus Anderson\",\"Daniel Edelman\",\"Javier Casas\",\"James Sands\",\"Lorenzo Insigne\",\"Memo Rodriguez\",\"Edwin Cerrillo\",\"Joaqu\\u00edn Pereyra\",\"Jonathan Perez\",\"Carle-Fred Sainte\",\"Malik Pinto\",\"Matti Peltola\",\"Jeorgio Kocevski\",\"Patrick Yazbek\",\"Kosi Thompson\",\"Antino Lopez\",\"Liam Fraser\",\"Carles Gil\",\"Cassius Mailula\",\"Jamar Ricketts\",\"Tomas Pondeca\",\"Andres Jasson\",\"Tucker Lepley\",\"Herbert Endeley\",\"Alonso Ram\\u00edrez\",\"Emeka Eneli\",\"Djibril Diani\",\"Derrick Etienne\",\"Connor Ronan\",\"Bartosz Slisz\",\"R\\u00e9mi Walter\",\"Danley Jean-Jacques\",\"Michael Baldisimo\",\"Luca Petrasso\",\"Boris Enow\",\"Jeremy Rafanello\",\"Isaiah Parente\",\"Noel Caliskan\",\"Cristhian Paredes\",\"Keaton Parks\",\"Lewis O'Brien\",\"Derrick Jones\",\"Brandt Bronico\",\"Anthony Markanich\",\"Daniel Aguirre\",\"Paxton Pomykal\",\"Show\",\"Brandon Servania\",\"Samuel Shashoua\",\"Mart\\u00edn Rodr\\u00edguez\",\"Dominique Badji\",\"Kellyn Acosta\",\"Jackson Yueill\",\"Pablo Ru\\u00edz\",\"Felipe Hernandez\",\"Tristan Muyumba\",\"Xherdan Shaqiri\",\"Sebastian Lletget\",\"Fabian Herbers\",\"Franco Fragapane\",\"Matt Crooks\",\"Deybi Flores\",\"Julian Gressel\",\"Marky Delgado\",\"Jasper L\\u00f6ffelsend\",\"Marvin Lor\\u00eda\",\"Mohanad Jeahze\",\"Maximiliano Moralez\",\"Andr\\u00e9s Cubas\",\"Obinna Nwobodo\",\"Artur\",\"Ian Harkes\",\"Jhojan Valencia\",\"Felipe Carballo\",\"Amar Sejdic\",\"Brian Anunga\",\"Cristian Roldan\",\"Alessandro Sch\\u00f6pf\",\"Samuel Piette\",\"Nemanja Radoja\",\"Nicol\\u00e1s Lodeiro\",\"Asier Illarramendi\",\"Emanuel Reynoso\",\"Russell Canouse\",\"Carlos Gruezo\",\"Jos\\u00e9 Andr\\u00e9s Mart\\u00ednez\",\"Jonathan Osorio\",\"Wilder Cartagena\",\"Alexander Ring\",\"Mark-Anthony Kaye\",\"Mateusz Klich\",\"An\\u00edbal Godoy\",\"Gast\\u00f3n Gim\\u00e9nez\",\"Ashley Westwood\",\"Alejandro Bedoya\",\"Matt Polster\",\"Wil Trapp\",\"Jean Mota\",\"Junior Moreno\",\"Sean Davis\",\"Gast\\u00f3n Brugman\",\"H\\u00e9ctor Herrera\",\"Scott Arfield\",\"Sergio Busquets\",\"Jo\\u00e3o Paulo Mior\",\"J\\u00fanior Urso\",\"Ilie S\\u00e1nchez\",\"Victor Wanyama\",\"Darlington Nagbe\",\"Felipe\",\"Alfredo Morales\",\"J\\u00e1n Gregu\\u0161\",\"Dax McCarty\",\"Diego Char\\u00e1\",\"Victor Enriquez\"],\"textposition\":\"top center\",\"x\":{\"dtype\":\"f8\",\"bdata\":\"RBfhBdi2FkBcucgFqScUQMp1ubDVaw1A4UrULY3B5L95tIIqJ38BQA==\"},\"xaxis\":\"x4\",\"y\":{\"dtype\":\"f8\",\"bdata\":\"tEboGiBQZT4346\\u002fPRYm0PiTMypD7Oj4\\u002fdsApkkyw1D9iCavGUa+iPw==\"},\"yaxis\":\"y4\",\"type\":\"scatter\"},{\"line\":{\"color\":\"lightgrey\"},\"mode\":\"lines\",\"name\":\"Z-Curve\",\"showlegend\":false,\"x\":{\"dtype\":\"f8\",\"bdata\":\"AAAAAAAAEMBv\\u002fbv179YPwN76d+vfrQ\\u002fATfgz4c+ED8C89e\\u002fWv1sPwCvzq8yvMg\\u002fAmvBnwp8JD8AJ7iO4j+AOwHjr361\\u002ftw7A5+ibo2+ODsBW5leZX2UOwMXjE49PPA7ANOHPhD8TDsCj3ot6L+oNwBLcR3AfwQ3AgdkDZg+YDcDw1r9b\\u002f24NwF\\u002fUe1HvRQ3AztE3R98cDcA9z\\u002fM8z\\u002fMMwKzMrzK\\u002fygzAG8prKK+hDMCKxycen3gMwPnE4xOPTwzAaMKfCX8mDMDXv1v\\u002fbv0LwEa9F\\u002fVe1AvAtbrT6k6rC8AkuI\\u002fgPoILwJO1S9YuWQvAArMHzB4wC8BxsMPBDgcLwOCtf7f+3QrAT6s7re60CsC+qPei3osKwC2ms5jOYgrAnKNvjr45CsALoSuErhAKwHqe53me5wnA6Zujb46+CcBYmV9lfpUJwMeWG1tubAnANpTXUF5DCcClkZNGThoJwBSPTzw+8QjAg4wLMi7ICMDyiccnHp8IwGGHgx0OdgjA0IQ\\u002fE\\u002f5MCMA\\u002fgvsI7iMIwK5\\u002ft\\u002f7d+gfAHX1z9M3RB8CMei\\u002fqvagHwPt369+tfwfAanWn1Z1WB8DZcmPLjS0HwEhwH8F9BAfAt23btm3bBsAma5esXbIGwJVoU6JNiQbABGYPmD1gBsBzY8uNLTcGwOJgh4MdDgbAUV5DeQ3lBcDAW\\u002f9u\\u002fbsFwC9Zu2TtkgXAnlZ3Wt1pBcANVDNQzUAFwHxR70W9FwXA606rO63uBMBaTGcxncUEwMlJIyeNnATAOEffHH1zBMCnRJsSbUoEwBZCVwhdIQTAhT8T\\u002fkz4A8D0PM\\u002fzPM8DwGM6i+kspgPA0jdH3xx9A8BBNQPVDFQDwLAyv8r8KgPAHzB7wOwBA8COLTe23NgCwP0q86vMrwLAbCivobyGAsDbJWuXrF0CwEojJ42cNALAuSDjgowLAsAoHp94fOIBwJcbW25suQHABhkXZFyQAcB1FtNZTGcBwOQTj088PgHAUxFLRSwVAcDCDgc7HOwAwDEMwzAMwwDAoAl\\u002fJvyZAMAPBzsc7HAAwH4E9xHcRwDA7QGzB8weAMC4\\u002ft36d+v\\u002fv5b5VeZXmf+\\u002fdPTN0TdH\\u002f79S70W9F\\u002fX+vzDqvaj3ov6\\u002fDuU1lNdQ\\u002fr\\u002fs361\\u002ft\\u002f79v8raJWuXrP2\\u002fqNWdVnda\\u002fb+G0BVCVwj9v2TLjS03tvy\\u002fQsYFGRdk\\u002fL8gwX0E9xH8v\\u002f679e\\u002fWv\\u002fu\\u002f3LZt27Zt+7+6seXGlhv7v5isXbJ2yfq\\u002fdqfVnVZ3+r9Uok2JNiX6vzKdxXQW0\\u002fm\\u002fEJg9YPaA+b\\u002fukrVL1i75v8yNLTe23Pi\\u002fqoilIpaK+L+Igx0Odjj4v2Z+lflV5ve\\u002fRHkN5TWU978idIXQFUL3vwBv\\u002fbv17\\u002fa\\u002f3ml1p9Wd9r+8ZO2StUv2v5pfZX6V+fW\\u002feFrdaXWn9b9WVVVVVVX1vzRQzUA1A\\u002fW\\u002fEktFLBWx9L\\u002fwRb0X9V70v85ANQPVDPS\\u002frDut7rS687+KNiXalGjzv2gxncV0FvO\\u002fRiwVsVTE8r8kJ42cNHLyvwIiBYgUIPK\\u002f4Bx9c\\u002fTN8b++F\\u002fVe1Hvxv5wSbUq0KfG\\u002feg3lNZTX8L9YCF0hdIXwvzYD1QxUM\\u002fC\\u002fKPyZ8GfC77\\u002fk8YnHJx7vv6DneZ7nee6\\u002fXN1pdafV7b8Y01lMZzHtv9TISSMnjey\\u002fkL45+ubo679MtCnRpkTrvwiqGahmoOq\\u002fxJ8Jfyb86b+AlflV5lfpvzyL6Syms+i\\u002f+IDZA2YP6L+0dsnaJWvnv3BsubHlxua\\u002fLGKpiKUi5r\\u002foV5lfZX7lv6RNiTYl2uS\\u002fYEN5DeU15L8cOWnkpJHjv9guWbtk7eK\\u002flCRJkiRJ4r9QGjlp5KThvwwQKUCkAOG\\u002fyAUZF2Rc4L8I9xHcR3Dfv4Di8YnHJ96\\u002f+M3RN0ff3L9wubHlxpbbv+ikkZNGTtq\\u002fYJBxQcYF2b\\u002fYe1HvRb3Xv1BnMZ3FdNa\\u002fyFIRS0Us1b9APvH4xOPTv7gp0aZEm9K\\u002fMBWxVMRS0b+oAJECRArQv0DY4WCHg82\\u002fMK+hvIbyyr8ghmEYhmHIvxBdIXSF0MW\\u002fADThz4Q\\u002fw7\\u002fwCqErhK7Av8DDwQ4HO7y\\u002foHFBxgUZt7+AH8F9BPexv8CagWoGqqm\\u002fAO0BswfMnr8ASQEiBYiEvwBIASIFiIQ\\u002fAOwBswfMnj+AmoFqBqqpP4AfwX0E97E\\u002fgHFBxgUZtz+Aw8EOBzu8P+AKoSuErsA\\u002fADThz4Q\\u002fwz8AXSF0hdDFPwCGYRiGYcg\\u002fIK+hvIbyyj9A2OFgh4PNP6AAkQJECtA\\u002fIBWxVMRS0T+wKdGmRJvSP0A+8fjE49M\\u002fwFIRS0Us1T9AZzGdxXTWP9B7Ue9Fvdc\\u002fYJBxQcYF2T\\u002fgpJGTRk7aP2C5seXGlts\\u002f8M3RN0ff3D+A4vGJxyfePwD3EdxHcN8\\u002fwAUZF2Rc4D8IEClApADhP1AaOWnkpOE\\u002fkCRJkiRJ4j\\u002fQLlm7ZO3iPxg5aeSkkeM\\u002fYEN5DeU15D+gTYk2JdrkP+BXmV9lfuU\\u002fKGKpiKUi5j9wbLmx5cbmP7B2ydola+c\\u002f8IDZA2YP6D84i+ksprPoP4CV+VXmV+k\\u002fwJ8Jfyb86T8AqhmoZqDqP0i0KdGmROs\\u002fkL45+ubo6z\\u002fQyEkjJ43sPxDTWUxnMe0\\u002fWN1pdafV7T+g53me53nuP+DxiccnHu8\\u002fIPyZ8GfC7z80A9UMVDPwP1gIXSF0hfA\\u002feA3lNZTX8D+YEm1KtCnxP7wX9V7Ue\\u002fE\\u002f4Bx9c\\u002fTN8T8AIgWIFCDyPyAnjZw0cvI\\u002fRCwVsVTE8j9oMZ3FdBbzP4g2JdqUaPM\\u002fqDut7rS68z\\u002fMQDUD1Qz0P\\u002fBFvRf1XvQ\\u002fEEtFLBWx9D8wUM1ANQP1P1RVVVVVVfU\\u002feFrdaXWn9T+YX2V+lfn1P7hk7ZK1S\\u002fY\\u002f3Gl1p9Wd9j8Ab\\u002f279e\\u002f2PyB0hdAVQvc\\u002fQHkN5TWU9z9kfpX5Veb3P4iDHQ52OPg\\u002fqIilIpaK+D\\u002fIjS03ttz4P+yStUvWLvk\\u002fEJg9YPaA+T8wncV0FtP5P1CiTYk2Jfo\\u002fdKfVnVZ3+j+YrF2ydsn6P7ix5caWG\\u002fs\\u002f2LZt27Zt+z\\u002f8u\\u002fXv1r\\u002f7PyDBfQT3Efw\\u002fQMYFGRdk\\u002fD9gy40tN7b8P4TQFUJXCP0\\u002fqNWdVnda\\u002fT\\u002fI2iVrl6z9P+jfrX+3\\u002fv0\\u002fDOU1lNdQ\\u002fj8w6r2o96L+P1DvRb0X9f4\\u002fcPTN0TdH\\u002fz+U+VXmV5n\\u002fP7j+3fp36\\u002f8\\u002f7AGzB8weAEB8BPcR3EcAQA4HOxzscABAoAl\\u002fJvyZAEAwDMMwDMMAQMAOBzsc7ABAUhFLRSwVAUDkE49PPD4BQHQW01lMZwFABBkXZFyQAUCWG1tubLkBQCgen3h84gFAuCDjgowLAkBIIyeNnDQCQNola5esXQJAbCivobyGAkD8KvOrzK8CQIwtN7bc2AJAHjB7wOwBA0CwMr\\u002fK\\u002fCoDQEA1A9UMVANA0DdH3xx9A0BiOovpLKYDQPQ8z\\u002fM8zwNAhD8T\\u002fkz4A0AUQlcIXSEEQKZEmxJtSgRAOEffHH1zBEDISSMnjZwEQFhMZzGdxQRA6k6rO63uBEB8Ue9FvRcFQAxUM1DNQAVAnFZ3Wt1pBUAuWbtk7ZIFQMBb\\u002f279uwVAUF5DeQ3lBUDgYIeDHQ4GQHJjy40tNwZABGYPmD1gBkCUaFOiTYkGQCRrl6xdsgZAtm3btm3bBkBIcB\\u002fBfQQHQNhyY8uNLQdAaHWn1Z1WB0D6d+vfrX8HQIx6L+q9qAdAHH1z9M3RB0Csf7f+3foHQD6C+wjuIwhA0IQ\\u002fE\\u002f5MCEBgh4MdDnYIQPCJxycenwhAgowLMi7ICEAUj088PvEIQKSRk0ZOGglANJTXUF5DCUDGlhtbbmwJQFiZX2V+lQlA6Jujb46+CUB4nud5nucJQAqhK4SuEApAnKNvjr45CkAsprOYzmIKQLyo96LeiwpATqs7re60CkDgrX+3\\u002ft0KQHCww8EOBwtAALMHzB4wC0CStUvWLlkLQCS4j+A+ggtAtLrT6k6rC0BEvRf1XtQLQNa\\u002fW\\u002f9u\\u002fQtAaMKfCX8mDED4xOMTj08MQIjHJx6feAxAGsprKK+hDECszK8yv8oMQDzP8zzP8wxAzNE3R98cDUBe1HtR70UNQPDWv1v\\u002fbg1AgNkDZg+YDUAQ3EdwH8ENQKLei3ov6g1ANOHPhD8TDkDE4xOPTzwOQFTmV5lfZQ5A5uibo2+ODkB469+tf7cOQAjuI7iP4A5AmPBnwp8JD0Aq86vMrzIPQLz179a\\u002fWw9ATPgz4c+ED0Dc+nfr360PQG79u\\u002fXv1g9AAAAAAAAAEEA=\"},\"xaxis\":\"x5\",\"y\":{\"dtype\":\"f8\",\"bdata\":\"tbTA4piKIT\\u002fVpf16mgAjP3FZkSukkyQ\\u002f6U48VsdFJj\\u002fiwpAcNxkoPwUMvTZKECo\\u002fCqH63XwtLD8rAQPLcnMuPz9VcqR8cjA\\u002fai5FroTCMT8yB58AZSszPzyVMz3JrjQ\\u002f1nFcXXZONj+xxnzwSww4P2KBP2VF6jk\\u002f5Q23XXvqOz8RAV4OJQ8+P57299NMLUA\\u002fsGkE5qhnQT8QHTiG9LdCP7l1dbqPH0Q\\u002ff9Wxj+2fRT+N8RfplDpHPz6kFFQh8Ug\\u002f12Yk4UPFSj+R9zABxLhMP6axR2eAzU4\\u002fEuY097eCUD9jBphBUbFRP1rCeQih81I\\u002fzlASuclKVD9to7ix+7dVP8zdqLx1PFc\\u002fL4fFi4XZWD9xDBY1iJBaP65NwK\\u002fqYlw\\u002fr\\u002fk1USpSXj82siSl6i9gP1Us7JHFRmE\\u002fnxBbnX5uYj\\u002fEWDyd96djP6q4Y8sb9GQ\\u002f+WFiAeBTZj8V9xLzQshnP+3Gw2dNUmk\\u002fwLLDcRLzaj\\u002fLbROkr6tsP+Ab+kVNfW4\\u002fsdocQo80cD8Bg87PMDhxPyFOSwwwSnI\\u002fF8vSazdrcz\\u002ffchkp95t0P365y1Ul3XU\\u002fr7b86H0vdz8hl1bLwpN4Pywj4uC7Cno\\u002fxto5EDeVez9UcfxGCDR9P9zZUXsJ6H4\\u002fIMsqVQ1ZgD\\u002feTpzpkEmBP4x4dncFRoI\\u002fjmwW8uNOgz9Y69c7qGSEP26\\u002fLxzRh4U\\u002fsGyvM+C4hj8ssNvtWfiHP466v3DFRok\\u002fx4Eniqykij+\\u002fEWyamxKMP1JovXwhkY0\\u002fACjWbM8gjz8uIwN1HGGQP2Vowcv5OpE\\u002f6vn0jEsekj\\u002fDz\\u002fV4XguTP103BCqAApQ\\u002fzu+s\\u002fv4DlT83OawCKhCWPzLzStZQJ5c\\u002fXMcxlMNJmD\\u002ffS6+10neZPxMIb\\u002fXOsZo\\u002fElGgMAn4mz+QDo1G0kqdP7+fofZ6qp4\\u002fpyZ03qkLoD9\\u002f+31W1sigP5x8u6XqjKE\\u002fNlDyMg5Yoj\\u002fgcZ70ZyqjP0HHeVseBKQ\\u002fbbtSPFflpD9l7ze5N86lPzTR\\u002fynkvqY\\u002fBrEzBIC3pz+ys2bCLbioP9DLAcsOwak\\u002fda2OVkPSqj+6e4xV6uurP6652VUhDq0\\u002fFNK\\u002fZwQ5rj9BUK0CrmyvP81U1nSbVLA\\u002f1RvTB1v3sD+wX749oJ6xP4xMCpZ0SrI\\u002f1h4rfuD6sj89055D66+zP7pHBAababQ\\u002foCFLqfQntT+8EwbI++q1P61h6aWysrY\\u002fZLl\\u002fIhp\\u002ftz\\u002fVsR+sMVC4P65sLDP3Jbk\\u002fBAGsHWcAuj9gdT47fN+6PwsogLkvw7s\\u002f6JTiGHmrvD+9bwYiTpi9P9wIotuiib4\\u002fV+f+gGl\\u002fvz8vuIw8yTzAP9GqNicGvMA\\u002foq6802E9wT\\u002f7cQKg0cDBP1afmPFJRsI\\u002fUG0wM77Nwj861X7SIFfDPwMKlD5j4sM\\u002f3Jar5nVvxD8gVXk5SP7EP1As96TIjsU\\u002fFE23luQgxj+OUb58iLTGP71h6MafScc\\u002fqSrc6BTgxz9SIo5c0XfIP785VqW9EMk\\u002fY8GZU8GqyT+N4woJw0XKPy+0fn2o4co\\u002fym1ahFZ+yz+3CJgSsRvMP\\u002ffsYUWbucw\\u002f\\u002fA5FafdXzT+RVvgBp\\u002fbNP9K7t9KKlc4\\u002f+REx54I0zz+UAgCdbtPPPxQj21YWOdA\\u002fAVm2nE2I0D\\u002fWnuzoS9fQPzrX8sL\\u002fJdE\\u002fVBLhdld00T94KrcbQcLRP8nk2ZmqD9I\\u002fgY3FsYFc0j8h0\\u002fICtKjSP\\u002fBw6hIv9NI\\u002fcAiEVOA+0z\\u002fqWkwvtYjTP+XnDgeb0dM\\u002f5ct+Q38Z1D\\u002f7k\\u002fpXT2DUP+OWZsv4pdQ\\u002fx0MZQGnq1D9oudR7ji3VP6LeyG9Wb9U\\u002f6B6ZQK+v1T\\u002fj2mBOh+7VP7qOsTzNK9Y\\u002f2aSF+m9n1j9T5SLKXqHWP41v50iJ2dY\\u002fdi38dt8P1z9dtee+UUTXP5qZ\\u002fPzQdtc\\u002fgTOehk6n1z+UCVcxvNXXP8MHvFkMAtg\\u002fNdsX6jEs2D824tlgIFTYP71DxNbLedg\\u002f6OjUBCmd2D9uPeVJLb7YP2PK\\u002fK\\u002fO3Ng\\u002fYfBS8QP52D+TO\\u002fx8xBLZP0YEQHsIKtk\\u002fMkqT0cg+2T+49jUm\\u002f1DZPy\\u002fzb+OlYNk\\u002fXsNrOrht2T+TmawlMnjZP8ogHmsQgNk\\u002fMoK8nVCF2T9LddMe8YfZP0t10x7xh9k\\u002fMoK8nVCF2T\\u002fKIB5rEIDZP5OZrCUyeNk\\u002fXsNrOrht2T8w82\\u002fjpWDZP7n2NSb\\u002fUNk\\u002fMkqT0cg+2T9HBEB7CCrZP5Q7\\u002fHzEEtk\\u002fYvBS8QP52D9jyvyvztzYP2895Uktvtg\\u002f6ejUBCmd2D++Q8TWy3nYPzbi2WAgVNg\\u002fNtsX6jEs2D\\u002fFB7xZDALYP5UJVzG81dc\\u002fgTOehk6n1z+cmfz80HbXP1+1575RRNc\\u002feC38dt8P1z+Nb+dIidnWP1XlIspeodY\\u002f3aSF+m9n1j+8jrE8zSvWP+PaYE6H7tU\\u002f6h6ZQK+v1T+l3shvVm\\u002fVP2m51HuOLdU\\u002fx0MZQGnq1D\\u002fmlmbL+KXUP\\u002f+T+ldPYNQ\\u002f58t+Q38Z1D\\u002fl5w4Hm9HTP+1aTC+1iNM\\u002fdAiEVOA+0z\\u002fxcOoSL\\u002fTSPyHT8gK0qNI\\u002fgo3FsYFc0j\\u002fN5NmZqg\\u002fSP3oqtxtBwtE\\u002fVBLhdld00T881\\u002fLC\\u002fyXRP9qe7OhL19A\\u002fA1m2nE2I0D8UI9tWFjnQP5kCAJ1u088\\u002fARIx54I0zz\\u002fVu7fSipXOP5FW+AGn9s0\\u002fAQ9FafdXzT\\u002f\\u002f7GFFm7nMP7oImBKxG8w\\u002fym1ahFZ+yz80tH59qOHKP5XjCgnDRco\\u002fZsGZU8GqyT+\\u002fOValvRDJP1YijlzRd8g\\u002fsSrc6BTgxz\\u002fBYejGn0nHP45RvnyItMY\\u002fGE23luQgxj9XLPekyI7FPyRVeTlI\\u002fsQ\\u002f3Jar5nVvxD8HCpQ+Y+LDP0HVftIgV8M\\u002fVG0wM77Nwj9Wn5jxSUbCP\\u002f5xAqDRwME\\u002fqK6802E9wT\\u002fUqjYnBrzAPy+4jDzJPMA\\u002fXuf+gGl\\u002fvz\\u002fpCKLboom+P8NvBiJOmL0\\u002f6JTiGHmrvD8SKIC5L8O7P2x1Pjt837o\\u002fCAGsHWcAuj+ubCwz9yW5P9qxH6wxULg\\u002fbrl\\u002fIhp\\u002ftz+zYemlsrK2P7wTBsj76rU\\u002fpCFLqfQntT\\u002fDRwQGm2m0P0HTnkPrr7M\\u002f1h4rfuD6sj+QTAqWdEqyP7hfvj2gnrE\\u002f2RvTB1v3sD\\u002fNVNZ0m1SwP0dQrQKubK8\\u002fI9K\\u002fZwQ5rj+2udlVIQ6tP7p7jFXq66s\\u002fe62OVkPSqj\\u002fdywHLDsGpP7izZsItuKg\\u002fBrEzBIC3pz850f8p5L6mP3DvN7k3zqU\\u002fcrtSPFflpD9Bx3lbHgSkP+VxnvRnKqM\\u002fQFDyMg5Yoj+hfLul6oyhP3\\u002f7fVbWyKA\\u002friZ03qkLoD\\u002fPn6H2eqqeP5cOjUbSSp0\\u002fElGgMAn4mz8ZCG\\u002f1zrGaP+9Lr7XSd5k\\u002fYccxlMNJmD8y80rWUCeXPzw5rAIqEJY\\u002f2++s\\u002fv4DlT9hNwQqgAKUP8PP9XheC5M\\u002f7\\u002fn0jEsekj9waMHL+TqRPzMjA3UcYZA\\u002fACjWbM8gjz9eaL18IZGNP9ARbJqbEow\\u002fz4Eniqykij+Our9wxUaJPzWw2+1Z+Ic\\u002fwWyvM+C4hj90vy8c0YeFP1jr1zuoZIQ\\u002flWwW8uNOgz+YeHZ3BUaCP+ROnOmQSYE\\u002fIMsqVQ1ZgD\\u002fi2VF7Ceh+P2tx\\u002fEYINH0\\u002fzto5EDeVez8sI+Lguwp6PyiXVsvCk3g\\u002fwbb86H0vdz+DuctVJd11P99yGSn3m3Q\\u002fHMvSazdrcz8vTksMMEpyPwWDzs8wOHE\\u002fsdocQo80cD\\u002foG\\u002fpFTX1uP+BtE6Svq2w\\u002fyLLDcRLzaj\\u002ftxsNnTVJpPyH3EvNCyGc\\u002fCmJiAeBTZj+0uGPLG\\u002fRkP8RYPJ33p2M\\u002fqRBbnX5uYj9iLOyRxUZhPzqyJKXqL2A\\u002fr\\u002fk1USpSXj+8TcCv6mJcP4YMFjWIkFo\\u002fPIfFi4XZWD\\u002fM3ai8dTxXP3OjuLH7t1U\\u002f4lASuclKVD9jwnkIofNSP2MGmEFRsVE\\u002fFuY097eCUD\\u002fGsUdngM1OP5\\u002f3MAHEuEw\\u002f12Yk4UPFSj9EpBRUIfFIP6TxF+mUOkc\\u002fitWxj+2fRT+5dXW6jx9EPxkdOIb0t0I\\u002fwWkE5qhnQT+m9vfTTC1APxEBXg4lDz4\\u002f8w23XXvqOz91gT9lReo5P73GfPBLDDg\\u002f1nFcXXZONj9AlTM9ya40P0UHnwBlKzM\\u002fci5FroTCMT8\\u002fVXKkfHIwPzkBA8tycy4\\u002fJ6H63XwtLD8SDL02ShAqP+LCkBw3GSg\\u002f9E48VsdFJj+FWZErpJMkP9+l\\u002fXqaACM\\u002ftbTA4piKIT8=\"},\"yaxis\":\"y5\",\"type\":\"scatter\"},{\"marker\":{\"color\":{\"dtype\":\"f8\",\"bdata\":\"pp58EOKV7z81IsZWi+rqP2h\\u002fYzDT5e4\\u002fwyUMRmqk4j\\u002fJeYpafS\\u002fsP72i1fXUZOc\\u002f1ALrxsXr7T\\u002fDJQxGaqTiPyj5rjUUU+k\\u002fOGatcNQr7T84Zq1w1CvtP72i1fXUZOc\\u002fwyUMRmqk4j\\u002fJeYpafS\\u002fsPzhmrXDUK+0\\u002ferTncyu32j+9otX11GTnP8l5ilp9L+w\\u002fyXmKWn0v7D\\u002fUAuvGxevtP8l5ilp9L+w\\u002fNSLGVovq6j9of2Mw0+XuPyj5rjUUU+k\\u002fvfo2vHx77j8AAAAAAADgPzhmrXDUK+0\\u002fhrpUFFY20T8AAAAAAADgP2AbRCmvs8o\\u002fNSLGVovq6j\\u002fJeYpafS\\u002fsP9QC68bF6+0\\u002f1ALrxsXr7T+9otX11GTnP9QC68bF6+0\\u002faH9jMNPl7j81IsZWi+rqP3q053Mrt9o\\u002f1ALrxsXr7T+9otX11GTnPzhmrXDUK+0\\u002fKPmuNRRT6T\\u002fJeYpafS\\u002fsPzUixlaL6uo\\u002fvfo2vHx77j\\u002fJeYpafS\\u002fsP8l5ilp9L+w\\u002fyXmKWn0v7D\\u002fJeYpafS\\u002fsP736Nrx8e+4\\u002fASJPiuok5T9gG0Qpr7PKP8l5ilp9L+w\\u002fAAAAAAAA4D84Zq1w1CvtPwEiT4rqJOU\\u002fvfo2vHx77j\\u002fJeYpafS\\u002fsP\\u002f+7YesqttU\\u002fAAAAAAAA4D\\u002fJeYpafS\\u002fsP8MlDEZqpOI\\u002faH9jMNPl7j84Zq1w1CvtP736Nrx8e+4\\u002fASJPiuok5T84Zq1w1CvtP8MlDEZqpOI\\u002fOGatcNQr7T+9otX11GTnPzUixlaL6uo\\u002fNSLGVovq6j8BIk+K6iTlPzUixlaL6uo\\u002fNSLGVovq6j8o+a41FFPpPzUixlaL6uo\\u002fOGatcNQr7T9of2Mw0+XuPwEiT4rqJOU\\u002fNSLGVovq6j\\u002fJeYpafS\\u002fsPwEiT4rqJOU\\u002fOGatcNQr7T96tOdzK7faP8l5ilp9L+w\\u002fvaLV9dRk5z++BmkEr7PvPzUixlaL6uo\\u002fvaLV9dRk5z8o+a41FFPpP8l5ilp9L+w\\u002f6uENL6hs7z\\u002fq4Q0vqGzvPyS7VbDRM+8\\u002fJLtVsNEz7z8ku1Ww0TPvPyS7VbDRM+8\\u002fJLtVsNEz7z\\u002fJeYpafS\\u002fsPzUixlaL6uo\\u002fwyUMRmqk4j9of2Mw0+XuP2h\\u002fYzDT5e4\\u002faH9jMNPl7j9of2Mw0+XuPyj5rjUUU+k\\u002fNSLGVovq6j+9+ja8fHvuP736Nrx8e+4\\u002fvfo2vHx77j+9+ja8fHvuP736Nrx8e+4\\u002fvfo2vHx77j+9+ja8fHvuPzUixlaL6uo\\u002fyXmKWn0v7D81IsZWi+rqP8l5ilp9L+w\\u002frjGsKxWEvj+9otX11GTnP9QC68bF6+0\\u002f1ALrxsXr7T\\u002fUAuvGxevtP9QC68bF6+0\\u002f1ALrxsXr7T\\u002fUAuvGxevtP9QC68bF6+0\\u002f1ALrxsXr7T81IsZWi+rqP2AbRCmvs8o\\u002fAAAAAAAA4D81IsZWi+rqP72i1fXUZOc\\u002fOGatcNQr7T84Zq1w1CvtPzhmrXDUK+0\\u002fOGatcNQr7T84Zq1w1CvtPzhmrXDUK+0\\u002fOGatcNQr7T84Zq1w1CvtP72i1fXUZOc\\u002fhrpUFFY20T\\u002fJeYpafS\\u002fsP8l5ilp9L+w\\u002fyXmKWn0v7D\\u002fJeYpafS\\u002fsP8l5ilp9L+w\\u002fyXmKWn0v7D\\u002fJeYpafS\\u002fsPyj5rjUUU+k\\u002fvaLV9dRk5z\\u002fDJQxGaqTiP72i1fXUZOc\\u002fKPmuNRRT6T8AAAAAAADgPzUixlaL6uo\\u002fNSLGVovq6j81IsZWi+rqPzUixlaL6uo\\u002fNSLGVovq6j81IsZWi+rqPzUixlaL6uo\\u002fvaLV9dRk5z8BIk+K6iTlP72i1fXUZOc\\u002fASJPiuok5T8AAAAAAADgPyj5rjUUU+k\\u002fKPmuNRRT6T8o+a41FFPpPyj5rjUUU+k\\u002fKPmuNRRT6T8o+a41FFPpP3q053Mrt9o\\u002fhrpUFFY20T8AAAAAAADgPwEiT4rqJOU\\u002fvaLV9dRk5z+9otX11GTnPwEiT4rqJOU\\u002fYBtEKa+zyj+GulQUVjbRP\\u002f+7YesqttU\\u002f\\u002f7th6yq21T\\u002f\\u002fu2HrKrbVP8MlDEZqpOI\\u002f\\u002f7th6yq21T8AAAAAAADgPwEiT4rqJOU\\u002fASJPiuok5T8BIk+K6iTlP2Tpp8jRobA\\u002fwyUMRmqk4j\\u002fDJQxGaqTiP8MlDEZqpOI\\u002fAAAAAAAA4D\\u002fDJQxGaqTiP8MlDEZqpOI\\u002fwyUMRmqk4j\\u002fDJQxGaqTiPwAAAAAAAOA\\u002ferTncyu32j96tOdzK7faP\\u002f+7YesqttU\\u002frjGsKxWEvj8ud+ek0lXEPwAAAAAAAOA\\u002fAAAAAAAA4D8AAAAAAADgP3q053Mrt9o\\u002fhrpUFFY20T96tOdzK7faP2AbRCmvs8o\\u002ferTncyu32j8ud+ek0lXEPy5356TSVcQ\\u002fYBtEKa+zyj8ud+ek0lXEP2Tpp8jRobA\\u002f\\u002f7th6yq21T+GulQUVjbRP\\u002f+7YesqttU\\u002f\\u002f7th6yq21T\\u002f\\u002fu2HrKrbVP4a6VBRWNtE\\u002fLnfnpNJVxD9GzpR6XKG2P0bOlHpcobY\\u002fYBtEKa+zyj+uMawrFYS+Py5356TSVcQ\\u002fYBtEKa+zyj8ud+ek0lXEPy5356TSVcQ\\u002fLnfnpNJVxD8ud+ek0lXEP2Tpp8jRobA\\u002fRVSQPDRIqD8AAAAAAAD4fw==\"},\"showscale\":true,\"size\":{\"dtype\":\"f8\",\"bdata\":\"AAAAAAAA8D+rjbG\\u002fNBjnP6SBo7JRkeE\\u002fSS7tZcB45T8PIiyFJSvhP2Fu9u6vseI\\u002fO0rWEOSc3j8qYHOX1\\u002fviP+CVAUPPM9w\\u002fzsO7kHNK1z99gXsa9dnVPw\\u002fdEIhWcto\\u002fxpln5IyX3T+5OiT3mTDVP1zmG1JU8dM\\u002fr2SMGgWd4D9ncuu\\u002f\\u002fCfYP\\u002ff6i3Ss5tM\\u002fUYnka+qd0z+ZYsu8h6\\u002fRPzg7Xx5HK9M\\u002ftLf\\u002fh3os1D++kfjQxjHQP3nYnYtju9M\\u002fJKI5Eb6Lzj82SB5TJq\\u002fbP74mWZqnOM0\\u002fgHRJrdQO4D9+uG\\u002fBQYnZP6WydkR5nuA\\u002fy\\u002fCZoMCOzz\\u002f+DG9FTPjMP707Gflf4ck\\u002fvOdZgpCeyT\\u002fHF\\u002fCRyCrSPzqfWPBEhMg\\u002fNecCf9PTxj8DD5Uri0zNP8tdEShN0tk\\u002fOmE5teb7xj+Tkkxu5EbQPymc3inW7cU\\u002ffZmgeLlszD8grZS9UzTGP9raI++OzMc\\u002fSwPOq8efwT+PEiBCWerEP\\u002fv7dJJtPsM\\u002f5UDyssEewz\\u002fQj34dxAbDPxnlq+5xCb4\\u002f3st6lZ7lzT8B1TS8QEDbP7GVYVHie8E\\u002fk9x0p4Mv0z94Gf4NckW\\u002fP0OJSgVUQM0\\u002f3T9\\u002fPjB8uT+Ge+5D7HnAP0H6L18kDNc\\u002fWjls4RqZ0j8hU+k6k5q+P178uPRd3c4\\u002fbC1wBMw3sz\\u002fQ4kxyW++4P0a3ysP9sq0\\u002fnc6cGaj0xj+nfnEgx9qwP24uTBVgeMo\\u002fbyDzRmOzsD9aEfUtkSjCP9PfcnMCO7g\\u002fN+tWlQr5tz+XomK4x9vFP\\u002feXCcyQ3bc\\u002f4b\\u002fl8UsWtj9NyskEhFy7P6z4nm12RLQ\\u002ftdC6sTRJqD9JjnCdjP+VP16e8NWcTMM\\u002f4uccXwgasj\\u002f4AL\\u002fWV5KqP0ErAa0EtMI\\u002fAUqrX5Qhoz9uN2BsurnPPxO\\u002fpm05cqg\\u002fA8sH0PyBvD8AAAAAAAAAAHiom4PALrA\\u002f1CmkNEkfvD93Irbz+Ey1P0S3sbKH76Y\\u002fAAAAAAAAAAAAAAAAAAAAAAAAAAAAAAAAAAAAAAAAAAAAAAAAAAAAAAAAAAAAAAAAAAAAAAAAAACQNTksSkekP2ib9ms616w\\u002flVv+eN4zxT8AAAAAAAAAAAAAAAAAAAAAAAAAAAAAAAAAAAAAAAAAAC\\u002fg2hjgv7I\\u002fpXZN768mqj8AAAAAAAAAAAAAAAAAAAAAAAAAAAAAAAAAAAAAAAAAAAAAAAAAAAAAAAAAAAAAAAAAAAAAAAAAAMZQ31NIXKg\\u002f2jsOroA1nj9OxkaLtsenPzXUH2mV7J0\\u002ff4KylybC1j8Yomt6lJi2PwAAAAAAAAAAAAAAAAAAAAAAAAAAAAAAAAAAAAAAAAAAAAAAAAAAAAAAAAAAAAAAAAAAAAAAAAAAAAAAAAAAAAC+s+5S7jCjP12SSLFhoNM\\u002fTidA7Netxj9KwXLpZZefP7Dj3n4U1rM\\u002fAAAAAAAAAAAAAAAAAAAAAAAAAAAAAAAAAAAAAAAAAAAAAAAAAAAAAAAAAAAAAAAAAAAAAAAAAAAAAAAAAAAAAMrtx0OfyrE\\u002fFSR64s\\u002f80D8AAAAAAAAAAAAAAAAAAAAAAAAAAAAAAAAAAAAAAAAAAAAAAAAAAAAAAAAAAAAAAAAAAAAAAAAAAEPwv3vZYKI\\u002fyTliRQeIqz\\u002fXQ1HGQuq9Py0acxfwGqs\\u002flnQeU6ttmz9s8YEXTT3DPwAAAAAAAAAAAAAAAAAAAAAAAAAAAAAAAAAAAAAAAAAAAAAAAAAAAAAAAAAAAAAAAAAAAAAAAAAAqlKK1Mnrpz\\u002fK0eOg\\u002fpSzP8FLDfRkmKQ\\u002fHn6lgN7ssD8ZbZIJmGHAPwAAAAAAAAAAAAAAAAAAAAAAAAAAAAAAAAAAAAAAAAAAAAAAAAAAAAAAAAAAAAAAAMiPjOgNgcM\\u002fTez\\u002fOEh\\u002fyz8kptTPgXG8P72MTl1O\\u002f6M\\u002fAAAAAAAAAAAAAAAAAAAAANHmjyqaiZ4\\u002fN7oBX2mjyz9EgJw7RAjIP7Um44oCCcQ\\u002fKuVxte6hwz\\u002f5Naj2rofDP9D8hdffeKc\\u002f7JkyvAkKwz+bo\\u002f1Wc8OzPwAAAAAAAAAAAAAAAAAAAAAAAAAAAAAAAPbR\\u002fKywhs8\\u002fvLnFukK5kD\\u002fYBVeELUyKPykt3Ll4QoU\\u002fcSlwgjR6pD8AAAAAAAAAAAAAAAAAAAAAAAAAAAAAAAAAAAAAAAAAAALoif12RaE\\u002fgZAz3w5NqT+dzpwZqPSmP\\u002fH677ciHrM\\u002fRJmHBrFexT\\u002f61I+tgMPCPwAAAAAAAAAAAAAAAAAAAAAAAAAAAAAAAPt+kW7syJ8\\u002fy38fTM0atj\\u002fj1iPP\\u002fHaNP0EmxCaeG7k\\u002fAAAAAAAAAADs8roDXn+7P73IoXEYQbs\\u002fwIrn97ZIsz8kpeJeGaq4P3Qr+U6W2cA\\u002fa1IoWjuFiD8r8gQvIlulPwAAAAAAAAAAAAAAAAAAAAAAAAAAAAAAAIKBzN+VOps\\u002f4dvD9qhXrj\\u002f8qQufnTC1PztLQrHJnrM\\u002f1xD5Au5OmT8XXaJj2RKwP55vRGckvqY\\u002fAAAAAAAAAADosJ7c1YSLPwAAAAAAAAAAAAAAAAAAAAAAAAAAAAAAAAAAAAAAAAAAAAAAAAAAAAAAAAAAAAAAAA==\"}},\"mode\":\"markers+text\",\"name\":\"Player\",\"showlegend\":false,\"text\":[\"Julian Hall\",\"Dylan Teves\",\"Serge Ngoma\",\"Randall Leal\",\"Aziel Jackson\",\"Evander\",\"Caden Clark\",\"Cedric Teuchert\",\"Riqui Puig\",\"Marino Hinestroza\",\"Jacen Russell-Rowe\",\"Djordje Mihailovic\",\"D\\u00e1niel Gazdag\",\"Ben Bender\",\"Gabriel Pirani\",\"Luciano Acosta\",\"Diego Rossi\",\"Cole Bassett\",\"Kwadwo Opoku\",\"Patrickson Delgado\",\"Thiago Almada\",\"Jes\\u00fas Ferreira\",\"Ben Cremaschi\",\"Jes\\u00fas Daniel Bueno\",\"Quinn Sullivan\",\"Marcel Hartel\",\"Jules-Anthony Vilsaint\",\"Stuart Armstrong\",\"Mat\\u00edas Rojas\",\"Emil Forsberg\",\"Hern\\u00e1n L\\u00f3pez Mu\\u00f1oz\",\"Cameron Harper\",\"Brian Guti\\u00e9rrez\",\"Wikelman Carmona\",\"Mart\\u00edn Ojeda\",\"Nikola Petkovi\\u0107\",\"Noel Buck\",\"Dominik Yankov\",\"Albert Rusn\\u00e1k\",\"Jack McGlynn\",\"McKinze Gaines\",\"Federico Redondo\",\"Alexandru M\\u0103\\u021ban\",\"Indiana Vassilev\",\"Andr\\u00e9s Perea\",\"Dennis Gjengaar\",\"Lawson Sunderland\",\"Aidan Morris\",\"Alejandro Bran\",\"Bryce Duke\",\"David Ru\\u00edz-Ochoa\",\"Diogo Gon\\u00e7alves\",\"Christian Ramirez\",\"Theodore Ku-Dipietro\",\"Aleksei Miranchuk\",\"Hosei Kijima\",\"Dylan Chambost\",\"Gerardo Valenzuela\",\"Nelson Palacio\",\"Robin Lod\",\"Hany Mukhtar\",\"Sebastian Berhalter\",\"Sebasti\\u00e1n Driussi\",\"Obed Vargas\",\"Ajani Fortune\",\"Nathan-Dylan Saliba\",\"Eryk Williamson\",\"Ralph Priso-Mbongue\",\"Eduard L\\u00f6wen\",\"David Ayala\",\"Timmy Tillman\",\"Braian Ojeda\",\"Daniel Pereira\",\"Hassani Dotson\",\"Tom\\u00e1\\u0161 Ostr\\u00e1k\",\"Matthew Longstaff\",\"Mathieu Choiniere\",\"Frankie Amaya\",\"Pedro Vite\",\"Niko Tsakiris\",\"Amine Bassi\",\"Alhassan Yusuf\",\"Leon Flach\",\"Eduard Atuesta\",\"Peter Stroud\",\"Erik Thommy\",\"Bernard Kamungo\",\"Jack Skahan\",\"Cavan Sullivan\",\"Dru Yearwood\",\"Pavel Bucha\",\"Alonso Coello\",\"Yannick Bright\",\"Stiven Jimenez\",\"Ervin Torres\",\"Isaiah Jones\",\"Alessandro Biello\",\"Cole Mrowka\",\"Christopher Olney\",\"Taha Habroune\",\"C\\u00e9sar Araujo\",\"Chris Durkin\",\"Jared Stroud\",\"Cyprian Kachwele\",\"Nolan Norris\",\"Anthony Ramirez\",\"Brooklyn Raines\",\"Njabulo Blom\",\"Sean Zawadzki\",\"Mohammed Sofo\",\"Jackson Hopkins\",\"Ronald Donkor\",\"Wayne Frederick\",\"Jake Girdwood-Reich\",\"Erik Duenas\",\"Omar Valencia\",\"Ali Ahmed\",\"Joshua Atencio\",\"Federico Navarro\",\"Oliver Larraz\",\"Marco Reus\",\"Tsiki Ntsabeleng\",\"Omari Glasgow\",\"Shakur Mohammed\",\"Danny Leyva\",\"Moses Nyeman\",\"Rida Zouhir\",\"Markus Anderson\",\"Daniel Edelman\",\"Javier Casas\",\"James Sands\",\"Lorenzo Insigne\",\"Memo Rodriguez\",\"Edwin Cerrillo\",\"Joaqu\\u00edn Pereyra\",\"Jonathan Perez\",\"Carle-Fred Sainte\",\"Malik Pinto\",\"Matti Peltola\",\"Jeorgio Kocevski\",\"Patrick Yazbek\",\"Kosi Thompson\",\"Antino Lopez\",\"Liam Fraser\",\"Carles Gil\",\"Cassius Mailula\",\"Jamar Ricketts\",\"Tomas Pondeca\",\"Andres Jasson\",\"Tucker Lepley\",\"Herbert Endeley\",\"Alonso Ram\\u00edrez\",\"Emeka Eneli\",\"Djibril Diani\",\"Derrick Etienne\",\"Connor Ronan\",\"Bartosz Slisz\",\"R\\u00e9mi Walter\",\"Danley Jean-Jacques\",\"Michael Baldisimo\",\"Luca Petrasso\",\"Boris Enow\",\"Jeremy Rafanello\",\"Isaiah Parente\",\"Noel Caliskan\",\"Cristhian Paredes\",\"Keaton Parks\",\"Lewis O'Brien\",\"Derrick Jones\",\"Brandt Bronico\",\"Anthony Markanich\",\"Daniel Aguirre\",\"Paxton Pomykal\",\"Show\",\"Brandon Servania\",\"Samuel Shashoua\",\"Mart\\u00edn Rodr\\u00edguez\",\"Dominique Badji\",\"Kellyn Acosta\",\"Jackson Yueill\",\"Pablo Ru\\u00edz\",\"Felipe Hernandez\",\"Tristan Muyumba\",\"Xherdan Shaqiri\",\"Sebastian Lletget\",\"Fabian Herbers\",\"Franco Fragapane\",\"Matt Crooks\",\"Deybi Flores\",\"Julian Gressel\",\"Marky Delgado\",\"Jasper L\\u00f6ffelsend\",\"Marvin Lor\\u00eda\",\"Mohanad Jeahze\",\"Maximiliano Moralez\",\"Andr\\u00e9s Cubas\",\"Obinna Nwobodo\",\"Artur\",\"Ian Harkes\",\"Jhojan Valencia\",\"Felipe Carballo\",\"Amar Sejdic\",\"Brian Anunga\",\"Cristian Roldan\",\"Alessandro Sch\\u00f6pf\",\"Samuel Piette\",\"Nemanja Radoja\",\"Nicol\\u00e1s Lodeiro\",\"Asier Illarramendi\",\"Emanuel Reynoso\",\"Russell Canouse\",\"Carlos Gruezo\",\"Jos\\u00e9 Andr\\u00e9s Mart\\u00ednez\",\"Jonathan Osorio\",\"Wilder Cartagena\",\"Alexander Ring\",\"Mark-Anthony Kaye\",\"Mateusz Klich\",\"An\\u00edbal Godoy\",\"Gast\\u00f3n Gim\\u00e9nez\",\"Ashley Westwood\",\"Alejandro Bedoya\",\"Matt Polster\",\"Wil Trapp\",\"Jean Mota\",\"Junior Moreno\",\"Sean Davis\",\"Gast\\u00f3n Brugman\",\"H\\u00e9ctor Herrera\",\"Scott Arfield\",\"Sergio Busquets\",\"Jo\\u00e3o Paulo Mior\",\"J\\u00fanior Urso\",\"Ilie S\\u00e1nchez\",\"Victor Wanyama\",\"Darlington Nagbe\",\"Felipe\",\"Alfredo Morales\",\"J\\u00e1n Gregu\\u0161\",\"Dax McCarty\",\"Diego Char\\u00e1\",\"Victor Enriquez\"],\"textposition\":\"top center\",\"x\":{\"dtype\":\"f8\",\"bdata\":\"QM9Tysz3A0CoNCV1dYnjv6g0JXV1ieO\\u002fcb90XQTuI0DYDKV7amQBQA==\"},\"xaxis\":\"x5\",\"y\":{\"dtype\":\"f8\",\"bdata\":\"7QfehSAhkj9PKFIb3jDVP08oUhveMNU\\u002fmBpLeruCYDsMVr8ncjmjPw==\"},\"yaxis\":\"y5\",\"type\":\"scatter\"},{\"line\":{\"color\":\"lightgrey\"},\"mode\":\"lines\",\"name\":\"Z-Curve\",\"showlegend\":false,\"x\":{\"dtype\":\"f8\",\"bdata\":\"AAAAAAAAEMBv\\u002fbv179YPwN76d+vfrQ\\u002fATfgz4c+ED8C89e\\u002fWv1sPwCvzq8yvMg\\u002fAmvBnwp8JD8AJ7iO4j+AOwHjr361\\u002ftw7A5+ibo2+ODsBW5leZX2UOwMXjE49PPA7ANOHPhD8TDsCj3ot6L+oNwBLcR3AfwQ3AgdkDZg+YDcDw1r9b\\u002f24NwF\\u002fUe1HvRQ3AztE3R98cDcA9z\\u002fM8z\\u002fMMwKzMrzK\\u002fygzAG8prKK+hDMCKxycen3gMwPnE4xOPTwzAaMKfCX8mDMDXv1v\\u002fbv0LwEa9F\\u002fVe1AvAtbrT6k6rC8AkuI\\u002fgPoILwJO1S9YuWQvAArMHzB4wC8BxsMPBDgcLwOCtf7f+3QrAT6s7re60CsC+qPei3osKwC2ms5jOYgrAnKNvjr45CsALoSuErhAKwHqe53me5wnA6Zujb46+CcBYmV9lfpUJwMeWG1tubAnANpTXUF5DCcClkZNGThoJwBSPTzw+8QjAg4wLMi7ICMDyiccnHp8IwGGHgx0OdgjA0IQ\\u002fE\\u002f5MCMA\\u002fgvsI7iMIwK5\\u002ft\\u002f7d+gfAHX1z9M3RB8CMei\\u002fqvagHwPt369+tfwfAanWn1Z1WB8DZcmPLjS0HwEhwH8F9BAfAt23btm3bBsAma5esXbIGwJVoU6JNiQbABGYPmD1gBsBzY8uNLTcGwOJgh4MdDgbAUV5DeQ3lBcDAW\\u002f9u\\u002fbsFwC9Zu2TtkgXAnlZ3Wt1pBcANVDNQzUAFwHxR70W9FwXA606rO63uBMBaTGcxncUEwMlJIyeNnATAOEffHH1zBMCnRJsSbUoEwBZCVwhdIQTAhT8T\\u002fkz4A8D0PM\\u002fzPM8DwGM6i+kspgPA0jdH3xx9A8BBNQPVDFQDwLAyv8r8KgPAHzB7wOwBA8COLTe23NgCwP0q86vMrwLAbCivobyGAsDbJWuXrF0CwEojJ42cNALAuSDjgowLAsAoHp94fOIBwJcbW25suQHABhkXZFyQAcB1FtNZTGcBwOQTj088PgHAUxFLRSwVAcDCDgc7HOwAwDEMwzAMwwDAoAl\\u002fJvyZAMAPBzsc7HAAwH4E9xHcRwDA7QGzB8weAMC4\\u002ft36d+v\\u002fv5b5VeZXmf+\\u002fdPTN0TdH\\u002f79S70W9F\\u002fX+vzDqvaj3ov6\\u002fDuU1lNdQ\\u002fr\\u002fs361\\u002ft\\u002f79v8raJWuXrP2\\u002fqNWdVnda\\u002fb+G0BVCVwj9v2TLjS03tvy\\u002fQsYFGRdk\\u002fL8gwX0E9xH8v\\u002f679e\\u002fWv\\u002fu\\u002f3LZt27Zt+7+6seXGlhv7v5isXbJ2yfq\\u002fdqfVnVZ3+r9Uok2JNiX6vzKdxXQW0\\u002fm\\u002fEJg9YPaA+b\\u002fukrVL1i75v8yNLTe23Pi\\u002fqoilIpaK+L+Igx0Odjj4v2Z+lflV5ve\\u002fRHkN5TWU978idIXQFUL3vwBv\\u002fbv17\\u002fa\\u002f3ml1p9Wd9r+8ZO2StUv2v5pfZX6V+fW\\u002feFrdaXWn9b9WVVVVVVX1vzRQzUA1A\\u002fW\\u002fEktFLBWx9L\\u002fwRb0X9V70v85ANQPVDPS\\u002frDut7rS687+KNiXalGjzv2gxncV0FvO\\u002fRiwVsVTE8r8kJ42cNHLyvwIiBYgUIPK\\u002f4Bx9c\\u002fTN8b++F\\u002fVe1Hvxv5wSbUq0KfG\\u002feg3lNZTX8L9YCF0hdIXwvzYD1QxUM\\u002fC\\u002fKPyZ8GfC77\\u002fk8YnHJx7vv6DneZ7nee6\\u002fXN1pdafV7b8Y01lMZzHtv9TISSMnjey\\u002fkL45+ubo679MtCnRpkTrvwiqGahmoOq\\u002fxJ8Jfyb86b+AlflV5lfpvzyL6Syms+i\\u002f+IDZA2YP6L+0dsnaJWvnv3BsubHlxua\\u002fLGKpiKUi5r\\u002foV5lfZX7lv6RNiTYl2uS\\u002fYEN5DeU15L8cOWnkpJHjv9guWbtk7eK\\u002flCRJkiRJ4r9QGjlp5KThvwwQKUCkAOG\\u002fyAUZF2Rc4L8I9xHcR3Dfv4Di8YnHJ96\\u002f+M3RN0ff3L9wubHlxpbbv+ikkZNGTtq\\u002fYJBxQcYF2b\\u002fYe1HvRb3Xv1BnMZ3FdNa\\u002fyFIRS0Us1b9APvH4xOPTv7gp0aZEm9K\\u002fMBWxVMRS0b+oAJECRArQv0DY4WCHg82\\u002fMK+hvIbyyr8ghmEYhmHIvxBdIXSF0MW\\u002fADThz4Q\\u002fw7\\u002fwCqErhK7Av8DDwQ4HO7y\\u002foHFBxgUZt7+AH8F9BPexv8CagWoGqqm\\u002fAO0BswfMnr8ASQEiBYiEvwBIASIFiIQ\\u002fAOwBswfMnj+AmoFqBqqpP4AfwX0E97E\\u002fgHFBxgUZtz+Aw8EOBzu8P+AKoSuErsA\\u002fADThz4Q\\u002fwz8AXSF0hdDFPwCGYRiGYcg\\u002fIK+hvIbyyj9A2OFgh4PNP6AAkQJECtA\\u002fIBWxVMRS0T+wKdGmRJvSP0A+8fjE49M\\u002fwFIRS0Us1T9AZzGdxXTWP9B7Ue9Fvdc\\u002fYJBxQcYF2T\\u002fgpJGTRk7aP2C5seXGlts\\u002f8M3RN0ff3D+A4vGJxyfePwD3EdxHcN8\\u002fwAUZF2Rc4D8IEClApADhP1AaOWnkpOE\\u002fkCRJkiRJ4j\\u002fQLlm7ZO3iPxg5aeSkkeM\\u002fYEN5DeU15D+gTYk2JdrkP+BXmV9lfuU\\u002fKGKpiKUi5j9wbLmx5cbmP7B2ydola+c\\u002f8IDZA2YP6D84i+ksprPoP4CV+VXmV+k\\u002fwJ8Jfyb86T8AqhmoZqDqP0i0KdGmROs\\u002fkL45+ubo6z\\u002fQyEkjJ43sPxDTWUxnMe0\\u002fWN1pdafV7T+g53me53nuP+DxiccnHu8\\u002fIPyZ8GfC7z80A9UMVDPwP1gIXSF0hfA\\u002feA3lNZTX8D+YEm1KtCnxP7wX9V7Ue\\u002fE\\u002f4Bx9c\\u002fTN8T8AIgWIFCDyPyAnjZw0cvI\\u002fRCwVsVTE8j9oMZ3FdBbzP4g2JdqUaPM\\u002fqDut7rS68z\\u002fMQDUD1Qz0P\\u002fBFvRf1XvQ\\u002fEEtFLBWx9D8wUM1ANQP1P1RVVVVVVfU\\u002feFrdaXWn9T+YX2V+lfn1P7hk7ZK1S\\u002fY\\u002f3Gl1p9Wd9j8Ab\\u002f279e\\u002f2PyB0hdAVQvc\\u002fQHkN5TWU9z9kfpX5Veb3P4iDHQ52OPg\\u002fqIilIpaK+D\\u002fIjS03ttz4P+yStUvWLvk\\u002fEJg9YPaA+T8wncV0FtP5P1CiTYk2Jfo\\u002fdKfVnVZ3+j+YrF2ydsn6P7ix5caWG\\u002fs\\u002f2LZt27Zt+z\\u002f8u\\u002fXv1r\\u002f7PyDBfQT3Efw\\u002fQMYFGRdk\\u002fD9gy40tN7b8P4TQFUJXCP0\\u002fqNWdVnda\\u002fT\\u002fI2iVrl6z9P+jfrX+3\\u002fv0\\u002fDOU1lNdQ\\u002fj8w6r2o96L+P1DvRb0X9f4\\u002fcPTN0TdH\\u002fz+U+VXmV5n\\u002fP7j+3fp36\\u002f8\\u002f7AGzB8weAEB8BPcR3EcAQA4HOxzscABAoAl\\u002fJvyZAEAwDMMwDMMAQMAOBzsc7ABAUhFLRSwVAUDkE49PPD4BQHQW01lMZwFABBkXZFyQAUCWG1tubLkBQCgen3h84gFAuCDjgowLAkBIIyeNnDQCQNola5esXQJAbCivobyGAkD8KvOrzK8CQIwtN7bc2AJAHjB7wOwBA0CwMr\\u002fK\\u002fCoDQEA1A9UMVANA0DdH3xx9A0BiOovpLKYDQPQ8z\\u002fM8zwNAhD8T\\u002fkz4A0AUQlcIXSEEQKZEmxJtSgRAOEffHH1zBEDISSMnjZwEQFhMZzGdxQRA6k6rO63uBEB8Ue9FvRcFQAxUM1DNQAVAnFZ3Wt1pBUAuWbtk7ZIFQMBb\\u002f279uwVAUF5DeQ3lBUDgYIeDHQ4GQHJjy40tNwZABGYPmD1gBkCUaFOiTYkGQCRrl6xdsgZAtm3btm3bBkBIcB\\u002fBfQQHQNhyY8uNLQdAaHWn1Z1WB0D6d+vfrX8HQIx6L+q9qAdAHH1z9M3RB0Csf7f+3foHQD6C+wjuIwhA0IQ\\u002fE\\u002f5MCEBgh4MdDnYIQPCJxycenwhAgowLMi7ICEAUj088PvEIQKSRk0ZOGglANJTXUF5DCUDGlhtbbmwJQFiZX2V+lQlA6Jujb46+CUB4nud5nucJQAqhK4SuEApAnKNvjr45CkAsprOYzmIKQLyo96LeiwpATqs7re60CkDgrX+3\\u002ft0KQHCww8EOBwtAALMHzB4wC0CStUvWLlkLQCS4j+A+ggtAtLrT6k6rC0BEvRf1XtQLQNa\\u002fW\\u002f9u\\u002fQtAaMKfCX8mDED4xOMTj08MQIjHJx6feAxAGsprKK+hDECszK8yv8oMQDzP8zzP8wxAzNE3R98cDUBe1HtR70UNQPDWv1v\\u002fbg1AgNkDZg+YDUAQ3EdwH8ENQKLei3ov6g1ANOHPhD8TDkDE4xOPTzwOQFTmV5lfZQ5A5uibo2+ODkB469+tf7cOQAjuI7iP4A5AmPBnwp8JD0Aq86vMrzIPQLz179a\\u002fWw9ATPgz4c+ED0Dc+nfr360PQG79u\\u002fXv1g9AAAAAAAAAEEA=\"},\"xaxis\":\"x6\",\"y\":{\"dtype\":\"f8\",\"bdata\":\"tbTA4piKIT\\u002fVpf16mgAjP3FZkSukkyQ\\u002f6U48VsdFJj\\u002fiwpAcNxkoPwUMvTZKECo\\u002fCqH63XwtLD8rAQPLcnMuPz9VcqR8cjA\\u002fai5FroTCMT8yB58AZSszPzyVMz3JrjQ\\u002f1nFcXXZONj+xxnzwSww4P2KBP2VF6jk\\u002f5Q23XXvqOz8RAV4OJQ8+P57299NMLUA\\u002fsGkE5qhnQT8QHTiG9LdCP7l1dbqPH0Q\\u002ff9Wxj+2fRT+N8RfplDpHPz6kFFQh8Ug\\u002f12Yk4UPFSj+R9zABxLhMP6axR2eAzU4\\u002fEuY097eCUD9jBphBUbFRP1rCeQih81I\\u002fzlASuclKVD9to7ix+7dVP8zdqLx1PFc\\u002fL4fFi4XZWD9xDBY1iJBaP65NwK\\u002fqYlw\\u002fr\\u002fk1USpSXj82siSl6i9gP1Us7JHFRmE\\u002fnxBbnX5uYj\\u002fEWDyd96djP6q4Y8sb9GQ\\u002f+WFiAeBTZj8V9xLzQshnP+3Gw2dNUmk\\u002fwLLDcRLzaj\\u002fLbROkr6tsP+Ab+kVNfW4\\u002fsdocQo80cD8Bg87PMDhxPyFOSwwwSnI\\u002fF8vSazdrcz\\u002ffchkp95t0P365y1Ul3XU\\u002fr7b86H0vdz8hl1bLwpN4Pywj4uC7Cno\\u002fxto5EDeVez9UcfxGCDR9P9zZUXsJ6H4\\u002fIMsqVQ1ZgD\\u002feTpzpkEmBP4x4dncFRoI\\u002fjmwW8uNOgz9Y69c7qGSEP26\\u002fLxzRh4U\\u002fsGyvM+C4hj8ssNvtWfiHP466v3DFRok\\u002fx4Eniqykij+\\u002fEWyamxKMP1JovXwhkY0\\u002fACjWbM8gjz8uIwN1HGGQP2Vowcv5OpE\\u002f6vn0jEsekj\\u002fDz\\u002fV4XguTP103BCqAApQ\\u002fzu+s\\u002fv4DlT83OawCKhCWPzLzStZQJ5c\\u002fXMcxlMNJmD\\u002ffS6+10neZPxMIb\\u002fXOsZo\\u002fElGgMAn4mz+QDo1G0kqdP7+fofZ6qp4\\u002fpyZ03qkLoD9\\u002f+31W1sigP5x8u6XqjKE\\u002fNlDyMg5Yoj\\u002fgcZ70ZyqjP0HHeVseBKQ\\u002fbbtSPFflpD9l7ze5N86lPzTR\\u002fynkvqY\\u002fBrEzBIC3pz+ys2bCLbioP9DLAcsOwak\\u002fda2OVkPSqj+6e4xV6uurP6652VUhDq0\\u002fFNK\\u002fZwQ5rj9BUK0CrmyvP81U1nSbVLA\\u002f1RvTB1v3sD+wX749oJ6xP4xMCpZ0SrI\\u002f1h4rfuD6sj89055D66+zP7pHBAababQ\\u002foCFLqfQntT+8EwbI++q1P61h6aWysrY\\u002fZLl\\u002fIhp\\u002ftz\\u002fVsR+sMVC4P65sLDP3Jbk\\u002fBAGsHWcAuj9gdT47fN+6PwsogLkvw7s\\u002f6JTiGHmrvD+9bwYiTpi9P9wIotuiib4\\u002fV+f+gGl\\u002fvz8vuIw8yTzAP9GqNicGvMA\\u002foq6802E9wT\\u002f7cQKg0cDBP1afmPFJRsI\\u002fUG0wM77Nwj861X7SIFfDPwMKlD5j4sM\\u002f3Jar5nVvxD8gVXk5SP7EP1As96TIjsU\\u002fFE23luQgxj+OUb58iLTGP71h6MafScc\\u002fqSrc6BTgxz9SIo5c0XfIP785VqW9EMk\\u002fY8GZU8GqyT+N4woJw0XKPy+0fn2o4co\\u002fym1ahFZ+yz+3CJgSsRvMP\\u002ffsYUWbucw\\u002f\\u002fA5FafdXzT+RVvgBp\\u002fbNP9K7t9KKlc4\\u002f+REx54I0zz+UAgCdbtPPPxQj21YWOdA\\u002fAVm2nE2I0D\\u002fWnuzoS9fQPzrX8sL\\u002fJdE\\u002fVBLhdld00T94KrcbQcLRP8nk2ZmqD9I\\u002fgY3FsYFc0j8h0\\u002fICtKjSP\\u002fBw6hIv9NI\\u002fcAiEVOA+0z\\u002fqWkwvtYjTP+XnDgeb0dM\\u002f5ct+Q38Z1D\\u002f7k\\u002fpXT2DUP+OWZsv4pdQ\\u002fx0MZQGnq1D9oudR7ji3VP6LeyG9Wb9U\\u002f6B6ZQK+v1T\\u002fj2mBOh+7VP7qOsTzNK9Y\\u002f2aSF+m9n1j9T5SLKXqHWP41v50iJ2dY\\u002fdi38dt8P1z9dtee+UUTXP5qZ\\u002fPzQdtc\\u002fgTOehk6n1z+UCVcxvNXXP8MHvFkMAtg\\u002fNdsX6jEs2D824tlgIFTYP71DxNbLedg\\u002f6OjUBCmd2D9uPeVJLb7YP2PK\\u002fK\\u002fO3Ng\\u002fYfBS8QP52D+TO\\u002fx8xBLZP0YEQHsIKtk\\u002fMkqT0cg+2T+49jUm\\u002f1DZPy\\u002fzb+OlYNk\\u002fXsNrOrht2T+TmawlMnjZP8ogHmsQgNk\\u002fMoK8nVCF2T9LddMe8YfZP0t10x7xh9k\\u002fMoK8nVCF2T\\u002fKIB5rEIDZP5OZrCUyeNk\\u002fXsNrOrht2T8w82\\u002fjpWDZP7n2NSb\\u002fUNk\\u002fMkqT0cg+2T9HBEB7CCrZP5Q7\\u002fHzEEtk\\u002fYvBS8QP52D9jyvyvztzYP2895Uktvtg\\u002f6ejUBCmd2D++Q8TWy3nYPzbi2WAgVNg\\u002fNtsX6jEs2D\\u002fFB7xZDALYP5UJVzG81dc\\u002fgTOehk6n1z+cmfz80HbXP1+1575RRNc\\u002feC38dt8P1z+Nb+dIidnWP1XlIspeodY\\u002f3aSF+m9n1j+8jrE8zSvWP+PaYE6H7tU\\u002f6h6ZQK+v1T+l3shvVm\\u002fVP2m51HuOLdU\\u002fx0MZQGnq1D\\u002fmlmbL+KXUP\\u002f+T+ldPYNQ\\u002f58t+Q38Z1D\\u002fl5w4Hm9HTP+1aTC+1iNM\\u002fdAiEVOA+0z\\u002fxcOoSL\\u002fTSPyHT8gK0qNI\\u002fgo3FsYFc0j\\u002fN5NmZqg\\u002fSP3oqtxtBwtE\\u002fVBLhdld00T881\\u002fLC\\u002fyXRP9qe7OhL19A\\u002fA1m2nE2I0D8UI9tWFjnQP5kCAJ1u088\\u002fARIx54I0zz\\u002fVu7fSipXOP5FW+AGn9s0\\u002fAQ9FafdXzT\\u002f\\u002f7GFFm7nMP7oImBKxG8w\\u002fym1ahFZ+yz80tH59qOHKP5XjCgnDRco\\u002fZsGZU8GqyT+\\u002fOValvRDJP1YijlzRd8g\\u002fsSrc6BTgxz\\u002fBYejGn0nHP45RvnyItMY\\u002fGE23luQgxj9XLPekyI7FPyRVeTlI\\u002fsQ\\u002f3Jar5nVvxD8HCpQ+Y+LDP0HVftIgV8M\\u002fVG0wM77Nwj9Wn5jxSUbCP\\u002f5xAqDRwME\\u002fqK6802E9wT\\u002fUqjYnBrzAPy+4jDzJPMA\\u002fXuf+gGl\\u002fvz\\u002fpCKLboom+P8NvBiJOmL0\\u002f6JTiGHmrvD8SKIC5L8O7P2x1Pjt837o\\u002fCAGsHWcAuj+ubCwz9yW5P9qxH6wxULg\\u002fbrl\\u002fIhp\\u002ftz+zYemlsrK2P7wTBsj76rU\\u002fpCFLqfQntT\\u002fDRwQGm2m0P0HTnkPrr7M\\u002f1h4rfuD6sj+QTAqWdEqyP7hfvj2gnrE\\u002f2RvTB1v3sD\\u002fNVNZ0m1SwP0dQrQKubK8\\u002fI9K\\u002fZwQ5rj+2udlVIQ6tP7p7jFXq66s\\u002fe62OVkPSqj\\u002fdywHLDsGpP7izZsItuKg\\u002fBrEzBIC3pz850f8p5L6mP3DvN7k3zqU\\u002fcrtSPFflpD9Bx3lbHgSkP+VxnvRnKqM\\u002fQFDyMg5Yoj+hfLul6oyhP3\\u002f7fVbWyKA\\u002friZ03qkLoD\\u002fPn6H2eqqeP5cOjUbSSp0\\u002fElGgMAn4mz8ZCG\\u002f1zrGaP+9Lr7XSd5k\\u002fYccxlMNJmD8y80rWUCeXPzw5rAIqEJY\\u002f2++s\\u002fv4DlT9hNwQqgAKUP8PP9XheC5M\\u002f7\\u002fn0jEsekj9waMHL+TqRPzMjA3UcYZA\\u002fACjWbM8gjz9eaL18IZGNP9ARbJqbEow\\u002fz4Eniqykij+Our9wxUaJPzWw2+1Z+Ic\\u002fwWyvM+C4hj90vy8c0YeFP1jr1zuoZIQ\\u002flWwW8uNOgz+YeHZ3BUaCP+ROnOmQSYE\\u002fIMsqVQ1ZgD\\u002fi2VF7Ceh+P2tx\\u002fEYINH0\\u002fzto5EDeVez8sI+Lguwp6PyiXVsvCk3g\\u002fwbb86H0vdz+DuctVJd11P99yGSn3m3Q\\u002fHMvSazdrcz8vTksMMEpyPwWDzs8wOHE\\u002fsdocQo80cD\\u002foG\\u002fpFTX1uP+BtE6Svq2w\\u002fyLLDcRLzaj\\u002ftxsNnTVJpPyH3EvNCyGc\\u002fCmJiAeBTZj+0uGPLG\\u002fRkP8RYPJ33p2M\\u002fqRBbnX5uYj9iLOyRxUZhPzqyJKXqL2A\\u002fr\\u002fk1USpSXj+8TcCv6mJcP4YMFjWIkFo\\u002fPIfFi4XZWD\\u002fM3ai8dTxXP3OjuLH7t1U\\u002f4lASuclKVD9jwnkIofNSP2MGmEFRsVE\\u002fFuY097eCUD\\u002fGsUdngM1OP5\\u002f3MAHEuEw\\u002f12Yk4UPFSj9EpBRUIfFIP6TxF+mUOkc\\u002fitWxj+2fRT+5dXW6jx9EPxkdOIb0t0I\\u002fwWkE5qhnQT+m9vfTTC1APxEBXg4lDz4\\u002f8w23XXvqOz91gT9lReo5P73GfPBLDDg\\u002f1nFcXXZONj9AlTM9ya40P0UHnwBlKzM\\u002fci5FroTCMT8\\u002fVXKkfHIwPzkBA8tycy4\\u002fJ6H63XwtLD8SDL02ShAqP+LCkBw3GSg\\u002f9E48VsdFJj+FWZErpJMkP9+l\\u002fXqaACM\\u002ftbTA4piKIT8=\"},\"yaxis\":\"y6\",\"type\":\"scatter\"},{\"marker\":{\"color\":{\"dtype\":\"f8\",\"bdata\":\"pp58EOKV7z81IsZWi+rqP2h\\u002fYzDT5e4\\u002fwyUMRmqk4j\\u002fJeYpafS\\u002fsP72i1fXUZOc\\u002f1ALrxsXr7T\\u002fDJQxGaqTiPyj5rjUUU+k\\u002fOGatcNQr7T84Zq1w1CvtP72i1fXUZOc\\u002fwyUMRmqk4j\\u002fJeYpafS\\u002fsPzhmrXDUK+0\\u002ferTncyu32j+9otX11GTnP8l5ilp9L+w\\u002fyXmKWn0v7D\\u002fUAuvGxevtP8l5ilp9L+w\\u002fNSLGVovq6j9of2Mw0+XuPyj5rjUUU+k\\u002fvfo2vHx77j8AAAAAAADgPzhmrXDUK+0\\u002fhrpUFFY20T8AAAAAAADgP2AbRCmvs8o\\u002fNSLGVovq6j\\u002fJeYpafS\\u002fsP9QC68bF6+0\\u002f1ALrxsXr7T+9otX11GTnP9QC68bF6+0\\u002faH9jMNPl7j81IsZWi+rqP3q053Mrt9o\\u002f1ALrxsXr7T+9otX11GTnPzhmrXDUK+0\\u002fKPmuNRRT6T\\u002fJeYpafS\\u002fsPzUixlaL6uo\\u002fvfo2vHx77j\\u002fJeYpafS\\u002fsP8l5ilp9L+w\\u002fyXmKWn0v7D\\u002fJeYpafS\\u002fsP736Nrx8e+4\\u002fASJPiuok5T9gG0Qpr7PKP8l5ilp9L+w\\u002fAAAAAAAA4D84Zq1w1CvtPwEiT4rqJOU\\u002fvfo2vHx77j\\u002fJeYpafS\\u002fsP\\u002f+7YesqttU\\u002fAAAAAAAA4D\\u002fJeYpafS\\u002fsP8MlDEZqpOI\\u002faH9jMNPl7j84Zq1w1CvtP736Nrx8e+4\\u002fASJPiuok5T84Zq1w1CvtP8MlDEZqpOI\\u002fOGatcNQr7T+9otX11GTnPzUixlaL6uo\\u002fNSLGVovq6j8BIk+K6iTlPzUixlaL6uo\\u002fNSLGVovq6j8o+a41FFPpPzUixlaL6uo\\u002fOGatcNQr7T9of2Mw0+XuPwEiT4rqJOU\\u002fNSLGVovq6j\\u002fJeYpafS\\u002fsPwEiT4rqJOU\\u002fOGatcNQr7T96tOdzK7faP8l5ilp9L+w\\u002fvaLV9dRk5z++BmkEr7PvPzUixlaL6uo\\u002fvaLV9dRk5z8o+a41FFPpP8l5ilp9L+w\\u002f6uENL6hs7z\\u002fq4Q0vqGzvPyS7VbDRM+8\\u002fJLtVsNEz7z8ku1Ww0TPvPyS7VbDRM+8\\u002fJLtVsNEz7z\\u002fJeYpafS\\u002fsPzUixlaL6uo\\u002fwyUMRmqk4j9of2Mw0+XuP2h\\u002fYzDT5e4\\u002faH9jMNPl7j9of2Mw0+XuPyj5rjUUU+k\\u002fNSLGVovq6j+9+ja8fHvuP736Nrx8e+4\\u002fvfo2vHx77j+9+ja8fHvuP736Nrx8e+4\\u002fvfo2vHx77j+9+ja8fHvuPzUixlaL6uo\\u002fyXmKWn0v7D81IsZWi+rqP8l5ilp9L+w\\u002frjGsKxWEvj+9otX11GTnP9QC68bF6+0\\u002f1ALrxsXr7T\\u002fUAuvGxevtP9QC68bF6+0\\u002f1ALrxsXr7T\\u002fUAuvGxevtP9QC68bF6+0\\u002f1ALrxsXr7T81IsZWi+rqP2AbRCmvs8o\\u002fAAAAAAAA4D81IsZWi+rqP72i1fXUZOc\\u002fOGatcNQr7T84Zq1w1CvtPzhmrXDUK+0\\u002fOGatcNQr7T84Zq1w1CvtPzhmrXDUK+0\\u002fOGatcNQr7T84Zq1w1CvtP72i1fXUZOc\\u002fhrpUFFY20T\\u002fJeYpafS\\u002fsP8l5ilp9L+w\\u002fyXmKWn0v7D\\u002fJeYpafS\\u002fsP8l5ilp9L+w\\u002fyXmKWn0v7D\\u002fJeYpafS\\u002fsPyj5rjUUU+k\\u002fvaLV9dRk5z\\u002fDJQxGaqTiP72i1fXUZOc\\u002fKPmuNRRT6T8AAAAAAADgPzUixlaL6uo\\u002fNSLGVovq6j81IsZWi+rqPzUixlaL6uo\\u002fNSLGVovq6j81IsZWi+rqPzUixlaL6uo\\u002fvaLV9dRk5z8BIk+K6iTlP72i1fXUZOc\\u002fASJPiuok5T8AAAAAAADgPyj5rjUUU+k\\u002fKPmuNRRT6T8o+a41FFPpPyj5rjUUU+k\\u002fKPmuNRRT6T8o+a41FFPpP3q053Mrt9o\\u002fhrpUFFY20T8AAAAAAADgPwEiT4rqJOU\\u002fvaLV9dRk5z+9otX11GTnPwEiT4rqJOU\\u002fYBtEKa+zyj+GulQUVjbRP\\u002f+7YesqttU\\u002f\\u002f7th6yq21T\\u002f\\u002fu2HrKrbVP8MlDEZqpOI\\u002f\\u002f7th6yq21T8AAAAAAADgPwEiT4rqJOU\\u002fASJPiuok5T8BIk+K6iTlP2Tpp8jRobA\\u002fwyUMRmqk4j\\u002fDJQxGaqTiP8MlDEZqpOI\\u002fAAAAAAAA4D\\u002fDJQxGaqTiP8MlDEZqpOI\\u002fwyUMRmqk4j\\u002fDJQxGaqTiPwAAAAAAAOA\\u002ferTncyu32j96tOdzK7faP\\u002f+7YesqttU\\u002frjGsKxWEvj8ud+ek0lXEPwAAAAAAAOA\\u002fAAAAAAAA4D8AAAAAAADgP3q053Mrt9o\\u002fhrpUFFY20T96tOdzK7faP2AbRCmvs8o\\u002ferTncyu32j8ud+ek0lXEPy5356TSVcQ\\u002fYBtEKa+zyj8ud+ek0lXEP2Tpp8jRobA\\u002f\\u002f7th6yq21T+GulQUVjbRP\\u002f+7YesqttU\\u002f\\u002f7th6yq21T\\u002f\\u002fu2HrKrbVP4a6VBRWNtE\\u002fLnfnpNJVxD9GzpR6XKG2P0bOlHpcobY\\u002fYBtEKa+zyj+uMawrFYS+Py5356TSVcQ\\u002fYBtEKa+zyj8ud+ek0lXEPy5356TSVcQ\\u002fLnfnpNJVxD8ud+ek0lXEP2Tpp8jRobA\\u002fRVSQPDRIqD8AAAAAAAD4fw==\"},\"showscale\":true,\"size\":{\"dtype\":\"f8\",\"bdata\":\"AAAAAAAA8D+rjbG\\u002fNBjnP6SBo7JRkeE\\u002fSS7tZcB45T8PIiyFJSvhP2Fu9u6vseI\\u002fO0rWEOSc3j8qYHOX1\\u002fviP+CVAUPPM9w\\u002fzsO7kHNK1z99gXsa9dnVPw\\u002fdEIhWcto\\u002fxpln5IyX3T+5OiT3mTDVP1zmG1JU8dM\\u002fr2SMGgWd4D9ncuu\\u002f\\u002fCfYP\\u002ff6i3Ss5tM\\u002fUYnka+qd0z+ZYsu8h6\\u002fRPzg7Xx5HK9M\\u002ftLf\\u002fh3os1D++kfjQxjHQP3nYnYtju9M\\u002fJKI5Eb6Lzj82SB5TJq\\u002fbP74mWZqnOM0\\u002fgHRJrdQO4D9+uG\\u002fBQYnZP6WydkR5nuA\\u002fy\\u002fCZoMCOzz\\u002f+DG9FTPjMP707Gflf4ck\\u002fvOdZgpCeyT\\u002fHF\\u002fCRyCrSPzqfWPBEhMg\\u002fNecCf9PTxj8DD5Uri0zNP8tdEShN0tk\\u002fOmE5teb7xj+Tkkxu5EbQPymc3inW7cU\\u002ffZmgeLlszD8grZS9UzTGP9raI++OzMc\\u002fSwPOq8efwT+PEiBCWerEP\\u002fv7dJJtPsM\\u002f5UDyssEewz\\u002fQj34dxAbDPxnlq+5xCb4\\u002f3st6lZ7lzT8B1TS8QEDbP7GVYVHie8E\\u002fk9x0p4Mv0z94Gf4NckW\\u002fP0OJSgVUQM0\\u002f3T9\\u002fPjB8uT+Ge+5D7HnAP0H6L18kDNc\\u002fWjls4RqZ0j8hU+k6k5q+P178uPRd3c4\\u002fbC1wBMw3sz\\u002fQ4kxyW++4P0a3ysP9sq0\\u002fnc6cGaj0xj+nfnEgx9qwP24uTBVgeMo\\u002fbyDzRmOzsD9aEfUtkSjCP9PfcnMCO7g\\u002fN+tWlQr5tz+XomK4x9vFP\\u002feXCcyQ3bc\\u002f4b\\u002fl8UsWtj9NyskEhFy7P6z4nm12RLQ\\u002ftdC6sTRJqD9JjnCdjP+VP16e8NWcTMM\\u002f4uccXwgasj\\u002f4AL\\u002fWV5KqP0ErAa0EtMI\\u002fAUqrX5Qhoz9uN2BsurnPPxO\\u002fpm05cqg\\u002fA8sH0PyBvD8AAAAAAAAAAHiom4PALrA\\u002f1CmkNEkfvD93Irbz+Ey1P0S3sbKH76Y\\u002fAAAAAAAAAAAAAAAAAAAAAAAAAAAAAAAAAAAAAAAAAAAAAAAAAAAAAAAAAAAAAAAAAAAAAAAAAACQNTksSkekP2ib9ms616w\\u002flVv+eN4zxT8AAAAAAAAAAAAAAAAAAAAAAAAAAAAAAAAAAAAAAAAAAC\\u002fg2hjgv7I\\u002fpXZN768mqj8AAAAAAAAAAAAAAAAAAAAAAAAAAAAAAAAAAAAAAAAAAAAAAAAAAAAAAAAAAAAAAAAAAAAAAAAAAMZQ31NIXKg\\u002f2jsOroA1nj9OxkaLtsenPzXUH2mV7J0\\u002ff4KylybC1j8Yomt6lJi2PwAAAAAAAAAAAAAAAAAAAAAAAAAAAAAAAAAAAAAAAAAAAAAAAAAAAAAAAAAAAAAAAAAAAAAAAAAAAAAAAAAAAAC+s+5S7jCjP12SSLFhoNM\\u002fTidA7Netxj9KwXLpZZefP7Dj3n4U1rM\\u002fAAAAAAAAAAAAAAAAAAAAAAAAAAAAAAAAAAAAAAAAAAAAAAAAAAAAAAAAAAAAAAAAAAAAAAAAAAAAAAAAAAAAAMrtx0OfyrE\\u002fFSR64s\\u002f80D8AAAAAAAAAAAAAAAAAAAAAAAAAAAAAAAAAAAAAAAAAAAAAAAAAAAAAAAAAAAAAAAAAAAAAAAAAAEPwv3vZYKI\\u002fyTliRQeIqz\\u002fXQ1HGQuq9Py0acxfwGqs\\u002flnQeU6ttmz9s8YEXTT3DPwAAAAAAAAAAAAAAAAAAAAAAAAAAAAAAAAAAAAAAAAAAAAAAAAAAAAAAAAAAAAAAAAAAAAAAAAAAqlKK1Mnrpz\\u002fK0eOg\\u002fpSzP8FLDfRkmKQ\\u002fHn6lgN7ssD8ZbZIJmGHAPwAAAAAAAAAAAAAAAAAAAAAAAAAAAAAAAAAAAAAAAAAAAAAAAAAAAAAAAAAAAAAAAMiPjOgNgcM\\u002fTez\\u002fOEh\\u002fyz8kptTPgXG8P72MTl1O\\u002f6M\\u002fAAAAAAAAAAAAAAAAAAAAANHmjyqaiZ4\\u002fN7oBX2mjyz9EgJw7RAjIP7Um44oCCcQ\\u002fKuVxte6hwz\\u002f5Naj2rofDP9D8hdffeKc\\u002f7JkyvAkKwz+bo\\u002f1Wc8OzPwAAAAAAAAAAAAAAAAAAAAAAAAAAAAAAAPbR\\u002fKywhs8\\u002fvLnFukK5kD\\u002fYBVeELUyKPykt3Ll4QoU\\u002fcSlwgjR6pD8AAAAAAAAAAAAAAAAAAAAAAAAAAAAAAAAAAAAAAAAAAALoif12RaE\\u002fgZAz3w5NqT+dzpwZqPSmP\\u002fH677ciHrM\\u002fRJmHBrFexT\\u002f61I+tgMPCPwAAAAAAAAAAAAAAAAAAAAAAAAAAAAAAAPt+kW7syJ8\\u002fy38fTM0atj\\u002fj1iPP\\u002fHaNP0EmxCaeG7k\\u002fAAAAAAAAAADs8roDXn+7P73IoXEYQbs\\u002fwIrn97ZIsz8kpeJeGaq4P3Qr+U6W2cA\\u002fa1IoWjuFiD8r8gQvIlulPwAAAAAAAAAAAAAAAAAAAAAAAAAAAAAAAIKBzN+VOps\\u002f4dvD9qhXrj\\u002f8qQufnTC1PztLQrHJnrM\\u002f1xD5Au5OmT8XXaJj2RKwP55vRGckvqY\\u002fAAAAAAAAAADosJ7c1YSLPwAAAAAAAAAAAAAAAAAAAAAAAAAAAAAAAAAAAAAAAAAAAAAAAAAAAAAAAAAAAAAAAA==\"}},\"mode\":\"markers+text\",\"name\":\"Player\",\"showlegend\":false,\"text\":[\"Julian Hall\",\"Dylan Teves\",\"Serge Ngoma\",\"Randall Leal\",\"Aziel Jackson\",\"Evander\",\"Caden Clark\",\"Cedric Teuchert\",\"Riqui Puig\",\"Marino Hinestroza\",\"Jacen Russell-Rowe\",\"Djordje Mihailovic\",\"D\\u00e1niel Gazdag\",\"Ben Bender\",\"Gabriel Pirani\",\"Luciano Acosta\",\"Diego Rossi\",\"Cole Bassett\",\"Kwadwo Opoku\",\"Patrickson Delgado\",\"Thiago Almada\",\"Jes\\u00fas Ferreira\",\"Ben Cremaschi\",\"Jes\\u00fas Daniel Bueno\",\"Quinn Sullivan\",\"Marcel Hartel\",\"Jules-Anthony Vilsaint\",\"Stuart Armstrong\",\"Mat\\u00edas Rojas\",\"Emil Forsberg\",\"Hern\\u00e1n L\\u00f3pez Mu\\u00f1oz\",\"Cameron Harper\",\"Brian Guti\\u00e9rrez\",\"Wikelman Carmona\",\"Mart\\u00edn Ojeda\",\"Nikola Petkovi\\u0107\",\"Noel Buck\",\"Dominik Yankov\",\"Albert Rusn\\u00e1k\",\"Jack McGlynn\",\"McKinze Gaines\",\"Federico Redondo\",\"Alexandru M\\u0103\\u021ban\",\"Indiana Vassilev\",\"Andr\\u00e9s Perea\",\"Dennis Gjengaar\",\"Lawson Sunderland\",\"Aidan Morris\",\"Alejandro Bran\",\"Bryce Duke\",\"David Ru\\u00edz-Ochoa\",\"Diogo Gon\\u00e7alves\",\"Christian Ramirez\",\"Theodore Ku-Dipietro\",\"Aleksei Miranchuk\",\"Hosei Kijima\",\"Dylan Chambost\",\"Gerardo Valenzuela\",\"Nelson Palacio\",\"Robin Lod\",\"Hany Mukhtar\",\"Sebastian Berhalter\",\"Sebasti\\u00e1n Driussi\",\"Obed Vargas\",\"Ajani Fortune\",\"Nathan-Dylan Saliba\",\"Eryk Williamson\",\"Ralph Priso-Mbongue\",\"Eduard L\\u00f6wen\",\"David Ayala\",\"Timmy Tillman\",\"Braian Ojeda\",\"Daniel Pereira\",\"Hassani Dotson\",\"Tom\\u00e1\\u0161 Ostr\\u00e1k\",\"Matthew Longstaff\",\"Mathieu Choiniere\",\"Frankie Amaya\",\"Pedro Vite\",\"Niko Tsakiris\",\"Amine Bassi\",\"Alhassan Yusuf\",\"Leon Flach\",\"Eduard Atuesta\",\"Peter Stroud\",\"Erik Thommy\",\"Bernard Kamungo\",\"Jack Skahan\",\"Cavan Sullivan\",\"Dru Yearwood\",\"Pavel Bucha\",\"Alonso Coello\",\"Yannick Bright\",\"Stiven Jimenez\",\"Ervin Torres\",\"Isaiah Jones\",\"Alessandro Biello\",\"Cole Mrowka\",\"Christopher Olney\",\"Taha Habroune\",\"C\\u00e9sar Araujo\",\"Chris Durkin\",\"Jared Stroud\",\"Cyprian Kachwele\",\"Nolan Norris\",\"Anthony Ramirez\",\"Brooklyn Raines\",\"Njabulo Blom\",\"Sean Zawadzki\",\"Mohammed Sofo\",\"Jackson Hopkins\",\"Ronald Donkor\",\"Wayne Frederick\",\"Jake Girdwood-Reich\",\"Erik Duenas\",\"Omar Valencia\",\"Ali Ahmed\",\"Joshua Atencio\",\"Federico Navarro\",\"Oliver Larraz\",\"Marco Reus\",\"Tsiki Ntsabeleng\",\"Omari Glasgow\",\"Shakur Mohammed\",\"Danny Leyva\",\"Moses Nyeman\",\"Rida Zouhir\",\"Markus Anderson\",\"Daniel Edelman\",\"Javier Casas\",\"James Sands\",\"Lorenzo Insigne\",\"Memo Rodriguez\",\"Edwin Cerrillo\",\"Joaqu\\u00edn Pereyra\",\"Jonathan Perez\",\"Carle-Fred Sainte\",\"Malik Pinto\",\"Matti Peltola\",\"Jeorgio Kocevski\",\"Patrick Yazbek\",\"Kosi Thompson\",\"Antino Lopez\",\"Liam Fraser\",\"Carles Gil\",\"Cassius Mailula\",\"Jamar Ricketts\",\"Tomas Pondeca\",\"Andres Jasson\",\"Tucker Lepley\",\"Herbert Endeley\",\"Alonso Ram\\u00edrez\",\"Emeka Eneli\",\"Djibril Diani\",\"Derrick Etienne\",\"Connor Ronan\",\"Bartosz Slisz\",\"R\\u00e9mi Walter\",\"Danley Jean-Jacques\",\"Michael Baldisimo\",\"Luca Petrasso\",\"Boris Enow\",\"Jeremy Rafanello\",\"Isaiah Parente\",\"Noel Caliskan\",\"Cristhian Paredes\",\"Keaton Parks\",\"Lewis O'Brien\",\"Derrick Jones\",\"Brandt Bronico\",\"Anthony Markanich\",\"Daniel Aguirre\",\"Paxton Pomykal\",\"Show\",\"Brandon Servania\",\"Samuel Shashoua\",\"Mart\\u00edn Rodr\\u00edguez\",\"Dominique Badji\",\"Kellyn Acosta\",\"Jackson Yueill\",\"Pablo Ru\\u00edz\",\"Felipe Hernandez\",\"Tristan Muyumba\",\"Xherdan Shaqiri\",\"Sebastian Lletget\",\"Fabian Herbers\",\"Franco Fragapane\",\"Matt Crooks\",\"Deybi Flores\",\"Julian Gressel\",\"Marky Delgado\",\"Jasper L\\u00f6ffelsend\",\"Marvin Lor\\u00eda\",\"Mohanad Jeahze\",\"Maximiliano Moralez\",\"Andr\\u00e9s Cubas\",\"Obinna Nwobodo\",\"Artur\",\"Ian Harkes\",\"Jhojan Valencia\",\"Felipe Carballo\",\"Amar Sejdic\",\"Brian Anunga\",\"Cristian Roldan\",\"Alessandro Sch\\u00f6pf\",\"Samuel Piette\",\"Nemanja Radoja\",\"Nicol\\u00e1s Lodeiro\",\"Asier Illarramendi\",\"Emanuel Reynoso\",\"Russell Canouse\",\"Carlos Gruezo\",\"Jos\\u00e9 Andr\\u00e9s Mart\\u00ednez\",\"Jonathan Osorio\",\"Wilder Cartagena\",\"Alexander Ring\",\"Mark-Anthony Kaye\",\"Mateusz Klich\",\"An\\u00edbal Godoy\",\"Gast\\u00f3n Gim\\u00e9nez\",\"Ashley Westwood\",\"Alejandro Bedoya\",\"Matt Polster\",\"Wil Trapp\",\"Jean Mota\",\"Junior Moreno\",\"Sean Davis\",\"Gast\\u00f3n Brugman\",\"H\\u00e9ctor Herrera\",\"Scott Arfield\",\"Sergio Busquets\",\"Jo\\u00e3o Paulo Mior\",\"J\\u00fanior Urso\",\"Ilie S\\u00e1nchez\",\"Victor Wanyama\",\"Darlington Nagbe\",\"Felipe\",\"Alfredo Morales\",\"J\\u00e1n Gregu\\u0161\",\"Dax McCarty\",\"Diego Char\\u00e1\",\"Victor Enriquez\"],\"textposition\":\"top center\",\"x\":{\"dtype\":\"f8\",\"bdata\":\"25FcZ52tyb\\u002fbkVxnna3Jv9uRXGedrcm\\u002f25FcZ52tyb\\u002fbkVxnna3Jvw==\"},\"xaxis\":\"x6\",\"y\":{\"dtype\":\"f8\",\"bdata\":\"zoV7Rw8G2T\\u002fOhXtHDwbZP86Fe0cPBtk\\u002fzoV7Rw8G2T\\u002fOhXtHDwbZPw==\"},\"yaxis\":\"y6\",\"type\":\"scatter\"},{\"line\":{\"color\":\"lightgrey\"},\"mode\":\"lines\",\"name\":\"Z-Curve\",\"showlegend\":false,\"x\":{\"dtype\":\"f8\",\"bdata\":\"AAAAAAAAEMBv\\u002fbv179YPwN76d+vfrQ\\u002fATfgz4c+ED8C89e\\u002fWv1sPwCvzq8yvMg\\u002fAmvBnwp8JD8AJ7iO4j+AOwHjr361\\u002ftw7A5+ibo2+ODsBW5leZX2UOwMXjE49PPA7ANOHPhD8TDsCj3ot6L+oNwBLcR3AfwQ3AgdkDZg+YDcDw1r9b\\u002f24NwF\\u002fUe1HvRQ3AztE3R98cDcA9z\\u002fM8z\\u002fMMwKzMrzK\\u002fygzAG8prKK+hDMCKxycen3gMwPnE4xOPTwzAaMKfCX8mDMDXv1v\\u002fbv0LwEa9F\\u002fVe1AvAtbrT6k6rC8AkuI\\u002fgPoILwJO1S9YuWQvAArMHzB4wC8BxsMPBDgcLwOCtf7f+3QrAT6s7re60CsC+qPei3osKwC2ms5jOYgrAnKNvjr45CsALoSuErhAKwHqe53me5wnA6Zujb46+CcBYmV9lfpUJwMeWG1tubAnANpTXUF5DCcClkZNGThoJwBSPTzw+8QjAg4wLMi7ICMDyiccnHp8IwGGHgx0OdgjA0IQ\\u002fE\\u002f5MCMA\\u002fgvsI7iMIwK5\\u002ft\\u002f7d+gfAHX1z9M3RB8CMei\\u002fqvagHwPt369+tfwfAanWn1Z1WB8DZcmPLjS0HwEhwH8F9BAfAt23btm3bBsAma5esXbIGwJVoU6JNiQbABGYPmD1gBsBzY8uNLTcGwOJgh4MdDgbAUV5DeQ3lBcDAW\\u002f9u\\u002fbsFwC9Zu2TtkgXAnlZ3Wt1pBcANVDNQzUAFwHxR70W9FwXA606rO63uBMBaTGcxncUEwMlJIyeNnATAOEffHH1zBMCnRJsSbUoEwBZCVwhdIQTAhT8T\\u002fkz4A8D0PM\\u002fzPM8DwGM6i+kspgPA0jdH3xx9A8BBNQPVDFQDwLAyv8r8KgPAHzB7wOwBA8COLTe23NgCwP0q86vMrwLAbCivobyGAsDbJWuXrF0CwEojJ42cNALAuSDjgowLAsAoHp94fOIBwJcbW25suQHABhkXZFyQAcB1FtNZTGcBwOQTj088PgHAUxFLRSwVAcDCDgc7HOwAwDEMwzAMwwDAoAl\\u002fJvyZAMAPBzsc7HAAwH4E9xHcRwDA7QGzB8weAMC4\\u002ft36d+v\\u002fv5b5VeZXmf+\\u002fdPTN0TdH\\u002f79S70W9F\\u002fX+vzDqvaj3ov6\\u002fDuU1lNdQ\\u002fr\\u002fs361\\u002ft\\u002f79v8raJWuXrP2\\u002fqNWdVnda\\u002fb+G0BVCVwj9v2TLjS03tvy\\u002fQsYFGRdk\\u002fL8gwX0E9xH8v\\u002f679e\\u002fWv\\u002fu\\u002f3LZt27Zt+7+6seXGlhv7v5isXbJ2yfq\\u002fdqfVnVZ3+r9Uok2JNiX6vzKdxXQW0\\u002fm\\u002fEJg9YPaA+b\\u002fukrVL1i75v8yNLTe23Pi\\u002fqoilIpaK+L+Igx0Odjj4v2Z+lflV5ve\\u002fRHkN5TWU978idIXQFUL3vwBv\\u002fbv17\\u002fa\\u002f3ml1p9Wd9r+8ZO2StUv2v5pfZX6V+fW\\u002feFrdaXWn9b9WVVVVVVX1vzRQzUA1A\\u002fW\\u002fEktFLBWx9L\\u002fwRb0X9V70v85ANQPVDPS\\u002frDut7rS687+KNiXalGjzv2gxncV0FvO\\u002fRiwVsVTE8r8kJ42cNHLyvwIiBYgUIPK\\u002f4Bx9c\\u002fTN8b++F\\u002fVe1Hvxv5wSbUq0KfG\\u002feg3lNZTX8L9YCF0hdIXwvzYD1QxUM\\u002fC\\u002fKPyZ8GfC77\\u002fk8YnHJx7vv6DneZ7nee6\\u002fXN1pdafV7b8Y01lMZzHtv9TISSMnjey\\u002fkL45+ubo679MtCnRpkTrvwiqGahmoOq\\u002fxJ8Jfyb86b+AlflV5lfpvzyL6Syms+i\\u002f+IDZA2YP6L+0dsnaJWvnv3BsubHlxua\\u002fLGKpiKUi5r\\u002foV5lfZX7lv6RNiTYl2uS\\u002fYEN5DeU15L8cOWnkpJHjv9guWbtk7eK\\u002flCRJkiRJ4r9QGjlp5KThvwwQKUCkAOG\\u002fyAUZF2Rc4L8I9xHcR3Dfv4Di8YnHJ96\\u002f+M3RN0ff3L9wubHlxpbbv+ikkZNGTtq\\u002fYJBxQcYF2b\\u002fYe1HvRb3Xv1BnMZ3FdNa\\u002fyFIRS0Us1b9APvH4xOPTv7gp0aZEm9K\\u002fMBWxVMRS0b+oAJECRArQv0DY4WCHg82\\u002fMK+hvIbyyr8ghmEYhmHIvxBdIXSF0MW\\u002fADThz4Q\\u002fw7\\u002fwCqErhK7Av8DDwQ4HO7y\\u002foHFBxgUZt7+AH8F9BPexv8CagWoGqqm\\u002fAO0BswfMnr8ASQEiBYiEvwBIASIFiIQ\\u002fAOwBswfMnj+AmoFqBqqpP4AfwX0E97E\\u002fgHFBxgUZtz+Aw8EOBzu8P+AKoSuErsA\\u002fADThz4Q\\u002fwz8AXSF0hdDFPwCGYRiGYcg\\u002fIK+hvIbyyj9A2OFgh4PNP6AAkQJECtA\\u002fIBWxVMRS0T+wKdGmRJvSP0A+8fjE49M\\u002fwFIRS0Us1T9AZzGdxXTWP9B7Ue9Fvdc\\u002fYJBxQcYF2T\\u002fgpJGTRk7aP2C5seXGlts\\u002f8M3RN0ff3D+A4vGJxyfePwD3EdxHcN8\\u002fwAUZF2Rc4D8IEClApADhP1AaOWnkpOE\\u002fkCRJkiRJ4j\\u002fQLlm7ZO3iPxg5aeSkkeM\\u002fYEN5DeU15D+gTYk2JdrkP+BXmV9lfuU\\u002fKGKpiKUi5j9wbLmx5cbmP7B2ydola+c\\u002f8IDZA2YP6D84i+ksprPoP4CV+VXmV+k\\u002fwJ8Jfyb86T8AqhmoZqDqP0i0KdGmROs\\u002fkL45+ubo6z\\u002fQyEkjJ43sPxDTWUxnMe0\\u002fWN1pdafV7T+g53me53nuP+DxiccnHu8\\u002fIPyZ8GfC7z80A9UMVDPwP1gIXSF0hfA\\u002feA3lNZTX8D+YEm1KtCnxP7wX9V7Ue\\u002fE\\u002f4Bx9c\\u002fTN8T8AIgWIFCDyPyAnjZw0cvI\\u002fRCwVsVTE8j9oMZ3FdBbzP4g2JdqUaPM\\u002fqDut7rS68z\\u002fMQDUD1Qz0P\\u002fBFvRf1XvQ\\u002fEEtFLBWx9D8wUM1ANQP1P1RVVVVVVfU\\u002feFrdaXWn9T+YX2V+lfn1P7hk7ZK1S\\u002fY\\u002f3Gl1p9Wd9j8Ab\\u002f279e\\u002f2PyB0hdAVQvc\\u002fQHkN5TWU9z9kfpX5Veb3P4iDHQ52OPg\\u002fqIilIpaK+D\\u002fIjS03ttz4P+yStUvWLvk\\u002fEJg9YPaA+T8wncV0FtP5P1CiTYk2Jfo\\u002fdKfVnVZ3+j+YrF2ydsn6P7ix5caWG\\u002fs\\u002f2LZt27Zt+z\\u002f8u\\u002fXv1r\\u002f7PyDBfQT3Efw\\u002fQMYFGRdk\\u002fD9gy40tN7b8P4TQFUJXCP0\\u002fqNWdVnda\\u002fT\\u002fI2iVrl6z9P+jfrX+3\\u002fv0\\u002fDOU1lNdQ\\u002fj8w6r2o96L+P1DvRb0X9f4\\u002fcPTN0TdH\\u002fz+U+VXmV5n\\u002fP7j+3fp36\\u002f8\\u002f7AGzB8weAEB8BPcR3EcAQA4HOxzscABAoAl\\u002fJvyZAEAwDMMwDMMAQMAOBzsc7ABAUhFLRSwVAUDkE49PPD4BQHQW01lMZwFABBkXZFyQAUCWG1tubLkBQCgen3h84gFAuCDjgowLAkBIIyeNnDQCQNola5esXQJAbCivobyGAkD8KvOrzK8CQIwtN7bc2AJAHjB7wOwBA0CwMr\\u002fK\\u002fCoDQEA1A9UMVANA0DdH3xx9A0BiOovpLKYDQPQ8z\\u002fM8zwNAhD8T\\u002fkz4A0AUQlcIXSEEQKZEmxJtSgRAOEffHH1zBEDISSMnjZwEQFhMZzGdxQRA6k6rO63uBEB8Ue9FvRcFQAxUM1DNQAVAnFZ3Wt1pBUAuWbtk7ZIFQMBb\\u002f279uwVAUF5DeQ3lBUDgYIeDHQ4GQHJjy40tNwZABGYPmD1gBkCUaFOiTYkGQCRrl6xdsgZAtm3btm3bBkBIcB\\u002fBfQQHQNhyY8uNLQdAaHWn1Z1WB0D6d+vfrX8HQIx6L+q9qAdAHH1z9M3RB0Csf7f+3foHQD6C+wjuIwhA0IQ\\u002fE\\u002f5MCEBgh4MdDnYIQPCJxycenwhAgowLMi7ICEAUj088PvEIQKSRk0ZOGglANJTXUF5DCUDGlhtbbmwJQFiZX2V+lQlA6Jujb46+CUB4nud5nucJQAqhK4SuEApAnKNvjr45CkAsprOYzmIKQLyo96LeiwpATqs7re60CkDgrX+3\\u002ft0KQHCww8EOBwtAALMHzB4wC0CStUvWLlkLQCS4j+A+ggtAtLrT6k6rC0BEvRf1XtQLQNa\\u002fW\\u002f9u\\u002fQtAaMKfCX8mDED4xOMTj08MQIjHJx6feAxAGsprKK+hDECszK8yv8oMQDzP8zzP8wxAzNE3R98cDUBe1HtR70UNQPDWv1v\\u002fbg1AgNkDZg+YDUAQ3EdwH8ENQKLei3ov6g1ANOHPhD8TDkDE4xOPTzwOQFTmV5lfZQ5A5uibo2+ODkB469+tf7cOQAjuI7iP4A5AmPBnwp8JD0Aq86vMrzIPQLz179a\\u002fWw9ATPgz4c+ED0Dc+nfr360PQG79u\\u002fXv1g9AAAAAAAAAEEA=\"},\"xaxis\":\"x7\",\"y\":{\"dtype\":\"f8\",\"bdata\":\"tbTA4piKIT\\u002fVpf16mgAjP3FZkSukkyQ\\u002f6U48VsdFJj\\u002fiwpAcNxkoPwUMvTZKECo\\u002fCqH63XwtLD8rAQPLcnMuPz9VcqR8cjA\\u002fai5FroTCMT8yB58AZSszPzyVMz3JrjQ\\u002f1nFcXXZONj+xxnzwSww4P2KBP2VF6jk\\u002f5Q23XXvqOz8RAV4OJQ8+P57299NMLUA\\u002fsGkE5qhnQT8QHTiG9LdCP7l1dbqPH0Q\\u002ff9Wxj+2fRT+N8RfplDpHPz6kFFQh8Ug\\u002f12Yk4UPFSj+R9zABxLhMP6axR2eAzU4\\u002fEuY097eCUD9jBphBUbFRP1rCeQih81I\\u002fzlASuclKVD9to7ix+7dVP8zdqLx1PFc\\u002fL4fFi4XZWD9xDBY1iJBaP65NwK\\u002fqYlw\\u002fr\\u002fk1USpSXj82siSl6i9gP1Us7JHFRmE\\u002fnxBbnX5uYj\\u002fEWDyd96djP6q4Y8sb9GQ\\u002f+WFiAeBTZj8V9xLzQshnP+3Gw2dNUmk\\u002fwLLDcRLzaj\\u002fLbROkr6tsP+Ab+kVNfW4\\u002fsdocQo80cD8Bg87PMDhxPyFOSwwwSnI\\u002fF8vSazdrcz\\u002ffchkp95t0P365y1Ul3XU\\u002fr7b86H0vdz8hl1bLwpN4Pywj4uC7Cno\\u002fxto5EDeVez9UcfxGCDR9P9zZUXsJ6H4\\u002fIMsqVQ1ZgD\\u002feTpzpkEmBP4x4dncFRoI\\u002fjmwW8uNOgz9Y69c7qGSEP26\\u002fLxzRh4U\\u002fsGyvM+C4hj8ssNvtWfiHP466v3DFRok\\u002fx4Eniqykij+\\u002fEWyamxKMP1JovXwhkY0\\u002fACjWbM8gjz8uIwN1HGGQP2Vowcv5OpE\\u002f6vn0jEsekj\\u002fDz\\u002fV4XguTP103BCqAApQ\\u002fzu+s\\u002fv4DlT83OawCKhCWPzLzStZQJ5c\\u002fXMcxlMNJmD\\u002ffS6+10neZPxMIb\\u002fXOsZo\\u002fElGgMAn4mz+QDo1G0kqdP7+fofZ6qp4\\u002fpyZ03qkLoD9\\u002f+31W1sigP5x8u6XqjKE\\u002fNlDyMg5Yoj\\u002fgcZ70ZyqjP0HHeVseBKQ\\u002fbbtSPFflpD9l7ze5N86lPzTR\\u002fynkvqY\\u002fBrEzBIC3pz+ys2bCLbioP9DLAcsOwak\\u002fda2OVkPSqj+6e4xV6uurP6652VUhDq0\\u002fFNK\\u002fZwQ5rj9BUK0CrmyvP81U1nSbVLA\\u002f1RvTB1v3sD+wX749oJ6xP4xMCpZ0SrI\\u002f1h4rfuD6sj89055D66+zP7pHBAababQ\\u002foCFLqfQntT+8EwbI++q1P61h6aWysrY\\u002fZLl\\u002fIhp\\u002ftz\\u002fVsR+sMVC4P65sLDP3Jbk\\u002fBAGsHWcAuj9gdT47fN+6PwsogLkvw7s\\u002f6JTiGHmrvD+9bwYiTpi9P9wIotuiib4\\u002fV+f+gGl\\u002fvz8vuIw8yTzAP9GqNicGvMA\\u002foq6802E9wT\\u002f7cQKg0cDBP1afmPFJRsI\\u002fUG0wM77Nwj861X7SIFfDPwMKlD5j4sM\\u002f3Jar5nVvxD8gVXk5SP7EP1As96TIjsU\\u002fFE23luQgxj+OUb58iLTGP71h6MafScc\\u002fqSrc6BTgxz9SIo5c0XfIP785VqW9EMk\\u002fY8GZU8GqyT+N4woJw0XKPy+0fn2o4co\\u002fym1ahFZ+yz+3CJgSsRvMP\\u002ffsYUWbucw\\u002f\\u002fA5FafdXzT+RVvgBp\\u002fbNP9K7t9KKlc4\\u002f+REx54I0zz+UAgCdbtPPPxQj21YWOdA\\u002fAVm2nE2I0D\\u002fWnuzoS9fQPzrX8sL\\u002fJdE\\u002fVBLhdld00T94KrcbQcLRP8nk2ZmqD9I\\u002fgY3FsYFc0j8h0\\u002fICtKjSP\\u002fBw6hIv9NI\\u002fcAiEVOA+0z\\u002fqWkwvtYjTP+XnDgeb0dM\\u002f5ct+Q38Z1D\\u002f7k\\u002fpXT2DUP+OWZsv4pdQ\\u002fx0MZQGnq1D9oudR7ji3VP6LeyG9Wb9U\\u002f6B6ZQK+v1T\\u002fj2mBOh+7VP7qOsTzNK9Y\\u002f2aSF+m9n1j9T5SLKXqHWP41v50iJ2dY\\u002fdi38dt8P1z9dtee+UUTXP5qZ\\u002fPzQdtc\\u002fgTOehk6n1z+UCVcxvNXXP8MHvFkMAtg\\u002fNdsX6jEs2D824tlgIFTYP71DxNbLedg\\u002f6OjUBCmd2D9uPeVJLb7YP2PK\\u002fK\\u002fO3Ng\\u002fYfBS8QP52D+TO\\u002fx8xBLZP0YEQHsIKtk\\u002fMkqT0cg+2T+49jUm\\u002f1DZPy\\u002fzb+OlYNk\\u002fXsNrOrht2T+TmawlMnjZP8ogHmsQgNk\\u002fMoK8nVCF2T9LddMe8YfZP0t10x7xh9k\\u002fMoK8nVCF2T\\u002fKIB5rEIDZP5OZrCUyeNk\\u002fXsNrOrht2T8w82\\u002fjpWDZP7n2NSb\\u002fUNk\\u002fMkqT0cg+2T9HBEB7CCrZP5Q7\\u002fHzEEtk\\u002fYvBS8QP52D9jyvyvztzYP2895Uktvtg\\u002f6ejUBCmd2D++Q8TWy3nYPzbi2WAgVNg\\u002fNtsX6jEs2D\\u002fFB7xZDALYP5UJVzG81dc\\u002fgTOehk6n1z+cmfz80HbXP1+1575RRNc\\u002feC38dt8P1z+Nb+dIidnWP1XlIspeodY\\u002f3aSF+m9n1j+8jrE8zSvWP+PaYE6H7tU\\u002f6h6ZQK+v1T+l3shvVm\\u002fVP2m51HuOLdU\\u002fx0MZQGnq1D\\u002fmlmbL+KXUP\\u002f+T+ldPYNQ\\u002f58t+Q38Z1D\\u002fl5w4Hm9HTP+1aTC+1iNM\\u002fdAiEVOA+0z\\u002fxcOoSL\\u002fTSPyHT8gK0qNI\\u002fgo3FsYFc0j\\u002fN5NmZqg\\u002fSP3oqtxtBwtE\\u002fVBLhdld00T881\\u002fLC\\u002fyXRP9qe7OhL19A\\u002fA1m2nE2I0D8UI9tWFjnQP5kCAJ1u088\\u002fARIx54I0zz\\u002fVu7fSipXOP5FW+AGn9s0\\u002fAQ9FafdXzT\\u002f\\u002f7GFFm7nMP7oImBKxG8w\\u002fym1ahFZ+yz80tH59qOHKP5XjCgnDRco\\u002fZsGZU8GqyT+\\u002fOValvRDJP1YijlzRd8g\\u002fsSrc6BTgxz\\u002fBYejGn0nHP45RvnyItMY\\u002fGE23luQgxj9XLPekyI7FPyRVeTlI\\u002fsQ\\u002f3Jar5nVvxD8HCpQ+Y+LDP0HVftIgV8M\\u002fVG0wM77Nwj9Wn5jxSUbCP\\u002f5xAqDRwME\\u002fqK6802E9wT\\u002fUqjYnBrzAPy+4jDzJPMA\\u002fXuf+gGl\\u002fvz\\u002fpCKLboom+P8NvBiJOmL0\\u002f6JTiGHmrvD8SKIC5L8O7P2x1Pjt837o\\u002fCAGsHWcAuj+ubCwz9yW5P9qxH6wxULg\\u002fbrl\\u002fIhp\\u002ftz+zYemlsrK2P7wTBsj76rU\\u002fpCFLqfQntT\\u002fDRwQGm2m0P0HTnkPrr7M\\u002f1h4rfuD6sj+QTAqWdEqyP7hfvj2gnrE\\u002f2RvTB1v3sD\\u002fNVNZ0m1SwP0dQrQKubK8\\u002fI9K\\u002fZwQ5rj+2udlVIQ6tP7p7jFXq66s\\u002fe62OVkPSqj\\u002fdywHLDsGpP7izZsItuKg\\u002fBrEzBIC3pz850f8p5L6mP3DvN7k3zqU\\u002fcrtSPFflpD9Bx3lbHgSkP+VxnvRnKqM\\u002fQFDyMg5Yoj+hfLul6oyhP3\\u002f7fVbWyKA\\u002friZ03qkLoD\\u002fPn6H2eqqeP5cOjUbSSp0\\u002fElGgMAn4mz8ZCG\\u002f1zrGaP+9Lr7XSd5k\\u002fYccxlMNJmD8y80rWUCeXPzw5rAIqEJY\\u002f2++s\\u002fv4DlT9hNwQqgAKUP8PP9XheC5M\\u002f7\\u002fn0jEsekj9waMHL+TqRPzMjA3UcYZA\\u002fACjWbM8gjz9eaL18IZGNP9ARbJqbEow\\u002fz4Eniqykij+Our9wxUaJPzWw2+1Z+Ic\\u002fwWyvM+C4hj90vy8c0YeFP1jr1zuoZIQ\\u002flWwW8uNOgz+YeHZ3BUaCP+ROnOmQSYE\\u002fIMsqVQ1ZgD\\u002fi2VF7Ceh+P2tx\\u002fEYINH0\\u002fzto5EDeVez8sI+Lguwp6PyiXVsvCk3g\\u002fwbb86H0vdz+DuctVJd11P99yGSn3m3Q\\u002fHMvSazdrcz8vTksMMEpyPwWDzs8wOHE\\u002fsdocQo80cD\\u002foG\\u002fpFTX1uP+BtE6Svq2w\\u002fyLLDcRLzaj\\u002ftxsNnTVJpPyH3EvNCyGc\\u002fCmJiAeBTZj+0uGPLG\\u002fRkP8RYPJ33p2M\\u002fqRBbnX5uYj9iLOyRxUZhPzqyJKXqL2A\\u002fr\\u002fk1USpSXj+8TcCv6mJcP4YMFjWIkFo\\u002fPIfFi4XZWD\\u002fM3ai8dTxXP3OjuLH7t1U\\u002f4lASuclKVD9jwnkIofNSP2MGmEFRsVE\\u002fFuY097eCUD\\u002fGsUdngM1OP5\\u002f3MAHEuEw\\u002f12Yk4UPFSj9EpBRUIfFIP6TxF+mUOkc\\u002fitWxj+2fRT+5dXW6jx9EPxkdOIb0t0I\\u002fwWkE5qhnQT+m9vfTTC1APxEBXg4lDz4\\u002f8w23XXvqOz91gT9lReo5P73GfPBLDDg\\u002f1nFcXXZONj9AlTM9ya40P0UHnwBlKzM\\u002fci5FroTCMT8\\u002fVXKkfHIwPzkBA8tycy4\\u002fJ6H63XwtLD8SDL02ShAqP+LCkBw3GSg\\u002f9E48VsdFJj+FWZErpJMkP9+l\\u002fXqaACM\\u002ftbTA4piKIT8=\"},\"yaxis\":\"y7\",\"type\":\"scatter\"},{\"marker\":{\"color\":{\"dtype\":\"f8\",\"bdata\":\"OGatcNQr7T\\u002fUAuvGxevtPzhmrXDUK+0\\u002fJLtVsNEz7z9k6afI0aGwPyj5rjUUU+k\\u002fwyUMRmqk4j81IsZWi+rqP72i1fXUZOc\\u002fOGatcNQr7T81IsZWi+rqP8l5ilp9L+w\\u002fyXmKWn0v7D+9otX11GTnPyj5rjUUU+k\\u002fyXmKWn0v7D\\u002fUAuvGxevtP8l5ilp9L+w\\u002fyXmKWn0v7D+9+ja8fHvuP9QC68bF6+0\\u002fRVSQPDRIqD\\u002fJeYpafS\\u002fsP8l5ilp9L+w\\u002fNSLGVovq6j81IsZWi+rqP8l5ilp9L+w\\u002fOGatcNQr7T84Zq1w1CvtPyj5rjUUU+k\\u002fvaLV9dRk5z81IsZWi+rqPyj5rjUUU+k\\u002fAAAAAAAA4D8o+a41FFPpP8l5ilp9L+w\\u002f1ALrxsXr7T96tOdzK7faPzUixlaL6uo\\u002fvaLV9dRk5z81IsZWi+rqPwEiT4rqJOU\\u002fwyUMRmqk4j96tOdzK7faPwEiT4rqJOU\\u002fvfo2vHx77j\\u002fJeYpafS\\u002fsPyj5rjUUU+k\\u002fOGatcNQr7T8AAAAAAADgP8MlDEZqpOI\\u002fvfo2vHx77j81IsZWi+rqP\\u002f+7YesqttU\\u002fyXmKWn0v7D\\u002fUAuvGxevtPzUixlaL6uo\\u002fvaLV9dRk5z\\u002fUAuvGxevtP9QC68bF6+0\\u002fyXmKWn0v7D9of2Mw0+XuP8MlDEZqpOI\\u002fASJPiuok5T8o+a41FFPpP736Nrx8e+4\\u002f1ALrxsXr7T8o+a41FFPpP72i1fXUZOc\\u002fyXmKWn0v7D8ku1Ww0TPvPzhmrXDUK+0\\u002fvfo2vHx77j8ud+ek0lXEPzhmrXDUK+0\\u002fyXmKWn0v7D\\u002fDJQxGaqTiP3q053Mrt9o\\u002fASJPiuok5T+9+ja8fHvuPyj5rjUUU+k\\u002fvaLV9dRk5z8AAAAAAADgPyj5rjUUU+k\\u002fNSLGVovq6j+9+ja8fHvuP\\u002f+7YesqttU\\u002fyXmKWn0v7D+9otX11GTnP\\u002f+7YesqttU\\u002fNSLGVovq6j+9otX11GTnPwEiT4rqJOU\\u002fyXmKWn0v7D84Zq1w1CvtP8MlDEZqpOI\\u002ferTncyu32j\\u002fJeYpafS\\u002fsPyj5rjUUU+k\\u002fvaLV9dRk5z\\u002fJeYpafS\\u002fsPzhmrXDUK+0\\u002fvfo2vHx77j8o+a41FFPpP2h\\u002fYzDT5e4\\u002fKPmuNRRT6T\\u002fDJQxGaqTiPyj5rjUUU+k\\u002fASJPiuok5T81IsZWi+rqP9QC68bF6+0\\u002fKPmuNRRT6T8AAAAAAADgP2AbRCmvs8o\\u002fNSLGVovq6j81IsZWi+rqP2AbRCmvs8o\\u002fwyUMRmqk4j8o+a41FFPpP72i1fXUZOc\\u002fASJPiuok5T96tOdzK7faP72i1fXUZOc\\u002fAAAAAAAA4D+GulQUVjbRPwEiT4rqJOU\\u002fKPmuNRRT6T8AAAAAAADgP72i1fXUZOc\\u002fpp58EOKV7z\\u002fq4Q0vqGzvP+rhDS+obO8\\u002f\\u002f7th6yq21T8ku1Ww0TPvPyS7VbDRM+8\\u002faH9jMNPl7j9of2Mw0+XuP2h\\u002fYzDT5e4\\u002faH9jMNPl7j9of2Mw0+XuP72i1fXUZOc\\u002ferTncyu32j96tOdzK7faP2AbRCmvs8o\\u002fwyUMRmqk4j8AAAAAAADgP736Nrx8e+4\\u002fvfo2vHx77j+9+ja8fHvuPwAAAAAAAOA\\u002fKPmuNRRT6T8AAAAAAADgP9QC68bF6+0\\u002f1ALrxsXr7T\\u002fUAuvGxevtP9QC68bF6+0\\u002f1ALrxsXr7T\\u002f\\u002fu2HrKrbVP4ObSPXJhZk\\u002fYBtEKa+zyj84Zq1w1CvtPzhmrXDUK+0\\u002fOGatcNQr7T84Zq1w1CvtPzhmrXDUK+0\\u002fOGatcNQr7T96tOdzK7faP\\u002f+7YesqttU\\u002fASJPiuok5T\\u002fJeYpafS\\u002fsP8l5ilp9L+w\\u002fyXmKWn0v7D\\u002fJeYpafS\\u002fsP8l5ilp9L+w\\u002fyXmKWn0v7D\\u002fJeYpafS\\u002fsP8l5ilp9L+w\\u002fyXmKWn0v7D\\u002fJeYpafS\\u002fsPwAAAAAAAOA\\u002fNSLGVovq6j81IsZWi+rqPzUixlaL6uo\\u002fNSLGVovq6j81IsZWi+rqPzUixlaL6uo\\u002fNSLGVovq6j9gG0Qpr7PKPwAAAAAAAOA\\u002fLnfnpNJVxD96tOdzK7faPwAAAAAAAOA\\u002fKPmuNRRT6T8o+a41FFPpPyj5rjUUU+k\\u002fAAAAAAAA4D\\u002fDJQxGaqTiPy5356TSVcQ\\u002fvaLV9dRk5z+9otX11GTnP72i1fXUZOc\\u002fYBtEKa+zyj96tOdzK7faPwEiT4rqJOU\\u002fLnfnpNJVxD\\u002f\\u002fu2HrKrbVPy5356TSVcQ\\u002fLnfnpNJVxD+GulQUVjbRP64xrCsVhL4\\u002fwyUMRmqk4j9gG0Qpr7PKP\\u002f+7YesqttU\\u002fLnfnpNJVxD9FVJA8NEioP2AbRCmvs8o\\u002fYBtEKa+zyj8AAAAAAAD4fw==\"},\"showscale\":true,\"size\":{\"dtype\":\"f8\",\"bdata\":\"eBfxR+0q7z8msvYcB\\u002fLtP50FuVWFdeY\\u002fX5dgMl435D8AAAAAAADwPyGYdwxfF+U\\u002f0H9oPx4o5z+nm59WY3HiP0A2iQ94juM\\u002fPIHm7q8C4T\\u002fjg1Hed0XhPxJOFOr9mt8\\u002fcrZH1u093j9LBaALcQPhPxVFdetQ2N8\\u002fnFjMcI1H3D\\u002fhquytUFfYP7b4CsZ0u9g\\u002f+aicLf2z2D+tka5GajbWPxQZo\\u002fAZWNY\\u002faiVI4p845z\\u002fu+jCgBjHXP0SeCCI3+tY\\u002fHSGfZS331z\\u002fWp4b7\\u002fvLXP9kblf2iqtY\\u002fAsGenOfJ1T9KT8ct+k7VP\\u002feVFKvd3Nc\\u002fDmXsYmVW2T9WYbsiq7HVPwZKWOKOBdc\\u002fcB9o62jg3j9+oKfh\\u002fFXWP7YXHI5DyNM\\u002f5+VUIpdK0j+eLlNali3gP6WjHrciTNQ\\u002fSTWRadrN1j\\u002fpbqzRtcjTP7HH2WFUftg\\u002f+WQCe6Bp2j\\u002fKLnwRfb7eP7siU2Ki7Nc\\u002fQRlnQHO7zz\\u002fZ8rwMOs7RP8UcP2OQz9M\\u002frm5TvqyC0D+nPnefYqTbP\\u002fqzNug\\u002fL9k\\u002fWvlDggOJzT\\u002f7kNL1z6TRP0NZipCcMt8\\u002fW9d54whQ0D9uQm9NdCDNPy9PVhRsFNE\\u002fQVwTj\\u002f9R0z+l5m6wwlDLPyTz1lpyRss\\u002f2RsLuOrrzT\\u002fh\\u002fSObMdXIP56KI\\u002fLV49Y\\u002fmCQJpTac1D97ltBhWMjQP8D\\u002f4Vc\\u002flcg\\u002fwhfHIVlDyT8Veu4LHGvQP7x2YL3+9dE\\u002f68RM7Sxlyz\\u002frDTABFg7GP5sN7GdkA8k\\u002fGFWruRTDxj9K9QqlzongP\\u002f5unixHy8g\\u002fIZOauLVDyj\\u002fn3MFtOz3VP25gr926ftk\\u002ftYMyxLOw0j8Hil5XVvvEP\\u002fjxu+42wc0\\u002fB1bTqcBU0D+vK7ReBJnWPyhy\\u002fEz98sw\\u002fj1UHIzr6yT8DuP19AtDDP+UWdzP+ito\\u002fOiqe7SY4xz9qh9jgWu\\u002fOPxpY388N7tk\\u002fmDQNtM5IyD8S2fJyUzXOPx\\u002fHEQMn\\u002ftA\\u002fYwZJg0TlxT8YPTcCd7\\u002fDP3245KmWpNI\\u002fLSsq2jT91j9IlZwJXQPEP\\u002fqK0L+smMg\\u002fCifIA7heyz9TSqaFl+jCP8HlUzlId8A\\u002fLDviah3Muz\\u002fyKaxV8p7GP1CA6ih7vrg\\u002f+BOMk+LpxT88IIimkqvQPwD3m18+H8U\\u002fjej5+Z4YzD\\u002fN8JsasBnCP0h51yq6gbk\\u002fQNmha7SIxD+HlM1qPrvRP1Z\\u002fKGvasdk\\u002fFQRYPnhVwD+i5SYhTh7AP2+KtinuWdk\\u002fp57Oo4XlzT9jrg7vWULCP6iIibSDi8U\\u002fdMckqjgXyT+oB1+EyLDSP1dGnKGp2MM\\u002f+VPFLo4o0D9MtrgybvnVP04Q2NfqLcY\\u002fCqUsDZpAvT\\u002fwQsybZX7NPz0Ovftcjrw\\u002fAAAAAAAAAAAAAAAAAAAAAAAAAAAAAAAAJbLtKll20T8AAAAAAAAAAAAAAAAAAAAAAAAAAAAAAAAAAAAAAAAAAAAAAAAAAAAAAAAAAAAAAAAAAAAAAAAAAI5Piobhqrk\\u002ftS4+2+kBzj8kYakfw+3NP2zE859pr9Q\\u002fXA8gviphxD+GOGgG5OfIPwAAAAAAAAAAAAAAAAAAAAAAAAAAAAAAABq3k+XXk8g\\u002fwDHyGBX4sD\\u002fI7ukjaOTHPwAAAAAAAAAAAAAAAAAAAAAAAAAAAAAAAAAAAAAAAAAAAAAAAAAAAADfNwiheQHQP6IDZ6FRitg\\u002feX+XsE940z8AAAAAAAAAAAAAAAAAAAAAAAAAAAAAAAAAAAAAAAAAAAAAAAAAAAAAAAAAAAAAAABZUs6vp5DKP9n2d7x+qc4\\u002fkh7NdNBguT8AAAAAAAAAAAAAAAAAAAAAAAAAAAAAAAAAAAAAAAAAAAAAAAAAAAAAAAAAAAAAAAAAAAAAAAAAAAAAAAAAAAAAAAAAAAAAAAAAAAAAAAAAALg\\u002fk3HGgcM\\u002fAAAAAAAAAAAAAAAAAAAAAAAAAAAAAAAAAAAAAAAAAAAAAAAAAAAAAAAAAAAAAAAAAAAAAAAAAADpdWipJVHRPwTxTvJkWMI\\u002fXo6lVdUS0j\\u002f3JKOpKsPFP1Z6HhDjT8A\\u002fAAAAAAAAAAAAAAAAAAAAAAAAAAAAAAAAZyldbdfwvz\\u002fvxW3Ho2ayP5pf2MkUANA\\u002fAAAAAAAAAAAAAAAAAAAAAAAAAAAAAAAAY8Kuic\\u002fwyT+l413NxSa8PwAAAAAAAAAAQw\\u002fSarLAyj8fo\\u002fzw20nAP4yO5wPaBco\\u002fI1BYzjvlyD9Lz3d++\\u002fHBPxTqYCY0G8o\\u002fAAAAAAAAAADilz4bZjTEP2TxlRl4Z7E\\u002fVDCF3qZnrT8HeJ9pdY+0PwAAAAAAAAAAAAAAAAAAAAAAAAAAAAAAAA==\"}},\"mode\":\"markers+text\",\"name\":\"Player\",\"showlegend\":false,\"text\":[\"Lawrence Ennali\",\"Tomas \\u00c1ngel\",\"Talles Magno\",\"David Mart\\u00ednez\",\"Lionel Messi\",\"Cucho\",\"Karol \\u015awiderski\",\"Tani Oluwaseyi\",\"Alonso Mart\\u00ednez\",\"Carlos G\\u00f3mez\",\"Kelvin Yeboah\",\"Gabriel Chaves\",\"Gabe Segal\",\"Sebasti\\u00e1n Ferreira\",\"Dejan Jovelji\\u0107\",\"Ramiro Enrique\",\"Nathan Ordaz\",\"Leonardo Afonso\",\"Mateusz Bogusz\",\"Kimani Stewart-Baynes\",\"Diego Luna\",\"Luis Su\\u00e1rez\",\"Stephen Afrifa\",\"Duncan McGuire\",\"Bongokuhle Hlongwane\",\"Leonardo Campana\",\"Logan Farrington\",\"Luca Langoni\",\"Sunusi Ibrahim\",\"Jack Lynn\",\"Petar Musa\",\"Patrick Agyemang\",\"William Agada\",\"Cristian Arango\",\"Simon Becher\",\"Edwin Mosquera\",\"Juli\\u00e1n Fern\\u00e1ndez\",\"Denis Bouanga\",\"Santiago Moreno\",\"Joseph Paintsil\",\"Facundo Torres\",\"Jonathan Lewis\",\"Anderson Julio\",\"Brad Smith\",\"Tai Baribo\",\"CJ Fodrey\",\"Elias Manoel\",\"Santiago Rodr\\u00edguez\",\"Alan Velasco\",\"Ryan Gauld\",\"Pep Biel\",\"Kevin Kelsy\",\"Rafael Navarro\",\"Josef Mart\\u00ednez\",\"Antony\",\"Alenis Vargas\",\"Juli\\u00e1n Carranza\",\"Dante Vanzeir\",\"Diego G\\u00f3mez\",\"Dominik Marczuk\",\"Liel Abada\",\"Kristian Fletcher\",\"Lewis Morgan\",\"Ezequiel Ponce\",\"Nathan Foga\\u00e7a\",\"Darren Yapi\",\"Malachi Jones\",\"Kevin Cabral\",\"Sam Surridge\",\"Iuri Tavares\",\"Fidel Barajas\",\"Cristian Olivera\",\"Georgios Koutsias\",\"Christian Benteke\",\"Deandre Kerr\",\"Dylan Borrero\",\"Brian White\",\"Giorgos Giakoumakis\",\"Miguel Berry\",\"Jacob Murrell\",\"C\\u00e9lio Pompeu\",\"Paul Rothrock\",\"Daniel Armando R\\u00edos\",\"Hannes Wolf\",\"L\\u00e9o Ch\\u00fa\",\"Agustin Ojeda\",\"Jonathan Rodr\\u00edguez\",\"Aliyu Ibrahim\",\"Samuel Adeniran\",\"Felipe Mora\",\"Calvin Harris\",\"Osman Bukari\",\"Mat\\u00edas C\\u00f3ccaro\",\"Marinos Tzionis\",\"Jeong Sangbin\",\"Latif Blessing\",\"Mikael Uhre\",\"Kerwin Vargas\",\"Iv\\u00e1n Angulo\",\"Giacomo Vrioni\",\"Pedro De la Vega\",\"Georgi Minoungou\",\"Owen Wolff\",\"John Klein\",\"Esmir Bajraktarevic\",\"Jacob Shaffelburg\",\"Aaron Boupendza\",\"Maren Haile-Selassie\",\"Hugo Cuypers\",\"Monsef Bakrar\",\"Tyler Wolff\",\"N\\u00f6kkvi \\u00de\\u00f3risson\",\"Cristian Espinoza\",\"Faf\\u00e0 Picault\",\"Ousseni Bouda\",\"Christopher Donovan\",\"Maikel Chang\",\"Prince Osei Owusu\",\"Omir Fernandez\",\"Adalberto Carrasquilla\",\"Klauss\",\"Jordan Morris\",\"Tom\\u00e1s Chancalay\",\"Corey Baird\",\"Bobby Wood\",\"Jeremy Ebobisse\",\"Benjamin Kikanovic\",\"Rasmus Alm\",\"Sebastian Kowalczyk\",\"Nimfasha Berchimas\",\"Caden Glover\",\"Zavier Gozo\",\"Emmanuel Boateng\",\"Mykhi Joyner\",\"Rub\\u00e9n Ramos\",\"Kage Romanshyn\",\"Jovan Mijatovi\\u0107\",\"Malcolm Fry\",\"Luke Brennan\",\"Tarik Scott\",\"Mason Toye\",\"Saba Lobzhanidze\",\"Robert Taylor\",\"Cory Burke\",\"D\\u00e1niel Sall\\u00f3i\",\"Enzo Copetti\",\"Idan Markovich\",\"Jack Panayotou\",\"Jay Herdman\",\"J\\u00e1der Obrian\",\"Preston Judd\",\"Daniel Musovski\",\"Patrick Weah\",\"Joseph Skinner\",\"Tega Ikoba\",\"Jeremy Garay\",\"Lo\\u00efc Mesanvi\",\"Jamal Thiar\\u00e9\",\"Kei Kamara\",\"Luis Muriel\",\"Jonathan Perez\",\"Brandon Cambridge\",\"Matthew Bell\",\"Roald Mitchell\",\"Piero Elias\",\"Brendan McSorley\",\"Sergio Santos Gomes\",\"Yuya Kubo\",\"Xande Silva\",\"Lachlan Brook\",\"Nick Scardina\",\"Charles Sharp\",\"Luis M\\u00fcller\",\"Forster Ajago\",\"Bryant Farkarlun\",\"Marcos Dias\",\"Yutaro Tsukada\",\"Aziel Jackson\",\"Shanyder Borgelin\",\"Nacho Gil\",\"Nicholas Gioacchini\",\"Will Richmond\",\"Deiber Caicedo\",\"Jose Casas de Abadal\",\"Lamine Diack\",\"Nicolas Firmino\",\"Rory O'Driscoll\",\"Alan Pulido\",\"Diego Fag\\u00fandez\",\"Ra\\u00fal Ruid\\u00edaz\",\"Tyler Boyd\",\"Tom Barlow\",\"Jordan Adebayo-Smith\",\"Levonte Johnson\",\"Ayo Akinola\",\"Alex Muyl\",\"Chris Mueller\",\"Amahl Pellegrino\",\"McKinze Gaines\",\"Samuel Adeniran\",\"Mason Toye\",\"Gyasi Zardes\",\"Eugene Ansah\",\"Benji Michel\",\"Teal Bunbury\",\"Diego Rubio\",\"Teemu Pukki\",\"Johnny Russell\",\"Dairon Asprilla\",\"Damir Kreilach\",\"Derrick Etienne\",\"Brecht Dejaegere\",\"Emiliano Rigoni\",\"Ethan Finlay\",\"Olivier Giroud\",\"Thomas McNamara\",\"Jamie Paterson\",\"Tyger Smalls\"],\"textposition\":\"top center\",\"x\":{\"dtype\":\"f8\",\"bdata\":\"BUkCSqbyFECgkL124fgTQH5OcdEX\\u002fgtAq7kAX5EM+z+DqXbv3eIIQA==\"},\"xaxis\":\"x7\",\"y\":{\"dtype\":\"f8\",\"bdata\":\"i7WXRXyqnT71nsoiINO5PlUiOIB8sEw\\u002fGEn+zPF2uD\\u002fZ8FKkkuFpPw==\"},\"yaxis\":\"y7\",\"type\":\"scatter\"},{\"line\":{\"color\":\"lightgrey\"},\"mode\":\"lines\",\"name\":\"Z-Curve\",\"showlegend\":false,\"x\":{\"dtype\":\"f8\",\"bdata\":\"AAAAAAAAEMBv\\u002fbv179YPwN76d+vfrQ\\u002fATfgz4c+ED8C89e\\u002fWv1sPwCvzq8yvMg\\u002fAmvBnwp8JD8AJ7iO4j+AOwHjr361\\u002ftw7A5+ibo2+ODsBW5leZX2UOwMXjE49PPA7ANOHPhD8TDsCj3ot6L+oNwBLcR3AfwQ3AgdkDZg+YDcDw1r9b\\u002f24NwF\\u002fUe1HvRQ3AztE3R98cDcA9z\\u002fM8z\\u002fMMwKzMrzK\\u002fygzAG8prKK+hDMCKxycen3gMwPnE4xOPTwzAaMKfCX8mDMDXv1v\\u002fbv0LwEa9F\\u002fVe1AvAtbrT6k6rC8AkuI\\u002fgPoILwJO1S9YuWQvAArMHzB4wC8BxsMPBDgcLwOCtf7f+3QrAT6s7re60CsC+qPei3osKwC2ms5jOYgrAnKNvjr45CsALoSuErhAKwHqe53me5wnA6Zujb46+CcBYmV9lfpUJwMeWG1tubAnANpTXUF5DCcClkZNGThoJwBSPTzw+8QjAg4wLMi7ICMDyiccnHp8IwGGHgx0OdgjA0IQ\\u002fE\\u002f5MCMA\\u002fgvsI7iMIwK5\\u002ft\\u002f7d+gfAHX1z9M3RB8CMei\\u002fqvagHwPt369+tfwfAanWn1Z1WB8DZcmPLjS0HwEhwH8F9BAfAt23btm3bBsAma5esXbIGwJVoU6JNiQbABGYPmD1gBsBzY8uNLTcGwOJgh4MdDgbAUV5DeQ3lBcDAW\\u002f9u\\u002fbsFwC9Zu2TtkgXAnlZ3Wt1pBcANVDNQzUAFwHxR70W9FwXA606rO63uBMBaTGcxncUEwMlJIyeNnATAOEffHH1zBMCnRJsSbUoEwBZCVwhdIQTAhT8T\\u002fkz4A8D0PM\\u002fzPM8DwGM6i+kspgPA0jdH3xx9A8BBNQPVDFQDwLAyv8r8KgPAHzB7wOwBA8COLTe23NgCwP0q86vMrwLAbCivobyGAsDbJWuXrF0CwEojJ42cNALAuSDjgowLAsAoHp94fOIBwJcbW25suQHABhkXZFyQAcB1FtNZTGcBwOQTj088PgHAUxFLRSwVAcDCDgc7HOwAwDEMwzAMwwDAoAl\\u002fJvyZAMAPBzsc7HAAwH4E9xHcRwDA7QGzB8weAMC4\\u002ft36d+v\\u002fv5b5VeZXmf+\\u002fdPTN0TdH\\u002f79S70W9F\\u002fX+vzDqvaj3ov6\\u002fDuU1lNdQ\\u002fr\\u002fs361\\u002ft\\u002f79v8raJWuXrP2\\u002fqNWdVnda\\u002fb+G0BVCVwj9v2TLjS03tvy\\u002fQsYFGRdk\\u002fL8gwX0E9xH8v\\u002f679e\\u002fWv\\u002fu\\u002f3LZt27Zt+7+6seXGlhv7v5isXbJ2yfq\\u002fdqfVnVZ3+r9Uok2JNiX6vzKdxXQW0\\u002fm\\u002fEJg9YPaA+b\\u002fukrVL1i75v8yNLTe23Pi\\u002fqoilIpaK+L+Igx0Odjj4v2Z+lflV5ve\\u002fRHkN5TWU978idIXQFUL3vwBv\\u002fbv17\\u002fa\\u002f3ml1p9Wd9r+8ZO2StUv2v5pfZX6V+fW\\u002feFrdaXWn9b9WVVVVVVX1vzRQzUA1A\\u002fW\\u002fEktFLBWx9L\\u002fwRb0X9V70v85ANQPVDPS\\u002frDut7rS687+KNiXalGjzv2gxncV0FvO\\u002fRiwVsVTE8r8kJ42cNHLyvwIiBYgUIPK\\u002f4Bx9c\\u002fTN8b++F\\u002fVe1Hvxv5wSbUq0KfG\\u002feg3lNZTX8L9YCF0hdIXwvzYD1QxUM\\u002fC\\u002fKPyZ8GfC77\\u002fk8YnHJx7vv6DneZ7nee6\\u002fXN1pdafV7b8Y01lMZzHtv9TISSMnjey\\u002fkL45+ubo679MtCnRpkTrvwiqGahmoOq\\u002fxJ8Jfyb86b+AlflV5lfpvzyL6Syms+i\\u002f+IDZA2YP6L+0dsnaJWvnv3BsubHlxua\\u002fLGKpiKUi5r\\u002foV5lfZX7lv6RNiTYl2uS\\u002fYEN5DeU15L8cOWnkpJHjv9guWbtk7eK\\u002flCRJkiRJ4r9QGjlp5KThvwwQKUCkAOG\\u002fyAUZF2Rc4L8I9xHcR3Dfv4Di8YnHJ96\\u002f+M3RN0ff3L9wubHlxpbbv+ikkZNGTtq\\u002fYJBxQcYF2b\\u002fYe1HvRb3Xv1BnMZ3FdNa\\u002fyFIRS0Us1b9APvH4xOPTv7gp0aZEm9K\\u002fMBWxVMRS0b+oAJECRArQv0DY4WCHg82\\u002fMK+hvIbyyr8ghmEYhmHIvxBdIXSF0MW\\u002fADThz4Q\\u002fw7\\u002fwCqErhK7Av8DDwQ4HO7y\\u002foHFBxgUZt7+AH8F9BPexv8CagWoGqqm\\u002fAO0BswfMnr8ASQEiBYiEvwBIASIFiIQ\\u002fAOwBswfMnj+AmoFqBqqpP4AfwX0E97E\\u002fgHFBxgUZtz+Aw8EOBzu8P+AKoSuErsA\\u002fADThz4Q\\u002fwz8AXSF0hdDFPwCGYRiGYcg\\u002fIK+hvIbyyj9A2OFgh4PNP6AAkQJECtA\\u002fIBWxVMRS0T+wKdGmRJvSP0A+8fjE49M\\u002fwFIRS0Us1T9AZzGdxXTWP9B7Ue9Fvdc\\u002fYJBxQcYF2T\\u002fgpJGTRk7aP2C5seXGlts\\u002f8M3RN0ff3D+A4vGJxyfePwD3EdxHcN8\\u002fwAUZF2Rc4D8IEClApADhP1AaOWnkpOE\\u002fkCRJkiRJ4j\\u002fQLlm7ZO3iPxg5aeSkkeM\\u002fYEN5DeU15D+gTYk2JdrkP+BXmV9lfuU\\u002fKGKpiKUi5j9wbLmx5cbmP7B2ydola+c\\u002f8IDZA2YP6D84i+ksprPoP4CV+VXmV+k\\u002fwJ8Jfyb86T8AqhmoZqDqP0i0KdGmROs\\u002fkL45+ubo6z\\u002fQyEkjJ43sPxDTWUxnMe0\\u002fWN1pdafV7T+g53me53nuP+DxiccnHu8\\u002fIPyZ8GfC7z80A9UMVDPwP1gIXSF0hfA\\u002feA3lNZTX8D+YEm1KtCnxP7wX9V7Ue\\u002fE\\u002f4Bx9c\\u002fTN8T8AIgWIFCDyPyAnjZw0cvI\\u002fRCwVsVTE8j9oMZ3FdBbzP4g2JdqUaPM\\u002fqDut7rS68z\\u002fMQDUD1Qz0P\\u002fBFvRf1XvQ\\u002fEEtFLBWx9D8wUM1ANQP1P1RVVVVVVfU\\u002feFrdaXWn9T+YX2V+lfn1P7hk7ZK1S\\u002fY\\u002f3Gl1p9Wd9j8Ab\\u002f279e\\u002f2PyB0hdAVQvc\\u002fQHkN5TWU9z9kfpX5Veb3P4iDHQ52OPg\\u002fqIilIpaK+D\\u002fIjS03ttz4P+yStUvWLvk\\u002fEJg9YPaA+T8wncV0FtP5P1CiTYk2Jfo\\u002fdKfVnVZ3+j+YrF2ydsn6P7ix5caWG\\u002fs\\u002f2LZt27Zt+z\\u002f8u\\u002fXv1r\\u002f7PyDBfQT3Efw\\u002fQMYFGRdk\\u002fD9gy40tN7b8P4TQFUJXCP0\\u002fqNWdVnda\\u002fT\\u002fI2iVrl6z9P+jfrX+3\\u002fv0\\u002fDOU1lNdQ\\u002fj8w6r2o96L+P1DvRb0X9f4\\u002fcPTN0TdH\\u002fz+U+VXmV5n\\u002fP7j+3fp36\\u002f8\\u002f7AGzB8weAEB8BPcR3EcAQA4HOxzscABAoAl\\u002fJvyZAEAwDMMwDMMAQMAOBzsc7ABAUhFLRSwVAUDkE49PPD4BQHQW01lMZwFABBkXZFyQAUCWG1tubLkBQCgen3h84gFAuCDjgowLAkBIIyeNnDQCQNola5esXQJAbCivobyGAkD8KvOrzK8CQIwtN7bc2AJAHjB7wOwBA0CwMr\\u002fK\\u002fCoDQEA1A9UMVANA0DdH3xx9A0BiOovpLKYDQPQ8z\\u002fM8zwNAhD8T\\u002fkz4A0AUQlcIXSEEQKZEmxJtSgRAOEffHH1zBEDISSMnjZwEQFhMZzGdxQRA6k6rO63uBEB8Ue9FvRcFQAxUM1DNQAVAnFZ3Wt1pBUAuWbtk7ZIFQMBb\\u002f279uwVAUF5DeQ3lBUDgYIeDHQ4GQHJjy40tNwZABGYPmD1gBkCUaFOiTYkGQCRrl6xdsgZAtm3btm3bBkBIcB\\u002fBfQQHQNhyY8uNLQdAaHWn1Z1WB0D6d+vfrX8HQIx6L+q9qAdAHH1z9M3RB0Csf7f+3foHQD6C+wjuIwhA0IQ\\u002fE\\u002f5MCEBgh4MdDnYIQPCJxycenwhAgowLMi7ICEAUj088PvEIQKSRk0ZOGglANJTXUF5DCUDGlhtbbmwJQFiZX2V+lQlA6Jujb46+CUB4nud5nucJQAqhK4SuEApAnKNvjr45CkAsprOYzmIKQLyo96LeiwpATqs7re60CkDgrX+3\\u002ft0KQHCww8EOBwtAALMHzB4wC0CStUvWLlkLQCS4j+A+ggtAtLrT6k6rC0BEvRf1XtQLQNa\\u002fW\\u002f9u\\u002fQtAaMKfCX8mDED4xOMTj08MQIjHJx6feAxAGsprKK+hDECszK8yv8oMQDzP8zzP8wxAzNE3R98cDUBe1HtR70UNQPDWv1v\\u002fbg1AgNkDZg+YDUAQ3EdwH8ENQKLei3ov6g1ANOHPhD8TDkDE4xOPTzwOQFTmV5lfZQ5A5uibo2+ODkB469+tf7cOQAjuI7iP4A5AmPBnwp8JD0Aq86vMrzIPQLz179a\\u002fWw9ATPgz4c+ED0Dc+nfr360PQG79u\\u002fXv1g9AAAAAAAAAEEA=\"},\"xaxis\":\"x8\",\"y\":{\"dtype\":\"f8\",\"bdata\":\"tbTA4piKIT\\u002fVpf16mgAjP3FZkSukkyQ\\u002f6U48VsdFJj\\u002fiwpAcNxkoPwUMvTZKECo\\u002fCqH63XwtLD8rAQPLcnMuPz9VcqR8cjA\\u002fai5FroTCMT8yB58AZSszPzyVMz3JrjQ\\u002f1nFcXXZONj+xxnzwSww4P2KBP2VF6jk\\u002f5Q23XXvqOz8RAV4OJQ8+P57299NMLUA\\u002fsGkE5qhnQT8QHTiG9LdCP7l1dbqPH0Q\\u002ff9Wxj+2fRT+N8RfplDpHPz6kFFQh8Ug\\u002f12Yk4UPFSj+R9zABxLhMP6axR2eAzU4\\u002fEuY097eCUD9jBphBUbFRP1rCeQih81I\\u002fzlASuclKVD9to7ix+7dVP8zdqLx1PFc\\u002fL4fFi4XZWD9xDBY1iJBaP65NwK\\u002fqYlw\\u002fr\\u002fk1USpSXj82siSl6i9gP1Us7JHFRmE\\u002fnxBbnX5uYj\\u002fEWDyd96djP6q4Y8sb9GQ\\u002f+WFiAeBTZj8V9xLzQshnP+3Gw2dNUmk\\u002fwLLDcRLzaj\\u002fLbROkr6tsP+Ab+kVNfW4\\u002fsdocQo80cD8Bg87PMDhxPyFOSwwwSnI\\u002fF8vSazdrcz\\u002ffchkp95t0P365y1Ul3XU\\u002fr7b86H0vdz8hl1bLwpN4Pywj4uC7Cno\\u002fxto5EDeVez9UcfxGCDR9P9zZUXsJ6H4\\u002fIMsqVQ1ZgD\\u002feTpzpkEmBP4x4dncFRoI\\u002fjmwW8uNOgz9Y69c7qGSEP26\\u002fLxzRh4U\\u002fsGyvM+C4hj8ssNvtWfiHP466v3DFRok\\u002fx4Eniqykij+\\u002fEWyamxKMP1JovXwhkY0\\u002fACjWbM8gjz8uIwN1HGGQP2Vowcv5OpE\\u002f6vn0jEsekj\\u002fDz\\u002fV4XguTP103BCqAApQ\\u002fzu+s\\u002fv4DlT83OawCKhCWPzLzStZQJ5c\\u002fXMcxlMNJmD\\u002ffS6+10neZPxMIb\\u002fXOsZo\\u002fElGgMAn4mz+QDo1G0kqdP7+fofZ6qp4\\u002fpyZ03qkLoD9\\u002f+31W1sigP5x8u6XqjKE\\u002fNlDyMg5Yoj\\u002fgcZ70ZyqjP0HHeVseBKQ\\u002fbbtSPFflpD9l7ze5N86lPzTR\\u002fynkvqY\\u002fBrEzBIC3pz+ys2bCLbioP9DLAcsOwak\\u002fda2OVkPSqj+6e4xV6uurP6652VUhDq0\\u002fFNK\\u002fZwQ5rj9BUK0CrmyvP81U1nSbVLA\\u002f1RvTB1v3sD+wX749oJ6xP4xMCpZ0SrI\\u002f1h4rfuD6sj89055D66+zP7pHBAababQ\\u002foCFLqfQntT+8EwbI++q1P61h6aWysrY\\u002fZLl\\u002fIhp\\u002ftz\\u002fVsR+sMVC4P65sLDP3Jbk\\u002fBAGsHWcAuj9gdT47fN+6PwsogLkvw7s\\u002f6JTiGHmrvD+9bwYiTpi9P9wIotuiib4\\u002fV+f+gGl\\u002fvz8vuIw8yTzAP9GqNicGvMA\\u002foq6802E9wT\\u002f7cQKg0cDBP1afmPFJRsI\\u002fUG0wM77Nwj861X7SIFfDPwMKlD5j4sM\\u002f3Jar5nVvxD8gVXk5SP7EP1As96TIjsU\\u002fFE23luQgxj+OUb58iLTGP71h6MafScc\\u002fqSrc6BTgxz9SIo5c0XfIP785VqW9EMk\\u002fY8GZU8GqyT+N4woJw0XKPy+0fn2o4co\\u002fym1ahFZ+yz+3CJgSsRvMP\\u002ffsYUWbucw\\u002f\\u002fA5FafdXzT+RVvgBp\\u002fbNP9K7t9KKlc4\\u002f+REx54I0zz+UAgCdbtPPPxQj21YWOdA\\u002fAVm2nE2I0D\\u002fWnuzoS9fQPzrX8sL\\u002fJdE\\u002fVBLhdld00T94KrcbQcLRP8nk2ZmqD9I\\u002fgY3FsYFc0j8h0\\u002fICtKjSP\\u002fBw6hIv9NI\\u002fcAiEVOA+0z\\u002fqWkwvtYjTP+XnDgeb0dM\\u002f5ct+Q38Z1D\\u002f7k\\u002fpXT2DUP+OWZsv4pdQ\\u002fx0MZQGnq1D9oudR7ji3VP6LeyG9Wb9U\\u002f6B6ZQK+v1T\\u002fj2mBOh+7VP7qOsTzNK9Y\\u002f2aSF+m9n1j9T5SLKXqHWP41v50iJ2dY\\u002fdi38dt8P1z9dtee+UUTXP5qZ\\u002fPzQdtc\\u002fgTOehk6n1z+UCVcxvNXXP8MHvFkMAtg\\u002fNdsX6jEs2D824tlgIFTYP71DxNbLedg\\u002f6OjUBCmd2D9uPeVJLb7YP2PK\\u002fK\\u002fO3Ng\\u002fYfBS8QP52D+TO\\u002fx8xBLZP0YEQHsIKtk\\u002fMkqT0cg+2T+49jUm\\u002f1DZPy\\u002fzb+OlYNk\\u002fXsNrOrht2T+TmawlMnjZP8ogHmsQgNk\\u002fMoK8nVCF2T9LddMe8YfZP0t10x7xh9k\\u002fMoK8nVCF2T\\u002fKIB5rEIDZP5OZrCUyeNk\\u002fXsNrOrht2T8w82\\u002fjpWDZP7n2NSb\\u002fUNk\\u002fMkqT0cg+2T9HBEB7CCrZP5Q7\\u002fHzEEtk\\u002fYvBS8QP52D9jyvyvztzYP2895Uktvtg\\u002f6ejUBCmd2D++Q8TWy3nYPzbi2WAgVNg\\u002fNtsX6jEs2D\\u002fFB7xZDALYP5UJVzG81dc\\u002fgTOehk6n1z+cmfz80HbXP1+1575RRNc\\u002feC38dt8P1z+Nb+dIidnWP1XlIspeodY\\u002f3aSF+m9n1j+8jrE8zSvWP+PaYE6H7tU\\u002f6h6ZQK+v1T+l3shvVm\\u002fVP2m51HuOLdU\\u002fx0MZQGnq1D\\u002fmlmbL+KXUP\\u002f+T+ldPYNQ\\u002f58t+Q38Z1D\\u002fl5w4Hm9HTP+1aTC+1iNM\\u002fdAiEVOA+0z\\u002fxcOoSL\\u002fTSPyHT8gK0qNI\\u002fgo3FsYFc0j\\u002fN5NmZqg\\u002fSP3oqtxtBwtE\\u002fVBLhdld00T881\\u002fLC\\u002fyXRP9qe7OhL19A\\u002fA1m2nE2I0D8UI9tWFjnQP5kCAJ1u088\\u002fARIx54I0zz\\u002fVu7fSipXOP5FW+AGn9s0\\u002fAQ9FafdXzT\\u002f\\u002f7GFFm7nMP7oImBKxG8w\\u002fym1ahFZ+yz80tH59qOHKP5XjCgnDRco\\u002fZsGZU8GqyT+\\u002fOValvRDJP1YijlzRd8g\\u002fsSrc6BTgxz\\u002fBYejGn0nHP45RvnyItMY\\u002fGE23luQgxj9XLPekyI7FPyRVeTlI\\u002fsQ\\u002f3Jar5nVvxD8HCpQ+Y+LDP0HVftIgV8M\\u002fVG0wM77Nwj9Wn5jxSUbCP\\u002f5xAqDRwME\\u002fqK6802E9wT\\u002fUqjYnBrzAPy+4jDzJPMA\\u002fXuf+gGl\\u002fvz\\u002fpCKLboom+P8NvBiJOmL0\\u002f6JTiGHmrvD8SKIC5L8O7P2x1Pjt837o\\u002fCAGsHWcAuj+ubCwz9yW5P9qxH6wxULg\\u002fbrl\\u002fIhp\\u002ftz+zYemlsrK2P7wTBsj76rU\\u002fpCFLqfQntT\\u002fDRwQGm2m0P0HTnkPrr7M\\u002f1h4rfuD6sj+QTAqWdEqyP7hfvj2gnrE\\u002f2RvTB1v3sD\\u002fNVNZ0m1SwP0dQrQKubK8\\u002fI9K\\u002fZwQ5rj+2udlVIQ6tP7p7jFXq66s\\u002fe62OVkPSqj\\u002fdywHLDsGpP7izZsItuKg\\u002fBrEzBIC3pz850f8p5L6mP3DvN7k3zqU\\u002fcrtSPFflpD9Bx3lbHgSkP+VxnvRnKqM\\u002fQFDyMg5Yoj+hfLul6oyhP3\\u002f7fVbWyKA\\u002friZ03qkLoD\\u002fPn6H2eqqeP5cOjUbSSp0\\u002fElGgMAn4mz8ZCG\\u002f1zrGaP+9Lr7XSd5k\\u002fYccxlMNJmD8y80rWUCeXPzw5rAIqEJY\\u002f2++s\\u002fv4DlT9hNwQqgAKUP8PP9XheC5M\\u002f7\\u002fn0jEsekj9waMHL+TqRPzMjA3UcYZA\\u002fACjWbM8gjz9eaL18IZGNP9ARbJqbEow\\u002fz4Eniqykij+Our9wxUaJPzWw2+1Z+Ic\\u002fwWyvM+C4hj90vy8c0YeFP1jr1zuoZIQ\\u002flWwW8uNOgz+YeHZ3BUaCP+ROnOmQSYE\\u002fIMsqVQ1ZgD\\u002fi2VF7Ceh+P2tx\\u002fEYINH0\\u002fzto5EDeVez8sI+Lguwp6PyiXVsvCk3g\\u002fwbb86H0vdz+DuctVJd11P99yGSn3m3Q\\u002fHMvSazdrcz8vTksMMEpyPwWDzs8wOHE\\u002fsdocQo80cD\\u002foG\\u002fpFTX1uP+BtE6Svq2w\\u002fyLLDcRLzaj\\u002ftxsNnTVJpPyH3EvNCyGc\\u002fCmJiAeBTZj+0uGPLG\\u002fRkP8RYPJ33p2M\\u002fqRBbnX5uYj9iLOyRxUZhPzqyJKXqL2A\\u002fr\\u002fk1USpSXj+8TcCv6mJcP4YMFjWIkFo\\u002fPIfFi4XZWD\\u002fM3ai8dTxXP3OjuLH7t1U\\u002f4lASuclKVD9jwnkIofNSP2MGmEFRsVE\\u002fFuY097eCUD\\u002fGsUdngM1OP5\\u002f3MAHEuEw\\u002f12Yk4UPFSj9EpBRUIfFIP6TxF+mUOkc\\u002fitWxj+2fRT+5dXW6jx9EPxkdOIb0t0I\\u002fwWkE5qhnQT+m9vfTTC1APxEBXg4lDz4\\u002f8w23XXvqOz91gT9lReo5P73GfPBLDDg\\u002f1nFcXXZONj9AlTM9ya40P0UHnwBlKzM\\u002fci5FroTCMT8\\u002fVXKkfHIwPzkBA8tycy4\\u002fJ6H63XwtLD8SDL02ShAqP+LCkBw3GSg\\u002f9E48VsdFJj+FWZErpJMkP9+l\\u002fXqaACM\\u002ftbTA4piKIT8=\"},\"yaxis\":\"y8\",\"type\":\"scatter\"},{\"marker\":{\"color\":{\"dtype\":\"f8\",\"bdata\":\"OGatcNQr7T\\u002fUAuvGxevtPzhmrXDUK+0\\u002fJLtVsNEz7z9k6afI0aGwPyj5rjUUU+k\\u002fwyUMRmqk4j81IsZWi+rqP72i1fXUZOc\\u002fOGatcNQr7T81IsZWi+rqP8l5ilp9L+w\\u002fyXmKWn0v7D+9otX11GTnPyj5rjUUU+k\\u002fyXmKWn0v7D\\u002fUAuvGxevtP8l5ilp9L+w\\u002fyXmKWn0v7D+9+ja8fHvuP9QC68bF6+0\\u002fRVSQPDRIqD\\u002fJeYpafS\\u002fsP8l5ilp9L+w\\u002fNSLGVovq6j81IsZWi+rqP8l5ilp9L+w\\u002fOGatcNQr7T84Zq1w1CvtPyj5rjUUU+k\\u002fvaLV9dRk5z81IsZWi+rqPyj5rjUUU+k\\u002fAAAAAAAA4D8o+a41FFPpP8l5ilp9L+w\\u002f1ALrxsXr7T96tOdzK7faPzUixlaL6uo\\u002fvaLV9dRk5z81IsZWi+rqPwEiT4rqJOU\\u002fwyUMRmqk4j96tOdzK7faPwEiT4rqJOU\\u002fvfo2vHx77j\\u002fJeYpafS\\u002fsPyj5rjUUU+k\\u002fOGatcNQr7T8AAAAAAADgP8MlDEZqpOI\\u002fvfo2vHx77j81IsZWi+rqP\\u002f+7YesqttU\\u002fyXmKWn0v7D\\u002fUAuvGxevtPzUixlaL6uo\\u002fvaLV9dRk5z\\u002fUAuvGxevtP9QC68bF6+0\\u002fyXmKWn0v7D9of2Mw0+XuP8MlDEZqpOI\\u002fASJPiuok5T8o+a41FFPpP736Nrx8e+4\\u002f1ALrxsXr7T8o+a41FFPpP72i1fXUZOc\\u002fyXmKWn0v7D8ku1Ww0TPvPzhmrXDUK+0\\u002fvfo2vHx77j8ud+ek0lXEPzhmrXDUK+0\\u002fyXmKWn0v7D\\u002fDJQxGaqTiP3q053Mrt9o\\u002fASJPiuok5T+9+ja8fHvuPyj5rjUUU+k\\u002fvaLV9dRk5z8AAAAAAADgPyj5rjUUU+k\\u002fNSLGVovq6j+9+ja8fHvuP\\u002f+7YesqttU\\u002fyXmKWn0v7D+9otX11GTnP\\u002f+7YesqttU\\u002fNSLGVovq6j+9otX11GTnPwEiT4rqJOU\\u002fyXmKWn0v7D84Zq1w1CvtP8MlDEZqpOI\\u002ferTncyu32j\\u002fJeYpafS\\u002fsPyj5rjUUU+k\\u002fvaLV9dRk5z\\u002fJeYpafS\\u002fsPzhmrXDUK+0\\u002fvfo2vHx77j8o+a41FFPpP2h\\u002fYzDT5e4\\u002fKPmuNRRT6T\\u002fDJQxGaqTiPyj5rjUUU+k\\u002fASJPiuok5T81IsZWi+rqP9QC68bF6+0\\u002fKPmuNRRT6T8AAAAAAADgP2AbRCmvs8o\\u002fNSLGVovq6j81IsZWi+rqP2AbRCmvs8o\\u002fwyUMRmqk4j8o+a41FFPpP72i1fXUZOc\\u002fASJPiuok5T96tOdzK7faP72i1fXUZOc\\u002fAAAAAAAA4D+GulQUVjbRPwEiT4rqJOU\\u002fKPmuNRRT6T8AAAAAAADgP72i1fXUZOc\\u002fpp58EOKV7z\\u002fq4Q0vqGzvP+rhDS+obO8\\u002f\\u002f7th6yq21T8ku1Ww0TPvPyS7VbDRM+8\\u002faH9jMNPl7j9of2Mw0+XuP2h\\u002fYzDT5e4\\u002faH9jMNPl7j9of2Mw0+XuP72i1fXUZOc\\u002ferTncyu32j96tOdzK7faP2AbRCmvs8o\\u002fwyUMRmqk4j8AAAAAAADgP736Nrx8e+4\\u002fvfo2vHx77j+9+ja8fHvuPwAAAAAAAOA\\u002fKPmuNRRT6T8AAAAAAADgP9QC68bF6+0\\u002f1ALrxsXr7T\\u002fUAuvGxevtP9QC68bF6+0\\u002f1ALrxsXr7T\\u002f\\u002fu2HrKrbVP4ObSPXJhZk\\u002fYBtEKa+zyj84Zq1w1CvtPzhmrXDUK+0\\u002fOGatcNQr7T84Zq1w1CvtPzhmrXDUK+0\\u002fOGatcNQr7T96tOdzK7faP\\u002f+7YesqttU\\u002fASJPiuok5T\\u002fJeYpafS\\u002fsP8l5ilp9L+w\\u002fyXmKWn0v7D\\u002fJeYpafS\\u002fsP8l5ilp9L+w\\u002fyXmKWn0v7D\\u002fJeYpafS\\u002fsP8l5ilp9L+w\\u002fyXmKWn0v7D\\u002fJeYpafS\\u002fsPwAAAAAAAOA\\u002fNSLGVovq6j81IsZWi+rqPzUixlaL6uo\\u002fNSLGVovq6j81IsZWi+rqPzUixlaL6uo\\u002fNSLGVovq6j9gG0Qpr7PKPwAAAAAAAOA\\u002fLnfnpNJVxD96tOdzK7faPwAAAAAAAOA\\u002fKPmuNRRT6T8o+a41FFPpPyj5rjUUU+k\\u002fAAAAAAAA4D\\u002fDJQxGaqTiPy5356TSVcQ\\u002fvaLV9dRk5z+9otX11GTnP72i1fXUZOc\\u002fYBtEKa+zyj96tOdzK7faPwEiT4rqJOU\\u002fLnfnpNJVxD\\u002f\\u002fu2HrKrbVPy5356TSVcQ\\u002fLnfnpNJVxD+GulQUVjbRP64xrCsVhL4\\u002fwyUMRmqk4j9gG0Qpr7PKP\\u002f+7YesqttU\\u002fLnfnpNJVxD9FVJA8NEioP2AbRCmvs8o\\u002fYBtEKa+zyj8AAAAAAAD4fw==\"},\"showscale\":true,\"size\":{\"dtype\":\"f8\",\"bdata\":\"eBfxR+0q7z8msvYcB\\u002fLtP50FuVWFdeY\\u002fX5dgMl435D8AAAAAAADwPyGYdwxfF+U\\u002f0H9oPx4o5z+nm59WY3HiP0A2iQ94juM\\u002fPIHm7q8C4T\\u002fjg1Hed0XhPxJOFOr9mt8\\u002fcrZH1u093j9LBaALcQPhPxVFdetQ2N8\\u002fnFjMcI1H3D\\u002fhquytUFfYP7b4CsZ0u9g\\u002f+aicLf2z2D+tka5GajbWPxQZo\\u002fAZWNY\\u002faiVI4p845z\\u002fu+jCgBjHXP0SeCCI3+tY\\u002fHSGfZS331z\\u002fWp4b7\\u002fvLXP9kblf2iqtY\\u002fAsGenOfJ1T9KT8ct+k7VP\\u002feVFKvd3Nc\\u002fDmXsYmVW2T9WYbsiq7HVPwZKWOKOBdc\\u002fcB9o62jg3j9+oKfh\\u002fFXWP7YXHI5DyNM\\u002f5+VUIpdK0j+eLlNali3gP6WjHrciTNQ\\u002fSTWRadrN1j\\u002fpbqzRtcjTP7HH2WFUftg\\u002f+WQCe6Bp2j\\u002fKLnwRfb7eP7siU2Ki7Nc\\u002fQRlnQHO7zz\\u002fZ8rwMOs7RP8UcP2OQz9M\\u002frm5TvqyC0D+nPnefYqTbP\\u002fqzNug\\u002fL9k\\u002fWvlDggOJzT\\u002f7kNL1z6TRP0NZipCcMt8\\u002fW9d54whQ0D9uQm9NdCDNPy9PVhRsFNE\\u002fQVwTj\\u002f9R0z+l5m6wwlDLPyTz1lpyRss\\u002f2RsLuOrrzT\\u002fh\\u002fSObMdXIP56KI\\u002fLV49Y\\u002fmCQJpTac1D97ltBhWMjQP8D\\u002f4Vc\\u002flcg\\u002fwhfHIVlDyT8Veu4LHGvQP7x2YL3+9dE\\u002f68RM7Sxlyz\\u002frDTABFg7GP5sN7GdkA8k\\u002fGFWruRTDxj9K9QqlzongP\\u002f5unixHy8g\\u002fIZOauLVDyj\\u002fn3MFtOz3VP25gr926ftk\\u002ftYMyxLOw0j8Hil5XVvvEP\\u002fjxu+42wc0\\u002fB1bTqcBU0D+vK7ReBJnWPyhy\\u002fEz98sw\\u002fj1UHIzr6yT8DuP19AtDDP+UWdzP+ito\\u002fOiqe7SY4xz9qh9jgWu\\u002fOPxpY388N7tk\\u002fmDQNtM5IyD8S2fJyUzXOPx\\u002fHEQMn\\u002ftA\\u002fYwZJg0TlxT8YPTcCd7\\u002fDP3245KmWpNI\\u002fLSsq2jT91j9IlZwJXQPEP\\u002fqK0L+smMg\\u002fCifIA7heyz9TSqaFl+jCP8HlUzlId8A\\u002fLDviah3Muz\\u002fyKaxV8p7GP1CA6ih7vrg\\u002f+BOMk+LpxT88IIimkqvQPwD3m18+H8U\\u002fjej5+Z4YzD\\u002fN8JsasBnCP0h51yq6gbk\\u002fQNmha7SIxD+HlM1qPrvRP1Z\\u002fKGvasdk\\u002fFQRYPnhVwD+i5SYhTh7AP2+KtinuWdk\\u002fp57Oo4XlzT9jrg7vWULCP6iIibSDi8U\\u002fdMckqjgXyT+oB1+EyLDSP1dGnKGp2MM\\u002f+VPFLo4o0D9MtrgybvnVP04Q2NfqLcY\\u002fCqUsDZpAvT\\u002fwQsybZX7NPz0Ovftcjrw\\u002fAAAAAAAAAAAAAAAAAAAAAAAAAAAAAAAAJbLtKll20T8AAAAAAAAAAAAAAAAAAAAAAAAAAAAAAAAAAAAAAAAAAAAAAAAAAAAAAAAAAAAAAAAAAAAAAAAAAI5Piobhqrk\\u002ftS4+2+kBzj8kYakfw+3NP2zE859pr9Q\\u002fXA8gviphxD+GOGgG5OfIPwAAAAAAAAAAAAAAAAAAAAAAAAAAAAAAABq3k+XXk8g\\u002fwDHyGBX4sD\\u002fI7ukjaOTHPwAAAAAAAAAAAAAAAAAAAAAAAAAAAAAAAAAAAAAAAAAAAAAAAAAAAADfNwiheQHQP6IDZ6FRitg\\u002feX+XsE940z8AAAAAAAAAAAAAAAAAAAAAAAAAAAAAAAAAAAAAAAAAAAAAAAAAAAAAAAAAAAAAAABZUs6vp5DKP9n2d7x+qc4\\u002fkh7NdNBguT8AAAAAAAAAAAAAAAAAAAAAAAAAAAAAAAAAAAAAAAAAAAAAAAAAAAAAAAAAAAAAAAAAAAAAAAAAAAAAAAAAAAAAAAAAAAAAAAAAAAAAAAAAALg\\u002fk3HGgcM\\u002fAAAAAAAAAAAAAAAAAAAAAAAAAAAAAAAAAAAAAAAAAAAAAAAAAAAAAAAAAAAAAAAAAAAAAAAAAADpdWipJVHRPwTxTvJkWMI\\u002fXo6lVdUS0j\\u002f3JKOpKsPFP1Z6HhDjT8A\\u002fAAAAAAAAAAAAAAAAAAAAAAAAAAAAAAAAZyldbdfwvz\\u002fvxW3Ho2ayP5pf2MkUANA\\u002fAAAAAAAAAAAAAAAAAAAAAAAAAAAAAAAAY8Kuic\\u002fwyT+l413NxSa8PwAAAAAAAAAAQw\\u002fSarLAyj8fo\\u002fzw20nAP4yO5wPaBco\\u002fI1BYzjvlyD9Lz3d++\\u002fHBPxTqYCY0G8o\\u002fAAAAAAAAAADilz4bZjTEP2TxlRl4Z7E\\u002fVDCF3qZnrT8HeJ9pdY+0PwAAAAAAAAAAAAAAAAAAAAAAAAAAAAAAAA==\"}},\"mode\":\"markers+text\",\"name\":\"Player\",\"showlegend\":false,\"text\":[\"Lawrence Ennali\",\"Tomas \\u00c1ngel\",\"Talles Magno\",\"David Mart\\u00ednez\",\"Lionel Messi\",\"Cucho\",\"Karol \\u015awiderski\",\"Tani Oluwaseyi\",\"Alonso Mart\\u00ednez\",\"Carlos G\\u00f3mez\",\"Kelvin Yeboah\",\"Gabriel Chaves\",\"Gabe Segal\",\"Sebasti\\u00e1n Ferreira\",\"Dejan Jovelji\\u0107\",\"Ramiro Enrique\",\"Nathan Ordaz\",\"Leonardo Afonso\",\"Mateusz Bogusz\",\"Kimani Stewart-Baynes\",\"Diego Luna\",\"Luis Su\\u00e1rez\",\"Stephen Afrifa\",\"Duncan McGuire\",\"Bongokuhle Hlongwane\",\"Leonardo Campana\",\"Logan Farrington\",\"Luca Langoni\",\"Sunusi Ibrahim\",\"Jack Lynn\",\"Petar Musa\",\"Patrick Agyemang\",\"William Agada\",\"Cristian Arango\",\"Simon Becher\",\"Edwin Mosquera\",\"Juli\\u00e1n Fern\\u00e1ndez\",\"Denis Bouanga\",\"Santiago Moreno\",\"Joseph Paintsil\",\"Facundo Torres\",\"Jonathan Lewis\",\"Anderson Julio\",\"Brad Smith\",\"Tai Baribo\",\"CJ Fodrey\",\"Elias Manoel\",\"Santiago Rodr\\u00edguez\",\"Alan Velasco\",\"Ryan Gauld\",\"Pep Biel\",\"Kevin Kelsy\",\"Rafael Navarro\",\"Josef Mart\\u00ednez\",\"Antony\",\"Alenis Vargas\",\"Juli\\u00e1n Carranza\",\"Dante Vanzeir\",\"Diego G\\u00f3mez\",\"Dominik Marczuk\",\"Liel Abada\",\"Kristian Fletcher\",\"Lewis Morgan\",\"Ezequiel Ponce\",\"Nathan Foga\\u00e7a\",\"Darren Yapi\",\"Malachi Jones\",\"Kevin Cabral\",\"Sam Surridge\",\"Iuri Tavares\",\"Fidel Barajas\",\"Cristian Olivera\",\"Georgios Koutsias\",\"Christian Benteke\",\"Deandre Kerr\",\"Dylan Borrero\",\"Brian White\",\"Giorgos Giakoumakis\",\"Miguel Berry\",\"Jacob Murrell\",\"C\\u00e9lio Pompeu\",\"Paul Rothrock\",\"Daniel Armando R\\u00edos\",\"Hannes Wolf\",\"L\\u00e9o Ch\\u00fa\",\"Agustin Ojeda\",\"Jonathan Rodr\\u00edguez\",\"Aliyu Ibrahim\",\"Samuel Adeniran\",\"Felipe Mora\",\"Calvin Harris\",\"Osman Bukari\",\"Mat\\u00edas C\\u00f3ccaro\",\"Marinos Tzionis\",\"Jeong Sangbin\",\"Latif Blessing\",\"Mikael Uhre\",\"Kerwin Vargas\",\"Iv\\u00e1n Angulo\",\"Giacomo Vrioni\",\"Pedro De la Vega\",\"Georgi Minoungou\",\"Owen Wolff\",\"John Klein\",\"Esmir Bajraktarevic\",\"Jacob Shaffelburg\",\"Aaron Boupendza\",\"Maren Haile-Selassie\",\"Hugo Cuypers\",\"Monsef Bakrar\",\"Tyler Wolff\",\"N\\u00f6kkvi \\u00de\\u00f3risson\",\"Cristian Espinoza\",\"Faf\\u00e0 Picault\",\"Ousseni Bouda\",\"Christopher Donovan\",\"Maikel Chang\",\"Prince Osei Owusu\",\"Omir Fernandez\",\"Adalberto Carrasquilla\",\"Klauss\",\"Jordan Morris\",\"Tom\\u00e1s Chancalay\",\"Corey Baird\",\"Bobby Wood\",\"Jeremy Ebobisse\",\"Benjamin Kikanovic\",\"Rasmus Alm\",\"Sebastian Kowalczyk\",\"Nimfasha Berchimas\",\"Caden Glover\",\"Zavier Gozo\",\"Emmanuel Boateng\",\"Mykhi Joyner\",\"Rub\\u00e9n Ramos\",\"Kage Romanshyn\",\"Jovan Mijatovi\\u0107\",\"Malcolm Fry\",\"Luke Brennan\",\"Tarik Scott\",\"Mason Toye\",\"Saba Lobzhanidze\",\"Robert Taylor\",\"Cory Burke\",\"D\\u00e1niel Sall\\u00f3i\",\"Enzo Copetti\",\"Idan Markovich\",\"Jack Panayotou\",\"Jay Herdman\",\"J\\u00e1der Obrian\",\"Preston Judd\",\"Daniel Musovski\",\"Patrick Weah\",\"Joseph Skinner\",\"Tega Ikoba\",\"Jeremy Garay\",\"Lo\\u00efc Mesanvi\",\"Jamal Thiar\\u00e9\",\"Kei Kamara\",\"Luis Muriel\",\"Jonathan Perez\",\"Brandon Cambridge\",\"Matthew Bell\",\"Roald Mitchell\",\"Piero Elias\",\"Brendan McSorley\",\"Sergio Santos Gomes\",\"Yuya Kubo\",\"Xande Silva\",\"Lachlan Brook\",\"Nick Scardina\",\"Charles Sharp\",\"Luis M\\u00fcller\",\"Forster Ajago\",\"Bryant Farkarlun\",\"Marcos Dias\",\"Yutaro Tsukada\",\"Aziel Jackson\",\"Shanyder Borgelin\",\"Nacho Gil\",\"Nicholas Gioacchini\",\"Will Richmond\",\"Deiber Caicedo\",\"Jose Casas de Abadal\",\"Lamine Diack\",\"Nicolas Firmino\",\"Rory O'Driscoll\",\"Alan Pulido\",\"Diego Fag\\u00fandez\",\"Ra\\u00fal Ruid\\u00edaz\",\"Tyler Boyd\",\"Tom Barlow\",\"Jordan Adebayo-Smith\",\"Levonte Johnson\",\"Ayo Akinola\",\"Alex Muyl\",\"Chris Mueller\",\"Amahl Pellegrino\",\"McKinze Gaines\",\"Samuel Adeniran\",\"Mason Toye\",\"Gyasi Zardes\",\"Eugene Ansah\",\"Benji Michel\",\"Teal Bunbury\",\"Diego Rubio\",\"Teemu Pukki\",\"Johnny Russell\",\"Dairon Asprilla\",\"Damir Kreilach\",\"Derrick Etienne\",\"Brecht Dejaegere\",\"Emiliano Rigoni\",\"Ethan Finlay\",\"Olivier Giroud\",\"Thomas McNamara\",\"Jamie Paterson\",\"Tyger Smalls\"],\"textposition\":\"top center\",\"x\":{\"dtype\":\"f8\",\"bdata\":\"oRgHy8ed67+hGAfLx53rv6EYB8vHneu\\u002fuJKlCNm9\\u002fT8hsJwFwcUNQA==\"},\"xaxis\":\"x8\",\"y\":{\"dtype\":\"f8\",\"bdata\":\"44zjkAiY0T\\u002fjjOOQCJjRP+OM45AImNE\\u002fXQ1fZPglsj92YbzGsLI5Pw==\"},\"yaxis\":\"y8\",\"type\":\"scatter\"},{\"line\":{\"color\":\"lightgrey\"},\"mode\":\"lines\",\"name\":\"Z-Curve\",\"showlegend\":false,\"x\":{\"dtype\":\"f8\",\"bdata\":\"AAAAAAAAEMBv\\u002fbv179YPwN76d+vfrQ\\u002fATfgz4c+ED8C89e\\u002fWv1sPwCvzq8yvMg\\u002fAmvBnwp8JD8AJ7iO4j+AOwHjr361\\u002ftw7A5+ibo2+ODsBW5leZX2UOwMXjE49PPA7ANOHPhD8TDsCj3ot6L+oNwBLcR3AfwQ3AgdkDZg+YDcDw1r9b\\u002f24NwF\\u002fUe1HvRQ3AztE3R98cDcA9z\\u002fM8z\\u002fMMwKzMrzK\\u002fygzAG8prKK+hDMCKxycen3gMwPnE4xOPTwzAaMKfCX8mDMDXv1v\\u002fbv0LwEa9F\\u002fVe1AvAtbrT6k6rC8AkuI\\u002fgPoILwJO1S9YuWQvAArMHzB4wC8BxsMPBDgcLwOCtf7f+3QrAT6s7re60CsC+qPei3osKwC2ms5jOYgrAnKNvjr45CsALoSuErhAKwHqe53me5wnA6Zujb46+CcBYmV9lfpUJwMeWG1tubAnANpTXUF5DCcClkZNGThoJwBSPTzw+8QjAg4wLMi7ICMDyiccnHp8IwGGHgx0OdgjA0IQ\\u002fE\\u002f5MCMA\\u002fgvsI7iMIwK5\\u002ft\\u002f7d+gfAHX1z9M3RB8CMei\\u002fqvagHwPt369+tfwfAanWn1Z1WB8DZcmPLjS0HwEhwH8F9BAfAt23btm3bBsAma5esXbIGwJVoU6JNiQbABGYPmD1gBsBzY8uNLTcGwOJgh4MdDgbAUV5DeQ3lBcDAW\\u002f9u\\u002fbsFwC9Zu2TtkgXAnlZ3Wt1pBcANVDNQzUAFwHxR70W9FwXA606rO63uBMBaTGcxncUEwMlJIyeNnATAOEffHH1zBMCnRJsSbUoEwBZCVwhdIQTAhT8T\\u002fkz4A8D0PM\\u002fzPM8DwGM6i+kspgPA0jdH3xx9A8BBNQPVDFQDwLAyv8r8KgPAHzB7wOwBA8COLTe23NgCwP0q86vMrwLAbCivobyGAsDbJWuXrF0CwEojJ42cNALAuSDjgowLAsAoHp94fOIBwJcbW25suQHABhkXZFyQAcB1FtNZTGcBwOQTj088PgHAUxFLRSwVAcDCDgc7HOwAwDEMwzAMwwDAoAl\\u002fJvyZAMAPBzsc7HAAwH4E9xHcRwDA7QGzB8weAMC4\\u002ft36d+v\\u002fv5b5VeZXmf+\\u002fdPTN0TdH\\u002f79S70W9F\\u002fX+vzDqvaj3ov6\\u002fDuU1lNdQ\\u002fr\\u002fs361\\u002ft\\u002f79v8raJWuXrP2\\u002fqNWdVnda\\u002fb+G0BVCVwj9v2TLjS03tvy\\u002fQsYFGRdk\\u002fL8gwX0E9xH8v\\u002f679e\\u002fWv\\u002fu\\u002f3LZt27Zt+7+6seXGlhv7v5isXbJ2yfq\\u002fdqfVnVZ3+r9Uok2JNiX6vzKdxXQW0\\u002fm\\u002fEJg9YPaA+b\\u002fukrVL1i75v8yNLTe23Pi\\u002fqoilIpaK+L+Igx0Odjj4v2Z+lflV5ve\\u002fRHkN5TWU978idIXQFUL3vwBv\\u002fbv17\\u002fa\\u002f3ml1p9Wd9r+8ZO2StUv2v5pfZX6V+fW\\u002feFrdaXWn9b9WVVVVVVX1vzRQzUA1A\\u002fW\\u002fEktFLBWx9L\\u002fwRb0X9V70v85ANQPVDPS\\u002frDut7rS687+KNiXalGjzv2gxncV0FvO\\u002fRiwVsVTE8r8kJ42cNHLyvwIiBYgUIPK\\u002f4Bx9c\\u002fTN8b++F\\u002fVe1Hvxv5wSbUq0KfG\\u002feg3lNZTX8L9YCF0hdIXwvzYD1QxUM\\u002fC\\u002fKPyZ8GfC77\\u002fk8YnHJx7vv6DneZ7nee6\\u002fXN1pdafV7b8Y01lMZzHtv9TISSMnjey\\u002fkL45+ubo679MtCnRpkTrvwiqGahmoOq\\u002fxJ8Jfyb86b+AlflV5lfpvzyL6Syms+i\\u002f+IDZA2YP6L+0dsnaJWvnv3BsubHlxua\\u002fLGKpiKUi5r\\u002foV5lfZX7lv6RNiTYl2uS\\u002fYEN5DeU15L8cOWnkpJHjv9guWbtk7eK\\u002flCRJkiRJ4r9QGjlp5KThvwwQKUCkAOG\\u002fyAUZF2Rc4L8I9xHcR3Dfv4Di8YnHJ96\\u002f+M3RN0ff3L9wubHlxpbbv+ikkZNGTtq\\u002fYJBxQcYF2b\\u002fYe1HvRb3Xv1BnMZ3FdNa\\u002fyFIRS0Us1b9APvH4xOPTv7gp0aZEm9K\\u002fMBWxVMRS0b+oAJECRArQv0DY4WCHg82\\u002fMK+hvIbyyr8ghmEYhmHIvxBdIXSF0MW\\u002fADThz4Q\\u002fw7\\u002fwCqErhK7Av8DDwQ4HO7y\\u002foHFBxgUZt7+AH8F9BPexv8CagWoGqqm\\u002fAO0BswfMnr8ASQEiBYiEvwBIASIFiIQ\\u002fAOwBswfMnj+AmoFqBqqpP4AfwX0E97E\\u002fgHFBxgUZtz+Aw8EOBzu8P+AKoSuErsA\\u002fADThz4Q\\u002fwz8AXSF0hdDFPwCGYRiGYcg\\u002fIK+hvIbyyj9A2OFgh4PNP6AAkQJECtA\\u002fIBWxVMRS0T+wKdGmRJvSP0A+8fjE49M\\u002fwFIRS0Us1T9AZzGdxXTWP9B7Ue9Fvdc\\u002fYJBxQcYF2T\\u002fgpJGTRk7aP2C5seXGlts\\u002f8M3RN0ff3D+A4vGJxyfePwD3EdxHcN8\\u002fwAUZF2Rc4D8IEClApADhP1AaOWnkpOE\\u002fkCRJkiRJ4j\\u002fQLlm7ZO3iPxg5aeSkkeM\\u002fYEN5DeU15D+gTYk2JdrkP+BXmV9lfuU\\u002fKGKpiKUi5j9wbLmx5cbmP7B2ydola+c\\u002f8IDZA2YP6D84i+ksprPoP4CV+VXmV+k\\u002fwJ8Jfyb86T8AqhmoZqDqP0i0KdGmROs\\u002fkL45+ubo6z\\u002fQyEkjJ43sPxDTWUxnMe0\\u002fWN1pdafV7T+g53me53nuP+DxiccnHu8\\u002fIPyZ8GfC7z80A9UMVDPwP1gIXSF0hfA\\u002feA3lNZTX8D+YEm1KtCnxP7wX9V7Ue\\u002fE\\u002f4Bx9c\\u002fTN8T8AIgWIFCDyPyAnjZw0cvI\\u002fRCwVsVTE8j9oMZ3FdBbzP4g2JdqUaPM\\u002fqDut7rS68z\\u002fMQDUD1Qz0P\\u002fBFvRf1XvQ\\u002fEEtFLBWx9D8wUM1ANQP1P1RVVVVVVfU\\u002feFrdaXWn9T+YX2V+lfn1P7hk7ZK1S\\u002fY\\u002f3Gl1p9Wd9j8Ab\\u002f279e\\u002f2PyB0hdAVQvc\\u002fQHkN5TWU9z9kfpX5Veb3P4iDHQ52OPg\\u002fqIilIpaK+D\\u002fIjS03ttz4P+yStUvWLvk\\u002fEJg9YPaA+T8wncV0FtP5P1CiTYk2Jfo\\u002fdKfVnVZ3+j+YrF2ydsn6P7ix5caWG\\u002fs\\u002f2LZt27Zt+z\\u002f8u\\u002fXv1r\\u002f7PyDBfQT3Efw\\u002fQMYFGRdk\\u002fD9gy40tN7b8P4TQFUJXCP0\\u002fqNWdVnda\\u002fT\\u002fI2iVrl6z9P+jfrX+3\\u002fv0\\u002fDOU1lNdQ\\u002fj8w6r2o96L+P1DvRb0X9f4\\u002fcPTN0TdH\\u002fz+U+VXmV5n\\u002fP7j+3fp36\\u002f8\\u002f7AGzB8weAEB8BPcR3EcAQA4HOxzscABAoAl\\u002fJvyZAEAwDMMwDMMAQMAOBzsc7ABAUhFLRSwVAUDkE49PPD4BQHQW01lMZwFABBkXZFyQAUCWG1tubLkBQCgen3h84gFAuCDjgowLAkBIIyeNnDQCQNola5esXQJAbCivobyGAkD8KvOrzK8CQIwtN7bc2AJAHjB7wOwBA0CwMr\\u002fK\\u002fCoDQEA1A9UMVANA0DdH3xx9A0BiOovpLKYDQPQ8z\\u002fM8zwNAhD8T\\u002fkz4A0AUQlcIXSEEQKZEmxJtSgRAOEffHH1zBEDISSMnjZwEQFhMZzGdxQRA6k6rO63uBEB8Ue9FvRcFQAxUM1DNQAVAnFZ3Wt1pBUAuWbtk7ZIFQMBb\\u002f279uwVAUF5DeQ3lBUDgYIeDHQ4GQHJjy40tNwZABGYPmD1gBkCUaFOiTYkGQCRrl6xdsgZAtm3btm3bBkBIcB\\u002fBfQQHQNhyY8uNLQdAaHWn1Z1WB0D6d+vfrX8HQIx6L+q9qAdAHH1z9M3RB0Csf7f+3foHQD6C+wjuIwhA0IQ\\u002fE\\u002f5MCEBgh4MdDnYIQPCJxycenwhAgowLMi7ICEAUj088PvEIQKSRk0ZOGglANJTXUF5DCUDGlhtbbmwJQFiZX2V+lQlA6Jujb46+CUB4nud5nucJQAqhK4SuEApAnKNvjr45CkAsprOYzmIKQLyo96LeiwpATqs7re60CkDgrX+3\\u002ft0KQHCww8EOBwtAALMHzB4wC0CStUvWLlkLQCS4j+A+ggtAtLrT6k6rC0BEvRf1XtQLQNa\\u002fW\\u002f9u\\u002fQtAaMKfCX8mDED4xOMTj08MQIjHJx6feAxAGsprKK+hDECszK8yv8oMQDzP8zzP8wxAzNE3R98cDUBe1HtR70UNQPDWv1v\\u002fbg1AgNkDZg+YDUAQ3EdwH8ENQKLei3ov6g1ANOHPhD8TDkDE4xOPTzwOQFTmV5lfZQ5A5uibo2+ODkB469+tf7cOQAjuI7iP4A5AmPBnwp8JD0Aq86vMrzIPQLz179a\\u002fWw9ATPgz4c+ED0Dc+nfr360PQG79u\\u002fXv1g9AAAAAAAAAEEA=\"},\"xaxis\":\"x9\",\"y\":{\"dtype\":\"f8\",\"bdata\":\"tbTA4piKIT\\u002fVpf16mgAjP3FZkSukkyQ\\u002f6U48VsdFJj\\u002fiwpAcNxkoPwUMvTZKECo\\u002fCqH63XwtLD8rAQPLcnMuPz9VcqR8cjA\\u002fai5FroTCMT8yB58AZSszPzyVMz3JrjQ\\u002f1nFcXXZONj+xxnzwSww4P2KBP2VF6jk\\u002f5Q23XXvqOz8RAV4OJQ8+P57299NMLUA\\u002fsGkE5qhnQT8QHTiG9LdCP7l1dbqPH0Q\\u002ff9Wxj+2fRT+N8RfplDpHPz6kFFQh8Ug\\u002f12Yk4UPFSj+R9zABxLhMP6axR2eAzU4\\u002fEuY097eCUD9jBphBUbFRP1rCeQih81I\\u002fzlASuclKVD9to7ix+7dVP8zdqLx1PFc\\u002fL4fFi4XZWD9xDBY1iJBaP65NwK\\u002fqYlw\\u002fr\\u002fk1USpSXj82siSl6i9gP1Us7JHFRmE\\u002fnxBbnX5uYj\\u002fEWDyd96djP6q4Y8sb9GQ\\u002f+WFiAeBTZj8V9xLzQshnP+3Gw2dNUmk\\u002fwLLDcRLzaj\\u002fLbROkr6tsP+Ab+kVNfW4\\u002fsdocQo80cD8Bg87PMDhxPyFOSwwwSnI\\u002fF8vSazdrcz\\u002ffchkp95t0P365y1Ul3XU\\u002fr7b86H0vdz8hl1bLwpN4Pywj4uC7Cno\\u002fxto5EDeVez9UcfxGCDR9P9zZUXsJ6H4\\u002fIMsqVQ1ZgD\\u002feTpzpkEmBP4x4dncFRoI\\u002fjmwW8uNOgz9Y69c7qGSEP26\\u002fLxzRh4U\\u002fsGyvM+C4hj8ssNvtWfiHP466v3DFRok\\u002fx4Eniqykij+\\u002fEWyamxKMP1JovXwhkY0\\u002fACjWbM8gjz8uIwN1HGGQP2Vowcv5OpE\\u002f6vn0jEsekj\\u002fDz\\u002fV4XguTP103BCqAApQ\\u002fzu+s\\u002fv4DlT83OawCKhCWPzLzStZQJ5c\\u002fXMcxlMNJmD\\u002ffS6+10neZPxMIb\\u002fXOsZo\\u002fElGgMAn4mz+QDo1G0kqdP7+fofZ6qp4\\u002fpyZ03qkLoD9\\u002f+31W1sigP5x8u6XqjKE\\u002fNlDyMg5Yoj\\u002fgcZ70ZyqjP0HHeVseBKQ\\u002fbbtSPFflpD9l7ze5N86lPzTR\\u002fynkvqY\\u002fBrEzBIC3pz+ys2bCLbioP9DLAcsOwak\\u002fda2OVkPSqj+6e4xV6uurP6652VUhDq0\\u002fFNK\\u002fZwQ5rj9BUK0CrmyvP81U1nSbVLA\\u002f1RvTB1v3sD+wX749oJ6xP4xMCpZ0SrI\\u002f1h4rfuD6sj89055D66+zP7pHBAababQ\\u002foCFLqfQntT+8EwbI++q1P61h6aWysrY\\u002fZLl\\u002fIhp\\u002ftz\\u002fVsR+sMVC4P65sLDP3Jbk\\u002fBAGsHWcAuj9gdT47fN+6PwsogLkvw7s\\u002f6JTiGHmrvD+9bwYiTpi9P9wIotuiib4\\u002fV+f+gGl\\u002fvz8vuIw8yTzAP9GqNicGvMA\\u002foq6802E9wT\\u002f7cQKg0cDBP1afmPFJRsI\\u002fUG0wM77Nwj861X7SIFfDPwMKlD5j4sM\\u002f3Jar5nVvxD8gVXk5SP7EP1As96TIjsU\\u002fFE23luQgxj+OUb58iLTGP71h6MafScc\\u002fqSrc6BTgxz9SIo5c0XfIP785VqW9EMk\\u002fY8GZU8GqyT+N4woJw0XKPy+0fn2o4co\\u002fym1ahFZ+yz+3CJgSsRvMP\\u002ffsYUWbucw\\u002f\\u002fA5FafdXzT+RVvgBp\\u002fbNP9K7t9KKlc4\\u002f+REx54I0zz+UAgCdbtPPPxQj21YWOdA\\u002fAVm2nE2I0D\\u002fWnuzoS9fQPzrX8sL\\u002fJdE\\u002fVBLhdld00T94KrcbQcLRP8nk2ZmqD9I\\u002fgY3FsYFc0j8h0\\u002fICtKjSP\\u002fBw6hIv9NI\\u002fcAiEVOA+0z\\u002fqWkwvtYjTP+XnDgeb0dM\\u002f5ct+Q38Z1D\\u002f7k\\u002fpXT2DUP+OWZsv4pdQ\\u002fx0MZQGnq1D9oudR7ji3VP6LeyG9Wb9U\\u002f6B6ZQK+v1T\\u002fj2mBOh+7VP7qOsTzNK9Y\\u002f2aSF+m9n1j9T5SLKXqHWP41v50iJ2dY\\u002fdi38dt8P1z9dtee+UUTXP5qZ\\u002fPzQdtc\\u002fgTOehk6n1z+UCVcxvNXXP8MHvFkMAtg\\u002fNdsX6jEs2D824tlgIFTYP71DxNbLedg\\u002f6OjUBCmd2D9uPeVJLb7YP2PK\\u002fK\\u002fO3Ng\\u002fYfBS8QP52D+TO\\u002fx8xBLZP0YEQHsIKtk\\u002fMkqT0cg+2T+49jUm\\u002f1DZPy\\u002fzb+OlYNk\\u002fXsNrOrht2T+TmawlMnjZP8ogHmsQgNk\\u002fMoK8nVCF2T9LddMe8YfZP0t10x7xh9k\\u002fMoK8nVCF2T\\u002fKIB5rEIDZP5OZrCUyeNk\\u002fXsNrOrht2T8w82\\u002fjpWDZP7n2NSb\\u002fUNk\\u002fMkqT0cg+2T9HBEB7CCrZP5Q7\\u002fHzEEtk\\u002fYvBS8QP52D9jyvyvztzYP2895Uktvtg\\u002f6ejUBCmd2D++Q8TWy3nYPzbi2WAgVNg\\u002fNtsX6jEs2D\\u002fFB7xZDALYP5UJVzG81dc\\u002fgTOehk6n1z+cmfz80HbXP1+1575RRNc\\u002feC38dt8P1z+Nb+dIidnWP1XlIspeodY\\u002f3aSF+m9n1j+8jrE8zSvWP+PaYE6H7tU\\u002f6h6ZQK+v1T+l3shvVm\\u002fVP2m51HuOLdU\\u002fx0MZQGnq1D\\u002fmlmbL+KXUP\\u002f+T+ldPYNQ\\u002f58t+Q38Z1D\\u002fl5w4Hm9HTP+1aTC+1iNM\\u002fdAiEVOA+0z\\u002fxcOoSL\\u002fTSPyHT8gK0qNI\\u002fgo3FsYFc0j\\u002fN5NmZqg\\u002fSP3oqtxtBwtE\\u002fVBLhdld00T881\\u002fLC\\u002fyXRP9qe7OhL19A\\u002fA1m2nE2I0D8UI9tWFjnQP5kCAJ1u088\\u002fARIx54I0zz\\u002fVu7fSipXOP5FW+AGn9s0\\u002fAQ9FafdXzT\\u002f\\u002f7GFFm7nMP7oImBKxG8w\\u002fym1ahFZ+yz80tH59qOHKP5XjCgnDRco\\u002fZsGZU8GqyT+\\u002fOValvRDJP1YijlzRd8g\\u002fsSrc6BTgxz\\u002fBYejGn0nHP45RvnyItMY\\u002fGE23luQgxj9XLPekyI7FPyRVeTlI\\u002fsQ\\u002f3Jar5nVvxD8HCpQ+Y+LDP0HVftIgV8M\\u002fVG0wM77Nwj9Wn5jxSUbCP\\u002f5xAqDRwME\\u002fqK6802E9wT\\u002fUqjYnBrzAPy+4jDzJPMA\\u002fXuf+gGl\\u002fvz\\u002fpCKLboom+P8NvBiJOmL0\\u002f6JTiGHmrvD8SKIC5L8O7P2x1Pjt837o\\u002fCAGsHWcAuj+ubCwz9yW5P9qxH6wxULg\\u002fbrl\\u002fIhp\\u002ftz+zYemlsrK2P7wTBsj76rU\\u002fpCFLqfQntT\\u002fDRwQGm2m0P0HTnkPrr7M\\u002f1h4rfuD6sj+QTAqWdEqyP7hfvj2gnrE\\u002f2RvTB1v3sD\\u002fNVNZ0m1SwP0dQrQKubK8\\u002fI9K\\u002fZwQ5rj+2udlVIQ6tP7p7jFXq66s\\u002fe62OVkPSqj\\u002fdywHLDsGpP7izZsItuKg\\u002fBrEzBIC3pz850f8p5L6mP3DvN7k3zqU\\u002fcrtSPFflpD9Bx3lbHgSkP+VxnvRnKqM\\u002fQFDyMg5Yoj+hfLul6oyhP3\\u002f7fVbWyKA\\u002friZ03qkLoD\\u002fPn6H2eqqeP5cOjUbSSp0\\u002fElGgMAn4mz8ZCG\\u002f1zrGaP+9Lr7XSd5k\\u002fYccxlMNJmD8y80rWUCeXPzw5rAIqEJY\\u002f2++s\\u002fv4DlT9hNwQqgAKUP8PP9XheC5M\\u002f7\\u002fn0jEsekj9waMHL+TqRPzMjA3UcYZA\\u002fACjWbM8gjz9eaL18IZGNP9ARbJqbEow\\u002fz4Eniqykij+Our9wxUaJPzWw2+1Z+Ic\\u002fwWyvM+C4hj90vy8c0YeFP1jr1zuoZIQ\\u002flWwW8uNOgz+YeHZ3BUaCP+ROnOmQSYE\\u002fIMsqVQ1ZgD\\u002fi2VF7Ceh+P2tx\\u002fEYINH0\\u002fzto5EDeVez8sI+Lguwp6PyiXVsvCk3g\\u002fwbb86H0vdz+DuctVJd11P99yGSn3m3Q\\u002fHMvSazdrcz8vTksMMEpyPwWDzs8wOHE\\u002fsdocQo80cD\\u002foG\\u002fpFTX1uP+BtE6Svq2w\\u002fyLLDcRLzaj\\u002ftxsNnTVJpPyH3EvNCyGc\\u002fCmJiAeBTZj+0uGPLG\\u002fRkP8RYPJ33p2M\\u002fqRBbnX5uYj9iLOyRxUZhPzqyJKXqL2A\\u002fr\\u002fk1USpSXj+8TcCv6mJcP4YMFjWIkFo\\u002fPIfFi4XZWD\\u002fM3ai8dTxXP3OjuLH7t1U\\u002f4lASuclKVD9jwnkIofNSP2MGmEFRsVE\\u002fFuY097eCUD\\u002fGsUdngM1OP5\\u002f3MAHEuEw\\u002f12Yk4UPFSj9EpBRUIfFIP6TxF+mUOkc\\u002fitWxj+2fRT+5dXW6jx9EPxkdOIb0t0I\\u002fwWkE5qhnQT+m9vfTTC1APxEBXg4lDz4\\u002f8w23XXvqOz91gT9lReo5P73GfPBLDDg\\u002f1nFcXXZONj9AlTM9ya40P0UHnwBlKzM\\u002fci5FroTCMT8\\u002fVXKkfHIwPzkBA8tycy4\\u002fJ6H63XwtLD8SDL02ShAqP+LCkBw3GSg\\u002f9E48VsdFJj+FWZErpJMkP9+l\\u002fXqaACM\\u002ftbTA4piKIT8=\"},\"yaxis\":\"y9\",\"type\":\"scatter\"},{\"marker\":{\"color\":{\"dtype\":\"f8\",\"bdata\":\"OGatcNQr7T\\u002fUAuvGxevtPzhmrXDUK+0\\u002fJLtVsNEz7z9k6afI0aGwPyj5rjUUU+k\\u002fwyUMRmqk4j81IsZWi+rqP72i1fXUZOc\\u002fOGatcNQr7T81IsZWi+rqP8l5ilp9L+w\\u002fyXmKWn0v7D+9otX11GTnPyj5rjUUU+k\\u002fyXmKWn0v7D\\u002fUAuvGxevtP8l5ilp9L+w\\u002fyXmKWn0v7D+9+ja8fHvuP9QC68bF6+0\\u002fRVSQPDRIqD\\u002fJeYpafS\\u002fsP8l5ilp9L+w\\u002fNSLGVovq6j81IsZWi+rqP8l5ilp9L+w\\u002fOGatcNQr7T84Zq1w1CvtPyj5rjUUU+k\\u002fvaLV9dRk5z81IsZWi+rqPyj5rjUUU+k\\u002fAAAAAAAA4D8o+a41FFPpP8l5ilp9L+w\\u002f1ALrxsXr7T96tOdzK7faPzUixlaL6uo\\u002fvaLV9dRk5z81IsZWi+rqPwEiT4rqJOU\\u002fwyUMRmqk4j96tOdzK7faPwEiT4rqJOU\\u002fvfo2vHx77j\\u002fJeYpafS\\u002fsPyj5rjUUU+k\\u002fOGatcNQr7T8AAAAAAADgP8MlDEZqpOI\\u002fvfo2vHx77j81IsZWi+rqP\\u002f+7YesqttU\\u002fyXmKWn0v7D\\u002fUAuvGxevtPzUixlaL6uo\\u002fvaLV9dRk5z\\u002fUAuvGxevtP9QC68bF6+0\\u002fyXmKWn0v7D9of2Mw0+XuP8MlDEZqpOI\\u002fASJPiuok5T8o+a41FFPpP736Nrx8e+4\\u002f1ALrxsXr7T8o+a41FFPpP72i1fXUZOc\\u002fyXmKWn0v7D8ku1Ww0TPvPzhmrXDUK+0\\u002fvfo2vHx77j8ud+ek0lXEPzhmrXDUK+0\\u002fyXmKWn0v7D\\u002fDJQxGaqTiP3q053Mrt9o\\u002fASJPiuok5T+9+ja8fHvuPyj5rjUUU+k\\u002fvaLV9dRk5z8AAAAAAADgPyj5rjUUU+k\\u002fNSLGVovq6j+9+ja8fHvuP\\u002f+7YesqttU\\u002fyXmKWn0v7D+9otX11GTnP\\u002f+7YesqttU\\u002fNSLGVovq6j+9otX11GTnPwEiT4rqJOU\\u002fyXmKWn0v7D84Zq1w1CvtP8MlDEZqpOI\\u002ferTncyu32j\\u002fJeYpafS\\u002fsPyj5rjUUU+k\\u002fvaLV9dRk5z\\u002fJeYpafS\\u002fsPzhmrXDUK+0\\u002fvfo2vHx77j8o+a41FFPpP2h\\u002fYzDT5e4\\u002fKPmuNRRT6T\\u002fDJQxGaqTiPyj5rjUUU+k\\u002fASJPiuok5T81IsZWi+rqP9QC68bF6+0\\u002fKPmuNRRT6T8AAAAAAADgP2AbRCmvs8o\\u002fNSLGVovq6j81IsZWi+rqP2AbRCmvs8o\\u002fwyUMRmqk4j8o+a41FFPpP72i1fXUZOc\\u002fASJPiuok5T96tOdzK7faP72i1fXUZOc\\u002fAAAAAAAA4D+GulQUVjbRPwEiT4rqJOU\\u002fKPmuNRRT6T8AAAAAAADgP72i1fXUZOc\\u002fpp58EOKV7z\\u002fq4Q0vqGzvP+rhDS+obO8\\u002f\\u002f7th6yq21T8ku1Ww0TPvPyS7VbDRM+8\\u002faH9jMNPl7j9of2Mw0+XuP2h\\u002fYzDT5e4\\u002faH9jMNPl7j9of2Mw0+XuP72i1fXUZOc\\u002ferTncyu32j96tOdzK7faP2AbRCmvs8o\\u002fwyUMRmqk4j8AAAAAAADgP736Nrx8e+4\\u002fvfo2vHx77j+9+ja8fHvuPwAAAAAAAOA\\u002fKPmuNRRT6T8AAAAAAADgP9QC68bF6+0\\u002f1ALrxsXr7T\\u002fUAuvGxevtP9QC68bF6+0\\u002f1ALrxsXr7T\\u002f\\u002fu2HrKrbVP4ObSPXJhZk\\u002fYBtEKa+zyj84Zq1w1CvtPzhmrXDUK+0\\u002fOGatcNQr7T84Zq1w1CvtPzhmrXDUK+0\\u002fOGatcNQr7T96tOdzK7faP\\u002f+7YesqttU\\u002fASJPiuok5T\\u002fJeYpafS\\u002fsP8l5ilp9L+w\\u002fyXmKWn0v7D\\u002fJeYpafS\\u002fsP8l5ilp9L+w\\u002fyXmKWn0v7D\\u002fJeYpafS\\u002fsP8l5ilp9L+w\\u002fyXmKWn0v7D\\u002fJeYpafS\\u002fsPwAAAAAAAOA\\u002fNSLGVovq6j81IsZWi+rqPzUixlaL6uo\\u002fNSLGVovq6j81IsZWi+rqPzUixlaL6uo\\u002fNSLGVovq6j9gG0Qpr7PKPwAAAAAAAOA\\u002fLnfnpNJVxD96tOdzK7faPwAAAAAAAOA\\u002fKPmuNRRT6T8o+a41FFPpPyj5rjUUU+k\\u002fAAAAAAAA4D\\u002fDJQxGaqTiPy5356TSVcQ\\u002fvaLV9dRk5z+9otX11GTnP72i1fXUZOc\\u002fYBtEKa+zyj96tOdzK7faPwEiT4rqJOU\\u002fLnfnpNJVxD\\u002f\\u002fu2HrKrbVPy5356TSVcQ\\u002fLnfnpNJVxD+GulQUVjbRP64xrCsVhL4\\u002fwyUMRmqk4j9gG0Qpr7PKP\\u002f+7YesqttU\\u002fLnfnpNJVxD9FVJA8NEioP2AbRCmvs8o\\u002fYBtEKa+zyj8AAAAAAAD4fw==\"},\"showscale\":true,\"size\":{\"dtype\":\"f8\",\"bdata\":\"eBfxR+0q7z8msvYcB\\u002fLtP50FuVWFdeY\\u002fX5dgMl435D8AAAAAAADwPyGYdwxfF+U\\u002f0H9oPx4o5z+nm59WY3HiP0A2iQ94juM\\u002fPIHm7q8C4T\\u002fjg1Hed0XhPxJOFOr9mt8\\u002fcrZH1u093j9LBaALcQPhPxVFdetQ2N8\\u002fnFjMcI1H3D\\u002fhquytUFfYP7b4CsZ0u9g\\u002f+aicLf2z2D+tka5GajbWPxQZo\\u002fAZWNY\\u002faiVI4p845z\\u002fu+jCgBjHXP0SeCCI3+tY\\u002fHSGfZS331z\\u002fWp4b7\\u002fvLXP9kblf2iqtY\\u002fAsGenOfJ1T9KT8ct+k7VP\\u002feVFKvd3Nc\\u002fDmXsYmVW2T9WYbsiq7HVPwZKWOKOBdc\\u002fcB9o62jg3j9+oKfh\\u002fFXWP7YXHI5DyNM\\u002f5+VUIpdK0j+eLlNali3gP6WjHrciTNQ\\u002fSTWRadrN1j\\u002fpbqzRtcjTP7HH2WFUftg\\u002f+WQCe6Bp2j\\u002fKLnwRfb7eP7siU2Ki7Nc\\u002fQRlnQHO7zz\\u002fZ8rwMOs7RP8UcP2OQz9M\\u002frm5TvqyC0D+nPnefYqTbP\\u002fqzNug\\u002fL9k\\u002fWvlDggOJzT\\u002f7kNL1z6TRP0NZipCcMt8\\u002fW9d54whQ0D9uQm9NdCDNPy9PVhRsFNE\\u002fQVwTj\\u002f9R0z+l5m6wwlDLPyTz1lpyRss\\u002f2RsLuOrrzT\\u002fh\\u002fSObMdXIP56KI\\u002fLV49Y\\u002fmCQJpTac1D97ltBhWMjQP8D\\u002f4Vc\\u002flcg\\u002fwhfHIVlDyT8Veu4LHGvQP7x2YL3+9dE\\u002f68RM7Sxlyz\\u002frDTABFg7GP5sN7GdkA8k\\u002fGFWruRTDxj9K9QqlzongP\\u002f5unixHy8g\\u002fIZOauLVDyj\\u002fn3MFtOz3VP25gr926ftk\\u002ftYMyxLOw0j8Hil5XVvvEP\\u002fjxu+42wc0\\u002fB1bTqcBU0D+vK7ReBJnWPyhy\\u002fEz98sw\\u002fj1UHIzr6yT8DuP19AtDDP+UWdzP+ito\\u002fOiqe7SY4xz9qh9jgWu\\u002fOPxpY388N7tk\\u002fmDQNtM5IyD8S2fJyUzXOPx\\u002fHEQMn\\u002ftA\\u002fYwZJg0TlxT8YPTcCd7\\u002fDP3245KmWpNI\\u002fLSsq2jT91j9IlZwJXQPEP\\u002fqK0L+smMg\\u002fCifIA7heyz9TSqaFl+jCP8HlUzlId8A\\u002fLDviah3Muz\\u002fyKaxV8p7GP1CA6ih7vrg\\u002f+BOMk+LpxT88IIimkqvQPwD3m18+H8U\\u002fjej5+Z4YzD\\u002fN8JsasBnCP0h51yq6gbk\\u002fQNmha7SIxD+HlM1qPrvRP1Z\\u002fKGvasdk\\u002fFQRYPnhVwD+i5SYhTh7AP2+KtinuWdk\\u002fp57Oo4XlzT9jrg7vWULCP6iIibSDi8U\\u002fdMckqjgXyT+oB1+EyLDSP1dGnKGp2MM\\u002f+VPFLo4o0D9MtrgybvnVP04Q2NfqLcY\\u002fCqUsDZpAvT\\u002fwQsybZX7NPz0Ovftcjrw\\u002fAAAAAAAAAAAAAAAAAAAAAAAAAAAAAAAAJbLtKll20T8AAAAAAAAAAAAAAAAAAAAAAAAAAAAAAAAAAAAAAAAAAAAAAAAAAAAAAAAAAAAAAAAAAAAAAAAAAI5Piobhqrk\\u002ftS4+2+kBzj8kYakfw+3NP2zE859pr9Q\\u002fXA8gviphxD+GOGgG5OfIPwAAAAAAAAAAAAAAAAAAAAAAAAAAAAAAABq3k+XXk8g\\u002fwDHyGBX4sD\\u002fI7ukjaOTHPwAAAAAAAAAAAAAAAAAAAAAAAAAAAAAAAAAAAAAAAAAAAAAAAAAAAADfNwiheQHQP6IDZ6FRitg\\u002feX+XsE940z8AAAAAAAAAAAAAAAAAAAAAAAAAAAAAAAAAAAAAAAAAAAAAAAAAAAAAAAAAAAAAAABZUs6vp5DKP9n2d7x+qc4\\u002fkh7NdNBguT8AAAAAAAAAAAAAAAAAAAAAAAAAAAAAAAAAAAAAAAAAAAAAAAAAAAAAAAAAAAAAAAAAAAAAAAAAAAAAAAAAAAAAAAAAAAAAAAAAAAAAAAAAALg\\u002fk3HGgcM\\u002fAAAAAAAAAAAAAAAAAAAAAAAAAAAAAAAAAAAAAAAAAAAAAAAAAAAAAAAAAAAAAAAAAAAAAAAAAADpdWipJVHRPwTxTvJkWMI\\u002fXo6lVdUS0j\\u002f3JKOpKsPFP1Z6HhDjT8A\\u002fAAAAAAAAAAAAAAAAAAAAAAAAAAAAAAAAZyldbdfwvz\\u002fvxW3Ho2ayP5pf2MkUANA\\u002fAAAAAAAAAAAAAAAAAAAAAAAAAAAAAAAAY8Kuic\\u002fwyT+l413NxSa8PwAAAAAAAAAAQw\\u002fSarLAyj8fo\\u002fzw20nAP4yO5wPaBco\\u002fI1BYzjvlyD9Lz3d++\\u002fHBPxTqYCY0G8o\\u002fAAAAAAAAAADilz4bZjTEP2TxlRl4Z7E\\u002fVDCF3qZnrT8HeJ9pdY+0PwAAAAAAAAAAAAAAAAAAAAAAAAAAAAAAAA==\"}},\"mode\":\"markers+text\",\"name\":\"Player\",\"showlegend\":false,\"text\":[\"Lawrence Ennali\",\"Tomas \\u00c1ngel\",\"Talles Magno\",\"David Mart\\u00ednez\",\"Lionel Messi\",\"Cucho\",\"Karol \\u015awiderski\",\"Tani Oluwaseyi\",\"Alonso Mart\\u00ednez\",\"Carlos G\\u00f3mez\",\"Kelvin Yeboah\",\"Gabriel Chaves\",\"Gabe Segal\",\"Sebasti\\u00e1n Ferreira\",\"Dejan Jovelji\\u0107\",\"Ramiro Enrique\",\"Nathan Ordaz\",\"Leonardo Afonso\",\"Mateusz Bogusz\",\"Kimani Stewart-Baynes\",\"Diego Luna\",\"Luis Su\\u00e1rez\",\"Stephen Afrifa\",\"Duncan McGuire\",\"Bongokuhle Hlongwane\",\"Leonardo Campana\",\"Logan Farrington\",\"Luca Langoni\",\"Sunusi Ibrahim\",\"Jack Lynn\",\"Petar Musa\",\"Patrick Agyemang\",\"William Agada\",\"Cristian Arango\",\"Simon Becher\",\"Edwin Mosquera\",\"Juli\\u00e1n Fern\\u00e1ndez\",\"Denis Bouanga\",\"Santiago Moreno\",\"Joseph Paintsil\",\"Facundo Torres\",\"Jonathan Lewis\",\"Anderson Julio\",\"Brad Smith\",\"Tai Baribo\",\"CJ Fodrey\",\"Elias Manoel\",\"Santiago Rodr\\u00edguez\",\"Alan Velasco\",\"Ryan Gauld\",\"Pep Biel\",\"Kevin Kelsy\",\"Rafael Navarro\",\"Josef Mart\\u00ednez\",\"Antony\",\"Alenis Vargas\",\"Juli\\u00e1n Carranza\",\"Dante Vanzeir\",\"Diego G\\u00f3mez\",\"Dominik Marczuk\",\"Liel Abada\",\"Kristian Fletcher\",\"Lewis Morgan\",\"Ezequiel Ponce\",\"Nathan Foga\\u00e7a\",\"Darren Yapi\",\"Malachi Jones\",\"Kevin Cabral\",\"Sam Surridge\",\"Iuri Tavares\",\"Fidel Barajas\",\"Cristian Olivera\",\"Georgios Koutsias\",\"Christian Benteke\",\"Deandre Kerr\",\"Dylan Borrero\",\"Brian White\",\"Giorgos Giakoumakis\",\"Miguel Berry\",\"Jacob Murrell\",\"C\\u00e9lio Pompeu\",\"Paul Rothrock\",\"Daniel Armando R\\u00edos\",\"Hannes Wolf\",\"L\\u00e9o Ch\\u00fa\",\"Agustin Ojeda\",\"Jonathan Rodr\\u00edguez\",\"Aliyu Ibrahim\",\"Samuel Adeniran\",\"Felipe Mora\",\"Calvin Harris\",\"Osman Bukari\",\"Mat\\u00edas C\\u00f3ccaro\",\"Marinos Tzionis\",\"Jeong Sangbin\",\"Latif Blessing\",\"Mikael Uhre\",\"Kerwin Vargas\",\"Iv\\u00e1n Angulo\",\"Giacomo Vrioni\",\"Pedro De la Vega\",\"Georgi Minoungou\",\"Owen Wolff\",\"John Klein\",\"Esmir Bajraktarevic\",\"Jacob Shaffelburg\",\"Aaron Boupendza\",\"Maren Haile-Selassie\",\"Hugo Cuypers\",\"Monsef Bakrar\",\"Tyler Wolff\",\"N\\u00f6kkvi \\u00de\\u00f3risson\",\"Cristian Espinoza\",\"Faf\\u00e0 Picault\",\"Ousseni Bouda\",\"Christopher Donovan\",\"Maikel Chang\",\"Prince Osei Owusu\",\"Omir Fernandez\",\"Adalberto Carrasquilla\",\"Klauss\",\"Jordan Morris\",\"Tom\\u00e1s Chancalay\",\"Corey Baird\",\"Bobby Wood\",\"Jeremy Ebobisse\",\"Benjamin Kikanovic\",\"Rasmus Alm\",\"Sebastian Kowalczyk\",\"Nimfasha Berchimas\",\"Caden Glover\",\"Zavier Gozo\",\"Emmanuel Boateng\",\"Mykhi Joyner\",\"Rub\\u00e9n Ramos\",\"Kage Romanshyn\",\"Jovan Mijatovi\\u0107\",\"Malcolm Fry\",\"Luke Brennan\",\"Tarik Scott\",\"Mason Toye\",\"Saba Lobzhanidze\",\"Robert Taylor\",\"Cory Burke\",\"D\\u00e1niel Sall\\u00f3i\",\"Enzo Copetti\",\"Idan Markovich\",\"Jack Panayotou\",\"Jay Herdman\",\"J\\u00e1der Obrian\",\"Preston Judd\",\"Daniel Musovski\",\"Patrick Weah\",\"Joseph Skinner\",\"Tega Ikoba\",\"Jeremy Garay\",\"Lo\\u00efc Mesanvi\",\"Jamal Thiar\\u00e9\",\"Kei Kamara\",\"Luis Muriel\",\"Jonathan Perez\",\"Brandon Cambridge\",\"Matthew Bell\",\"Roald Mitchell\",\"Piero Elias\",\"Brendan McSorley\",\"Sergio Santos Gomes\",\"Yuya Kubo\",\"Xande Silva\",\"Lachlan Brook\",\"Nick Scardina\",\"Charles Sharp\",\"Luis M\\u00fcller\",\"Forster Ajago\",\"Bryant Farkarlun\",\"Marcos Dias\",\"Yutaro Tsukada\",\"Aziel Jackson\",\"Shanyder Borgelin\",\"Nacho Gil\",\"Nicholas Gioacchini\",\"Will Richmond\",\"Deiber Caicedo\",\"Jose Casas de Abadal\",\"Lamine Diack\",\"Nicolas Firmino\",\"Rory O'Driscoll\",\"Alan Pulido\",\"Diego Fag\\u00fandez\",\"Ra\\u00fal Ruid\\u00edaz\",\"Tyler Boyd\",\"Tom Barlow\",\"Jordan Adebayo-Smith\",\"Levonte Johnson\",\"Ayo Akinola\",\"Alex Muyl\",\"Chris Mueller\",\"Amahl Pellegrino\",\"McKinze Gaines\",\"Samuel Adeniran\",\"Mason Toye\",\"Gyasi Zardes\",\"Eugene Ansah\",\"Benji Michel\",\"Teal Bunbury\",\"Diego Rubio\",\"Teemu Pukki\",\"Johnny Russell\",\"Dairon Asprilla\",\"Damir Kreilach\",\"Derrick Etienne\",\"Brecht Dejaegere\",\"Emiliano Rigoni\",\"Ethan Finlay\",\"Olivier Giroud\",\"Thomas McNamara\",\"Jamie Paterson\",\"Tyger Smalls\"],\"textposition\":\"top center\",\"x\":{\"dtype\":\"f8\",\"bdata\":\"8RoMx8zWzL\\u002fxGgzHzNbMv\\u002fEaDMfM1sy\\u002fGeNj+ZzCIEDxGgzHzNbMvw==\"},\"xaxis\":\"x9\",\"y\":{\"dtype\":\"f8\",\"bdata\":\"CDIuo3Xk2D8IMi6jdeTYPwgyLqN15Ng\\u002fPZKXcfkvsDwIMi6jdeTYPw==\"},\"yaxis\":\"y9\",\"type\":\"scatter\"}],                        {\"annotations\":[{\"font\":{\"size\":16},\"showarrow\":false,\"text\":\"Defender - goals_per_90_z\",\"x\":0.14444444444444446,\"xanchor\":\"center\",\"xref\":\"paper\",\"y\":1.0,\"yanchor\":\"bottom\",\"yref\":\"paper\"},{\"font\":{\"size\":16},\"showarrow\":false,\"text\":\"Defender - assists_per_90_z\",\"x\":0.5,\"xanchor\":\"center\",\"xref\":\"paper\",\"y\":1.0,\"yanchor\":\"bottom\",\"yref\":\"paper\"},{\"font\":{\"size\":16},\"showarrow\":false,\"text\":\"Defender - red_cards_per_90_z\",\"x\":0.8555555555555556,\"xanchor\":\"center\",\"xref\":\"paper\",\"y\":1.0,\"yanchor\":\"bottom\",\"yref\":\"paper\"},{\"font\":{\"size\":16},\"showarrow\":false,\"text\":\"Midfielder - goals_per_90_z\",\"x\":0.14444444444444446,\"xanchor\":\"center\",\"xref\":\"paper\",\"y\":0.6111111111111112,\"yanchor\":\"bottom\",\"yref\":\"paper\"},{\"font\":{\"size\":16},\"showarrow\":false,\"text\":\"Midfielder - assists_per_90_z\",\"x\":0.5,\"xanchor\":\"center\",\"xref\":\"paper\",\"y\":0.6111111111111112,\"yanchor\":\"bottom\",\"yref\":\"paper\"},{\"font\":{\"size\":16},\"showarrow\":false,\"text\":\"Midfielder - red_cards_per_90_z\",\"x\":0.8555555555555556,\"xanchor\":\"center\",\"xref\":\"paper\",\"y\":0.6111111111111112,\"yanchor\":\"bottom\",\"yref\":\"paper\"},{\"font\":{\"size\":16},\"showarrow\":false,\"text\":\"Forward - goals_per_90_z\",\"x\":0.14444444444444446,\"xanchor\":\"center\",\"xref\":\"paper\",\"y\":0.22222222222222224,\"yanchor\":\"bottom\",\"yref\":\"paper\"},{\"font\":{\"size\":16},\"showarrow\":false,\"text\":\"Forward - assists_per_90_z\",\"x\":0.5,\"xanchor\":\"center\",\"xref\":\"paper\",\"y\":0.22222222222222224,\"yanchor\":\"bottom\",\"yref\":\"paper\"},{\"font\":{\"size\":16},\"showarrow\":false,\"text\":\"Forward - red_cards_per_90_z\",\"x\":0.8555555555555556,\"xanchor\":\"center\",\"xref\":\"paper\",\"y\":0.22222222222222224,\"yanchor\":\"bottom\",\"yref\":\"paper\"}],\"height\":900,\"margin\":{\"b\":50,\"t\":100},\"template\":{\"data\":{\"barpolar\":[{\"marker\":{\"line\":{\"color\":\"#E5ECF6\",\"width\":0.5},\"pattern\":{\"fillmode\":\"overlay\",\"size\":10,\"solidity\":0.2}},\"type\":\"barpolar\"}],\"bar\":[{\"error_x\":{\"color\":\"#2a3f5f\"},\"error_y\":{\"color\":\"#2a3f5f\"},\"marker\":{\"line\":{\"color\":\"#E5ECF6\",\"width\":0.5},\"pattern\":{\"fillmode\":\"overlay\",\"size\":10,\"solidity\":0.2}},\"type\":\"bar\"}],\"carpet\":[{\"aaxis\":{\"endlinecolor\":\"#2a3f5f\",\"gridcolor\":\"white\",\"linecolor\":\"white\",\"minorgridcolor\":\"white\",\"startlinecolor\":\"#2a3f5f\"},\"baxis\":{\"endlinecolor\":\"#2a3f5f\",\"gridcolor\":\"white\",\"linecolor\":\"white\",\"minorgridcolor\":\"white\",\"startlinecolor\":\"#2a3f5f\"},\"type\":\"carpet\"}],\"choropleth\":[{\"colorbar\":{\"outlinewidth\":0,\"ticks\":\"\"},\"type\":\"choropleth\"}],\"contourcarpet\":[{\"colorbar\":{\"outlinewidth\":0,\"ticks\":\"\"},\"type\":\"contourcarpet\"}],\"contour\":[{\"colorbar\":{\"outlinewidth\":0,\"ticks\":\"\"},\"colorscale\":[[0.0,\"#0d0887\"],[0.1111111111111111,\"#46039f\"],[0.2222222222222222,\"#7201a8\"],[0.3333333333333333,\"#9c179e\"],[0.4444444444444444,\"#bd3786\"],[0.5555555555555556,\"#d8576b\"],[0.6666666666666666,\"#ed7953\"],[0.7777777777777778,\"#fb9f3a\"],[0.8888888888888888,\"#fdca26\"],[1.0,\"#f0f921\"]],\"type\":\"contour\"}],\"heatmap\":[{\"colorbar\":{\"outlinewidth\":0,\"ticks\":\"\"},\"colorscale\":[[0.0,\"#0d0887\"],[0.1111111111111111,\"#46039f\"],[0.2222222222222222,\"#7201a8\"],[0.3333333333333333,\"#9c179e\"],[0.4444444444444444,\"#bd3786\"],[0.5555555555555556,\"#d8576b\"],[0.6666666666666666,\"#ed7953\"],[0.7777777777777778,\"#fb9f3a\"],[0.8888888888888888,\"#fdca26\"],[1.0,\"#f0f921\"]],\"type\":\"heatmap\"}],\"histogram2dcontour\":[{\"colorbar\":{\"outlinewidth\":0,\"ticks\":\"\"},\"colorscale\":[[0.0,\"#0d0887\"],[0.1111111111111111,\"#46039f\"],[0.2222222222222222,\"#7201a8\"],[0.3333333333333333,\"#9c179e\"],[0.4444444444444444,\"#bd3786\"],[0.5555555555555556,\"#d8576b\"],[0.6666666666666666,\"#ed7953\"],[0.7777777777777778,\"#fb9f3a\"],[0.8888888888888888,\"#fdca26\"],[1.0,\"#f0f921\"]],\"type\":\"histogram2dcontour\"}],\"histogram2d\":[{\"colorbar\":{\"outlinewidth\":0,\"ticks\":\"\"},\"colorscale\":[[0.0,\"#0d0887\"],[0.1111111111111111,\"#46039f\"],[0.2222222222222222,\"#7201a8\"],[0.3333333333333333,\"#9c179e\"],[0.4444444444444444,\"#bd3786\"],[0.5555555555555556,\"#d8576b\"],[0.6666666666666666,\"#ed7953\"],[0.7777777777777778,\"#fb9f3a\"],[0.8888888888888888,\"#fdca26\"],[1.0,\"#f0f921\"]],\"type\":\"histogram2d\"}],\"histogram\":[{\"marker\":{\"pattern\":{\"fillmode\":\"overlay\",\"size\":10,\"solidity\":0.2}},\"type\":\"histogram\"}],\"mesh3d\":[{\"colorbar\":{\"outlinewidth\":0,\"ticks\":\"\"},\"type\":\"mesh3d\"}],\"parcoords\":[{\"line\":{\"colorbar\":{\"outlinewidth\":0,\"ticks\":\"\"}},\"type\":\"parcoords\"}],\"pie\":[{\"automargin\":true,\"type\":\"pie\"}],\"scatter3d\":[{\"line\":{\"colorbar\":{\"outlinewidth\":0,\"ticks\":\"\"}},\"marker\":{\"colorbar\":{\"outlinewidth\":0,\"ticks\":\"\"}},\"type\":\"scatter3d\"}],\"scattercarpet\":[{\"marker\":{\"colorbar\":{\"outlinewidth\":0,\"ticks\":\"\"}},\"type\":\"scattercarpet\"}],\"scattergeo\":[{\"marker\":{\"colorbar\":{\"outlinewidth\":0,\"ticks\":\"\"}},\"type\":\"scattergeo\"}],\"scattergl\":[{\"marker\":{\"colorbar\":{\"outlinewidth\":0,\"ticks\":\"\"}},\"type\":\"scattergl\"}],\"scattermapbox\":[{\"marker\":{\"colorbar\":{\"outlinewidth\":0,\"ticks\":\"\"}},\"type\":\"scattermapbox\"}],\"scattermap\":[{\"marker\":{\"colorbar\":{\"outlinewidth\":0,\"ticks\":\"\"}},\"type\":\"scattermap\"}],\"scatterpolargl\":[{\"marker\":{\"colorbar\":{\"outlinewidth\":0,\"ticks\":\"\"}},\"type\":\"scatterpolargl\"}],\"scatterpolar\":[{\"marker\":{\"colorbar\":{\"outlinewidth\":0,\"ticks\":\"\"}},\"type\":\"scatterpolar\"}],\"scatter\":[{\"fillpattern\":{\"fillmode\":\"overlay\",\"size\":10,\"solidity\":0.2},\"type\":\"scatter\"}],\"scatterternary\":[{\"marker\":{\"colorbar\":{\"outlinewidth\":0,\"ticks\":\"\"}},\"type\":\"scatterternary\"}],\"surface\":[{\"colorbar\":{\"outlinewidth\":0,\"ticks\":\"\"},\"colorscale\":[[0.0,\"#0d0887\"],[0.1111111111111111,\"#46039f\"],[0.2222222222222222,\"#7201a8\"],[0.3333333333333333,\"#9c179e\"],[0.4444444444444444,\"#bd3786\"],[0.5555555555555556,\"#d8576b\"],[0.6666666666666666,\"#ed7953\"],[0.7777777777777778,\"#fb9f3a\"],[0.8888888888888888,\"#fdca26\"],[1.0,\"#f0f921\"]],\"type\":\"surface\"}],\"table\":[{\"cells\":{\"fill\":{\"color\":\"#EBF0F8\"},\"line\":{\"color\":\"white\"}},\"header\":{\"fill\":{\"color\":\"#C8D4E3\"},\"line\":{\"color\":\"white\"}},\"type\":\"table\"}]},\"layout\":{\"annotationdefaults\":{\"arrowcolor\":\"#2a3f5f\",\"arrowhead\":0,\"arrowwidth\":1},\"autotypenumbers\":\"strict\",\"coloraxis\":{\"colorbar\":{\"outlinewidth\":0,\"ticks\":\"\"}},\"colorscale\":{\"diverging\":[[0,\"#8e0152\"],[0.1,\"#c51b7d\"],[0.2,\"#de77ae\"],[0.3,\"#f1b6da\"],[0.4,\"#fde0ef\"],[0.5,\"#f7f7f7\"],[0.6,\"#e6f5d0\"],[0.7,\"#b8e186\"],[0.8,\"#7fbc41\"],[0.9,\"#4d9221\"],[1,\"#276419\"]],\"sequential\":[[0.0,\"#0d0887\"],[0.1111111111111111,\"#46039f\"],[0.2222222222222222,\"#7201a8\"],[0.3333333333333333,\"#9c179e\"],[0.4444444444444444,\"#bd3786\"],[0.5555555555555556,\"#d8576b\"],[0.6666666666666666,\"#ed7953\"],[0.7777777777777778,\"#fb9f3a\"],[0.8888888888888888,\"#fdca26\"],[1.0,\"#f0f921\"]],\"sequentialminus\":[[0.0,\"#0d0887\"],[0.1111111111111111,\"#46039f\"],[0.2222222222222222,\"#7201a8\"],[0.3333333333333333,\"#9c179e\"],[0.4444444444444444,\"#bd3786\"],[0.5555555555555556,\"#d8576b\"],[0.6666666666666666,\"#ed7953\"],[0.7777777777777778,\"#fb9f3a\"],[0.8888888888888888,\"#fdca26\"],[1.0,\"#f0f921\"]]},\"colorway\":[\"#636efa\",\"#EF553B\",\"#00cc96\",\"#ab63fa\",\"#FFA15A\",\"#19d3f3\",\"#FF6692\",\"#B6E880\",\"#FF97FF\",\"#FECB52\"],\"font\":{\"color\":\"#2a3f5f\"},\"geo\":{\"bgcolor\":\"white\",\"lakecolor\":\"white\",\"landcolor\":\"#E5ECF6\",\"showlakes\":true,\"showland\":true,\"subunitcolor\":\"white\"},\"hoverlabel\":{\"align\":\"left\"},\"hovermode\":\"closest\",\"mapbox\":{\"style\":\"light\"},\"paper_bgcolor\":\"white\",\"plot_bgcolor\":\"#E5ECF6\",\"polar\":{\"angularaxis\":{\"gridcolor\":\"white\",\"linecolor\":\"white\",\"ticks\":\"\"},\"bgcolor\":\"#E5ECF6\",\"radialaxis\":{\"gridcolor\":\"white\",\"linecolor\":\"white\",\"ticks\":\"\"}},\"scene\":{\"xaxis\":{\"backgroundcolor\":\"#E5ECF6\",\"gridcolor\":\"white\",\"gridwidth\":2,\"linecolor\":\"white\",\"showbackground\":true,\"ticks\":\"\",\"zerolinecolor\":\"white\"},\"yaxis\":{\"backgroundcolor\":\"#E5ECF6\",\"gridcolor\":\"white\",\"gridwidth\":2,\"linecolor\":\"white\",\"showbackground\":true,\"ticks\":\"\",\"zerolinecolor\":\"white\"},\"zaxis\":{\"backgroundcolor\":\"#E5ECF6\",\"gridcolor\":\"white\",\"gridwidth\":2,\"linecolor\":\"white\",\"showbackground\":true,\"ticks\":\"\",\"zerolinecolor\":\"white\"}},\"shapedefaults\":{\"line\":{\"color\":\"#2a3f5f\"}},\"ternary\":{\"aaxis\":{\"gridcolor\":\"white\",\"linecolor\":\"white\",\"ticks\":\"\"},\"baxis\":{\"gridcolor\":\"white\",\"linecolor\":\"white\",\"ticks\":\"\"},\"bgcolor\":\"#E5ECF6\",\"caxis\":{\"gridcolor\":\"white\",\"linecolor\":\"white\",\"ticks\":\"\"}},\"title\":{\"x\":0.05},\"xaxis\":{\"automargin\":true,\"gridcolor\":\"white\",\"linecolor\":\"white\",\"ticks\":\"\",\"title\":{\"standoff\":15},\"zerolinecolor\":\"white\",\"zerolinewidth\":2},\"yaxis\":{\"automargin\":true,\"gridcolor\":\"white\",\"linecolor\":\"white\",\"ticks\":\"\",\"title\":{\"standoff\":15},\"zerolinecolor\":\"white\",\"zerolinewidth\":2}}},\"title\":{\"text\":\"Z-Distribution with Points for Top 5 Player Value Ratings by Position\"},\"width\":1200,\"xaxis\":{\"anchor\":\"y\",\"domain\":[0.0,0.2888888888888889]},\"yaxis\":{\"anchor\":\"x\",\"domain\":[0.7777777777777778,1.0]},\"xaxis2\":{\"anchor\":\"y2\",\"domain\":[0.35555555555555557,0.6444444444444445]},\"yaxis2\":{\"anchor\":\"x2\",\"domain\":[0.7777777777777778,1.0]},\"xaxis3\":{\"anchor\":\"y3\",\"domain\":[0.7111111111111111,1.0]},\"yaxis3\":{\"anchor\":\"x3\",\"domain\":[0.7777777777777778,1.0]},\"xaxis4\":{\"anchor\":\"y4\",\"domain\":[0.0,0.2888888888888889]},\"yaxis4\":{\"anchor\":\"x4\",\"domain\":[0.3888888888888889,0.6111111111111112]},\"xaxis5\":{\"anchor\":\"y5\",\"domain\":[0.35555555555555557,0.6444444444444445]},\"yaxis5\":{\"anchor\":\"x5\",\"domain\":[0.3888888888888889,0.6111111111111112]},\"xaxis6\":{\"anchor\":\"y6\",\"domain\":[0.7111111111111111,1.0]},\"yaxis6\":{\"anchor\":\"x6\",\"domain\":[0.3888888888888889,0.6111111111111112]},\"xaxis7\":{\"anchor\":\"y7\",\"domain\":[0.0,0.2888888888888889]},\"yaxis7\":{\"anchor\":\"x7\",\"domain\":[0.0,0.22222222222222224]},\"xaxis8\":{\"anchor\":\"y8\",\"domain\":[0.35555555555555557,0.6444444444444445]},\"yaxis8\":{\"anchor\":\"x8\",\"domain\":[0.0,0.22222222222222224]},\"xaxis9\":{\"anchor\":\"y9\",\"domain\":[0.7111111111111111,1.0]},\"yaxis9\":{\"anchor\":\"x9\",\"domain\":[0.0,0.22222222222222224]}},                        {\"responsive\": true}                    ).then(function(){\n",
       "                            \n",
       "var gd = document.getElementById('d36d2d63-2017-485a-9e5e-8057c593c3cc');\n",
       "var x = new MutationObserver(function (mutations, observer) {{\n",
       "        var display = window.getComputedStyle(gd).display;\n",
       "        if (!display || display === 'none') {{\n",
       "            console.log([gd, 'removed!']);\n",
       "            Plotly.purge(gd);\n",
       "            observer.disconnect();\n",
       "        }}\n",
       "}});\n",
       "\n",
       "// Listen for the removal of the full notebook cells\n",
       "var notebookContainer = gd.closest('#notebook-container');\n",
       "if (notebookContainer) {{\n",
       "    x.observe(notebookContainer, {childList: true});\n",
       "}}\n",
       "\n",
       "// Listen for the clearing of the current output cell\n",
       "var outputEl = gd.closest('.output');\n",
       "if (outputEl) {{\n",
       "    x.observe(outputEl, {childList: true});\n",
       "}}\n",
       "\n",
       "                        })                };            </script>        </div>"
      ]
     },
     "metadata": {},
     "output_type": "display_data"
    }
   ],
   "source": [
    "import plotly.graph_objects as go\n",
    "from plotly.subplots import make_subplots\n",
    "from plotly.offline import init_notebook_mode, iplot\n",
    "init_notebook_mode(connected=True)\n",
    "\n",
    "# Example dictionary mapping positions to DataFrames:\n",
    "# pos_dfs = {'defender': df_def, 'midfielder': df_mid, 'forward': df_for}\n",
    "# (Assume these DataFrames are already defined and have the required columns.)\n",
    "\n",
    "# Order positions and z score metrics as they will appear in the grid.\n",
    "positions = ['Defender', 'Midfielder', 'Forward']\n",
    "z_metrics = ['goals_per_90_z', 'assists_per_90_z', 'red_cards_per_90_z']\n",
    "\n",
    "subplot_titles = []\n",
    "for pos in positions:\n",
    "    for metric in z_metrics:\n",
    "        subplot_titles.append(f\"{pos.title()} - {metric}\")\n",
    "\n",
    "# Create a 3x3 grid of subplots.\n",
    "fig = make_subplots(rows=3, cols=3, subplot_titles=subplot_titles)\n",
    "\n",
    "# Generate x values for the z-distribution curve (from -4 to 4)\n",
    "x_vals = np.linspace(-4, 4, 400)\n",
    "# Normal distribution PDF function\n",
    "pdf = 1 / np.sqrt(2 * np.pi) * np.exp(-0.5 * x_vals ** 2)\n",
    "\n",
    "# Loop over each position (rows) and each z metric (columns)\n",
    "for row_index, pos in enumerate(positions, start=1):\n",
    "    # Retrieve the corresponding DataFrame and choose top 5 players by player_value\n",
    "    df = position_dfs[pos]\n",
    "    df_top = df.sort_values('player_value', ascending=False).head(5)\n",
    "    \n",
    "    for col_index, metric in enumerate(z_metrics, start=1):\n",
    "        # Add the z-distribution curve to the subplot\n",
    "        fig.add_trace(\n",
    "            go.Scatter(\n",
    "                x=x_vals,\n",
    "                y=pdf,\n",
    "                mode='lines',\n",
    "                name='Z-Curve',\n",
    "                line=dict(color='lightgrey'),\n",
    "                showlegend=False\n",
    "            ),\n",
    "            row=row_index,\n",
    "            col=col_index\n",
    "        )\n",
    "        \n",
    "        # For each top player, compute the y value on the normal pdf at the player's z value.\n",
    "        # This overlays the player points on the z-curve.\n",
    "        player_x = df_top[metric].values\n",
    "        player_y = 1 / np.sqrt(2 * np.pi) * np.exp(-0.5 * player_x ** 2)\n",
    "        \n",
    "        # Create scatter markers for players\n",
    "        fig.add_trace(\n",
    "            go.Scatter(\n",
    "                x=player_x,\n",
    "                y=player_y,\n",
    "                mode='markers+text',\n",
    "                marker=dict(\n",
    "                    size=df[\"player_efficiency\"],\n",
    "                    color=df[\"player_potential\"],\n",
    "                    showscale=True\n",
    "                ),\n",
    "                text=df['name'],\n",
    "                textposition='top center',\n",
    "                name='Player',\n",
    "                showlegend=False\n",
    "            ),\n",
    "            row=row_index,\n",
    "            col=col_index\n",
    "        )\n",
    "\n",
    "# Update layout for clarity and aesthetics\n",
    "fig.update_layout(\n",
    "    height=900,\n",
    "    width=1200,\n",
    "    title_text=\"Z-Distribution with Points for Top 5 Player Value Ratings by Position\",\n",
    "    margin=dict(t=100, b=50),\n",
    ")\n",
    "\n",
    "\n",
    "\n",
    "iplot(fig)\n"
   ]
  },
  {
   "cell_type": "code",
   "execution_count": 43,
   "metadata": {},
   "outputs": [
    {
     "data": {
      "application/vnd.plotly.v1+json": {
       "config": {
        "plotlyServerURL": "https://plot.ly"
       },
       "data": [
        {
         "marker": {
          "color": {
           "bdata": "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",
           "dtype": "f8"
          },
          "showscale": true,
          "size": {
           "bdata": "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",
           "dtype": "f8"
          }
         },
         "mode": "markers",
         "name": "Midfielders",
         "text": [
          "Julian Hall",
          "Dylan Teves",
          "Serge Ngoma",
          "Randall Leal",
          "Aziel Jackson",
          "Evander",
          "Caden Clark",
          "Cedric Teuchert",
          "Riqui Puig",
          "Marino Hinestroza",
          "Jacen Russell-Rowe",
          "Djordje Mihailovic",
          "Dániel Gazdag",
          "Ben Bender",
          "Gabriel Pirani",
          "Luciano Acosta",
          "Diego Rossi",
          "Cole Bassett",
          "Kwadwo Opoku",
          "Patrickson Delgado",
          "Thiago Almada",
          "Jesús Ferreira",
          "Ben Cremaschi",
          "Jesús Daniel Bueno",
          "Quinn Sullivan",
          "Marcel Hartel",
          "Jules-Anthony Vilsaint",
          "Stuart Armstrong",
          "Matías Rojas",
          "Emil Forsberg",
          "Hernán López Muñoz",
          "Cameron Harper",
          "Brian Gutiérrez",
          "Wikelman Carmona",
          "Martín Ojeda",
          "Nikola Petković",
          "Noel Buck",
          "Dominik Yankov",
          "Albert Rusnák",
          "Jack McGlynn",
          "McKinze Gaines",
          "Federico Redondo",
          "Alexandru Mățan",
          "Indiana Vassilev",
          "Andrés Perea",
          "Dennis Gjengaar",
          "Lawson Sunderland",
          "Aidan Morris",
          "Alejandro Bran",
          "Bryce Duke",
          "David Ruíz-Ochoa",
          "Diogo Gonçalves",
          "Christian Ramirez",
          "Theodore Ku-Dipietro",
          "Aleksei Miranchuk",
          "Hosei Kijima",
          "Dylan Chambost",
          "Gerardo Valenzuela",
          "Nelson Palacio",
          "Robin Lod",
          "Hany Mukhtar",
          "Sebastian Berhalter",
          "Sebastián Driussi",
          "Obed Vargas",
          "Ajani Fortune",
          "Nathan-Dylan Saliba",
          "Eryk Williamson",
          "Ralph Priso-Mbongue",
          "Eduard Löwen",
          "David Ayala",
          "Timmy Tillman",
          "Braian Ojeda",
          "Daniel Pereira",
          "Hassani Dotson",
          "Tomáš Ostrák",
          "Matthew Longstaff",
          "Mathieu Choiniere",
          "Frankie Amaya",
          "Pedro Vite",
          "Niko Tsakiris",
          "Amine Bassi",
          "Alhassan Yusuf",
          "Leon Flach",
          "Eduard Atuesta",
          "Peter Stroud",
          "Erik Thommy",
          "Bernard Kamungo",
          "Jack Skahan",
          "Cavan Sullivan",
          "Dru Yearwood",
          "Pavel Bucha",
          "Alonso Coello",
          "Yannick Bright",
          "Stiven Jimenez",
          "Ervin Torres",
          "Isaiah Jones",
          "Alessandro Biello",
          "Cole Mrowka",
          "Christopher Olney",
          "Taha Habroune",
          "César Araujo",
          "Chris Durkin",
          "Jared Stroud",
          "Cyprian Kachwele",
          "Nolan Norris",
          "Anthony Ramirez",
          "Brooklyn Raines",
          "Njabulo Blom",
          "Sean Zawadzki",
          "Mohammed Sofo",
          "Jackson Hopkins",
          "Ronald Donkor",
          "Wayne Frederick",
          "Jake Girdwood-Reich",
          "Erik Duenas",
          "Omar Valencia",
          "Ali Ahmed",
          "Joshua Atencio",
          "Federico Navarro",
          "Oliver Larraz",
          "Marco Reus",
          "Tsiki Ntsabeleng",
          "Omari Glasgow",
          "Shakur Mohammed",
          "Danny Leyva",
          "Moses Nyeman",
          "Rida Zouhir",
          "Markus Anderson",
          "Daniel Edelman",
          "Javier Casas",
          "James Sands",
          "Lorenzo Insigne",
          "Memo Rodriguez",
          "Edwin Cerrillo",
          "Joaquín Pereyra",
          "Jonathan Perez",
          "Carle-Fred Sainte",
          "Malik Pinto",
          "Matti Peltola",
          "Jeorgio Kocevski",
          "Patrick Yazbek",
          "Kosi Thompson",
          "Antino Lopez",
          "Liam Fraser",
          "Carles Gil",
          "Cassius Mailula",
          "Jamar Ricketts",
          "Tomas Pondeca",
          "Andres Jasson",
          "Tucker Lepley",
          "Herbert Endeley",
          "Alonso Ramírez",
          "Emeka Eneli",
          "Djibril Diani",
          "Derrick Etienne",
          "Connor Ronan",
          "Bartosz Slisz",
          "Rémi Walter",
          "Danley Jean-Jacques",
          "Michael Baldisimo",
          "Luca Petrasso",
          "Boris Enow",
          "Jeremy Rafanello",
          "Isaiah Parente",
          "Noel Caliskan",
          "Cristhian Paredes",
          "Keaton Parks",
          "Lewis O'Brien",
          "Derrick Jones",
          "Brandt Bronico",
          "Anthony Markanich",
          "Daniel Aguirre",
          "Paxton Pomykal",
          "Show",
          "Brandon Servania",
          "Samuel Shashoua",
          "Martín Rodríguez",
          "Dominique Badji",
          "Kellyn Acosta",
          "Jackson Yueill",
          "Pablo Ruíz",
          "Felipe Hernandez",
          "Tristan Muyumba",
          "Xherdan Shaqiri",
          "Sebastian Lletget",
          "Fabian Herbers",
          "Franco Fragapane",
          "Matt Crooks",
          "Deybi Flores",
          "Julian Gressel",
          "Marky Delgado",
          "Jasper Löffelsend",
          "Marvin Loría",
          "Mohanad Jeahze",
          "Maximiliano Moralez",
          "Andrés Cubas",
          "Obinna Nwobodo",
          "Artur",
          "Ian Harkes",
          "Jhojan Valencia",
          "Felipe Carballo",
          "Amar Sejdic",
          "Brian Anunga",
          "Cristian Roldan",
          "Alessandro Schöpf",
          "Samuel Piette",
          "Nemanja Radoja",
          "Nicolás Lodeiro",
          "Asier Illarramendi",
          "Emanuel Reynoso",
          "Russell Canouse",
          "Carlos Gruezo",
          "José Andrés Martínez",
          "Jonathan Osorio",
          "Wilder Cartagena",
          "Alexander Ring",
          "Mark-Anthony Kaye",
          "Mateusz Klich",
          "Aníbal Godoy",
          "Gastón Giménez",
          "Ashley Westwood",
          "Alejandro Bedoya",
          "Matt Polster",
          "Wil Trapp",
          "Jean Mota",
          "Junior Moreno",
          "Sean Davis",
          "Gastón Brugman",
          "Héctor Herrera",
          "Scott Arfield",
          "Sergio Busquets",
          "João Paulo Mior",
          "Júnior Urso",
          "Ilie Sánchez",
          "Victor Wanyama",
          "Darlington Nagbe",
          "Felipe",
          "Alfredo Morales",
          "Ján Greguš",
          "Dax McCarty",
          "Diego Chará",
          "Victor Enriquez"
         ],
         "type": "scatter",
         "x": {
          "bdata": "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",
          "dtype": "f8"
         },
         "xaxis": "x",
         "y": {
          "bdata": "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",
          "dtype": "f8"
         },
         "yaxis": "y"
        },
        {
         "line": {
          "color": "lightgrey"
         },
         "mode": "lines",
         "name": "Z-Distribution Curve",
         "type": "scatter",
         "x": {
          "bdata": "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",
          "dtype": "f8"
         },
         "xaxis": "x",
         "y": {
          "bdata": "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",
          "dtype": "f8"
         },
         "yaxis": "y"
        }
       ],
       "layout": {
        "template": {
         "data": {
          "bar": [
           {
            "error_x": {
             "color": "#2a3f5f"
            },
            "error_y": {
             "color": "#2a3f5f"
            },
            "marker": {
             "line": {
              "color": "#E5ECF6",
              "width": 0.5
             },
             "pattern": {
              "fillmode": "overlay",
              "size": 10,
              "solidity": 0.2
             }
            },
            "type": "bar"
           }
          ],
          "barpolar": [
           {
            "marker": {
             "line": {
              "color": "#E5ECF6",
              "width": 0.5
             },
             "pattern": {
              "fillmode": "overlay",
              "size": 10,
              "solidity": 0.2
             }
            },
            "type": "barpolar"
           }
          ],
          "carpet": [
           {
            "aaxis": {
             "endlinecolor": "#2a3f5f",
             "gridcolor": "white",
             "linecolor": "white",
             "minorgridcolor": "white",
             "startlinecolor": "#2a3f5f"
            },
            "baxis": {
             "endlinecolor": "#2a3f5f",
             "gridcolor": "white",
             "linecolor": "white",
             "minorgridcolor": "white",
             "startlinecolor": "#2a3f5f"
            },
            "type": "carpet"
           }
          ],
          "choropleth": [
           {
            "colorbar": {
             "outlinewidth": 0,
             "ticks": ""
            },
            "type": "choropleth"
           }
          ],
          "contour": [
           {
            "colorbar": {
             "outlinewidth": 0,
             "ticks": ""
            },
            "colorscale": [
             [
              0,
              "#0d0887"
             ],
             [
              0.1111111111111111,
              "#46039f"
             ],
             [
              0.2222222222222222,
              "#7201a8"
             ],
             [
              0.3333333333333333,
              "#9c179e"
             ],
             [
              0.4444444444444444,
              "#bd3786"
             ],
             [
              0.5555555555555556,
              "#d8576b"
             ],
             [
              0.6666666666666666,
              "#ed7953"
             ],
             [
              0.7777777777777778,
              "#fb9f3a"
             ],
             [
              0.8888888888888888,
              "#fdca26"
             ],
             [
              1,
              "#f0f921"
             ]
            ],
            "type": "contour"
           }
          ],
          "contourcarpet": [
           {
            "colorbar": {
             "outlinewidth": 0,
             "ticks": ""
            },
            "type": "contourcarpet"
           }
          ],
          "heatmap": [
           {
            "colorbar": {
             "outlinewidth": 0,
             "ticks": ""
            },
            "colorscale": [
             [
              0,
              "#0d0887"
             ],
             [
              0.1111111111111111,
              "#46039f"
             ],
             [
              0.2222222222222222,
              "#7201a8"
             ],
             [
              0.3333333333333333,
              "#9c179e"
             ],
             [
              0.4444444444444444,
              "#bd3786"
             ],
             [
              0.5555555555555556,
              "#d8576b"
             ],
             [
              0.6666666666666666,
              "#ed7953"
             ],
             [
              0.7777777777777778,
              "#fb9f3a"
             ],
             [
              0.8888888888888888,
              "#fdca26"
             ],
             [
              1,
              "#f0f921"
             ]
            ],
            "type": "heatmap"
           }
          ],
          "histogram": [
           {
            "marker": {
             "pattern": {
              "fillmode": "overlay",
              "size": 10,
              "solidity": 0.2
             }
            },
            "type": "histogram"
           }
          ],
          "histogram2d": [
           {
            "colorbar": {
             "outlinewidth": 0,
             "ticks": ""
            },
            "colorscale": [
             [
              0,
              "#0d0887"
             ],
             [
              0.1111111111111111,
              "#46039f"
             ],
             [
              0.2222222222222222,
              "#7201a8"
             ],
             [
              0.3333333333333333,
              "#9c179e"
             ],
             [
              0.4444444444444444,
              "#bd3786"
             ],
             [
              0.5555555555555556,
              "#d8576b"
             ],
             [
              0.6666666666666666,
              "#ed7953"
             ],
             [
              0.7777777777777778,
              "#fb9f3a"
             ],
             [
              0.8888888888888888,
              "#fdca26"
             ],
             [
              1,
              "#f0f921"
             ]
            ],
            "type": "histogram2d"
           }
          ],
          "histogram2dcontour": [
           {
            "colorbar": {
             "outlinewidth": 0,
             "ticks": ""
            },
            "colorscale": [
             [
              0,
              "#0d0887"
             ],
             [
              0.1111111111111111,
              "#46039f"
             ],
             [
              0.2222222222222222,
              "#7201a8"
             ],
             [
              0.3333333333333333,
              "#9c179e"
             ],
             [
              0.4444444444444444,
              "#bd3786"
             ],
             [
              0.5555555555555556,
              "#d8576b"
             ],
             [
              0.6666666666666666,
              "#ed7953"
             ],
             [
              0.7777777777777778,
              "#fb9f3a"
             ],
             [
              0.8888888888888888,
              "#fdca26"
             ],
             [
              1,
              "#f0f921"
             ]
            ],
            "type": "histogram2dcontour"
           }
          ],
          "mesh3d": [
           {
            "colorbar": {
             "outlinewidth": 0,
             "ticks": ""
            },
            "type": "mesh3d"
           }
          ],
          "parcoords": [
           {
            "line": {
             "colorbar": {
              "outlinewidth": 0,
              "ticks": ""
             }
            },
            "type": "parcoords"
           }
          ],
          "pie": [
           {
            "automargin": true,
            "type": "pie"
           }
          ],
          "scatter": [
           {
            "fillpattern": {
             "fillmode": "overlay",
             "size": 10,
             "solidity": 0.2
            },
            "type": "scatter"
           }
          ],
          "scatter3d": [
           {
            "line": {
             "colorbar": {
              "outlinewidth": 0,
              "ticks": ""
             }
            },
            "marker": {
             "colorbar": {
              "outlinewidth": 0,
              "ticks": ""
             }
            },
            "type": "scatter3d"
           }
          ],
          "scattercarpet": [
           {
            "marker": {
             "colorbar": {
              "outlinewidth": 0,
              "ticks": ""
             }
            },
            "type": "scattercarpet"
           }
          ],
          "scattergeo": [
           {
            "marker": {
             "colorbar": {
              "outlinewidth": 0,
              "ticks": ""
             }
            },
            "type": "scattergeo"
           }
          ],
          "scattergl": [
           {
            "marker": {
             "colorbar": {
              "outlinewidth": 0,
              "ticks": ""
             }
            },
            "type": "scattergl"
           }
          ],
          "scattermap": [
           {
            "marker": {
             "colorbar": {
              "outlinewidth": 0,
              "ticks": ""
             }
            },
            "type": "scattermap"
           }
          ],
          "scattermapbox": [
           {
            "marker": {
             "colorbar": {
              "outlinewidth": 0,
              "ticks": ""
             }
            },
            "type": "scattermapbox"
           }
          ],
          "scatterpolar": [
           {
            "marker": {
             "colorbar": {
              "outlinewidth": 0,
              "ticks": ""
             }
            },
            "type": "scatterpolar"
           }
          ],
          "scatterpolargl": [
           {
            "marker": {
             "colorbar": {
              "outlinewidth": 0,
              "ticks": ""
             }
            },
            "type": "scatterpolargl"
           }
          ],
          "scatterternary": [
           {
            "marker": {
             "colorbar": {
              "outlinewidth": 0,
              "ticks": ""
             }
            },
            "type": "scatterternary"
           }
          ],
          "surface": [
           {
            "colorbar": {
             "outlinewidth": 0,
             "ticks": ""
            },
            "colorscale": [
             [
              0,
              "#0d0887"
             ],
             [
              0.1111111111111111,
              "#46039f"
             ],
             [
              0.2222222222222222,
              "#7201a8"
             ],
             [
              0.3333333333333333,
              "#9c179e"
             ],
             [
              0.4444444444444444,
              "#bd3786"
             ],
             [
              0.5555555555555556,
              "#d8576b"
             ],
             [
              0.6666666666666666,
              "#ed7953"
             ],
             [
              0.7777777777777778,
              "#fb9f3a"
             ],
             [
              0.8888888888888888,
              "#fdca26"
             ],
             [
              1,
              "#f0f921"
             ]
            ],
            "type": "surface"
           }
          ],
          "table": [
           {
            "cells": {
             "fill": {
              "color": "#EBF0F8"
             },
             "line": {
              "color": "white"
             }
            },
            "header": {
             "fill": {
              "color": "#C8D4E3"
             },
             "line": {
              "color": "white"
             }
            },
            "type": "table"
           }
          ]
         },
         "layout": {
          "annotationdefaults": {
           "arrowcolor": "#2a3f5f",
           "arrowhead": 0,
           "arrowwidth": 1
          },
          "autotypenumbers": "strict",
          "coloraxis": {
           "colorbar": {
            "outlinewidth": 0,
            "ticks": ""
           }
          },
          "colorscale": {
           "diverging": [
            [
             0,
             "#8e0152"
            ],
            [
             0.1,
             "#c51b7d"
            ],
            [
             0.2,
             "#de77ae"
            ],
            [
             0.3,
             "#f1b6da"
            ],
            [
             0.4,
             "#fde0ef"
            ],
            [
             0.5,
             "#f7f7f7"
            ],
            [
             0.6,
             "#e6f5d0"
            ],
            [
             0.7,
             "#b8e186"
            ],
            [
             0.8,
             "#7fbc41"
            ],
            [
             0.9,
             "#4d9221"
            ],
            [
             1,
             "#276419"
            ]
           ],
           "sequential": [
            [
             0,
             "#0d0887"
            ],
            [
             0.1111111111111111,
             "#46039f"
            ],
            [
             0.2222222222222222,
             "#7201a8"
            ],
            [
             0.3333333333333333,
             "#9c179e"
            ],
            [
             0.4444444444444444,
             "#bd3786"
            ],
            [
             0.5555555555555556,
             "#d8576b"
            ],
            [
             0.6666666666666666,
             "#ed7953"
            ],
            [
             0.7777777777777778,
             "#fb9f3a"
            ],
            [
             0.8888888888888888,
             "#fdca26"
            ],
            [
             1,
             "#f0f921"
            ]
           ],
           "sequentialminus": [
            [
             0,
             "#0d0887"
            ],
            [
             0.1111111111111111,
             "#46039f"
            ],
            [
             0.2222222222222222,
             "#7201a8"
            ],
            [
             0.3333333333333333,
             "#9c179e"
            ],
            [
             0.4444444444444444,
             "#bd3786"
            ],
            [
             0.5555555555555556,
             "#d8576b"
            ],
            [
             0.6666666666666666,
             "#ed7953"
            ],
            [
             0.7777777777777778,
             "#fb9f3a"
            ],
            [
             0.8888888888888888,
             "#fdca26"
            ],
            [
             1,
             "#f0f921"
            ]
           ]
          },
          "colorway": [
           "#636efa",
           "#EF553B",
           "#00cc96",
           "#ab63fa",
           "#FFA15A",
           "#19d3f3",
           "#FF6692",
           "#B6E880",
           "#FF97FF",
           "#FECB52"
          ],
          "font": {
           "color": "#2a3f5f"
          },
          "geo": {
           "bgcolor": "white",
           "lakecolor": "white",
           "landcolor": "#E5ECF6",
           "showlakes": true,
           "showland": true,
           "subunitcolor": "white"
          },
          "hoverlabel": {
           "align": "left"
          },
          "hovermode": "closest",
          "mapbox": {
           "style": "light"
          },
          "paper_bgcolor": "white",
          "plot_bgcolor": "#E5ECF6",
          "polar": {
           "angularaxis": {
            "gridcolor": "white",
            "linecolor": "white",
            "ticks": ""
           },
           "bgcolor": "#E5ECF6",
           "radialaxis": {
            "gridcolor": "white",
            "linecolor": "white",
            "ticks": ""
           }
          },
          "scene": {
           "xaxis": {
            "backgroundcolor": "#E5ECF6",
            "gridcolor": "white",
            "gridwidth": 2,
            "linecolor": "white",
            "showbackground": true,
            "ticks": "",
            "zerolinecolor": "white"
           },
           "yaxis": {
            "backgroundcolor": "#E5ECF6",
            "gridcolor": "white",
            "gridwidth": 2,
            "linecolor": "white",
            "showbackground": true,
            "ticks": "",
            "zerolinecolor": "white"
           },
           "zaxis": {
            "backgroundcolor": "#E5ECF6",
            "gridcolor": "white",
            "gridwidth": 2,
            "linecolor": "white",
            "showbackground": true,
            "ticks": "",
            "zerolinecolor": "white"
           }
          },
          "shapedefaults": {
           "line": {
            "color": "#2a3f5f"
           }
          },
          "ternary": {
           "aaxis": {
            "gridcolor": "white",
            "linecolor": "white",
            "ticks": ""
           },
           "baxis": {
            "gridcolor": "white",
            "linecolor": "white",
            "ticks": ""
           },
           "bgcolor": "#E5ECF6",
           "caxis": {
            "gridcolor": "white",
            "linecolor": "white",
            "ticks": ""
           }
          },
          "title": {
           "x": 0.05
          },
          "xaxis": {
           "automargin": true,
           "gridcolor": "white",
           "linecolor": "white",
           "ticks": "",
           "title": {
            "standoff": 15
           },
           "zerolinecolor": "white",
           "zerolinewidth": 2
          },
          "yaxis": {
           "automargin": true,
           "gridcolor": "white",
           "linecolor": "white",
           "ticks": "",
           "title": {
            "standoff": 15
           },
           "zerolinecolor": "white",
           "zerolinewidth": 2
          }
         }
        },
        "title": {
         "text": "Midfielder Performance Over Z-Distribution"
        },
        "xaxis": {
         "anchor": "y",
         "domain": [
          0,
          1
         ],
         "title": {
          "text": "Player Value (z-score)"
         }
        },
        "yaxis": {
         "anchor": "x",
         "domain": [
          0,
          1
         ],
         "title": {
          "text": "Probability Density"
         }
        }
       }
      },
      "text/html": [
       "<div>            <script src=\"https://cdnjs.cloudflare.com/ajax/libs/mathjax/2.7.5/MathJax.js?config=TeX-AMS-MML_SVG\"></script><script type=\"text/javascript\">if (window.MathJax && window.MathJax.Hub && window.MathJax.Hub.Config) {window.MathJax.Hub.Config({SVG: {font: \"STIX-Web\"}});}</script>                <script type=\"text/javascript\">window.PlotlyConfig = {MathJaxConfig: 'local'};</script>\n",
       "        <script charset=\"utf-8\" src=\"https://cdn.plot.ly/plotly-3.0.1.min.js\"></script>                <div id=\"cdd94863-2817-4d9a-b94b-c2061ab0124a\" class=\"plotly-graph-div\" style=\"height:525px; width:100%;\"></div>            <script type=\"text/javascript\">                window.PLOTLYENV=window.PLOTLYENV || {};                                if (document.getElementById(\"cdd94863-2817-4d9a-b94b-c2061ab0124a\")) {                    Plotly.newPlot(                        \"cdd94863-2817-4d9a-b94b-c2061ab0124a\",                        [{\"marker\":{\"color\":{\"dtype\":\"f8\",\"bdata\":\"pp58EOKV7z81IsZWi+rqP2h\\u002fYzDT5e4\\u002fwyUMRmqk4j\\u002fJeYpafS\\u002fsP72i1fXUZOc\\u002f1ALrxsXr7T\\u002fDJQxGaqTiPyj5rjUUU+k\\u002fOGatcNQr7T84Zq1w1CvtP72i1fXUZOc\\u002fwyUMRmqk4j\\u002fJeYpafS\\u002fsPzhmrXDUK+0\\u002ferTncyu32j+9otX11GTnP8l5ilp9L+w\\u002fyXmKWn0v7D\\u002fUAuvGxevtP8l5ilp9L+w\\u002fNSLGVovq6j9of2Mw0+XuPyj5rjUUU+k\\u002fvfo2vHx77j8AAAAAAADgPzhmrXDUK+0\\u002fhrpUFFY20T8AAAAAAADgP2AbRCmvs8o\\u002fNSLGVovq6j\\u002fJeYpafS\\u002fsP9QC68bF6+0\\u002f1ALrxsXr7T+9otX11GTnP9QC68bF6+0\\u002faH9jMNPl7j81IsZWi+rqP3q053Mrt9o\\u002f1ALrxsXr7T+9otX11GTnPzhmrXDUK+0\\u002fKPmuNRRT6T\\u002fJeYpafS\\u002fsPzUixlaL6uo\\u002fvfo2vHx77j\\u002fJeYpafS\\u002fsP8l5ilp9L+w\\u002fyXmKWn0v7D\\u002fJeYpafS\\u002fsP736Nrx8e+4\\u002fASJPiuok5T9gG0Qpr7PKP8l5ilp9L+w\\u002fAAAAAAAA4D84Zq1w1CvtPwEiT4rqJOU\\u002fvfo2vHx77j\\u002fJeYpafS\\u002fsP\\u002f+7YesqttU\\u002fAAAAAAAA4D\\u002fJeYpafS\\u002fsP8MlDEZqpOI\\u002faH9jMNPl7j84Zq1w1CvtP736Nrx8e+4\\u002fASJPiuok5T84Zq1w1CvtP8MlDEZqpOI\\u002fOGatcNQr7T+9otX11GTnPzUixlaL6uo\\u002fNSLGVovq6j8BIk+K6iTlPzUixlaL6uo\\u002fNSLGVovq6j8o+a41FFPpPzUixlaL6uo\\u002fOGatcNQr7T9of2Mw0+XuPwEiT4rqJOU\\u002fNSLGVovq6j\\u002fJeYpafS\\u002fsPwEiT4rqJOU\\u002fOGatcNQr7T96tOdzK7faP8l5ilp9L+w\\u002fvaLV9dRk5z++BmkEr7PvPzUixlaL6uo\\u002fvaLV9dRk5z8o+a41FFPpP8l5ilp9L+w\\u002f6uENL6hs7z\\u002fq4Q0vqGzvPyS7VbDRM+8\\u002fJLtVsNEz7z8ku1Ww0TPvPyS7VbDRM+8\\u002fJLtVsNEz7z\\u002fJeYpafS\\u002fsPzUixlaL6uo\\u002fwyUMRmqk4j9of2Mw0+XuP2h\\u002fYzDT5e4\\u002faH9jMNPl7j9of2Mw0+XuPyj5rjUUU+k\\u002fNSLGVovq6j+9+ja8fHvuP736Nrx8e+4\\u002fvfo2vHx77j+9+ja8fHvuP736Nrx8e+4\\u002fvfo2vHx77j+9+ja8fHvuPzUixlaL6uo\\u002fyXmKWn0v7D81IsZWi+rqP8l5ilp9L+w\\u002frjGsKxWEvj+9otX11GTnP9QC68bF6+0\\u002f1ALrxsXr7T\\u002fUAuvGxevtP9QC68bF6+0\\u002f1ALrxsXr7T\\u002fUAuvGxevtP9QC68bF6+0\\u002f1ALrxsXr7T81IsZWi+rqP2AbRCmvs8o\\u002fAAAAAAAA4D81IsZWi+rqP72i1fXUZOc\\u002fOGatcNQr7T84Zq1w1CvtPzhmrXDUK+0\\u002fOGatcNQr7T84Zq1w1CvtPzhmrXDUK+0\\u002fOGatcNQr7T84Zq1w1CvtP72i1fXUZOc\\u002fhrpUFFY20T\\u002fJeYpafS\\u002fsP8l5ilp9L+w\\u002fyXmKWn0v7D\\u002fJeYpafS\\u002fsP8l5ilp9L+w\\u002fyXmKWn0v7D\\u002fJeYpafS\\u002fsPyj5rjUUU+k\\u002fvaLV9dRk5z\\u002fDJQxGaqTiP72i1fXUZOc\\u002fKPmuNRRT6T8AAAAAAADgPzUixlaL6uo\\u002fNSLGVovq6j81IsZWi+rqPzUixlaL6uo\\u002fNSLGVovq6j81IsZWi+rqPzUixlaL6uo\\u002fvaLV9dRk5z8BIk+K6iTlP72i1fXUZOc\\u002fASJPiuok5T8AAAAAAADgPyj5rjUUU+k\\u002fKPmuNRRT6T8o+a41FFPpPyj5rjUUU+k\\u002fKPmuNRRT6T8o+a41FFPpP3q053Mrt9o\\u002fhrpUFFY20T8AAAAAAADgPwEiT4rqJOU\\u002fvaLV9dRk5z+9otX11GTnPwEiT4rqJOU\\u002fYBtEKa+zyj+GulQUVjbRP\\u002f+7YesqttU\\u002f\\u002f7th6yq21T\\u002f\\u002fu2HrKrbVP8MlDEZqpOI\\u002f\\u002f7th6yq21T8AAAAAAADgPwEiT4rqJOU\\u002fASJPiuok5T8BIk+K6iTlP2Tpp8jRobA\\u002fwyUMRmqk4j\\u002fDJQxGaqTiP8MlDEZqpOI\\u002fAAAAAAAA4D\\u002fDJQxGaqTiP8MlDEZqpOI\\u002fwyUMRmqk4j\\u002fDJQxGaqTiPwAAAAAAAOA\\u002ferTncyu32j96tOdzK7faP\\u002f+7YesqttU\\u002frjGsKxWEvj8ud+ek0lXEPwAAAAAAAOA\\u002fAAAAAAAA4D8AAAAAAADgP3q053Mrt9o\\u002fhrpUFFY20T96tOdzK7faP2AbRCmvs8o\\u002ferTncyu32j8ud+ek0lXEPy5356TSVcQ\\u002fYBtEKa+zyj8ud+ek0lXEP2Tpp8jRobA\\u002f\\u002f7th6yq21T+GulQUVjbRP\\u002f+7YesqttU\\u002f\\u002f7th6yq21T\\u002f\\u002fu2HrKrbVP4a6VBRWNtE\\u002fLnfnpNJVxD9GzpR6XKG2P0bOlHpcobY\\u002fYBtEKa+zyj+uMawrFYS+Py5356TSVcQ\\u002fYBtEKa+zyj8ud+ek0lXEPy5356TSVcQ\\u002fLnfnpNJVxD8ud+ek0lXEP2Tpp8jRobA\\u002fRVSQPDRIqD8AAAAAAAD4fw==\"},\"showscale\":true,\"size\":{\"dtype\":\"f8\",\"bdata\":\"AAAAAAAA8D+rjbG\\u002fNBjnP6SBo7JRkeE\\u002fSS7tZcB45T8PIiyFJSvhP2Fu9u6vseI\\u002fO0rWEOSc3j8qYHOX1\\u002fviP+CVAUPPM9w\\u002fzsO7kHNK1z99gXsa9dnVPw\\u002fdEIhWcto\\u002fxpln5IyX3T+5OiT3mTDVP1zmG1JU8dM\\u002fr2SMGgWd4D9ncuu\\u002f\\u002fCfYP\\u002ff6i3Ss5tM\\u002fUYnka+qd0z+ZYsu8h6\\u002fRPzg7Xx5HK9M\\u002ftLf\\u002fh3os1D++kfjQxjHQP3nYnYtju9M\\u002fJKI5Eb6Lzj82SB5TJq\\u002fbP74mWZqnOM0\\u002fgHRJrdQO4D9+uG\\u002fBQYnZP6WydkR5nuA\\u002fy\\u002fCZoMCOzz\\u002f+DG9FTPjMP707Gflf4ck\\u002fvOdZgpCeyT\\u002fHF\\u002fCRyCrSPzqfWPBEhMg\\u002fNecCf9PTxj8DD5Uri0zNP8tdEShN0tk\\u002fOmE5teb7xj+Tkkxu5EbQPymc3inW7cU\\u002ffZmgeLlszD8grZS9UzTGP9raI++OzMc\\u002fSwPOq8efwT+PEiBCWerEP\\u002fv7dJJtPsM\\u002f5UDyssEewz\\u002fQj34dxAbDPxnlq+5xCb4\\u002f3st6lZ7lzT8B1TS8QEDbP7GVYVHie8E\\u002fk9x0p4Mv0z94Gf4NckW\\u002fP0OJSgVUQM0\\u002f3T9\\u002fPjB8uT+Ge+5D7HnAP0H6L18kDNc\\u002fWjls4RqZ0j8hU+k6k5q+P178uPRd3c4\\u002fbC1wBMw3sz\\u002fQ4kxyW++4P0a3ysP9sq0\\u002fnc6cGaj0xj+nfnEgx9qwP24uTBVgeMo\\u002fbyDzRmOzsD9aEfUtkSjCP9PfcnMCO7g\\u002fN+tWlQr5tz+XomK4x9vFP\\u002feXCcyQ3bc\\u002f4b\\u002fl8UsWtj9NyskEhFy7P6z4nm12RLQ\\u002ftdC6sTRJqD9JjnCdjP+VP16e8NWcTMM\\u002f4uccXwgasj\\u002f4AL\\u002fWV5KqP0ErAa0EtMI\\u002fAUqrX5Qhoz9uN2BsurnPPxO\\u002fpm05cqg\\u002fA8sH0PyBvD8AAAAAAAAAAHiom4PALrA\\u002f1CmkNEkfvD93Irbz+Ey1P0S3sbKH76Y\\u002fAAAAAAAAAAAAAAAAAAAAAAAAAAAAAAAAAAAAAAAAAAAAAAAAAAAAAAAAAAAAAAAAAAAAAAAAAACQNTksSkekP2ib9ms616w\\u002flVv+eN4zxT8AAAAAAAAAAAAAAAAAAAAAAAAAAAAAAAAAAAAAAAAAAC\\u002fg2hjgv7I\\u002fpXZN768mqj8AAAAAAAAAAAAAAAAAAAAAAAAAAAAAAAAAAAAAAAAAAAAAAAAAAAAAAAAAAAAAAAAAAAAAAAAAAMZQ31NIXKg\\u002f2jsOroA1nj9OxkaLtsenPzXUH2mV7J0\\u002ff4KylybC1j8Yomt6lJi2PwAAAAAAAAAAAAAAAAAAAAAAAAAAAAAAAAAAAAAAAAAAAAAAAAAAAAAAAAAAAAAAAAAAAAAAAAAAAAAAAAAAAAC+s+5S7jCjP12SSLFhoNM\\u002fTidA7Netxj9KwXLpZZefP7Dj3n4U1rM\\u002fAAAAAAAAAAAAAAAAAAAAAAAAAAAAAAAAAAAAAAAAAAAAAAAAAAAAAAAAAAAAAAAAAAAAAAAAAAAAAAAAAAAAAMrtx0OfyrE\\u002fFSR64s\\u002f80D8AAAAAAAAAAAAAAAAAAAAAAAAAAAAAAAAAAAAAAAAAAAAAAAAAAAAAAAAAAAAAAAAAAAAAAAAAAEPwv3vZYKI\\u002fyTliRQeIqz\\u002fXQ1HGQuq9Py0acxfwGqs\\u002flnQeU6ttmz9s8YEXTT3DPwAAAAAAAAAAAAAAAAAAAAAAAAAAAAAAAAAAAAAAAAAAAAAAAAAAAAAAAAAAAAAAAAAAAAAAAAAAqlKK1Mnrpz\\u002fK0eOg\\u002fpSzP8FLDfRkmKQ\\u002fHn6lgN7ssD8ZbZIJmGHAPwAAAAAAAAAAAAAAAAAAAAAAAAAAAAAAAAAAAAAAAAAAAAAAAAAAAAAAAAAAAAAAAMiPjOgNgcM\\u002fTez\\u002fOEh\\u002fyz8kptTPgXG8P72MTl1O\\u002f6M\\u002fAAAAAAAAAAAAAAAAAAAAANHmjyqaiZ4\\u002fN7oBX2mjyz9EgJw7RAjIP7Um44oCCcQ\\u002fKuVxte6hwz\\u002f5Naj2rofDP9D8hdffeKc\\u002f7JkyvAkKwz+bo\\u002f1Wc8OzPwAAAAAAAAAAAAAAAAAAAAAAAAAAAAAAAPbR\\u002fKywhs8\\u002fvLnFukK5kD\\u002fYBVeELUyKPykt3Ll4QoU\\u002fcSlwgjR6pD8AAAAAAAAAAAAAAAAAAAAAAAAAAAAAAAAAAAAAAAAAAALoif12RaE\\u002fgZAz3w5NqT+dzpwZqPSmP\\u002fH677ciHrM\\u002fRJmHBrFexT\\u002f61I+tgMPCPwAAAAAAAAAAAAAAAAAAAAAAAAAAAAAAAPt+kW7syJ8\\u002fy38fTM0atj\\u002fj1iPP\\u002fHaNP0EmxCaeG7k\\u002fAAAAAAAAAADs8roDXn+7P73IoXEYQbs\\u002fwIrn97ZIsz8kpeJeGaq4P3Qr+U6W2cA\\u002fa1IoWjuFiD8r8gQvIlulPwAAAAAAAAAAAAAAAAAAAAAAAAAAAAAAAIKBzN+VOps\\u002f4dvD9qhXrj\\u002f8qQufnTC1PztLQrHJnrM\\u002f1xD5Au5OmT8XXaJj2RKwP55vRGckvqY\\u002fAAAAAAAAAADosJ7c1YSLPwAAAAAAAAAAAAAAAAAAAAAAAAAAAAAAAAAAAAAAAAAAAAAAAAAAAAAAAAAAAAAAAA==\"}},\"mode\":\"markers\",\"name\":\"Midfielders\",\"text\":[\"Julian Hall\",\"Dylan Teves\",\"Serge Ngoma\",\"Randall Leal\",\"Aziel Jackson\",\"Evander\",\"Caden Clark\",\"Cedric Teuchert\",\"Riqui Puig\",\"Marino Hinestroza\",\"Jacen Russell-Rowe\",\"Djordje Mihailovic\",\"D\\u00e1niel Gazdag\",\"Ben Bender\",\"Gabriel Pirani\",\"Luciano Acosta\",\"Diego Rossi\",\"Cole Bassett\",\"Kwadwo Opoku\",\"Patrickson Delgado\",\"Thiago Almada\",\"Jes\\u00fas Ferreira\",\"Ben Cremaschi\",\"Jes\\u00fas Daniel Bueno\",\"Quinn Sullivan\",\"Marcel Hartel\",\"Jules-Anthony Vilsaint\",\"Stuart Armstrong\",\"Mat\\u00edas Rojas\",\"Emil Forsberg\",\"Hern\\u00e1n L\\u00f3pez Mu\\u00f1oz\",\"Cameron Harper\",\"Brian Guti\\u00e9rrez\",\"Wikelman Carmona\",\"Mart\\u00edn Ojeda\",\"Nikola Petkovi\\u0107\",\"Noel Buck\",\"Dominik Yankov\",\"Albert Rusn\\u00e1k\",\"Jack McGlynn\",\"McKinze Gaines\",\"Federico Redondo\",\"Alexandru M\\u0103\\u021ban\",\"Indiana Vassilev\",\"Andr\\u00e9s Perea\",\"Dennis Gjengaar\",\"Lawson Sunderland\",\"Aidan Morris\",\"Alejandro Bran\",\"Bryce Duke\",\"David Ru\\u00edz-Ochoa\",\"Diogo Gon\\u00e7alves\",\"Christian Ramirez\",\"Theodore Ku-Dipietro\",\"Aleksei Miranchuk\",\"Hosei Kijima\",\"Dylan Chambost\",\"Gerardo Valenzuela\",\"Nelson Palacio\",\"Robin Lod\",\"Hany Mukhtar\",\"Sebastian Berhalter\",\"Sebasti\\u00e1n Driussi\",\"Obed Vargas\",\"Ajani Fortune\",\"Nathan-Dylan Saliba\",\"Eryk Williamson\",\"Ralph Priso-Mbongue\",\"Eduard L\\u00f6wen\",\"David Ayala\",\"Timmy Tillman\",\"Braian Ojeda\",\"Daniel Pereira\",\"Hassani Dotson\",\"Tom\\u00e1\\u0161 Ostr\\u00e1k\",\"Matthew Longstaff\",\"Mathieu Choiniere\",\"Frankie Amaya\",\"Pedro Vite\",\"Niko Tsakiris\",\"Amine Bassi\",\"Alhassan Yusuf\",\"Leon Flach\",\"Eduard Atuesta\",\"Peter Stroud\",\"Erik Thommy\",\"Bernard Kamungo\",\"Jack Skahan\",\"Cavan Sullivan\",\"Dru Yearwood\",\"Pavel Bucha\",\"Alonso Coello\",\"Yannick Bright\",\"Stiven Jimenez\",\"Ervin Torres\",\"Isaiah Jones\",\"Alessandro Biello\",\"Cole Mrowka\",\"Christopher Olney\",\"Taha Habroune\",\"C\\u00e9sar Araujo\",\"Chris Durkin\",\"Jared Stroud\",\"Cyprian Kachwele\",\"Nolan Norris\",\"Anthony Ramirez\",\"Brooklyn Raines\",\"Njabulo Blom\",\"Sean Zawadzki\",\"Mohammed Sofo\",\"Jackson Hopkins\",\"Ronald Donkor\",\"Wayne Frederick\",\"Jake Girdwood-Reich\",\"Erik Duenas\",\"Omar Valencia\",\"Ali Ahmed\",\"Joshua Atencio\",\"Federico Navarro\",\"Oliver Larraz\",\"Marco Reus\",\"Tsiki Ntsabeleng\",\"Omari Glasgow\",\"Shakur Mohammed\",\"Danny Leyva\",\"Moses Nyeman\",\"Rida Zouhir\",\"Markus Anderson\",\"Daniel Edelman\",\"Javier Casas\",\"James Sands\",\"Lorenzo Insigne\",\"Memo Rodriguez\",\"Edwin Cerrillo\",\"Joaqu\\u00edn Pereyra\",\"Jonathan Perez\",\"Carle-Fred Sainte\",\"Malik Pinto\",\"Matti Peltola\",\"Jeorgio Kocevski\",\"Patrick Yazbek\",\"Kosi Thompson\",\"Antino Lopez\",\"Liam Fraser\",\"Carles Gil\",\"Cassius Mailula\",\"Jamar Ricketts\",\"Tomas Pondeca\",\"Andres Jasson\",\"Tucker Lepley\",\"Herbert Endeley\",\"Alonso Ram\\u00edrez\",\"Emeka Eneli\",\"Djibril Diani\",\"Derrick Etienne\",\"Connor Ronan\",\"Bartosz Slisz\",\"R\\u00e9mi Walter\",\"Danley Jean-Jacques\",\"Michael Baldisimo\",\"Luca Petrasso\",\"Boris Enow\",\"Jeremy Rafanello\",\"Isaiah Parente\",\"Noel Caliskan\",\"Cristhian Paredes\",\"Keaton Parks\",\"Lewis O'Brien\",\"Derrick Jones\",\"Brandt Bronico\",\"Anthony Markanich\",\"Daniel Aguirre\",\"Paxton Pomykal\",\"Show\",\"Brandon Servania\",\"Samuel Shashoua\",\"Mart\\u00edn Rodr\\u00edguez\",\"Dominique Badji\",\"Kellyn Acosta\",\"Jackson Yueill\",\"Pablo Ru\\u00edz\",\"Felipe Hernandez\",\"Tristan Muyumba\",\"Xherdan Shaqiri\",\"Sebastian Lletget\",\"Fabian Herbers\",\"Franco Fragapane\",\"Matt Crooks\",\"Deybi Flores\",\"Julian Gressel\",\"Marky Delgado\",\"Jasper L\\u00f6ffelsend\",\"Marvin Lor\\u00eda\",\"Mohanad Jeahze\",\"Maximiliano Moralez\",\"Andr\\u00e9s Cubas\",\"Obinna Nwobodo\",\"Artur\",\"Ian Harkes\",\"Jhojan Valencia\",\"Felipe Carballo\",\"Amar Sejdic\",\"Brian Anunga\",\"Cristian Roldan\",\"Alessandro Sch\\u00f6pf\",\"Samuel Piette\",\"Nemanja Radoja\",\"Nicol\\u00e1s Lodeiro\",\"Asier Illarramendi\",\"Emanuel Reynoso\",\"Russell Canouse\",\"Carlos Gruezo\",\"Jos\\u00e9 Andr\\u00e9s Mart\\u00ednez\",\"Jonathan Osorio\",\"Wilder Cartagena\",\"Alexander Ring\",\"Mark-Anthony Kaye\",\"Mateusz Klich\",\"An\\u00edbal Godoy\",\"Gast\\u00f3n Gim\\u00e9nez\",\"Ashley Westwood\",\"Alejandro Bedoya\",\"Matt Polster\",\"Wil Trapp\",\"Jean Mota\",\"Junior Moreno\",\"Sean Davis\",\"Gast\\u00f3n Brugman\",\"H\\u00e9ctor Herrera\",\"Scott Arfield\",\"Sergio Busquets\",\"Jo\\u00e3o Paulo Mior\",\"J\\u00fanior Urso\",\"Ilie S\\u00e1nchez\",\"Victor Wanyama\",\"Darlington Nagbe\",\"Felipe\",\"Alfredo Morales\",\"J\\u00e1n Gregu\\u0161\",\"Dax McCarty\",\"Diego Char\\u00e1\",\"Victor Enriquez\"],\"x\":{\"dtype\":\"f8\",\"bdata\":\"y2IlOCrg7z86ujcgtT3oP17nKSUSkeU\\u002f7d5cXHOf5D+Ub8jeP3nkP0kxBnGhGuQ\\u002fbrTE9New4z+kzjoyneHiP5qljmfbd+E\\u002fMiPc+jTn4D9jchLrO2bgP2Qx+ZJERuA\\u002ffzW2llXm3z\\u002f6PrnJg77fP5VeSLBtdt8\\u002fGUO9lPpF3z+6MdgZF\\u002fLeP794G7uQ194\\u002f\\u002fnXZgaKk3j+3xoF7IlXeP+xYL2VjVN4\\u002fHhXdLHZF3j92sulI8N\\u002fdPzngvc7RAd0\\u002fZMKOkAD73D++ZcjTmvrcP0pxOlPtuts\\u002fDtsZXxCl2z\\u002fyzWcHrnnbPzX+CaadRds\\u002fZsKs0uMx2z+ejdOB\\u002fwzbP2ijIqi+Ats\\u002fzhLGcVzr2j8WP6j52MDaPwbTeMuOiNo\\u002fXh3j7zuH2j8uQB5QhGfaP\\u002f+q0T72Fto\\u002fuuMtnTr\\u002f2T8MlYKtH27ZP2Na3GuKLdk\\u002f0GTUcLMk2T\\u002fduODrzq7YP7k6kNS4etg\\u002fMrFCIDd12D\\u002f3tUTaUDvYP0ShlSmLpdc\\u002fyd8naHWa1z\\u002fOYT\\u002faD5LXP7wRf8e+i9c\\u002fwduAOoQm1z\\u002fPMu\\u002fJuhTXP6pwaGzaB9c\\u002fADQ49agH1z\\u002f9tKefpvnWP9gqoyGq7NY\\u002f0nSqSNO\\u002f1j\\u002fojeYaka3WP8cacryMpdY\\u002fvsHLnV+e1j8FHm8tWETWPy+i4XLt\\u002fNU\\u002fy7o1BNzm1T+ffjURyd3VP665QqVa49Q\\u002fhCnzW5S41D9LgBW2yHPUP06NezEuc9Q\\u002fAmOfCeRs1D9RwWIwTGTUP7L7qm7aY9Q\\u002fFuQyDk9Y1D+1M4XTRVbUP7gokiSAU9Q\\u002fGhb\\u002fF9QD1D+y5aU6o\\u002fvTPz6zcrpOstM\\u002fy2IoE7Sg0z\\u002ffBR93RoDTPwh\\u002fENH2cNM\\u002f54m1REhR0z+O\\u002f7ayfzzTP\\u002fBJVlyOO9M\\u002fm6Bgcjwt0z+LyYAVWx7TP5dG62\\u002fjDNM\\u002fLCUba3IG0z9yaqUCaQXTP84esuRO+9I\\u002fKhxQliz10j+G26gXHuzSP048XHwN69I\\u002fv7puT8va0j+\\u002fum5Py9rSP3yjZgOxuNI\\u002ffKNmA7G40j98o2YDsbjSP3yjZgOxuNI\\u002ffKNmA7G40j\\u002f1sDEaiK\\u002fSP4aoT+pbrNI\\u002fgoOTBzSb0j+lfwgd5YnSP6V\\u002fCB3lidI\\u002fpX8IHeWJ0j+lfwgd5YnSP7l8wlfTedI\\u002ftdsAmRxw0j\\u002fY\\u002fCCkF0rSP9j8IKQXStI\\u002f2PwgpBdK0j\\u002fY\\u002fCCkF0rSP9j8IKQXStI\\u002f2PwgpBdK0j\\u002fY\\u002fCCkF0rSP\\u002f7RAFUASNI\\u002fSrUjcaI70j\\u002fgRUBgADvSPyhHub9xONI\\u002fRRLdMzY40j+cN4bCmf3RPxlo8xDd89E\\u002fGWjzEN3z0T8ZaPMQ3fPRPxlo8xDd89E\\u002fGWjzEN3z0T8ZaPMQ3fPRPxlo8xDd89E\\u002fGWjzEN3z0T8NkbhBNdTRPykEfXVrvtE\\u002fW6dJLKWJ0T\\u002fIGUd2JojRPxdjGpD2gdE\\u002fu6MBqrKA0T+7owGqsoDRP7ujAaqygNE\\u002fu6MBqrKA0T+7owGqsoDRP7ujAaqygNE\\u002fu6MBqrKA0T+7owGqsoDRP0Irw6VbJtE\\u002fnbc7vhEO0T\\u002ffFVM2S+nQP98VUzZL6dA\\u002f3xVTNkvp0D\\u002ffFVM2S+nQP98VUzZL6dA\\u002f3xVTNkvp0D\\u002ffFVM2S+nQP4T6PI6FzdA\\u002fTWCSaQBy0D\\u002fu6LsMpWvQPyKnwMh0aNA\\u002fmOoLnwtl0D9\\u002fFAeVdFXQP1PhdppTJtA\\u002fU+F2mlMm0D9T4XaaUybQP1PhdppTJtA\\u002fU+F2mlMm0D9T4XaaUybQP1PhdppTJtA\\u002fR6+ybyEh0D9QjIoVBh3QP1h9T2tErc8\\u002fvuGY7ABMzz+Rf+Y5t6rOP\\u002fwqBdqxY84\\u002f\\u002fCoF2rFjzj\\u002f8KgXasWPOP\\u002fwqBdqxY84\\u002f\\u002fCoF2rFjzj\\u002f8KgXasWPOP1U3us6jrs0\\u002fUpV\\u002fmkyTzT\\u002fA0\\u002fA7uifNP26BGcNg38w\\u002f41wAJ5kSzD\\u002fjXAAnmRLMPwCNSyOKC8w\\u002f9nDiTn5byz9MYyBpYybLP0pypiE1Dcs\\u002f0CrXpQ3Fyj8uMH3TrbLKP8FsLIBzeso\\u002f8kKRKrpayj9D+Qv4AR7KP2fCK9l\\u002fX8k\\u002fZ8Ir2X9fyT9nwivZf1\\u002fJPy4pyvAnkMg\\u002fkK3MKoLVxz\\u002fFyNhRboXHP7A1MJwBTcc\\u002fQAc6\\u002fZXIxj9QLajt5V7GP1AtqO3lXsY\\u002fUC2o7eVexj9QLajt5V7GPwDvxNL0OMY\\u002fYHKarPx0xD8+3Wyw6gvEP9Q7aBrZt8M\\u002fib+45EuJwz88HyreMjzDPzMzMzMzM8M\\u002fMzMzMzMzwz8zMzMzMzPDP\\u002f\\u002fAN497z8I\\u002fPnbX5mEQwj+w\\u002fZrugVHBPzSv8hlfzMA\\u002fFjm+eIAHwD\\u002f0Vyf\\u002fDHO\\u002fPwZUr+V1R78\\u002fJovkXxyFvT\\u002fohynyXHe9P0BpwipelLw\\u002fnDW\\u002fGA8zvD\\u002f8mtqoGSG8P\\u002f9HdRrNDbo\\u002f\\u002f0d1Gs0Nuj\\u002f\\u002fR3UazQ26P352Kbl0a7k\\u002fEG5PuSzStj8SaE5HPZ+1P76ldLr1hbQ\\u002fX3MUJjlztD\\u002feHHLsBGi0P\\u002fnU4lM+KbQ\\u002f03bCGGkFsD\\u002f57Rdm1TetPwSP4sX8Zqg\\u002fBI\\u002fixfxmqD8Ej+LF\\u002fGaoP6ux\\u002fCNi9ZM\\u002fhstG4nEjjT8AAAAAAAD4fw==\"},\"y\":{\"dtype\":\"f8\",\"bdata\":\"2GiPjLUXzz8RA77D5inTP+Vv4blQWNQ\\u002f\\u002fChlmJK+1D9hD0Gdf87UP+u02eul9dQ\\u002fj9OltOcg1T\\u002fip5M8AHTVPx+xl+d8\\u002f9U\\u002flytmMCU11j+sTDUz6WPWP+0LnlNXb9Y\\u002fEDlQQcCM1j8OE3gwu5PWP\\u002fvK8lZNoNY\\u002fVytdDrSo1j\\u002fBPrCHKLfWP3gBPWG0u9Y\\u002fGUN9rmbE1j+\\u002fblqY49HWPxiAx+ID0tY\\u002fV6E0G4nU1j+J0qnlk+XWP9yD0FQ\\u002fCtc\\u002fP3SE\\u002fVsL1z9fL+2TbAvXPwXOzGikPtc\\u002fG8i\\u002fFhRC1z9U5cok30jXPwPL95r6UNc\\u002fm0vnpwlU1z\\u002fogMZCvVnXP2bd9stRW9c\\u002f3769iOpe1z+7W1rvbWXXP0RvHYgAbtc\\u002fr4gp9TNu1z9+x6m6AXPXP3u5WJEff9c\\u002fDt3pg6uC1z+j0kvgH5jXPwxLtqCLodc\\u002fFzmmJ9Si1z+jkyQJzbPXP1DQX+I2u9c\\u002fd5qxvv671z+1Tz8TK8TXP\\u002fYmEvQB2dc\\u002fpVBRVYja1z\\u002fYStWgr9vXP+plKoqN3Nc\\u002flNCTUVbq1z8EPMb\\u002fvOzXP2mqGvt47tc\\u002fzSgLo3\\u002fu1z9IMdOzYfDXP8+H8q0f8tc\\u002fjhtY8Rz41z8ZouhXivrXP\\u002f8NK6ea+9c\\u002fAw29H4781z\\u002fFSi8aZgjYP0lUBoytEdg\\u002fzUF6OoYU2D+CJdUdsRXYP\\u002fcYml1ANdg\\u002fhNyAXYM62D\\u002fP\\u002fAVz5ULYP2mmwSr4Qtg\\u002fQQ2HGbtD2D8Ws0IVxUTYP35uoNPSRNg\\u002fIui\\u002fgzdG2D9+KEpZdkbYP9r7lN3LRtg\\u002fyayiDlRQ2D8l8K0ATVHYP7\\u002fgR7DxWdg\\u002fiib0kwBc2D8e5wnHxl\\u002fYPyvzYACNYdg\\u002f0SgO3DRl2D9LVW\\u002fWl2fYP4wI5n6zZ9g\\u002fqRRtB1dp2D+lTd\\u002fMCWvYPzYBJaAGbdg\\u002fvtQE2cFt2D++Tbv1323YP3F4jBAFb9g\\u002fp5bNxLZv2D88JnfEvHDYP1\\u002fqLovbcNg\\u002fjJ+Rq7By2D+Mn5GrsHLYP0x98P6Ddtg\\u002fTH3w\\u002foN22D9MffD+g3bYP0x98P6Ddtg\\u002fTH3w\\u002foN22D+rULX0iXfYPwMz95Tkd9g\\u002fraDgr8152D+9JteBuXvYP70m14G5e9g\\u002fvSbXgbl72D+9JteBuXvYP4+nE6iAfdg\\u002fLljXGpN+2D\\u002fVpoFMwILYP9WmgUzAgtg\\u002f1aaBTMCC2D\\u002fVpoFMwILYP9WmgUzAgtg\\u002f1aaBTMCC2D\\u002fVpoFMwILYP\\u002fyEs9\\u002f6gtg\\u002fwOp\\u002fzVSE2D\\u002f0NBh9ZoTYP1JOf+ethNg\\u002f\\u002fV0MZrSE2D8OrIVXD4vYP8MMucobjNg\\u002fwwy5yhuM2D\\u002fDDLnKG4zYP8MMucobjNg\\u002fwwy5yhuM2D\\u002fDDLnKG4zYP8MMucobjNg\\u002fwwy5yhuM2D83vCfpgI\\u002fYP1uDWubTkdg\\u002fbid4J2qX2D\\u002fnXslxkpfYPzX\\u002fIw85mNg\\u002fSy\\u002fRGluY2D9LL9EaW5jYP0sv0RpbmNg\\u002fSy\\u002fRGluY2D9LL9EaW5jYP0sv0RpbmNg\\u002fSy\\u002fRGluY2D9LL9EaW5jYPw0VTQHDodg\\u002f0U0GoUKk2D+1WaDOBKjYP7VZoM4EqNg\\u002ftVmgzgSo2D+1WaDOBKjYP7VZoM4EqNg\\u002ftVmgzgSo2D+1WaDOBKjYPxL37GfWqtg\\u002fml01uAG02D9JPPICo7TYPwAj79PztNg\\u002fV+XMNkq12D\\u002fvuFI71LbYP4xRTgNzu9g\\u002fjFFOA3O72D+MUU4Dc7vYP4xRTgNzu9g\\u002fjFFOA3O72D+MUU4Dc7vYP4xRTgNzu9g\\u002fKbSVpfS72D\\u002fitREAW7zYP1VQl3Ymw9g\\u002f9vBA0sfH2D8ve\\u002f7HV8\\u002fYP2a6LH2g0tg\\u002fZrosfaDS2D9muix9oNLYP2a6LH2g0tg\\u002fZrosfaDS2D9muix9oNLYPw3s6RDf2tg\\u002fX4u+sRnc2D9jKLAr5eDYPyevt10V5Ng\\u002fgS5vl\\u002fLs2D+BLm+X8uzYP+fStbo\\u002f7dg\\u002fmOJ1Nqz02D8Ikw+q4PbYP0WtMODq99g\\u002fbCa2k+D62D9R09tQoPvYP8K5sgDo\\u002fdg\\u002fo4XTSC\\u002f\\u002f2D+OSV6ZnQHZP7qPNBYbCdk\\u002fuo80FhsJ2T+6jzQWGwnZP+3obHcFEdk\\u002f2xrWaO8X2T92U3T91hrZP9m8HTzdHNk\\u002fLIUb8Yoh2T\\u002f91F8sNCXZP\\u002f3UXyw0Jdk\\u002f\\u002fdRfLDQl2T\\u002f91F8sNCXZP0A+C5aAJtk\\u002fZDFbJ1M12T\\u002ftqYh8mTjZPwyfsVAsO9k\\u002fDvZtj5Q82T89PLME4j7ZP02hTDwmP9k\\u002fTaFMPCY\\u002f2T9NoUw8Jj\\u002fZP0kYtgASQtk\\u002fOhOcG4FH2T9AIEFyt0zZP0vnEnc5UNk\\u002fcC3nCThV2T9HLjAoIlfZP1dNWH6pV9k\\u002f0qCyUPVc2T9WYqp8HV3ZP2hwU1eqX9k\\u002flqA1Lbxg2T87zXFR7mDZPzwWxtuBZtk\\u002fPBbG24Fm2T88FsbbgWbZP\\u002ffpVXogaNk\\u002fiLEiz1lu2T\\u002fW1KKA\\u002f3DZP1k2OapMc9k\\u002fcS+C03Jz2T+qcbWUiXPZP9JAwi0IdNk\\u002fSvlLont72T9LscvPon3ZP05FSc\\u002fZgNk\\u002fTkVJz9mA2T9ORUnP2YDZP4jdqGYHh9k\\u002ffuOh2ZuH2T8AAAAAAAD4fw==\"},\"type\":\"scatter\",\"xaxis\":\"x\",\"yaxis\":\"y\"},{\"line\":{\"color\":\"lightgrey\"},\"mode\":\"lines\",\"name\":\"Z-Distribution Curve\",\"x\":{\"dtype\":\"f8\",\"bdata\":\"AAAAAAAACMBkSpXvX+cHwMeUKt+\\u002fzgfAK9+\\u002fzh+2B8COKVW+f50HwPJz6q3fhAfAVb5\\u002fnT9sB8C5CBWNn1MHwBxTqnz\\u002fOgfAgJ0\\u002fbF8iB8Dj59RbvwkHwEcyaksf8QbAqnz\\u002fOn\\u002fYBsAOx5Qq378GwHERKho\\u002fpwbA1Vu\\u002fCZ+OBsA4plT5\\u002fnUGwJzw6eheXQbAADt\\u002f2L5EBsBjhRTIHiwGwMfPqbd+EwbAKho\\u002fp976BcCOZNSWPuIFwPGuaYaeyQXAVfn+df6wBcC4Q5RlXpgFwByOKVW+fwXAf9i+RB5nBcDjIlQ0fk4FwEZt6SPeNQXAqrd+Ez4dBcANAhQDngQFwHFMqfL96wTA1JY+4l3TBMA44dPRvboEwJwracEdogTA\\u002f3X+sH2JBMBiwJOg3XAEwMYKKZA9WATAKlW+f50\\u002fBMCNn1Nv\\u002fSYEwPHp6F5dDgTAVDR+Tr31A8C4fhM+Hd0DwBvJqC19xAPAfxM+Hd2rA8DiXdMMPZMDwEaoaPycegPAqfL96\\u002fxhA8ANPZPbXEkDwHCHKMu8MAPA1NG9uhwYA8A4HFOqfP8CwJtm6Jnc5gLA\\u002frB9iTzOAsBi+xJ5nLUCwMZFqGj8nALAKZA9WFyEAsCM2tJHvGsCwPAkaDccUwLAVG\\u002f9Jnw6AsC3uZIW3CECwBsEKAY8CQLAfk699ZvwAcDimFLl+9cBwEXj59RbvwHAqS19xLumAcAMeBK0G44BwHDCp6N7dQHA1Aw9k9tcAcA3V9KCO0QBwJqhZ3KbKwHA\\u002fuv8YfsSAcBiNpJRW\\u002foAwMWAJ0G74QDAKMu8MBvJAMCMFVIge7AAwPBf5w\\u002fblwDAU6p8\\u002fzp\\u002fAMC39BHvmmYAwBo\\u002fp976TQDAfok8zlo1AMDh09G9uhwAwEUeZ60aBADAUdH4OfXW\\u002f78YZiMZtaX\\u002fv9\\u002f6Tfh0dP+\\u002fpo941zRD\\u002f79tJKO29BH\\u002fvzS5zZW04P6\\u002f+034dHSv\\u002fr\\u002fC4iJUNH7+v4l3TTP0TP6\\u002fUAx4ErQb\\u002fr8XoaLxc+r9v941zdAzuf2\\u002fpcr3r\\u002fOH\\u002fb9sXyKPs1b9vzP0TG5zJf2\\u002f+oh3TTP0\\u002fL\\u002fBHaIs88L8v4myzAuzkfy\\u002fUEf36nJg\\u002fL8X3CHKMi\\u002f8v95wTKny\\u002ffu\\u002fpQV3iLLM+79smqFncpv7vzMvzEYyavu\\u002f+sP2JfI4+7\\u002fBWCEFsgf7v4jtS+Rx1vq\\u002fT4J2wzGl+r8WF6Gi8XP6v92ry4GxQvq\\u002fpED2YHER+r9r1SBAMeD5vzJqSx\\u002fxrvm\\u002f+f51\\u002frB9+b\\u002fAk6DdcEz5v4goy7wwG\\u002fm\\u002fT731m\\u002fDp+L8WUiB7sLj4v93mSlpwh\\u002fi\\u002fpHt1OTBW+L9rEKAY8CT4vzKlyvev8\\u002fe\\u002f+Tn11m\\u002fC97\\u002fAzh+2L5H3v4djSpXvX\\u002fe\\u002fTvh0dK8u978VjZ9Tb\\u002f32v9whyjIvzPa\\u002fo7b0Ee+a9r9qSx\\u002fxrmn2vzHgSdBuOPa\\u002f+HR0ry4H9r+\\u002fCZ+O7tX1v4aeyW2upPW\\u002fTjP0TG5z9b8VyB4sLkL1v9xcSQvuEPW\\u002fo\\u002fFz6q3f9L9qhp7Jba70vzEbyagtffS\\u002f+K\\u002fzh+1L9L+\\u002fRB5nrRr0v4bZSEZt6fO\\u002fTW5zJS24878UA54E7Ybzv9uXyOOsVfO\\u002foizzwmwk879pwR2iLPPyvzBWSIHswfK\\u002f9+pyYKyQ8r++f50\\u002fbF\\u002fyv4UUyB4sLvK\\u002fTany\\u002fev88b8UPh3dq8vxv9vSR7xrmvG\\u002fomdymytp8b9p\\u002fJx66zfxvzCRx1mrBvG\\u002f9yXyOGvV8L++uhwYK6Twv4VPR\\u002ffqcvC\\u002fTORx1qpB8L8TeZy1ahDwv7QbjilVvu+\\u002fREXj59Rb77\\u002fQbjimVPnuv2CYjWTUlu6\\u002f7MHiIlQ07r986zfh09HtvwgVjZ9Tb+2\\u002fmD7iXdMM7b8kaDccU6rsv7SRjNrSR+y\\u002fQLvhmFLl67\\u002fQ5DZX0oLrv1wOjBVSIOu\\u002f7Dfh09G96r94YTaSUVvqvwiLi1DR+Om\\u002fmLTgDlGW6b8k3jXN0DPpv7QHi4tQ0ei\\u002fQDHgSdBu6L\\u002fQWjUIUAzov1yEisbPqee\\u002f7K3fhE9H57941zRDz+TmvwgBigFPgua\\u002flCrfv84f5r8kVDR+Tr3lv7B9iTzOWuW\\u002fQKfe+k345L\\u002fM0DO5zZXkv1z6iHdNM+S\\u002f6CPeNc3Q4794TTP0TG7jvwR3iLLMC+O\\u002flKDdcEyp4r8kyjIvzEbiv7Dzh+1L5OG\\u002fQB3dq8uB4b\\u002fMRjJqSx\\u002fhv1xwhyjLvOC\\u002f6Jnc5kpa4L\\u002fwhmNKle\\u002ffvwjaDceUKt+\\u002fKC24Q5Rl3r9AgGLAk6Ddv2DTDD2T29y\\u002feCa3uZIW3L+YeWE2klHbv7DMC7ORjNq\\u002f0B+2L5HH2b\\u002focmCskALZvwjGCimQPdi\\u002fIBm1pY94179AbF8ij7PWv2C\\u002fCZ+O7tW\\u002feBK0G44p1b+YZV6YjWTUv7C4CBWNn9O\\u002f0AuzkYza0r\\u002foXl0OjBXSvwiyB4uLUNG\\u002fIAWyB4uL0L+AsLgIFY3Pv7BWDQIUA86\\u002f8Pxh+xJ5zL8go7b0Ee\\u002fKv2BJC+4QZcm\\u002fkO9f5w\\u002fbx7\\u002fQlbTgDlHGvwA8CdoNx8S\\u002fQOJd0ww9w7+AiLLMC7PBv7AuB8YKKcC\\u002f4Km3fhM+vb9A9mBxESq6v8BCCmQPFre\\u002fII+zVg0CtL+g21xJC+6wvwBQDHgStKu\\u002fAOleXQ6Mpb+AA2OFFMiev4A1CFAMeJK\\u002fAJy1ahCgeL8AnLVqEKB4P4A1CFAMeJI\\u002fgANjhRTInj8A6V5dDoylPwBQDHgStKs\\u002foNtcSQvusD8gj7NWDQK0P6BCCmQPFrc\\u002fQPZgcREquj\\u002fAqbd+Ez69P7AuB8YKKcA\\u002fcIiyzAuzwT9A4l3TDD3DPwA8CdoNx8Q\\u002f0JW04A5Rxj+Q71\\u002fnD9vHP2BJC+4QZck\\u002fIKO29BHvyj\\u002fw\\u002fGH7EnnMP7BWDQIUA84\\u002fgLC4CBWNzz8gBbIHi4vQPwiyB4uLUNE\\u002f6F5dDowV0j\\u002fQC7ORjNrSP7C4CBWNn9M\\u002fkGVemI1k1D94ErQbjinVP1i\\u002fCZ+O7tU\\u002fQGxfIo+z1j8gGbWlj3jXPwjGCimQPdg\\u002f6HJgrJAC2T\\u002fQH7YvkcfZP7DMC7ORjNo\\u002fmHlhNpJR2z94Jre5khbcP2DTDD2T29w\\u002fQIBiwJOg3T8oLbhDlGXePwjaDceUKt8\\u002f8IZjSpXv3z\\u002fomdzmSlrgP1hwhyjLvOA\\u002fzEYyaksf4T88Hd2ry4HhP7Dzh+1L5OE\\u002fIMoyL8xG4j+UoN1wTKniPwR3iLLMC+M\\u002feE0z9Exu4z\\u002foI941zdDjP1z6iHdNM+Q\\u002fzNAzuc2V5D9Ap976TfjkP7B9iTzOWuU\\u002fJFQ0fk695T+UKt+\\u002fzh\\u002fmPwgBigFPguY\\u002feNc0Q8\\u002fk5j\\u002fsrd+ET0fnP1yEisbPqec\\u002fzFo1CFAM6D9AMeBJ0G7oP7AHi4tQ0eg\\u002fJN41zdAz6T+UtOAOUZbpPwiLi1DR+Ok\\u002feGE2klFb6j\\u002fsN+HT0b3qP1wOjBVSIOs\\u002f0OQ2V9KC6z9Au+GYUuXrP7SRjNrSR+w\\u002fJGg3HFOq7D+YPuJd0wztPwgVjZ9Tb+0\\u002ffOs34dPR7T\\u002fsweIiVDTuP2CYjWTUlu4\\u002f0G44plT57j9ARePn1FvvP7QbjilVvu8\\u002fFHmctWoQ8D9M5HHWqkHwP4RPR\\u002ffqcvA\\u002fvLocGCuk8D\\u002f4JfI4a9XwPzCRx1mrBvE\\u002faPyceus38T+gZ3KbK2nxP9zSR7xrmvE\\u002fFD4d3avL8T9MqfL96\\u002fzxP4QUyB4sLvI\\u002fwH+dP2xf8j\\u002f46nJgrJDyPzBWSIHswfI\\u002faMEdoizz8j+gLPPCbCTzP9yXyOOsVfM\\u002fFAOeBO2G8z9MbnMlLbjzP4TZSEZt6fM\\u002fwEQeZ60a9D\\u002f4r\\u002fOH7Uv0PzAbyagtffQ\\u002faIaeyW2u9D+k8XPqrd\\u002f0P9xcSQvuEPU\\u002fFMgeLC5C9T9MM\\u002fRMbnP1P4ieyW2upPU\\u002fwAmfju7V9T\\u002f4dHSvLgf2PzDgSdBuOPY\\u002faEsf8a5p9j+ktvQR75r2P9whyjIvzPY\\u002fFI2fU2\\u002f99j9M+HR0ry73P4hjSpXvX\\u002fc\\u002fwM4fti+R9z\\u002f4OfXWb8L3PzClyvev8\\u002fc\\u002fbBCgGPAk+D+ke3U5MFb4P9zmSlpwh\\u002fg\\u002fFFIge7C4+D9QvfWb8On4P4goy7wwG\\u002fk\\u002fwJOg3XBM+T\\u002f4\\u002fnX+sH35PzRqSx\\u002fxrvk\\u002fbNUgQDHg+T+kQPZgcRH6P9yry4GxQvo\\u002fFBehovFz+j9QgnbDMaX6P4jtS+Rx1vo\\u002fwFghBbIH+z\\u002f4w\\u002fYl8jj7PzQvzEYyavs\\u002fbJqhZ3Kb+z+kBXeIssz7P9xwTKny\\u002ffs\\u002fGNwhyjIv\\u002fD9QR\\u002ffqcmD8P4iyzAuzkfw\\u002fwB2iLPPC\\u002fD\\u002f8iHdNM\\u002fT8PzT0TG5zJf0\\u002fbF8ij7NW\\u002fT+kyvev84f9P9w1zdAzuf0\\u002fGKGi8XPq\\u002fT9QDHgStBv+P4h3TTP0TP4\\u002fwOIiVDR+\\u002fj\\u002f8Tfh0dK\\u002f+PzS5zZW04P4\\u002fbCSjtvQR\\u002fz+kj3jXNEP\\u002fP+D6Tfh0dP8\\u002fGGYjGbWl\\u002fz9Q0fg59db\\u002fP0QeZ60aBABA4tPRvbocAEB+iTzOWjUAQBo\\u002fp976TQBAtvQR75pmAEBSqnz\\u002fOn8AQPBf5w\\u002fblwBAjBVSIHuwAEAoy7wwG8kAQMSAJ0G74QBAYjaSUVv6AED+6\\u002fxh+xIBQJqhZ3KbKwFANlfSgjtEAUDUDD2T21wBQHDCp6N7dQFADHgStBuOAUCoLX3Eu6YBQEbj59RbvwFA4phS5fvXAUB+Tr31m\\u002fABQBoEKAY8CQJAuLmSFtwhAkBUb\\u002f0mfDoCQPAkaDccUwJAjNrSR7xrAkAokD1YXIQCQMZFqGj8nAJAYvsSeZy1AkD+sH2JPM4CQJpm6Jnc5gJAOBxTqnz\\u002fAkDU0b26HBgDQHCHKMu8MANADD2T21xJA0Cq8v3r\\u002fGEDQEaoaPycegNA4l3TDD2TA0B+Ez4d3asDQBzJqC19xANAuH4TPh3dA0BUNH5OvfUDQPDp6F5dDgRAjJ9Tb\\u002f0mBEAqVb5\\u002fnT8EQMYKKZA9WARAYsCToN1wBED+df6wfYkEQJwracEdogRAOOHT0b26BEDUlj7iXdMEQHBMqfL96wRADgIUA54EBUCqt34TPh0FQEZt6SPeNQVA4iJUNH5OBUCA2L5EHmcFQByOKVW+fwVAuEOUZV6YBUBU+f51\\u002frAFQPCuaYaeyQVAjmTUlj7iBUAqGj+n3voFQMbPqbd+EwZAYoUUyB4sBkAAO3\\u002fYvkQGQJzw6eheXQZAOKZU+f51BkDUW78Jn44GQHIRKho\\u002fpwZADseUKt+\\u002fBkCqfP86f9gGQEYyaksf8QZA5OfUW78JB0CAnT9sXyIHQBxTqnz\\u002fOgdAuAgVjZ9TB0BWvn+dP2wHQPJz6q3fhAdAjilVvn+dB0Aq37\\u002fOH7YHQMaUKt+\\u002fzgdAZEqV71\\u002fnB0AAAAAAAAAIQA==\"},\"y\":{\"dtype\":\"f8\",\"bdata\":\"iXbXPyEncj8lcQFCedFyPzDk\\u002f+tWgXM\\u002fpO7el+A2dD8uNzRhPfJ0P+xMQyaVs3U\\u002fIvgHiRB7dj8hTCXw2Eh3P6tJuIcYHXg\\u002fLtwMQvr3eD9Q+jPYqdl5P6utecpTwno\\u002f2sS5YCWyez847pGqTKl8P\\u002fT5b3\\u002f4p30\\u002fa\\u002f16fliufj\\u002fFE1YOnbx\\u002fPzi5Xa57aYA\\u002fkkX3rsz4gD\\u002fT+AHmWoyBP1De\\u002fhJAJII\\u002f6oxdV5bAgj8S5tw1eGGDPyUn1JEAB4Q\\u002fbaljrkqxhD\\u002f0r4wtcmCFP3uhLw+TFIY\\u002fSxDwr8nNhj9e8f3HMoyHP9Fnw2nrT4g\\u002fS4p2ABEZiT+mi45OweeJP2SxG2wavIo\\u002f8YYBxTqWiz8YvhIXQXaMPx0yDnBMXI0\\u002fOYV8K3xIjj8W1W3w7zqPP2WDi9fjGZA\\u002fqRcnz5GZkD8q0XIckhyRP\\u002fOach31opE\\u002fMKhQT8sskj99rNdMJbqSP0mW28wTS5M\\u002fqZ2QoKffkz+5ftCx8XeUP4y4TQEDFJU\\u002f6q60pOyzlT8aj7rEv1eWP3jdGZuN\\u002f5Y\\u002fF5R8cGerlz9ZwFOaXluYP0+QnHiED5k\\u002fEMaSc+rHmT+yi1D5oYSaP+imW3u8RZs\\u002fcxAgbEsLnD9++Fc8YNWcP0pGYVgMpJ0\\u002fuaaAJWF3nj9YQhL\\u002fb0+fP9Yc1BklFqA\\u002f6YULgQCHoD+FCDjLUvqgP6QcdYMkcKE\\u002f7KFcKH7ooT9t1mkqaGOiP3vIU+rq4KI\\u002fnmhftw5hoz8HYqnN2+OjP4XkZ1RaaaQ\\u002fc40kXJLxpD+zoO7ci3ylP+LFhbROCqY\\u002fYYF9pOKapj9VpFlQTy6nP8PxozucxKc\\u002fnTr7x9BdqD+NNRwz9PmoP8Jb5JQNmak\\u002fhBVP3SM7qj8Th23SPeCqP3ZPWQ5iiKs\\u002fGJAi\\u002fZYzrD8Hlrna4uGsPwaC1LBLk60\\u002fR0\\u002fRVNdHrj9KnJRli\\u002f+uP0+cZUltuq8\\u002fqc3jFUE8sD+6wKh955ywP+HiwTMs\\u002f7A\\u002fyKFObxFjsT89tLdFmcixP+MZmanFL7I\\u002fqUGsaZiYsj8hlrIvEwOzP3CwYH83b7M\\u002fsXNKtQbdsz\\u002f3U9AFgky0PywNDnyqvbQ\\u002fcA\\u002fL+IAwtT9L52wxBqW1P3zp6646G7Y\\u002fwmrKzB6Ttj8mzQ64sgy3P\\u002fisQG72h7c\\u002fiHhpvOkEuD9dvhg+jIO4PxV+bFzdA7k\\u002fBskdTdyFuT+x\\u002f5ERiAm6P\\u002fD58HXfjro\\u002ftmdAEOEVuz+uuIQ\\u002fi567PwfZ5yrcKLw\\u002fzhHmwNG0vD8HW4G2aUK9P+5te4ah0b0\\u002fEOWWcHZivj\\u002fht9945fS+Pwdf+2briL8\\u002f8XbAYkIPwD+vtqzw1lrAP5lhlGQxp8A\\u002fDLhfpk\\u002f0wD8qt0p+L0LBP5M8p5TOkME\\u002fGAKkcSrgwT+OlBh9QDDCPwloVv4NgcI\\u002fHyv\\u002fG5DSwj8BeuDbwyTDP30R1SKmd8M\\u002f+6CrtDPLwz+oWRM0aR\\u002fEP\\u002f1XjiJDdMQ\\u002f1gNq4L3JxD8igr2s1R\\u002fFPx1SbqWGdsU\\u002f2S47x8zNxT+aTM3toyXGPzoI0NMHfsY\\u002fhB0PE\\u002fTWxj8MeJskZDDHP56w9mBTisc\\u002f+EdFAL3kxz\\u002fkrYcanD\\u002fIP1Qi2qfrmsg\\u002fk3y7gKb2yD\\u002fc4lpex1LJPyd77NpIr8k\\u002fNBwFciUMyj8hBP2AV2nKPzGYWUfZxso\\u002fdS8+56Qkyz936ONltILLP9GHGKwB4cs\\u002fNlzEhoY\\u002fzD8oInenPJ7MP\\u002fPf+6Qd\\u002fcw\\u002fbrDz+yJczT87cXcPRrvNPylHwCmAGs4\\u002fkenWfMp5zj9No0kjHtnOP1L26CB0OM8\\u002fqMyKY8WXzz+jH9TDCvfPPyV+BIMeK9A\\u002fCWVxbapa0D9DWzZwJYrQP8ITc9GLudA\\u002fR4nVztno0D+KCxGeCxjRPzQbWG0dR9E\\u002fwQHZYwt20T\\u002fAED2i0aTRP65zKkNs09E\\u002fKn7IW9cB0j\\u002fRX0b8DjDSP+glZDAPXtI\\u002fWfL9\\u002f9OL0j+JTplvWbnSP9p\\u002f9ICb5tI\\u002f8sKXM5YT0z\\u002fcUWiFRUDTP8sYPXOlbNM\\u002fEPx0+bGY0z+skY4UZ8TTP8EvwcHA79M\\u002f\\u002fjCX\\u002f7oa1D8fT4nOUUXUP23zmjGBb9Q\\u002fR1z3LkWZ1D+rdo\\u002fQmcLUP6tJuCR769Q\\u002fGNLJPuUT1T9sK7431DvVP2\\u002fj0C5EY9U\\u002fHFUeSjGK1T+H50K3l7DVP\\u002foM+qtz1tU\\u002fXd68ZsH71T8LL2AvfSDWP7L0sVejRNY\\u002fR98VPDBo1j+e\\u002fCBEIIvWP4RDNONvrdY\\u002fNeIVmRvP1j8GLInyH\\u002fDWP2UC5Yl5ENc\\u002fdJWoByUw1z+dWA4jH0\\u002fXPwwInaJkbdc\\u002f6Ju2XPKK1z\\u002fuBiU4xafXP\\u002f6dpCzaw9c\\u002fGgdsQy7f1z9NjrGXvvnXP\\u002fW\\u002fLVeIE9g\\u002fDCibwogs2D\\u002frFjMuvUTYP51MJwIjXNg\\u002fTWwYu7dy2D96GonqeIjYP92oTTdkndg\\u002fLzT4XXex2D92GEExsMTYP4uha5oM19g\\u002faN6mmYro2D+sfmpGKPnYP7Wiz8\\u002fjCNk\\u002f24flfLsX2T8F+wGtrSXZPzd9Ddi4Mtk\\u002ffAbLjts+2T\\u002fpVBt7FErZP1u2O2BiVNk\\u002f2TwAG8Rd2T+iTgmiOGbZPxuE9AW\\u002fbdk\\u002f\\u002fsaIcVZ02T9yp90p\\u002fnnZP97cfY61ftk\\u002fgumEGXyC2T9J2bdfUYXZP0wVmRA1h9k\\u002f+UZ39iaI2T\\u002f5Rnf2JojZP0wVmRA1h9k\\u002fSdm3X1GF2T+C6YQZfILZP97cfY61ftk\\u002fcqfdKf552T\\u002f+xohxVnTZPxuE9AW\\u002fbdk\\u002fok4Jojhm2T\\u002faPAAbxF3ZP1u2O2BiVNk\\u002f6lQbexRK2T98BsuO2z7ZPzd9Ddi4Mtk\\u002fBfsBra0l2T\\u002fbh+V8uxfZP7Wiz8\\u002fjCNk\\u002frH5qRij52D9o3qaZiujYP4uha5oM19g\\u002fdhhBMbDE2D8vNPhdd7HYP92oTTdkndg\\u002fehqJ6niI2D9NbBi7t3LYP51MJwIjXNg\\u002f7RYzLr1E2D8MKJvCiCzYP\\u002fa\\u002fLVeIE9g\\u002fTY6xl7751z8aB2xDLt\\u002fXP\\u002f6dpCzaw9c\\u002f7gYlOMWn1z\\u002fom7Zc8orXPwwInaJkbdc\\u002fnVgOIx9P1z90lagHJTDXP2UC5Yl5ENc\\u002fBiyJ8h\\u002fw1j814hWZG8\\u002fWP4RDNONvrdY\\u002fnvwgRCCL1j9H3xU8MGjWP7P0sVejRNY\\u002fCy9gL30g1j9e3rxmwfvVP\\u002foM+qtz1tU\\u002fiedCt5ew1T8cVR5KMYrVP2\\u002fj0C5EY9U\\u002fbCu+N9Q71T8Y0sk+5RPVP6tJuCR769Q\\u002fq3aP0JnC1D9HXPcuRZnUP23zmjGBb9Q\\u002fH0+JzlFF1D\\u002f+MJf\\u002fuhrUP8EvwcHA79M\\u002frJGOFGfE0z8Q\\u002fHT5sZjTP8sYPXOlbNM\\u002f3VFohUVA0z\\u002fywpczlhPTP9x\\u002f9ICb5tI\\u002fiU6Zb1m50j9b8v3\\u002f04vSP+glZDAPXtI\\u002f0V9G\\u002fA4w0j8qfshb1wHSP65zKkNs09E\\u002fwBA9otGk0T\\u002fBAdljC3bRPzQbWG0dR9E\\u002figsRngsY0T9HidXO2ejQP8ITc9GLudA\\u002fQ1s2cCWK0D8JZXFtqlrQPyV+BIMeK9A\\u002fox\\u002fUwwr3zz+szIpjxZfPP1L26CB0OM8\\u002fSaNJIx7Zzj+R6dZ8ynnOPytHwCmAGs4\\u002fPnF3D0a7zT9ssPP7IlzNP\\u002fPf+6Qd\\u002fcw\\u002fKyJ3pzyezD87XMSGhj\\u002fMP9CHGKwB4cs\\u002fd+jjZbSCyz93Lz7npCTLPzKYWUfZxso\\u002fHgT9gFdpyj8zHAVyJQzKPyd77NpIr8k\\u002f3uJaXsdSyT+WfLuApvbIP1Ii2qfrmsg\\u002f5K2HGpw\\u002fyD\\u002f7R0UAveTHP6Kw9mBTisc\\u002fCnibJGQwxz+EHQ8T9NbGPzwI0NMHfsY\\u002fnkzN7aMlxj\\u002fXLjvHzM3FPx1SbqWGdsU\\u002fJIK9rNUfxT\\u002fZA2rgvcnEP\\u002fpXjiJDdMQ\\u002fplkTNGkfxD\\u002f7oKu0M8vDP34R1SKmd8M\\u002fBHrg28Mkwz8eK\\u002f8bkNLCPwloVv4NgcI\\u002fjpQYfUAwwj8bAqRxKuDBP5I8p5TOkME\\u002fKrdKfi9CwT8NuF+mT\\u002fTAP5xhlGQxp8A\\u002frbas8NZawD\\u002fxdsBiQg\\u002fAPwpf+2briL8\\u002f6LffeOX0vj8P5ZZwdmK+P+5te4ah0b0\\u002fB1uBtmlCvT\\u002fREebA0bS8PwLZ5yrcKLw\\u002fqriEP4ueuz+2Z0AQ4RW7P\\u002fP58HXfjro\\u002ft\\u002f+REYgJuj8DyR1N3IW5PxV+bFzdA7k\\u002fXr4YPoyDuD+MeGm86QS4P\\u002fWsQG72h7c\\u002fJs0OuLIMtz\\u002fDasrMHpO2P4Dp6646G7Y\\u002fSedsMQaltT9wD8v4gDC1Py8NDnyqvbQ\\u002f+lPQBYJMtD+sc0q1Bt2zP22wYH83b7M\\u002fIZayLxMDsz+rQaxpmJiyP+gZmanFL7I\\u002fO7S3RZnIsT\\u002fIoU5vEWOxP+LiwTMs\\u002f7A\\u002fvsCofeecsD+nzeMVQTywP0+cZUltuq8\\u002fT5yUZYv\\u002frj9PT9FU10euPwGC1LBLk60\\u002fB5a52uLhrD8dkCL9ljOsP31PWQ5iiKs\\u002fDYdt0j3gqj+EFU\\u002fdIzuqP8Jb5JQNmak\\u002fkzUcM\\u002fT5qD+iOvvH0F2oP8PxozucxKc\\u002fVaRZUE8upz9hgX2k4pqmP+fFhbROCqY\\u002fs6Du3It8pT9zjSRckvGkP4XkZ1RaaaQ\\u002fDGKpzdvjoz+eaF+3DmGjP3vIU+rq4KI\\u002fbdZpKmhjoj\\u002fyoVwofuihP50cdYMkcKE\\u002fhQg4y1L6oD\\u002fphQuBAIegP9oc1BklFqA\\u002fUEIS\\u002f29Pnz+5poAlYXeeP0pGYVgMpJ0\\u002ffvhXPGDVnD99ECBsSwucP+imW3u8RZs\\u002fsotQ+aGEmj8QxpJz6seZP1WQnHiED5k\\u002fWcBTml5bmD8XlHxwZ6uXP3jdGZuN\\u002f5Y\\u002fIo+6xL9Xlj\\u002flrrSk7LOVP4y4TQEDFJU\\u002fuX7QsfF3lD+xnZCgp9+TP0SW28wTS5M\\u002ffazXTCW6kj8wqFBPyyySP\\u002fqach31opE\\u002fMNFyHJIckT+pFyfPkZmQP2WDi9fjGZA\\u002fFtVt8O86jz9FhXwrfEiOPx0yDnBMXI0\\u002fGL4SF0F2jD\\u002fxhgHFOpaLP2qxG2wavIo\\u002fnIuOTsHniT9LinYAERmJP9Fnw2nrT4g\\u002fY\\u002fH9xzKMhz9GEPCvyc2GP3uhLw+TFIY\\u002f9K+MLXJghT91qWOuSrGEPyon1JEAB4Q\\u002fEubcNXhhgz\\u002fqjF1XlsCCP1fe\\u002fhJAJII\\u002f2fgB5lqMgT+SRfeuzPiAPzi5Xa57aYA\\u002fxRNWDp28fz92\\u002fXp+WK5+P+b5b3\\u002f4p30\\u002fOO6RqkypfD\\u002faxLlgJbJ7P7KtecpTwno\\u002fSfoz2KnZeT8u3AxC+vd4P6tJuIcYHXg\\u002fJ0wl8NhIdz8X+AeJEHt2P+xMQyaVs3U\\u002fLjc0YT3ydD+v7t6X4DZ0PzXk\\u002f+tWgXM\\u002fJXEBQnnRcj+Jdtc\\u002fISdyPw==\"},\"type\":\"scatter\",\"xaxis\":\"x\",\"yaxis\":\"y\"}],                        {\"template\":{\"data\":{\"histogram2dcontour\":[{\"type\":\"histogram2dcontour\",\"colorbar\":{\"outlinewidth\":0,\"ticks\":\"\"},\"colorscale\":[[0.0,\"#0d0887\"],[0.1111111111111111,\"#46039f\"],[0.2222222222222222,\"#7201a8\"],[0.3333333333333333,\"#9c179e\"],[0.4444444444444444,\"#bd3786\"],[0.5555555555555556,\"#d8576b\"],[0.6666666666666666,\"#ed7953\"],[0.7777777777777778,\"#fb9f3a\"],[0.8888888888888888,\"#fdca26\"],[1.0,\"#f0f921\"]]}],\"choropleth\":[{\"type\":\"choropleth\",\"colorbar\":{\"outlinewidth\":0,\"ticks\":\"\"}}],\"histogram2d\":[{\"type\":\"histogram2d\",\"colorbar\":{\"outlinewidth\":0,\"ticks\":\"\"},\"colorscale\":[[0.0,\"#0d0887\"],[0.1111111111111111,\"#46039f\"],[0.2222222222222222,\"#7201a8\"],[0.3333333333333333,\"#9c179e\"],[0.4444444444444444,\"#bd3786\"],[0.5555555555555556,\"#d8576b\"],[0.6666666666666666,\"#ed7953\"],[0.7777777777777778,\"#fb9f3a\"],[0.8888888888888888,\"#fdca26\"],[1.0,\"#f0f921\"]]}],\"heatmap\":[{\"type\":\"heatmap\",\"colorbar\":{\"outlinewidth\":0,\"ticks\":\"\"},\"colorscale\":[[0.0,\"#0d0887\"],[0.1111111111111111,\"#46039f\"],[0.2222222222222222,\"#7201a8\"],[0.3333333333333333,\"#9c179e\"],[0.4444444444444444,\"#bd3786\"],[0.5555555555555556,\"#d8576b\"],[0.6666666666666666,\"#ed7953\"],[0.7777777777777778,\"#fb9f3a\"],[0.8888888888888888,\"#fdca26\"],[1.0,\"#f0f921\"]]}],\"contourcarpet\":[{\"type\":\"contourcarpet\",\"colorbar\":{\"outlinewidth\":0,\"ticks\":\"\"}}],\"contour\":[{\"type\":\"contour\",\"colorbar\":{\"outlinewidth\":0,\"ticks\":\"\"},\"colorscale\":[[0.0,\"#0d0887\"],[0.1111111111111111,\"#46039f\"],[0.2222222222222222,\"#7201a8\"],[0.3333333333333333,\"#9c179e\"],[0.4444444444444444,\"#bd3786\"],[0.5555555555555556,\"#d8576b\"],[0.6666666666666666,\"#ed7953\"],[0.7777777777777778,\"#fb9f3a\"],[0.8888888888888888,\"#fdca26\"],[1.0,\"#f0f921\"]]}],\"surface\":[{\"type\":\"surface\",\"colorbar\":{\"outlinewidth\":0,\"ticks\":\"\"},\"colorscale\":[[0.0,\"#0d0887\"],[0.1111111111111111,\"#46039f\"],[0.2222222222222222,\"#7201a8\"],[0.3333333333333333,\"#9c179e\"],[0.4444444444444444,\"#bd3786\"],[0.5555555555555556,\"#d8576b\"],[0.6666666666666666,\"#ed7953\"],[0.7777777777777778,\"#fb9f3a\"],[0.8888888888888888,\"#fdca26\"],[1.0,\"#f0f921\"]]}],\"mesh3d\":[{\"type\":\"mesh3d\",\"colorbar\":{\"outlinewidth\":0,\"ticks\":\"\"}}],\"scatter\":[{\"fillpattern\":{\"fillmode\":\"overlay\",\"size\":10,\"solidity\":0.2},\"type\":\"scatter\"}],\"parcoords\":[{\"type\":\"parcoords\",\"line\":{\"colorbar\":{\"outlinewidth\":0,\"ticks\":\"\"}}}],\"scatterpolargl\":[{\"type\":\"scatterpolargl\",\"marker\":{\"colorbar\":{\"outlinewidth\":0,\"ticks\":\"\"}}}],\"bar\":[{\"error_x\":{\"color\":\"#2a3f5f\"},\"error_y\":{\"color\":\"#2a3f5f\"},\"marker\":{\"line\":{\"color\":\"#E5ECF6\",\"width\":0.5},\"pattern\":{\"fillmode\":\"overlay\",\"size\":10,\"solidity\":0.2}},\"type\":\"bar\"}],\"scattergeo\":[{\"type\":\"scattergeo\",\"marker\":{\"colorbar\":{\"outlinewidth\":0,\"ticks\":\"\"}}}],\"scatterpolar\":[{\"type\":\"scatterpolar\",\"marker\":{\"colorbar\":{\"outlinewidth\":0,\"ticks\":\"\"}}}],\"histogram\":[{\"marker\":{\"pattern\":{\"fillmode\":\"overlay\",\"size\":10,\"solidity\":0.2}},\"type\":\"histogram\"}],\"scattergl\":[{\"type\":\"scattergl\",\"marker\":{\"colorbar\":{\"outlinewidth\":0,\"ticks\":\"\"}}}],\"scatter3d\":[{\"type\":\"scatter3d\",\"line\":{\"colorbar\":{\"outlinewidth\":0,\"ticks\":\"\"}},\"marker\":{\"colorbar\":{\"outlinewidth\":0,\"ticks\":\"\"}}}],\"scattermap\":[{\"type\":\"scattermap\",\"marker\":{\"colorbar\":{\"outlinewidth\":0,\"ticks\":\"\"}}}],\"scattermapbox\":[{\"type\":\"scattermapbox\",\"marker\":{\"colorbar\":{\"outlinewidth\":0,\"ticks\":\"\"}}}],\"scatterternary\":[{\"type\":\"scatterternary\",\"marker\":{\"colorbar\":{\"outlinewidth\":0,\"ticks\":\"\"}}}],\"scattercarpet\":[{\"type\":\"scattercarpet\",\"marker\":{\"colorbar\":{\"outlinewidth\":0,\"ticks\":\"\"}}}],\"carpet\":[{\"aaxis\":{\"endlinecolor\":\"#2a3f5f\",\"gridcolor\":\"white\",\"linecolor\":\"white\",\"minorgridcolor\":\"white\",\"startlinecolor\":\"#2a3f5f\"},\"baxis\":{\"endlinecolor\":\"#2a3f5f\",\"gridcolor\":\"white\",\"linecolor\":\"white\",\"minorgridcolor\":\"white\",\"startlinecolor\":\"#2a3f5f\"},\"type\":\"carpet\"}],\"table\":[{\"cells\":{\"fill\":{\"color\":\"#EBF0F8\"},\"line\":{\"color\":\"white\"}},\"header\":{\"fill\":{\"color\":\"#C8D4E3\"},\"line\":{\"color\":\"white\"}},\"type\":\"table\"}],\"barpolar\":[{\"marker\":{\"line\":{\"color\":\"#E5ECF6\",\"width\":0.5},\"pattern\":{\"fillmode\":\"overlay\",\"size\":10,\"solidity\":0.2}},\"type\":\"barpolar\"}],\"pie\":[{\"automargin\":true,\"type\":\"pie\"}]},\"layout\":{\"autotypenumbers\":\"strict\",\"colorway\":[\"#636efa\",\"#EF553B\",\"#00cc96\",\"#ab63fa\",\"#FFA15A\",\"#19d3f3\",\"#FF6692\",\"#B6E880\",\"#FF97FF\",\"#FECB52\"],\"font\":{\"color\":\"#2a3f5f\"},\"hovermode\":\"closest\",\"hoverlabel\":{\"align\":\"left\"},\"paper_bgcolor\":\"white\",\"plot_bgcolor\":\"#E5ECF6\",\"polar\":{\"bgcolor\":\"#E5ECF6\",\"angularaxis\":{\"gridcolor\":\"white\",\"linecolor\":\"white\",\"ticks\":\"\"},\"radialaxis\":{\"gridcolor\":\"white\",\"linecolor\":\"white\",\"ticks\":\"\"}},\"ternary\":{\"bgcolor\":\"#E5ECF6\",\"aaxis\":{\"gridcolor\":\"white\",\"linecolor\":\"white\",\"ticks\":\"\"},\"baxis\":{\"gridcolor\":\"white\",\"linecolor\":\"white\",\"ticks\":\"\"},\"caxis\":{\"gridcolor\":\"white\",\"linecolor\":\"white\",\"ticks\":\"\"}},\"coloraxis\":{\"colorbar\":{\"outlinewidth\":0,\"ticks\":\"\"}},\"colorscale\":{\"sequential\":[[0.0,\"#0d0887\"],[0.1111111111111111,\"#46039f\"],[0.2222222222222222,\"#7201a8\"],[0.3333333333333333,\"#9c179e\"],[0.4444444444444444,\"#bd3786\"],[0.5555555555555556,\"#d8576b\"],[0.6666666666666666,\"#ed7953\"],[0.7777777777777778,\"#fb9f3a\"],[0.8888888888888888,\"#fdca26\"],[1.0,\"#f0f921\"]],\"sequentialminus\":[[0.0,\"#0d0887\"],[0.1111111111111111,\"#46039f\"],[0.2222222222222222,\"#7201a8\"],[0.3333333333333333,\"#9c179e\"],[0.4444444444444444,\"#bd3786\"],[0.5555555555555556,\"#d8576b\"],[0.6666666666666666,\"#ed7953\"],[0.7777777777777778,\"#fb9f3a\"],[0.8888888888888888,\"#fdca26\"],[1.0,\"#f0f921\"]],\"diverging\":[[0,\"#8e0152\"],[0.1,\"#c51b7d\"],[0.2,\"#de77ae\"],[0.3,\"#f1b6da\"],[0.4,\"#fde0ef\"],[0.5,\"#f7f7f7\"],[0.6,\"#e6f5d0\"],[0.7,\"#b8e186\"],[0.8,\"#7fbc41\"],[0.9,\"#4d9221\"],[1,\"#276419\"]]},\"xaxis\":{\"gridcolor\":\"white\",\"linecolor\":\"white\",\"ticks\":\"\",\"title\":{\"standoff\":15},\"zerolinecolor\":\"white\",\"automargin\":true,\"zerolinewidth\":2},\"yaxis\":{\"gridcolor\":\"white\",\"linecolor\":\"white\",\"ticks\":\"\",\"title\":{\"standoff\":15},\"zerolinecolor\":\"white\",\"automargin\":true,\"zerolinewidth\":2},\"scene\":{\"xaxis\":{\"backgroundcolor\":\"#E5ECF6\",\"gridcolor\":\"white\",\"linecolor\":\"white\",\"showbackground\":true,\"ticks\":\"\",\"zerolinecolor\":\"white\",\"gridwidth\":2},\"yaxis\":{\"backgroundcolor\":\"#E5ECF6\",\"gridcolor\":\"white\",\"linecolor\":\"white\",\"showbackground\":true,\"ticks\":\"\",\"zerolinecolor\":\"white\",\"gridwidth\":2},\"zaxis\":{\"backgroundcolor\":\"#E5ECF6\",\"gridcolor\":\"white\",\"linecolor\":\"white\",\"showbackground\":true,\"ticks\":\"\",\"zerolinecolor\":\"white\",\"gridwidth\":2}},\"shapedefaults\":{\"line\":{\"color\":\"#2a3f5f\"}},\"annotationdefaults\":{\"arrowcolor\":\"#2a3f5f\",\"arrowhead\":0,\"arrowwidth\":1},\"geo\":{\"bgcolor\":\"white\",\"landcolor\":\"#E5ECF6\",\"subunitcolor\":\"white\",\"showland\":true,\"showlakes\":true,\"lakecolor\":\"white\"},\"title\":{\"x\":0.05},\"mapbox\":{\"style\":\"light\"}}},\"xaxis\":{\"anchor\":\"y\",\"domain\":[0.0,1.0],\"title\":{\"text\":\"Player Value (z-score)\"}},\"yaxis\":{\"anchor\":\"x\",\"domain\":[0.0,1.0],\"title\":{\"text\":\"Probability Density\"}},\"title\":{\"text\":\"Midfielder Performance Over Z-Distribution\"}},                        {\"responsive\": true}                    ).then(function(){\n",
       "                            \n",
       "var gd = document.getElementById('cdd94863-2817-4d9a-b94b-c2061ab0124a');\n",
       "var x = new MutationObserver(function (mutations, observer) {{\n",
       "        var display = window.getComputedStyle(gd).display;\n",
       "        if (!display || display === 'none') {{\n",
       "            console.log([gd, 'removed!']);\n",
       "            Plotly.purge(gd);\n",
       "            observer.disconnect();\n",
       "        }}\n",
       "}});\n",
       "\n",
       "// Listen for the removal of the full notebook cells\n",
       "var notebookContainer = gd.closest('#notebook-container');\n",
       "if (notebookContainer) {{\n",
       "    x.observe(notebookContainer, {childList: true});\n",
       "}}\n",
       "\n",
       "// Listen for the clearing of the current output cell\n",
       "var outputEl = gd.closest('.output');\n",
       "if (outputEl) {{\n",
       "    x.observe(outputEl, {childList: true});\n",
       "}}\n",
       "\n",
       "                        })                };            </script>        </div>"
      ]
     },
     "metadata": {},
     "output_type": "display_data"
    }
   ],
   "source": [
    "from plotly.subplots import make_subplots\n",
    "import plotly.graph_objects as go\n",
    "\n",
    "# Create subplots with one row and one column\n",
    "fig = make_subplots(rows=1, cols=1)\n",
    "\n",
    "# Add scatter plot for the players\n",
    "fig.add_trace(\n",
    "    go.Scatter(\n",
    "        x=position_dfs[\"Midfielder\"][\"player_value\"],\n",
    "        y=1 / np.sqrt(2 * np.pi) * np.exp(-0.5 * position_dfs[\"Midfielder\"][\"player_value\"] ** 2),\n",
    "        mode='markers',\n",
    "        marker=dict(\n",
    "            size=position_dfs[\"Midfielder\"][\"player_efficiency\"],\n",
    "            color=position_dfs[\"Midfielder\"][\"player_potential\"],\n",
    "            showscale=True\n",
    "        ),\n",
    "        text=position_dfs[\"Midfielder\"][\"name\"],  # Hover text\n",
    "        name=\"Midfielders\"\n",
    "    ),\n",
    "    row=1, col=1  # Specify the row and column for the subplot\n",
    ")\n",
    "\n",
    "# Add Z-distribution curve to the same subplot\n",
    "z_vals = np.linspace(-3, 3, 500)\n",
    "pdf = 1 / np.sqrt(2 * np.pi) * np.exp(-0.5 * z_vals ** 2)\n",
    "\n",
    "fig.add_trace(\n",
    "    go.Scatter(\n",
    "        x=z_vals,\n",
    "        y=pdf,\n",
    "        mode='lines',\n",
    "        line=dict(color='lightgrey'),\n",
    "        name=\"Z-Distribution Curve\"\n",
    "    ),\n",
    "    row=1, col=1  # Specify the row and column for the subplot\n",
    ")\n",
    "\n",
    "# Update layout and show the plot\n",
    "fig.update_layout(\n",
    "    title=\"Midfielder Performance Over Z-Distribution\",\n",
    "    xaxis_title=\"Player Value (z-score)\",\n",
    "    yaxis_title=\"Probability Density\"\n",
    ")\n",
    "fig.show()"
   ]
  },
  {
   "cell_type": "code",
   "execution_count": null,
   "metadata": {},
   "outputs": [],
   "source": []
  }
 ],
 "metadata": {
  "kernelspec": {
   "display_name": ".venv",
   "language": "python",
   "name": "python3"
  },
  "language_info": {
   "codemirror_mode": {
    "name": "ipython",
    "version": 3
   },
   "file_extension": ".py",
   "mimetype": "text/x-python",
   "name": "python",
   "nbconvert_exporter": "python",
   "pygments_lexer": "ipython3",
   "version": "3.10.12"
  }
 },
 "nbformat": 4,
 "nbformat_minor": 2
}
